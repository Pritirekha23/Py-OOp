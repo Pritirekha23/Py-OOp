{
 "cells": [
  {
   "cell_type": "markdown",
   "id": "98c46a3f",
   "metadata": {},
   "source": [
    "dt-02/03/23"
   ]
  },
  {
   "cell_type": "markdown",
   "id": "57ac85c9",
   "metadata": {},
   "source": [
    "# ENCAPSULATION"
   ]
  },
  {
   "cell_type": "markdown",
   "id": "17cb314c",
   "metadata": {},
   "source": [
    "Encapsulation is a mechanism of wrapping the data and methods into a single unit.\n",
    "Prevents accidental modification or deletion.\n",
    "In encapsulation::\n",
    "   -->The attribute of a class will be hidden from other classes.\n",
    "\n",
    "   -->It can be access only by using methods of their current class."
   ]
  },
  {
   "cell_type": "code",
   "execution_count": 3,
   "id": "c390f267",
   "metadata": {},
   "outputs": [
    {
     "name": "stdout",
     "output_type": "stream",
     "text": [
      "500000000\n",
      "80\n"
     ]
    }
   ],
   "source": [
    "#problem (we can access it)\n",
    "#Prevents accidental modification or deletion.\n",
    "\n",
    "class College:\n",
    "    def __init__(self):\n",
    "        self.balance=500000000\n",
    "        \n",
    "c=College()\n",
    "print(c.balance)\n",
    "c.balance=80\n",
    "print(c.balance)"
   ]
  },
  {
   "cell_type": "code",
   "execution_count": 4,
   "id": "6ee2a4d7",
   "metadata": {},
   "outputs": [
    {
     "ename": "AttributeError",
     "evalue": "'College' object has no attribute '__balance'",
     "output_type": "error",
     "traceback": [
      "\u001b[1;31m---------------------------------------------------------------\u001b[0m",
      "\u001b[1;31mAttributeError\u001b[0m                Traceback (most recent call last)",
      "Input \u001b[1;32mIn [4]\u001b[0m, in \u001b[0;36m<cell line: 9>\u001b[1;34m()\u001b[0m\n\u001b[0;32m      6\u001b[0m         \u001b[38;5;28mself\u001b[39m\u001b[38;5;241m.\u001b[39m__balance\u001b[38;5;241m=\u001b[39m\u001b[38;5;241m500000000\u001b[39m \u001b[38;5;66;03m#private variable\u001b[39;00m\n\u001b[0;32m      8\u001b[0m c\u001b[38;5;241m=\u001b[39mCollege()\n\u001b[1;32m----> 9\u001b[0m \u001b[38;5;28mprint\u001b[39m(\u001b[43mc\u001b[49m\u001b[38;5;241;43m.\u001b[39;49m\u001b[43m__balance\u001b[49m)\n\u001b[0;32m     10\u001b[0m c\u001b[38;5;241m.\u001b[39mbalance\u001b[38;5;241m=\u001b[39m\u001b[38;5;241m80\u001b[39m\n\u001b[0;32m     11\u001b[0m \u001b[38;5;28mprint\u001b[39m(c\u001b[38;5;241m.\u001b[39m__balance)\n",
      "\u001b[1;31mAttributeError\u001b[0m: 'College' object has no attribute '__balance'"
     ]
    }
   ],
   "source": [
    "#make balance as private variable(outside members can not access our data directly)\n",
    "#Prevents accidental modification or deletion.\n",
    "\n",
    "class College:\n",
    "    def __init__(self):\n",
    "        self.__balance=500000000 #private variable\n",
    "        \n",
    "c=College()\n",
    "print(c.__balance)\n",
    "c.balance=80\n",
    "print(c.__balance)"
   ]
  },
  {
   "cell_type": "code",
   "execution_count": 9,
   "id": "76b0a7d7",
   "metadata": {},
   "outputs": [
    {
     "name": "stdout",
     "output_type": "stream",
     "text": [
      "500000000\n"
     ]
    }
   ],
   "source": [
    "#Encapsulation\n",
    "\n",
    "\n",
    "class College:\n",
    "    def __init__(self):\n",
    "        self.__balance=500000000\n",
    "        \n",
    "    def getBal(self):\n",
    "        return self.__balance\n",
    "        \n",
    "c=College()\n",
    "print(c.getBal())\n",
    "# still not the authorized user."
   ]
  },
  {
   "cell_type": "code",
   "execution_count": 17,
   "id": "b6631ebd",
   "metadata": {},
   "outputs": [
    {
     "name": "stdout",
     "output_type": "stream",
     "text": [
      "Invalid user\n",
      "--------------------\n",
      "500000000\n"
     ]
    }
   ],
   "source": [
    "#provide authenticated user \n",
    "class College:\n",
    "    def __init__(self):\n",
    "        self.__balance=500000000\n",
    "        \n",
    "    def getBal(self,password):\n",
    "        if password==156:\n",
    "            return self.__balance\n",
    "        else:\n",
    "            return 'Invalid user'\n",
    "            \n",
    "        \n",
    "c=College()\n",
    "print(c.getBal(1356))\n",
    "print(\"-\"*20)\n",
    "print(c.getBal(156))"
   ]
  },
  {
   "cell_type": "code",
   "execution_count": 19,
   "id": "67100798",
   "metadata": {},
   "outputs": [
    {
     "name": "stdout",
     "output_type": "stream",
     "text": [
      "Invalid user\n",
      "--------------------\n",
      "500000000\n",
      "500000000\n"
     ]
    }
   ],
   "source": [
    "class College:\n",
    "    def __init__(self):\n",
    "        self.__balance=500000000\n",
    "        \n",
    "    def getBal(self,password):\n",
    "        if password==156 or password==2002:\n",
    "            return self.__balance\n",
    "        else:\n",
    "            return 'Invalid user'\n",
    "            \n",
    "        \n",
    "c=College()\n",
    "print(c.getBal(1356))\n",
    "print(\"-\"*20)\n",
    "print(c.getBal(156))\n",
    "print(c.getBal(2002))\n"
   ]
  }
 ],
 "metadata": {
  "kernelspec": {
   "display_name": "Python 3 (ipykernel)",
   "language": "python",
   "name": "python3"
  },
  "language_info": {
   "codemirror_mode": {
    "name": "ipython",
    "version": 3
   },
   "file_extension": ".py",
   "mimetype": "text/x-python",
   "name": "python",
   "nbconvert_exporter": "python",
   "pygments_lexer": "ipython3",
   "version": "3.9.12"
  }
 },
 "nbformat": 4,
 "nbformat_minor": 5
}
