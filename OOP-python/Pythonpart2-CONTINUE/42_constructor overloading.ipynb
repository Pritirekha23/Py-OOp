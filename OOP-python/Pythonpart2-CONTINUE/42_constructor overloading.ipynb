{
 "cells": [
  {
   "cell_type": "markdown",
   "id": "cdf97df2",
   "metadata": {},
   "source": [
    "# constructor overloading using multipledispatch module"
   ]
  },
  {
   "cell_type": "markdown",
   "id": "c7c229f7",
   "metadata": {},
   "source": [
    "dt-14/02/23"
   ]
  },
  {
   "cell_type": "code",
   "execution_count": 1,
   "id": "a8d6d2fc",
   "metadata": {},
   "outputs": [],
   "source": []
  },
  {
   "cell_type": "markdown",
   "id": "98af6009",
   "metadata": {},
   "source": [
    "It is a mechanism in which a class can have any nymber of constructors with different number of parameters or different type of parameters. "
   ]
  },
  {
   "cell_type": "code",
   "execution_count": 2,
   "id": "2a752d5d",
   "metadata": {},
   "outputs": [
    {
     "ename": "TypeError",
     "evalue": "__init__() missing 1 required positional argument: 'b'",
     "output_type": "error",
     "traceback": [
      "\u001b[1;31m---------------------------------------------------------------------------\u001b[0m",
      "\u001b[1;31mTypeError\u001b[0m                                 Traceback (most recent call last)",
      "Input \u001b[1;32mIn [2]\u001b[0m, in \u001b[0;36m<cell line: 11>\u001b[1;34m()\u001b[0m\n\u001b[0;32m      7\u001b[0m     \u001b[38;5;28;01mdef\u001b[39;00m \u001b[38;5;21m__inuit__\u001b[39m(\u001b[38;5;28mself\u001b[39m,a,b,c):\n\u001b[0;32m      8\u001b[0m         \u001b[38;5;28mprint\u001b[39m(a,b,c)\n\u001b[1;32m---> 11\u001b[0m t\u001b[38;5;241m=\u001b[39m\u001b[43mTest\u001b[49m\u001b[43m(\u001b[49m\u001b[38;5;241;43m10\u001b[39;49m\u001b[43m)\u001b[49m\n",
      "\u001b[1;31mTypeError\u001b[0m: __init__() missing 1 required positional argument: 'b'"
     ]
    }
   ],
   "source": [
    "#generally it is not supported\n",
    "class Test:\n",
    "    def __init__(Self,a):\n",
    "        print(a)\n",
    "    def __init__(self,a,b):\n",
    "        print(a,b)\n",
    "        \n",
    "    def __inuit__(self,a,b,c):\n",
    "        print(a,b,c)\n",
    "        \n",
    "        \n",
    "t=Test(10)"
   ]
  },
  {
   "cell_type": "code",
   "execution_count": 19,
   "id": "77a7b783",
   "metadata": {},
   "outputs": [
    {
     "name": "stdout",
     "output_type": "stream",
     "text": [
      "10\n",
      "20 40\n"
     ]
    }
   ],
   "source": [
    "# constructor overloading we can achieve using multipledispatch module\n",
    "\n",
    "\n",
    "from multipledispatch import dispatch\n",
    "class T:\n",
    "    @dispatch(int)\n",
    "    def __init__(self,a):\n",
    "        print(a)\n",
    "    @dispatch(int,int)\n",
    "    def __init__(self,a,b):\n",
    "        print(a,b)\n",
    "    @dispatch(int,int,int)    \n",
    "    def __inuit__(self,a,b,c):\n",
    "        print(a,b,c)\n",
    "        \n",
    "     \n",
    "t=T(10)   \n",
    "t=T(20,40)\n",
    "# t=T(30,40,40)"
   ]
  },
  {
   "cell_type": "code",
   "execution_count": null,
   "id": "859ca5ba",
   "metadata": {},
   "outputs": [],
   "source": []
  }
 ],
 "metadata": {
  "kernelspec": {
   "display_name": "Python 3 (ipykernel)",
   "language": "python",
   "name": "python3"
  },
  "language_info": {
   "codemirror_mode": {
    "name": "ipython",
    "version": 3
   },
   "file_extension": ".py",
   "mimetype": "text/x-python",
   "name": "python",
   "nbconvert_exporter": "python",
   "pygments_lexer": "ipython3",
   "version": "3.9.12"
  }
 },
 "nbformat": 4,
 "nbformat_minor": 5
}
