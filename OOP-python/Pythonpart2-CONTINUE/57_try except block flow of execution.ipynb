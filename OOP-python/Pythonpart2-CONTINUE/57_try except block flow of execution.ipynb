{
 "cells": [
  {
   "cell_type": "markdown",
   "id": "9f0165f2",
   "metadata": {},
   "source": [
    "dt-09/03/23"
   ]
  },
  {
   "cell_type": "markdown",
   "id": "f23c7790",
   "metadata": {},
   "source": [
    "# Control flow of Try except block"
   ]
  },
  {
   "cell_type": "code",
   "execution_count": 1,
   "id": "47fe831a",
   "metadata": {},
   "outputs": [
    {
     "name": "stdout",
     "output_type": "stream",
     "text": [
      "1\n"
     ]
    }
   ],
   "source": [
    "#ex-1\n",
    "try:\n",
    "    print('1')\n",
    "except ZeroDivisionError as e:\n",
    "    print(e)"
   ]
  },
  {
   "cell_type": "code",
   "execution_count": 5,
   "id": "cb9209ba",
   "metadata": {},
   "outputs": [
    {
     "name": "stdout",
     "output_type": "stream",
     "text": [
      "division by zero\n",
      "last line\n"
     ]
    }
   ],
   "source": [
    "#ex-2\n",
    "try:\n",
    "    print(10/0)\n",
    "except ZeroDivisionError as e:\n",
    "    print(e)\n",
    "    \n",
    "print('last line')"
   ]
  },
  {
   "cell_type": "code",
   "execution_count": 4,
   "id": "68b000b5",
   "metadata": {},
   "outputs": [
    {
     "ename": "ZeroDivisionError",
     "evalue": "division by zero",
     "output_type": "error",
     "traceback": [
      "\u001b[1;31m---------------------------------------------------------------------------\u001b[0m",
      "\u001b[1;31mZeroDivisionError\u001b[0m                         Traceback (most recent call last)",
      "Input \u001b[1;32mIn [4]\u001b[0m, in \u001b[0;36m<cell line: 2>\u001b[1;34m()\u001b[0m\n\u001b[0;32m      1\u001b[0m \u001b[38;5;66;03m#ex-3\u001b[39;00m\n\u001b[0;32m      2\u001b[0m \u001b[38;5;28;01mtry\u001b[39;00m:\n\u001b[1;32m----> 3\u001b[0m     \u001b[38;5;28mprint\u001b[39m(\u001b[38;5;241;43m10\u001b[39;49m\u001b[38;5;241;43m/\u001b[39;49m\u001b[38;5;241;43m0\u001b[39;49m)\n\u001b[0;32m      4\u001b[0m \u001b[38;5;28;01mexcept\u001b[39;00m \u001b[38;5;167;01mFileNotFoundError\u001b[39;00m \u001b[38;5;28;01mas\u001b[39;00m e:\n\u001b[0;32m      5\u001b[0m     \u001b[38;5;28mprint\u001b[39m(e)\n",
      "\u001b[1;31mZeroDivisionError\u001b[0m: division by zero"
     ]
    }
   ],
   "source": [
    "#ex-3\n",
    "try:\n",
    "    print(10/0)\n",
    "except FileNotFoundError as e:\n",
    "    print(e)\n",
    "print('last line')"
   ]
  },
  {
   "cell_type": "code",
   "execution_count": 7,
   "id": "acc0e0b3",
   "metadata": {},
   "outputs": [
    {
     "name": "stdout",
     "output_type": "stream",
     "text": [
      "1\n",
      "2\n",
      "lastline\n"
     ]
    }
   ],
   "source": [
    "#ex-4\n",
    "try:\n",
    "    print('1')\n",
    "    print('2')\n",
    "except ZeroDivisionError as e:\n",
    "    print(e)\n",
    "print('lastline')"
   ]
  },
  {
   "cell_type": "code",
   "execution_count": 8,
   "id": "55ca323c",
   "metadata": {},
   "outputs": [
    {
     "name": "stdout",
     "output_type": "stream",
     "text": [
      "1\n",
      "2\n",
      "division by zero\n",
      "lastline\n"
     ]
    }
   ],
   "source": [
    "#ex-5\n",
    "try:\n",
    "    print('1')\n",
    "    print('2')\n",
    "    print(10/0)\n",
    "except ZeroDivisionError as e:\n",
    "    print(e)\n",
    "print('lastline')"
   ]
  },
  {
   "cell_type": "code",
   "execution_count": 10,
   "id": "ddc05aad",
   "metadata": {},
   "outputs": [
    {
     "name": "stdout",
     "output_type": "stream",
     "text": [
      "1\n",
      "division by zero\n",
      "lastline\n"
     ]
    }
   ],
   "source": [
    "#ex-6\n",
    "try:\n",
    "    print('1')\n",
    "    print(10/0)\n",
    "    print('2')\n",
    "\n",
    "except ZeroDivisionError as e:\n",
    "    print(e)\n",
    "print('lastline')\n",
    "\n"
   ]
  },
  {
   "cell_type": "markdown",
   "id": "a26505c1",
   "metadata": {},
   "source": [
    "NOTE:\n",
    "   try to write very less code inside try block bcz if any exception occur in the middle of the try block then except block will execute and in try block after exception present  line of codes will never execute. "
   ]
  },
  {
   "cell_type": "code",
   "execution_count": 11,
   "id": "66dd1fd6",
   "metadata": {},
   "outputs": [
    {
     "name": "stdout",
     "output_type": "stream",
     "text": [
      "division by zero\n",
      "lastline\n"
     ]
    }
   ],
   "source": [
    "#ex-7\n",
    "try:\n",
    "    print(10/0)\n",
    "    print('1')\n",
    "    print('2')\n",
    "\n",
    "except ZeroDivisionError as e:\n",
    "    print(e)\n",
    "print('lastline')\n"
   ]
  },
  {
   "cell_type": "code",
   "execution_count": 12,
   "id": "73c79bcf",
   "metadata": {},
   "outputs": [
    {
     "name": "stdout",
     "output_type": "stream",
     "text": [
      "division by zero\n",
      "lastline\n"
     ]
    }
   ],
   "source": [
    "#ex-8\n",
    "try:\n",
    "    \n",
    "    print(10/0)\n",
    "    print(20/0)\n",
    "\n",
    "except ZeroDivisionError as e:\n",
    "    print(e)\n",
    "print('lastline')\n"
   ]
  },
  {
   "cell_type": "code",
   "execution_count": 14,
   "id": "841a2a56",
   "metadata": {},
   "outputs": [
    {
     "name": "stdout",
     "output_type": "stream",
     "text": [
      "1\n",
      "division by zero\n"
     ]
    },
    {
     "ename": "ZeroDivisionError",
     "evalue": "division by zero",
     "output_type": "error",
     "traceback": [
      "\u001b[1;31m---------------------------------------------------------------------------\u001b[0m",
      "\u001b[1;31mZeroDivisionError\u001b[0m                         Traceback (most recent call last)",
      "Input \u001b[1;32mIn [14]\u001b[0m, in \u001b[0;36m<cell line: 2>\u001b[1;34m()\u001b[0m\n\u001b[0;32m      4\u001b[0m     \u001b[38;5;28mprint\u001b[39m(\u001b[38;5;124m'\u001b[39m\u001b[38;5;124m1\u001b[39m\u001b[38;5;124m'\u001b[39m)\n\u001b[1;32m----> 5\u001b[0m     \u001b[38;5;28mprint\u001b[39m(\u001b[38;5;241;43m100\u001b[39;49m\u001b[38;5;241;43m/\u001b[39;49m\u001b[38;5;241;43m0\u001b[39;49m)\n\u001b[0;32m      7\u001b[0m \u001b[38;5;28;01mexcept\u001b[39;00m \u001b[38;5;167;01mZeroDivisionError\u001b[39;00m \u001b[38;5;28;01mas\u001b[39;00m e:\n",
      "\u001b[1;31mZeroDivisionError\u001b[0m: division by zero",
      "\nDuring handling of the above exception, another exception occurred:\n",
      "\u001b[1;31mZeroDivisionError\u001b[0m                         Traceback (most recent call last)",
      "Input \u001b[1;32mIn [14]\u001b[0m, in \u001b[0;36m<cell line: 2>\u001b[1;34m()\u001b[0m\n\u001b[0;32m      7\u001b[0m \u001b[38;5;28;01mexcept\u001b[39;00m \u001b[38;5;167;01mZeroDivisionError\u001b[39;00m \u001b[38;5;28;01mas\u001b[39;00m e:\n\u001b[0;32m      8\u001b[0m     \u001b[38;5;28mprint\u001b[39m(e)\n\u001b[1;32m----> 9\u001b[0m     \u001b[38;5;28mprint\u001b[39m(\u001b[38;5;241;43m20\u001b[39;49m\u001b[38;5;241;43m/\u001b[39;49m\u001b[38;5;241;43m0\u001b[39;49m)\n\u001b[0;32m     10\u001b[0m \u001b[38;5;28mprint\u001b[39m(\u001b[38;5;124m'\u001b[39m\u001b[38;5;124mlastline\u001b[39m\u001b[38;5;124m'\u001b[39m)\n",
      "\u001b[1;31mZeroDivisionError\u001b[0m: division by zero"
     ]
    }
   ],
   "source": [
    "#ex-8\n",
    "try:\n",
    "    \n",
    "    print('1')\n",
    "    print(100/0)\n",
    "\n",
    "except ZeroDivisionError as e:\n",
    "    print(e)\n",
    "    print(20/0) #to handle an exception we are getting another exception.\n",
    "print('lastline')\n"
   ]
  },
  {
   "cell_type": "code",
   "execution_count": 16,
   "id": "94380bdd",
   "metadata": {},
   "outputs": [
    {
     "name": "stdout",
     "output_type": "stream",
     "text": [
      "1\n",
      "division by zero\n",
      "division by zero\n",
      "lastline\n"
     ]
    }
   ],
   "source": [
    "#ex-9\n",
    "try:\n",
    "    \n",
    "    print('1')\n",
    "    print(100/0)\n",
    "\n",
    "except ZeroDivisionError as e:\n",
    "    print(e)\n",
    "    try:\n",
    "        print(20/0)\n",
    "    except ZeroDivisionError as e:\n",
    "        print(e)\n",
    "            \n",
    "print('lastline')\n"
   ]
  },
  {
   "cell_type": "code",
   "execution_count": 18,
   "id": "9629c58c",
   "metadata": {},
   "outputs": [
    {
     "name": "stdout",
     "output_type": "stream",
     "text": [
      "1\n",
      "division by zero\n",
      "unsupported operand type(s) for +: 'int' and 'str'\n",
      "lastline\n"
     ]
    }
   ],
   "source": [
    "#ex-10\n",
    "try:\n",
    "    \n",
    "    print('1')\n",
    "    print(100/0)\n",
    "\n",
    "except ZeroDivisionError as e:\n",
    "    print(e)\n",
    "    try:\n",
    "        print(10+'Jimin')\n",
    "    except TypeError as t:\n",
    "        print(t)\n",
    "            \n",
    "print('lastline')\n"
   ]
  },
  {
   "cell_type": "code",
   "execution_count": 19,
   "id": "4affb5c8",
   "metadata": {},
   "outputs": [
    {
     "name": "stdout",
     "output_type": "stream",
     "text": [
      "1\n",
      "division by zero\n"
     ]
    },
    {
     "ename": "TypeError",
     "evalue": "unsupported operand type(s) for +: 'int' and 'str'",
     "output_type": "error",
     "traceback": [
      "\u001b[1;31m---------------------------------------------------------------------------\u001b[0m",
      "\u001b[1;31mZeroDivisionError\u001b[0m                         Traceback (most recent call last)",
      "Input \u001b[1;32mIn [19]\u001b[0m, in \u001b[0;36m<cell line: 2>\u001b[1;34m()\u001b[0m\n\u001b[0;32m      4\u001b[0m     \u001b[38;5;28mprint\u001b[39m(\u001b[38;5;124m'\u001b[39m\u001b[38;5;124m1\u001b[39m\u001b[38;5;124m'\u001b[39m)\n\u001b[1;32m----> 5\u001b[0m     \u001b[38;5;28mprint\u001b[39m(\u001b[38;5;241;43m100\u001b[39;49m\u001b[38;5;241;43m/\u001b[39;49m\u001b[38;5;241;43m0\u001b[39;49m)\n\u001b[0;32m      7\u001b[0m \u001b[38;5;28;01mexcept\u001b[39;00m \u001b[38;5;167;01mZeroDivisionError\u001b[39;00m \u001b[38;5;28;01mas\u001b[39;00m e:\n",
      "\u001b[1;31mZeroDivisionError\u001b[0m: division by zero",
      "\nDuring handling of the above exception, another exception occurred:\n",
      "\u001b[1;31mTypeError\u001b[0m                                 Traceback (most recent call last)",
      "Input \u001b[1;32mIn [19]\u001b[0m, in \u001b[0;36m<cell line: 2>\u001b[1;34m()\u001b[0m\n\u001b[0;32m      8\u001b[0m \u001b[38;5;28mprint\u001b[39m(e)\n\u001b[0;32m      9\u001b[0m \u001b[38;5;28;01mtry\u001b[39;00m:\n\u001b[1;32m---> 10\u001b[0m     \u001b[38;5;28mprint\u001b[39m(\u001b[38;5;241;43m10\u001b[39;49m\u001b[38;5;241;43m+\u001b[39;49m\u001b[38;5;124;43m'\u001b[39;49m\u001b[38;5;124;43mJimin\u001b[39;49m\u001b[38;5;124;43m'\u001b[39;49m)\n\u001b[0;32m     11\u001b[0m \u001b[38;5;28;01mexcept\u001b[39;00m \u001b[38;5;167;01mKeyError\u001b[39;00m \u001b[38;5;28;01mas\u001b[39;00m t:\n\u001b[0;32m     12\u001b[0m     \u001b[38;5;28mprint\u001b[39m(t)\n",
      "\u001b[1;31mTypeError\u001b[0m: unsupported operand type(s) for +: 'int' and 'str'"
     ]
    }
   ],
   "source": [
    "#ex-11(abnormal termination)\n",
    "try:\n",
    "    \n",
    "    print('1')\n",
    "    print(100/0)\n",
    "\n",
    "except ZeroDivisionError as e:\n",
    "    print(e)\n",
    "    try:\n",
    "        print(10+'Jimin')\n",
    "    except KeyError as t:\n",
    "        print(t)\n",
    "            \n",
    "print('lastline')\n"
   ]
  },
  {
   "cell_type": "code",
   "execution_count": 21,
   "id": "6152dbce",
   "metadata": {},
   "outputs": [
    {
     "name": "stdout",
     "output_type": "stream",
     "text": [
      "division by zero\n",
      "lastline\n"
     ]
    }
   ],
   "source": [
    "#ex-12(smooth termination)\n",
    "try:\n",
    "    print(100/0)\n",
    "except ArithmeticError as e:\n",
    "    print(e)\n",
    "            \n",
    "print('lastline')\n"
   ]
  },
  {
   "cell_type": "code",
   "execution_count": 23,
   "id": "ef948fa7",
   "metadata": {},
   "outputs": [
    {
     "name": "stdout",
     "output_type": "stream",
     "text": [
      "division by zero\n",
      "lastline\n"
     ]
    }
   ],
   "source": [
    "#ex-13(smooth termination)\n",
    "try:\n",
    "    print(100/0)\n",
    "except Exception as e:\n",
    "    print(e)\n",
    "            \n",
    "print('lastline')\n"
   ]
  },
  {
   "cell_type": "code",
   "execution_count": 24,
   "id": "0c65364f",
   "metadata": {},
   "outputs": [
    {
     "name": "stdout",
     "output_type": "stream",
     "text": [
      "unsupported operand type(s) for +: 'int' and 'str'\n",
      "lastline\n"
     ]
    }
   ],
   "source": [
    "#ex-14(smooth termination)\n",
    "try:\n",
    "    print(10+'jin')\n",
    "except Exception as e:\n",
    "    print(e)\n",
    "            \n",
    "print('lastline')\n"
   ]
  },
  {
   "cell_type": "code",
   "execution_count": 27,
   "id": "067e66fd",
   "metadata": {},
   "outputs": [
    {
     "name": "stdout",
     "output_type": "stream",
     "text": [
      "unsupported operand type(s) for +: 'int' and 'str'\n",
      "lastline\n"
     ]
    }
   ],
   "source": [
    "#ex-15\n",
    "try:\n",
    "    print(10+'jin')\n",
    "    print(10/0)\n",
    "except TypeError as e:\n",
    "    print(e)\n",
    "            \n",
    "print('lastline')\n"
   ]
  },
  {
   "cell_type": "code",
   "execution_count": 28,
   "id": "acbc957c",
   "metadata": {},
   "outputs": [
    {
     "name": "stdout",
     "output_type": "stream",
     "text": [
      "unsupported operand type(s) for +: 'int' and 'str'\n",
      "lastline\n"
     ]
    }
   ],
   "source": [
    "#ex-16\n",
    "try:\n",
    "    print(10+'jin')\n",
    "    try:\n",
    "        print(10/0)\n",
    "                 \n",
    "    except ZeroDivisionError as z:\n",
    "        print(z)   \n",
    "    \n",
    "            \n",
    "except TypeError as e:\n",
    "    print(e)\n",
    "            \n",
    "print('lastline')\n"
   ]
  },
  {
   "cell_type": "code",
   "execution_count": 29,
   "id": "f779d9c2",
   "metadata": {},
   "outputs": [
    {
     "name": "stdout",
     "output_type": "stream",
     "text": [
      "10\n",
      "division by zero\n",
      "lastline\n"
     ]
    }
   ],
   "source": [
    "#ex-17\n",
    "try:\n",
    "    print('10')\n",
    "    try:\n",
    "        print(10/0)\n",
    "                 \n",
    "    except ZeroDivisionError as z:\n",
    "        print(z)   \n",
    "    \n",
    "            \n",
    "except TypeError as e:\n",
    "    print(e)\n",
    "            \n",
    "print('lastline')\n"
   ]
  },
  {
   "cell_type": "code",
   "execution_count": 32,
   "id": "09377e20",
   "metadata": {},
   "outputs": [
    {
     "name": "stdout",
     "output_type": "stream",
     "text": [
      "10\n",
      "division by zero\n",
      "lastline\n"
     ]
    }
   ],
   "source": [
    "#ex-18\n",
    "try:\n",
    "    print('10')\n",
    "    try:\n",
    "        print(10/0)\n",
    "                 \n",
    "    except FileNotFoundError as f:\n",
    "        print(f)   \n",
    "    \n",
    "            \n",
    "except ZeroDivisionError as z:\n",
    "    print(z)\n",
    "            \n",
    "print('lastline')\n"
   ]
  },
  {
   "cell_type": "code",
   "execution_count": 33,
   "id": "d5a14ce5",
   "metadata": {},
   "outputs": [
    {
     "name": "stdout",
     "output_type": "stream",
     "text": [
      "10\n"
     ]
    },
    {
     "ename": "ZeroDivisionError",
     "evalue": "division by zero",
     "output_type": "error",
     "traceback": [
      "\u001b[1;31m---------------------------------------------------------------------------\u001b[0m",
      "\u001b[1;31mZeroDivisionError\u001b[0m                         Traceback (most recent call last)",
      "Input \u001b[1;32mIn [33]\u001b[0m, in \u001b[0;36m<cell line: 2>\u001b[1;34m()\u001b[0m\n\u001b[0;32m      3\u001b[0m \u001b[38;5;28mprint\u001b[39m(\u001b[38;5;124m'\u001b[39m\u001b[38;5;124m10\u001b[39m\u001b[38;5;124m'\u001b[39m)\n\u001b[0;32m      4\u001b[0m \u001b[38;5;28;01mtry\u001b[39;00m:\n\u001b[1;32m----> 5\u001b[0m     \u001b[38;5;28mprint\u001b[39m(\u001b[38;5;241;43m10\u001b[39;49m\u001b[38;5;241;43m/\u001b[39;49m\u001b[38;5;241;43m0\u001b[39;49m)\n\u001b[0;32m      7\u001b[0m \u001b[38;5;28;01mexcept\u001b[39;00m \u001b[38;5;167;01mFileNotFoundError\u001b[39;00m \u001b[38;5;28;01mas\u001b[39;00m f:\n\u001b[0;32m      8\u001b[0m     \u001b[38;5;28mprint\u001b[39m(f)   \n",
      "\u001b[1;31mZeroDivisionError\u001b[0m: division by zero"
     ]
    }
   ],
   "source": [
    "#ex-19\n",
    "try:\n",
    "    print('10')\n",
    "    try:\n",
    "        print(10/0)\n",
    "                 \n",
    "    except FileNotFoundError as f:\n",
    "        print(f)   \n",
    "    \n",
    "            \n",
    "except TypeError as z:\n",
    "    print(z)\n",
    "            \n",
    "print('lastline')\n"
   ]
  }
 ],
 "metadata": {
  "kernelspec": {
   "display_name": "Python 3 (ipykernel)",
   "language": "python",
   "name": "python3"
  },
  "language_info": {
   "codemirror_mode": {
    "name": "ipython",
    "version": 3
   },
   "file_extension": ".py",
   "mimetype": "text/x-python",
   "name": "python",
   "nbconvert_exporter": "python",
   "pygments_lexer": "ipython3",
   "version": "3.9.12"
  }
 },
 "nbformat": 4,
 "nbformat_minor": 5
}
