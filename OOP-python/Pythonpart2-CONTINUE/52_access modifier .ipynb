{
 "cells": [
  {
   "cell_type": "markdown",
   "id": "1239d137",
   "metadata": {},
   "source": [
    "dt-28/02/23"
   ]
  },
  {
   "cell_type": "markdown",
   "id": "36d8ab60",
   "metadata": {},
   "source": [
    "# ACCESS MODIFIER IN PYTHON"
   ]
  },
  {
   "cell_type": "markdown",
   "id": "71331ee7",
   "metadata": {},
   "source": [
    "Access modifier are used to control the scope of attributes and methods.\n",
    "Types of access modifiers:-\n",
    "(1)public(any one can access at any where)\n",
    "(2)protected(within the class we can access and within the child class we can access)\n",
    "(3)private(only within the class)"
   ]
  },
  {
   "cell_type": "markdown",
   "id": "ec4f150c",
   "metadata": {},
   "source": [
    "# (1) public"
   ]
  },
  {
   "cell_type": "markdown",
   "id": "7075c48e",
   "metadata": {},
   "source": [
    "where we can access::-\n",
    "        (1)with in the class\n",
    "        (2)with in the child class\n",
    "        (3)out side of the class"
   ]
  },
  {
   "cell_type": "code",
   "execution_count": 10,
   "id": "354244cf",
   "metadata": {},
   "outputs": [
    {
     "name": "stdout",
     "output_type": "stream",
     "text": [
      "23\n",
      "23\n"
     ]
    }
   ],
   "source": [
    "#ex-1(public attribute)\n",
    "\n",
    "class A:\n",
    "    def __init__(self):\n",
    "        self.x=23  #public attribute\n",
    "        \n",
    "    def test(self):\n",
    "        print(self.x)  #we are accessing public attribute within the class\n",
    "        \n",
    "        \n",
    "class B(A):\n",
    "    def test1(self):\n",
    "        print(self.x)  #we are accessing public attribute within the child class\n",
    "    \n",
    "a=A()\n",
    "a.test()\n",
    "  \n",
    "        \n",
    "b=B()\n",
    "b.test1()"
   ]
  },
  {
   "cell_type": "code",
   "execution_count": 11,
   "id": "dcbc53fb",
   "metadata": {},
   "outputs": [
    {
     "name": "stdout",
     "output_type": "stream",
     "text": [
      "m1 method\n",
      "m1 method\n"
     ]
    }
   ],
   "source": [
    "#ex (public method)\n",
    "\n",
    "class A:\n",
    "    def m1(self):\n",
    "        print('m1 method')\n",
    "        \n",
    "\n",
    "    def test(self):\n",
    "        self.m1() #we are calling public method inside class\n",
    "        \n",
    "        \n",
    "a=A()\n",
    "a.test()\n",
    "a.m1()"
   ]
  },
  {
   "cell_type": "code",
   "execution_count": 14,
   "id": "9a4ee460",
   "metadata": {},
   "outputs": [
    {
     "name": "stdout",
     "output_type": "stream",
     "text": [
      "m1 method\n"
     ]
    }
   ],
   "source": [
    "#ex (public method)\n",
    "\n",
    "class A:\n",
    "    def m1(self):\n",
    "        print('m1 method')\n",
    "        \n",
    "\n",
    "   \n",
    "        \n",
    "a=A()\n",
    "a.m1() #we are calling public method outside class\n",
    "        "
   ]
  },
  {
   "cell_type": "code",
   "execution_count": 16,
   "id": "3ebc8f7b",
   "metadata": {},
   "outputs": [
    {
     "name": "stdout",
     "output_type": "stream",
     "text": [
      "m1 method\n"
     ]
    }
   ],
   "source": [
    "#ex (public method)\n",
    "\n",
    "class A:\n",
    "    def m1(self):\n",
    "        print('m1 method')\n",
    "        \n",
    "\n",
    "    \n",
    "        \n",
    "class B(A):\n",
    "    def test(self):\n",
    "       self.m1()     \n",
    "b=B()\n",
    "b.test()"
   ]
  },
  {
   "cell_type": "markdown",
   "id": "f2143b93",
   "metadata": {},
   "source": [
    "\n",
    "# (2) Protected"
   ]
  },
  {
   "cell_type": "markdown",
   "id": "4b4fd841",
   "metadata": {},
   "source": [
    "where we can access::-\n",
    "        (1)within the class\n",
    "        (2)within the child class\n",
    "        (3)we cant access outside of the class\n",
    "        \n",
    "        \n",
    "note:- _ symbol used to create protected access modifier."
   ]
  },
  {
   "cell_type": "code",
   "execution_count": 19,
   "id": "6ffed617",
   "metadata": {},
   "outputs": [
    {
     "name": "stdout",
     "output_type": "stream",
     "text": [
      "23\n"
     ]
    }
   ],
   "source": [
    "#ex: protected attribute\n",
    "\n",
    "class A:\n",
    "    def __init__(self):\n",
    "        self._x=23  #protected attribute\n",
    "        \n",
    "    def test(self):\n",
    "        print(self._x) # we are accessing  protected attribute within the class\n",
    "        \n",
    "        \n",
    "a=A()\n",
    "a.test()"
   ]
  },
  {
   "cell_type": "code",
   "execution_count": 20,
   "id": "b2cc5415",
   "metadata": {},
   "outputs": [
    {
     "name": "stdout",
     "output_type": "stream",
     "text": [
      "23\n"
     ]
    }
   ],
   "source": [
    "#ex: protected attribute(within child class)\n",
    "\n",
    "class A:\n",
    "    def __init__(self):\n",
    "        self._x=23  #protected attribute\n",
    "      \n",
    "class B(A):    \n",
    "    def test(self):\n",
    "        print(self._x) # we are accessing  protected attribute within the child class\n",
    "        \n",
    "        \n",
    "b=B()\n",
    "b.test()"
   ]
  },
  {
   "cell_type": "code",
   "execution_count": 21,
   "id": "b53deee6",
   "metadata": {},
   "outputs": [
    {
     "name": "stdout",
     "output_type": "stream",
     "text": [
      "25\n"
     ]
    }
   ],
   "source": [
    "# outside of the class\n",
    "class A:\n",
    "    def __init__(self):\n",
    "        self._x=25 \n",
    "        \n",
    "a=A()\n",
    "print(a._x) # protected attribute outside of the class\n",
    "\n",
    "#In python protected modifiers is not supported ,it is a naming convention."
   ]
  },
  {
   "cell_type": "markdown",
   "id": "5f618356",
   "metadata": {},
   "source": [
    "# (3)private"
   ]
  },
  {
   "cell_type": "code",
   "execution_count": null,
   "id": "7e731bfb",
   "metadata": {},
   "outputs": [],
   "source": [
    "where we can access::-\n",
    "        (1)within the class(possible)\n",
    "        (2)within the child class(not possible)\n",
    "        (3)outside of the class(not possible)\n",
    "        \n",
    "        NOTE:- __ symbol is used to define private access modifiers"
   ]
  },
  {
   "cell_type": "code",
   "execution_count": 22,
   "id": "2193f3ab",
   "metadata": {},
   "outputs": [
    {
     "name": "stdout",
     "output_type": "stream",
     "text": [
      "26\n"
     ]
    }
   ],
   "source": [
    "#ex-\n",
    "\n",
    "class A:\n",
    "    def __init__(self):\n",
    "        self.__x=26\n",
    "        \n",
    "    def test(self):\n",
    "        print(self.__x) # we are accessing private attribute within the class\n",
    "        \n",
    "        \n",
    "a=A()\n",
    "a.test()\n"
   ]
  },
  {
   "cell_type": "code",
   "execution_count": 23,
   "id": "1c7f1958",
   "metadata": {},
   "outputs": [
    {
     "ename": "AttributeError",
     "evalue": "'B' object has no attribute '_B__x'",
     "output_type": "error",
     "traceback": [
      "\u001b[1;31m---------------------------------------------------------------------------\u001b[0m",
      "\u001b[1;31mAttributeError\u001b[0m                            Traceback (most recent call last)",
      "Input \u001b[1;32mIn [23]\u001b[0m, in \u001b[0;36m<cell line: 14>\u001b[1;34m()\u001b[0m\n\u001b[0;32m     11\u001b[0m         \u001b[38;5;28mprint\u001b[39m(\u001b[38;5;28mself\u001b[39m\u001b[38;5;241m.\u001b[39m__x) \u001b[38;5;66;03m#we are accessing private attribute within the child class\u001b[39;00m\n\u001b[0;32m     13\u001b[0m b\u001b[38;5;241m=\u001b[39mB()\n\u001b[1;32m---> 14\u001b[0m \u001b[43mb\u001b[49m\u001b[38;5;241;43m.\u001b[39;49m\u001b[43mtest\u001b[49m\u001b[43m(\u001b[49m\u001b[43m)\u001b[49m\n",
      "Input \u001b[1;32mIn [23]\u001b[0m, in \u001b[0;36mB.test\u001b[1;34m(self)\u001b[0m\n\u001b[0;32m     10\u001b[0m \u001b[38;5;28;01mdef\u001b[39;00m \u001b[38;5;21mtest\u001b[39m(\u001b[38;5;28mself\u001b[39m):\n\u001b[1;32m---> 11\u001b[0m     \u001b[38;5;28mprint\u001b[39m(\u001b[38;5;28;43mself\u001b[39;49m\u001b[38;5;241;43m.\u001b[39;49m\u001b[43m__x\u001b[49m)\n",
      "\u001b[1;31mAttributeError\u001b[0m: 'B' object has no attribute '_B__x'"
     ]
    }
   ],
   "source": [
    "#ex-private attribute within the child class\n",
    "\n",
    "class A:\n",
    "    def __init__(self):\n",
    "        self.__x=26\n",
    "        \n",
    "    \n",
    "        \n",
    "class B(A):\n",
    "    def test(self):\n",
    "        print(self.__x) #we are accessing private attribute within the child class\n",
    "                \n",
    "b=B()\n",
    "b.test()\n"
   ]
  },
  {
   "cell_type": "code",
   "execution_count": 24,
   "id": "fb398829",
   "metadata": {},
   "outputs": [
    {
     "ename": "AttributeError",
     "evalue": "'A' object has no attribute '__x'",
     "output_type": "error",
     "traceback": [
      "\u001b[1;31m---------------------------------------------------------------------------\u001b[0m",
      "\u001b[1;31mAttributeError\u001b[0m                            Traceback (most recent call last)",
      "Input \u001b[1;32mIn [24]\u001b[0m, in \u001b[0;36m<cell line: 10>\u001b[1;34m()\u001b[0m\n\u001b[0;32m      5\u001b[0m         \u001b[38;5;28mself\u001b[39m\u001b[38;5;241m.\u001b[39m__x\u001b[38;5;241m=\u001b[39m\u001b[38;5;241m26\u001b[39m\n\u001b[0;32m      9\u001b[0m a\u001b[38;5;241m=\u001b[39mA()\n\u001b[1;32m---> 10\u001b[0m \u001b[38;5;28mprint\u001b[39m(\u001b[43ma\u001b[49m\u001b[38;5;241;43m.\u001b[39;49m\u001b[43m__x\u001b[49m)\n",
      "\u001b[1;31mAttributeError\u001b[0m: 'A' object has no attribute '__x'"
     ]
    }
   ],
   "source": [
    "#ex-private attribute outside of the class\n",
    "\n",
    "class A:\n",
    "    def __init__(self):\n",
    "        self.__x=26\n",
    "        \n",
    "    \n",
    "        \n",
    "a=A()\n",
    "print(a.__x) #we are accessing private attribute outside of the class\n"
   ]
  },
  {
   "cell_type": "code",
   "execution_count": 15,
   "id": "30e62dfd",
   "metadata": {},
   "outputs": [
    {
     "ename": "AttributeError",
     "evalue": "'Test' object has no attribute '__p1'",
     "output_type": "error",
     "traceback": [
      "\u001b[1;31m---------------------------------------------------------------------------\u001b[0m",
      "\u001b[1;31mAttributeError\u001b[0m                            Traceback (most recent call last)",
      "Input \u001b[1;32mIn [15]\u001b[0m, in \u001b[0;36m<cell line: 8>\u001b[1;34m()\u001b[0m\n\u001b[0;32m      5\u001b[0m         \u001b[38;5;28mprint\u001b[39m(\u001b[38;5;124m'\u001b[39m\u001b[38;5;124mHi Im private\u001b[39m\u001b[38;5;124m'\u001b[39m)\n\u001b[0;32m      7\u001b[0m t\u001b[38;5;241m=\u001b[39mTest()\n\u001b[1;32m----> 8\u001b[0m \u001b[43mt\u001b[49m\u001b[38;5;241;43m.\u001b[39;49m\u001b[43m__p1\u001b[49m()\n",
      "\u001b[1;31mAttributeError\u001b[0m: 'Test' object has no attribute '__p1'"
     ]
    }
   ],
   "source": [
    "#work with private method\n",
    "\n",
    "class Test:\n",
    "    def __p1(self): #private method\n",
    "        print('Hi Im private')\n",
    "        \n",
    "t=Test()\n",
    "t.__p1() #we are calling private method outside of the class"
   ]
  },
  {
   "cell_type": "code",
   "execution_count": 29,
   "id": "c9e3134a",
   "metadata": {},
   "outputs": [
    {
     "name": "stdout",
     "output_type": "stream",
     "text": [
      "Hi Im private\n"
     ]
    }
   ],
   "source": [
    "#work with private method\n",
    "\n",
    "class Test:\n",
    "    def __p1(self): #private method\n",
    "        print('Hi Im private')\n",
    "        \n",
    "    def demo(self):\n",
    "        self.__p1() #calling private method within the class\n",
    "        \n",
    "t=Test()\n",
    "t.demo() "
   ]
  },
  {
   "cell_type": "code",
   "execution_count": 33,
   "id": "d79378e4",
   "metadata": {},
   "outputs": [
    {
     "ename": "AttributeError",
     "evalue": "'Test1' object has no attribute '_Test1__p1'",
     "output_type": "error",
     "traceback": [
      "\u001b[1;31m---------------------------------------------------------------------------\u001b[0m",
      "\u001b[1;31mAttributeError\u001b[0m                            Traceback (most recent call last)",
      "Input \u001b[1;32mIn [33]\u001b[0m, in \u001b[0;36m<cell line: 11>\u001b[1;34m()\u001b[0m\n\u001b[0;32m      8\u001b[0m         \u001b[38;5;28mself\u001b[39m\u001b[38;5;241m.\u001b[39m__p1() \u001b[38;5;66;03m#calling private method within the child class\u001b[39;00m\n\u001b[0;32m     10\u001b[0m t\u001b[38;5;241m=\u001b[39mTest1()\n\u001b[1;32m---> 11\u001b[0m \u001b[43mt\u001b[49m\u001b[38;5;241;43m.\u001b[39;49m\u001b[43mm1\u001b[49m\u001b[43m(\u001b[49m\u001b[43m)\u001b[49m\n",
      "Input \u001b[1;32mIn [33]\u001b[0m, in \u001b[0;36mTest1.m1\u001b[1;34m(self)\u001b[0m\n\u001b[0;32m      7\u001b[0m \u001b[38;5;28;01mdef\u001b[39;00m \u001b[38;5;21mm1\u001b[39m(\u001b[38;5;28mself\u001b[39m):\n\u001b[1;32m----> 8\u001b[0m     \u001b[38;5;28;43mself\u001b[39;49m\u001b[38;5;241;43m.\u001b[39;49m\u001b[43m__p1\u001b[49m()\n",
      "\u001b[1;31mAttributeError\u001b[0m: 'Test1' object has no attribute '_Test1__p1'"
     ]
    }
   ],
   "source": [
    "class Test:\n",
    "    def __p1(self): #private method\n",
    "        print('Hi Im private')\n",
    "        \n",
    "    \n",
    "class Test1(Test):\n",
    "    def m1(self):\n",
    "        self.__p1() #calling private method within the child class\n",
    "        \n",
    "t=Test1()\n",
    "t.m1() "
   ]
  },
  {
   "cell_type": "markdown",
   "id": "e68b2d6f",
   "metadata": {},
   "source": [
    "# Name Mingling"
   ]
  },
  {
   "cell_type": "code",
   "execution_count": 38,
   "id": "0049f902",
   "metadata": {},
   "outputs": [
    {
     "name": "stdout",
     "output_type": "stream",
     "text": [
      "100\n"
     ]
    }
   ],
   "source": [
    "class A:\n",
    "    def __init__(self):\n",
    "        self.__p=100\n",
    "        \n",
    "        \n",
    "        \n",
    "a=A()\n",
    "#print(a.__p)  #directly it is not possible but using name mingling we can access it.\n",
    "print(a._A__p) #name mingling"
   ]
  }
 ],
 "metadata": {
  "kernelspec": {
   "display_name": "Python 3 (ipykernel)",
   "language": "python",
   "name": "python3"
  },
  "language_info": {
   "codemirror_mode": {
    "name": "ipython",
    "version": 3
   },
   "file_extension": ".py",
   "mimetype": "text/x-python",
   "name": "python",
   "nbconvert_exporter": "python",
   "pygments_lexer": "ipython3",
   "version": "3.9.12"
  }
 },
 "nbformat": 4,
 "nbformat_minor": 5
}
