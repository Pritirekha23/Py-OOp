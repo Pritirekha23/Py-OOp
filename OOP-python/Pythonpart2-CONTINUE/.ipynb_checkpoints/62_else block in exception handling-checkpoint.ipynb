{
 "cells": [
  {
   "cell_type": "markdown",
   "id": "1c30b838",
   "metadata": {},
   "source": [
    "dt-17/03/23"
   ]
  },
  {
   "cell_type": "markdown",
   "id": "1da37b08",
   "metadata": {},
   "source": [
    "# ELSE BLOCK IN EXCEPTION HANDLING "
   ]
  },
  {
   "cell_type": "markdown",
   "id": "8dfe9de2",
   "metadata": {},
   "source": [
    "Try: This block will test the excepted error to occur\n",
    "Except:  Here you can handle the error\n",
    "Else: If there is no exception then this block will be executed\n",
    "Finally: Finally block always gets executed either exception is generated or not."
   ]
  },
  {
   "cell_type": "code",
   "execution_count": null,
   "id": "3d25418e",
   "metadata": {},
   "outputs": [],
   "source": []
  },
  {
   "cell_type": "code",
   "execution_count": null,
   "id": "dc65d27e",
   "metadata": {},
   "outputs": [],
   "source": []
  },
  {
   "cell_type": "code",
   "execution_count": null,
   "id": "f42292ea",
   "metadata": {},
   "outputs": [],
   "source": []
  },
  {
   "cell_type": "code",
   "execution_count": null,
   "id": "13513300",
   "metadata": {},
   "outputs": [],
   "source": []
  }
 ],
 "metadata": {
  "kernelspec": {
   "display_name": "Python 3 (ipykernel)",
   "language": "python",
   "name": "python3"
  },
  "language_info": {
   "codemirror_mode": {
    "name": "ipython",
    "version": 3
   },
   "file_extension": ".py",
   "mimetype": "text/x-python",
   "name": "python",
   "nbconvert_exporter": "python",
   "pygments_lexer": "ipython3",
   "version": "3.9.12"
  }
 },
 "nbformat": 4,
 "nbformat_minor": 5
}
