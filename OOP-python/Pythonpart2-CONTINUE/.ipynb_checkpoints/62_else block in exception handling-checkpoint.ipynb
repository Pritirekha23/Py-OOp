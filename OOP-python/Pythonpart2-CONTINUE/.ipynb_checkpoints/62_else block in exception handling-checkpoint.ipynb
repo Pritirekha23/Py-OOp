{
 "cells": [
  {
   "cell_type": "markdown",
   "id": "60b10229",
   "metadata": {},
   "source": [
    "dt-17/03/23"
   ]
  },
  {
   "cell_type": "markdown",
   "id": "9071cf5a",
   "metadata": {},
   "source": [
    "# ELSE BLOCK IN EXCEPTION HANDLING "
   ]
  },
  {
   "cell_type": "markdown",
   "id": "756df9b8",
   "metadata": {},
   "source": [
    "Try: This block will test the excepted error to occur\n",
    "Except:  Here you can handle the error\n",
    "Else: If there is no exception then this block will be executed\n",
    "Finally: Finally block always gets executed either exception is generated or not."
   ]
  },
  {
   "cell_type": "markdown",
   "id": "d54f88fe",
   "metadata": {},
   "source": [
    "else block: Here the order is imporatant\n",
    "\n",
    "If there is no exception in try block then else block will execute.\n",
    "syntax:\n",
    "\n",
    "try:\n",
    "  critical code\n",
    "except Exception_Classname:\n",
    "  corresponding handling code\n",
    "else:\n",
    "  write the code if there is no exception\n",
    "finally:\n",
    "  clean-up code"
   ]
  },
  {
   "cell_type": "code",
   "execution_count": 1,
   "id": "bb3b51eb",
   "metadata": {},
   "outputs": [
    {
     "name": "stdout",
     "output_type": "stream",
     "text": [
      "division by zero\n"
     ]
    }
   ],
   "source": [
    "#Ex-1\n",
    "try:\n",
    "    print(10/0)\n",
    "except ZeroDivisionError as z:\n",
    "    print(z)\n",
    "else:\n",
    "    print('I am else block')"
   ]
  },
  {
   "cell_type": "code",
   "execution_count": 5,
   "id": "3aa3a105",
   "metadata": {},
   "outputs": [
    {
     "name": "stdout",
     "output_type": "stream",
     "text": [
      "5.0\n",
      "I am else block\n"
     ]
    }
   ],
   "source": [
    "#Ex-2\n",
    "try:\n",
    "    print(10/2)\n",
    "   \n",
    "except ZeroDivisionError as z:\n",
    "    print(z)\n",
    "else:\n",
    "    print('I am else block')"
   ]
  },
  {
   "cell_type": "code",
   "execution_count": 12,
   "id": "7c34248d",
   "metadata": {},
   "outputs": [
    {
     "name": "stdout",
     "output_type": "stream",
     "text": [
      "addition result is: 30\n",
      "unsupported operand type(s) for +: 'int' and 'str'\n"
     ]
    }
   ],
   "source": [
    "#Ex-3\n",
    "\n",
    "def add(a,b):\n",
    "    try:\n",
    "        result=a+b\n",
    "    except TypeError as t:\n",
    "        print(t)\n",
    "    else:\n",
    "        print('addition result is:',result)\n",
    "add(10,20)\n",
    "add(10,'Jimin')"
   ]
  }
 ],
 "metadata": {
  "kernelspec": {
   "display_name": "Python 3 (ipykernel)",
   "language": "python",
   "name": "python3"
  },
  "language_info": {
   "codemirror_mode": {
    "name": "ipython",
    "version": 3
   },
   "file_extension": ".py",
   "mimetype": "text/x-python",
   "name": "python",
   "nbconvert_exporter": "python",
   "pygments_lexer": "ipython3",
   "version": "3.9.12"
  }
 },
 "nbformat": 4,
 "nbformat_minor": 5
}
