{
 "cells": [
  {
   "cell_type": "markdown",
   "id": "d1b8d4d8",
   "metadata": {},
   "source": [
    "dt-17/03/23"
   ]
  },
  {
   "cell_type": "markdown",
   "id": "ea95821f",
   "metadata": {},
   "source": [
    "# ELSE BLOCK IN EXCEPTION HANDLING "
   ]
  },
  {
   "cell_type": "markdown",
   "id": "c03d7f37",
   "metadata": {},
   "source": [
    "Try: This block will test the excepted error to occur\n",
    "Except:  Here you can handle the error\n",
    "Else: If there is no exception then this block will be executed\n",
    "Finally: Finally block always gets executed either exception is generated or not."
   ]
  },
  {
   "cell_type": "markdown",
   "id": "4df3af61",
   "metadata": {},
   "source": [
    "else block: Here the order is imporatant\n",
    "\n",
    "If there is no exception in try block then else block will execute.\n",
    "syntax:\n",
    "\n",
    "try:\n",
    "  critical code\n",
    "except Exception_Classname:\n",
    "  corresponding handling code\n",
    "else:\n",
    "  write the code if there is no exception\n",
    "finally:\n",
    "  clean-up code"
   ]
  },
  {
   "cell_type": "code",
   "execution_count": 1,
   "id": "cfa92f0a",
   "metadata": {},
   "outputs": [
    {
     "name": "stdout",
     "output_type": "stream",
     "text": [
      "division by zero\n"
     ]
    }
   ],
   "source": [
    "#Ex-1\n",
    "try:\n",
    "    print(10/0)\n",
    "except ZeroDivisionError as z:\n",
    "    print(z)\n",
    "else:\n",
    "    print('I am else block')"
   ]
  },
  {
   "cell_type": "code",
   "execution_count": 5,
   "id": "8f605d19",
   "metadata": {},
   "outputs": [
    {
     "name": "stdout",
     "output_type": "stream",
     "text": [
      "5.0\n",
      "I am else block\n"
     ]
    }
   ],
   "source": [
    "#Ex-2\n",
    "try:\n",
    "    print(10/2)\n",
    "   \n",
    "except ZeroDivisionError as z:\n",
    "    print(z)\n",
    "else:\n",
    "    print('I am else block')"
   ]
  },
  {
   "cell_type": "code",
   "execution_count": 13,
   "id": "a8ef8133",
   "metadata": {},
   "outputs": [
    {
     "name": "stdout",
     "output_type": "stream",
     "text": [
      "addition result is: 30\n",
      "unsupported operand type(s) for +: 'int' and 'str'\n",
      "addition result is: 400\n"
     ]
    }
   ],
   "source": [
    "#Ex-3\n",
    "\n",
    "def add(a,b):\n",
    "    try:\n",
    "        result=a+b\n",
    "    except TypeError as t:\n",
    "        print(t)\n",
    "    else:\n",
    "        print('addition result is:',result)\n",
    "add(10,20)\n",
    "add(10,'Jimin')\n",
    "add(300,100)"
   ]
  },
  {
   "cell_type": "code",
   "execution_count": 14,
   "id": "7cd02797",
   "metadata": {},
   "outputs": [
    {
     "name": "stdout",
     "output_type": "stream",
     "text": [
      "addition result is: 30\n",
      "clean-up code\n",
      "unsupported operand type(s) for +: 'int' and 'str'\n",
      "clean-up code\n",
      "addition result is: 400\n",
      "clean-up code\n"
     ]
    }
   ],
   "source": [
    "#Ex-4\n",
    "\n",
    "def add(a,b):\n",
    "    try:\n",
    "        result=a+b\n",
    "    except TypeError as t:\n",
    "        print(t)\n",
    "    else:\n",
    "        print('addition result is:',result)\n",
    "    finally:\n",
    "        print('clean-up code')\n",
    "add(10,20)\n",
    "add(10,'Jimin')\n",
    "add(300,100)"
   ]
  },
  {
   "cell_type": "code",
   "execution_count": 15,
   "id": "942df66c",
   "metadata": {},
   "outputs": [
    {
     "ename": "SyntaxError",
     "evalue": "invalid syntax (2339349670.py, line 11)",
     "output_type": "error",
     "traceback": [
      "\u001b[1;36m  Input \u001b[1;32mIn [15]\u001b[1;36m\u001b[0m\n\u001b[1;33m    else:\u001b[0m\n\u001b[1;37m    ^\u001b[0m\n\u001b[1;31mSyntaxError\u001b[0m\u001b[1;31m:\u001b[0m invalid syntax\n"
     ]
    }
   ],
   "source": [
    "#Ex-5 (order is important)\n",
    "\n",
    "def add(a,b):\n",
    "    try:\n",
    "        result=a+b\n",
    "    except TypeError as t:\n",
    "        print(t)\n",
    "    \n",
    "    finally:\n",
    "        print('clean-up code')\n",
    "    else:\n",
    "        print('addition result is:',result)\n",
    "add(10,20)\n",
    "add(10,'Jimin')\n",
    "add(300,100)"
   ]
  },
  {
   "cell_type": "code",
   "execution_count": 17,
   "id": "31b73886",
   "metadata": {},
   "outputs": [
    {
     "ename": "SyntaxError",
     "evalue": "invalid syntax (3544031744.py, line 6)",
     "output_type": "error",
     "traceback": [
      "\u001b[1;36m  Input \u001b[1;32mIn [17]\u001b[1;36m\u001b[0m\n\u001b[1;33m    else:\u001b[0m\n\u001b[1;37m    ^\u001b[0m\n\u001b[1;31mSyntaxError\u001b[0m\u001b[1;31m:\u001b[0m invalid syntax\n"
     ]
    }
   ],
   "source": [
    "#Ex-5 (order is important)\n",
    "\n",
    "def add(a,b):\n",
    "    try:\n",
    "        result=a+b\n",
    "    else:\n",
    "        print('addition result is:',result)\n",
    "    except TypeError as t:\n",
    "        print(t)\n",
    "    \n",
    "    finally:\n",
    "        print('clean-up code')\n",
    "   \n",
    "add(10,20)\n"
   ]
  }
 ],
 "metadata": {
  "kernelspec": {
   "display_name": "Python 3 (ipykernel)",
   "language": "python",
   "name": "python3"
  },
  "language_info": {
   "codemirror_mode": {
    "name": "ipython",
    "version": 3
   },
   "file_extension": ".py",
   "mimetype": "text/x-python",
   "name": "python",
   "nbconvert_exporter": "python",
   "pygments_lexer": "ipython3",
   "version": "3.9.12"
  }
 },
 "nbformat": 4,
 "nbformat_minor": 5
}
