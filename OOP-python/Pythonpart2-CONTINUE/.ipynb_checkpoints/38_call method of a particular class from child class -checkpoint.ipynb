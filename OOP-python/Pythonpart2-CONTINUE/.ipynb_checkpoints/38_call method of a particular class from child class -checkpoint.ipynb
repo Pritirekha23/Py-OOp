{
 "cells": [
  {
   "cell_type": "markdown",
   "id": "bf3e45c4",
   "metadata": {},
   "source": [
    "# call method of a particular class from child class "
   ]
  },
  {
   "cell_type": "markdown",
   "id": "b5b74cfa",
   "metadata": {},
   "source": [
    "Dt-10/02/23"
   ]
  },
  {
   "cell_type": "code",
   "execution_count": 3,
   "id": "e94413fd",
   "metadata": {},
   "outputs": [
    {
     "name": "stdout",
     "output_type": "stream",
     "text": [
      "D-m1\n",
      "B-m1\n",
      "A-m1\n"
     ]
    }
   ],
   "source": [
    "class A:\n",
    "    def m1(self):\n",
    "        print(\"A-m1\")\n",
    "        \n",
    "class B(A):\n",
    "    def m1(self):\n",
    "        print(\"B-m1\")\n",
    "    \n",
    "class C(A):\n",
    "    def m1(self):\n",
    "        print(\"C-m1\")\n",
    "        \n",
    "class D(B,C):\n",
    "    def m1(self):\n",
    "        print(\"D-m1\")\n",
    "        B.m1(self) #calling m1() of class B\n",
    "        A.m1(self)\n",
    "d=D()\n",
    "d.m1()"
   ]
  },
  {
   "cell_type": "code",
   "execution_count": 7,
   "id": "8a11cb54",
   "metadata": {},
   "outputs": [
    {
     "name": "stdout",
     "output_type": "stream",
     "text": [
      "C-m1\n",
      "A-m1\n"
     ]
    }
   ],
   "source": [
    "class A:\n",
    "    def m1(self):\n",
    "        print(\"A-m1\")\n",
    "        \n",
    "class B(A):\n",
    "    def m1(self):\n",
    "        print(\"B-m1\")\n",
    "    \n",
    "class C(A):\n",
    "    def m1(self):\n",
    "        print(\"C-m1\")\n",
    "        A.m1(self) #calling m1() of class A from C class\n",
    "        \n",
    "class D(B,C):\n",
    "    def m1(self):\n",
    "        print(\"D-m1\")\n",
    "        \n",
    "\n",
    "\n",
    "c=C()\n",
    "c.m1()"
   ]
  },
  {
   "cell_type": "code",
   "execution_count": 10,
   "id": "d2eb92de",
   "metadata": {},
   "outputs": [
    {
     "name": "stdout",
     "output_type": "stream",
     "text": [
      "D-m1\n",
      "B-m1\n"
     ]
    }
   ],
   "source": [
    "class A:\n",
    "    def m1(self):\n",
    "        print(\"A-m1\")\n",
    "        \n",
    "class B(A):\n",
    "    def m1(self):\n",
    "        print(\"B-m1\")\n",
    "    \n",
    "class C(A):\n",
    "    def m1(self):\n",
    "        print(\"C-m1\")\n",
    "        \n",
    "    \n",
    "class D(B,C):\n",
    "    #D have two super class i.e B and C so 1st parent will get more priority\n",
    "    def m1(self):\n",
    "        print(\"D-m1\")\n",
    "        super().m1()\n",
    "        \n",
    "d=D()\n",
    "d.m1()\n",
    "        "
   ]
  },
  {
   "cell_type": "code",
   "execution_count": 13,
   "id": "41f7f1d7",
   "metadata": {},
   "outputs": [
    {
     "name": "stdout",
     "output_type": "stream",
     "text": [
      "C-m1\n",
      "A-m1\n"
     ]
    }
   ],
   "source": [
    "class A:\n",
    "    def m1(self):\n",
    "        print(\"A-m1\")\n",
    "        \n",
    "class B(A):\n",
    "    def m1(self):\n",
    "        print(\"B-m1\")\n",
    "    \n",
    "class C(A):\n",
    "    def m1(self):\n",
    "        print(\"C-m1\")\n",
    "        super().m1()\n",
    "    \n",
    "class D(B,C):\n",
    "    #D have two super class i.e B and C so 1st parent will get more priority\n",
    "    def m1(self):\n",
    "        print(\"D-m1\")\n",
    "       \n",
    "\n",
    "\n",
    "c=C()\n",
    "c.m1()"
   ]
  }
 ],
 "metadata": {
  "kernelspec": {
   "display_name": "Python 3 (ipykernel)",
   "language": "python",
   "name": "python3"
  },
  "language_info": {
   "codemirror_mode": {
    "name": "ipython",
    "version": 3
   },
   "file_extension": ".py",
   "mimetype": "text/x-python",
   "name": "python",
   "nbconvert_exporter": "python",
   "pygments_lexer": "ipython3",
   "version": "3.9.12"
  }
 },
 "nbformat": 4,
 "nbformat_minor": 5
}
