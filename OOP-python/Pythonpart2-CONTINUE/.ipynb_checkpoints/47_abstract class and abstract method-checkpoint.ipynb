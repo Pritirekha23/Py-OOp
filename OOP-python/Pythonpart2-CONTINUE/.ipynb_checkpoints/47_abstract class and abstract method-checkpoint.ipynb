{
 "cells": [
  {
   "cell_type": "markdown",
   "id": "647c400c",
   "metadata": {},
   "source": [
    "dt-20/02/23"
   ]
  },
  {
   "cell_type": "markdown",
   "id": "2f07de08",
   "metadata": {},
   "source": [
    "# ABSTRACT CLASS AND ABSTRACT METHOD"
   ]
  },
  {
   "cell_type": "code",
   "execution_count": 3,
   "id": "9d0d4eef",
   "metadata": {},
   "outputs": [
    {
     "name": "stdout",
     "output_type": "stream",
     "text": [
      "area of circle is 181.3664\n",
      "area of circle is 10.3041\n"
     ]
    }
   ],
   "source": [
    "#ex-1\n",
    "from abc import ABC,abstractmethod\n",
    "\n",
    "\n",
    "class Shape(ABC):\n",
    "    @abstractmethod\n",
    "    def area(self):\n",
    "        pass\n",
    "    \n",
    "class Circle(Shape):\n",
    "    def area(self,r):\n",
    "        print(f'area of circle is {3.14*r*r}')\n",
    "        \n",
    "class Square(Shape):\n",
    "    def area(self,s):\n",
    "        print(f'area of circle is {s*s}')\n",
    "        \n",
    "\n",
    "      \n",
    "c=Circle()\n",
    "c.area(7.6)\n",
    "\n",
    "s=Square()\n",
    "s.area(3.21)"
   ]
  },
  {
   "cell_type": "code",
   "execution_count": 31,
   "id": "e4cf9447",
   "metadata": {},
   "outputs": [
    {
     "name": "stdout",
     "output_type": "stream",
     "text": [
      "40+ number of seats available\n",
      "Number of whls 4\n",
      "Number of seats 4+\n",
      "Number of whls 4\n",
      "Number of seats 1+\n",
      "Number of whls 2\n"
     ]
    }
   ],
   "source": [
    "#ex-2\n",
    "\n",
    "class Vehicle(ABC):\n",
    "    @abstractmethod\n",
    "    def no_of_seats(self):\n",
    "        pass\n",
    "    @abstractmethod\n",
    "    def no_of_whls(self):\n",
    "        pass\n",
    "    \n",
    "class Bus(Vehicle):\n",
    "    def no_of_seats(self):\n",
    "        print('40+ number of seats available')\n",
    "        \n",
    "    def no_of_whls(self):\n",
    "        print('Number of whls 4')\n",
    "        \n",
    "class Car(Vehicle):\n",
    "    def no_of_seats(self):\n",
    "        print('Number of seats 4+')\n",
    "        \n",
    "    def no_of_whls(self):\n",
    "        print('Number of whls 4')\n",
    "        \n",
    "class Bike(Vehicle):\n",
    "    def no_of_seats(self):\n",
    "        print('Number of seats 1+')\n",
    "    \n",
    "          \n",
    "    def no_of_whls(self):\n",
    "         print('Number of whls 2')\n",
    "    \n",
    "    \n",
    "bs=Bus()\n",
    "bs.no_of_seats()\n",
    "bs.no_of_whls()\n",
    "\n",
    "\n",
    "c=Car()\n",
    "c.no_of_seats()\n",
    "c.no_of_whls()\n",
    "\n",
    "bk=Bike()\n",
    "bk.no_of_seats()\n",
    "bk.no_of_whls()\n",
    "\n"
   ]
  },
  {
   "cell_type": "code",
   "execution_count": 30,
   "id": "5b7d60eb",
   "metadata": {},
   "outputs": [
    {
     "name": "stdout",
     "output_type": "stream",
     "text": [
      "46 number of seats available\n",
      "Number of whls 4\n",
      "------------\n",
      "4 number of seats available\n",
      "Number of whls 4\n",
      "------------\n",
      "5 number of seats available\n",
      "Number of whls 4\n",
      "------------\n",
      "2 number of seats available\n",
      "Number of whls 2\n"
     ]
    }
   ],
   "source": [
    "#ex-3\n",
    "\n",
    "class Vehicle(ABC):\n",
    "    @abstractmethod\n",
    "    def no_of_seats(self):\n",
    "        pass\n",
    "    @abstractmethod\n",
    "    def no_of_whls(self):\n",
    "        pass\n",
    "    \n",
    "class Bus(Vehicle):\n",
    "    def no_of_seats(self,seats):\n",
    "        print(f'{seats} number of seats available')\n",
    "        \n",
    "    def no_of_whls(self,whl):\n",
    "        print(f'Number of whls {whl}')\n",
    "        \n",
    "class Car(Vehicle):\n",
    "    def no_of_seats(self,seats):\n",
    "        print(f'{seats} number of seats available')\n",
    "        \n",
    "        \n",
    "    def no_of_whls(self,whl):\n",
    "        print(f'Number of whls {whl}')\n",
    "        \n",
    "class Bike(Vehicle):\n",
    "    def no_of_seats(self,seats):\n",
    "        print(f'{seats} number of seats available')\n",
    "        \n",
    "          \n",
    "    def no_of_whls(self,whl):\n",
    "         print(f'Number of whls {whl}')\n",
    "        \n",
    "    \n",
    "    \n",
    "tatabus=Bus()\n",
    "tatabus.no_of_seats(46)\n",
    "tatabus.no_of_whls(4)\n",
    "\n",
    "print('------------')\n",
    "\n",
    "thar=Car()\n",
    "thar.no_of_seats(4)\n",
    "thar.no_of_whls(4)\n",
    "\n",
    "print('------------')\n",
    "hondacity=Car()\n",
    "hondacity.no_of_seats(5)\n",
    "hondacity.no_of_whls(4)\n",
    "\n",
    "print('------------')\n",
    "\n",
    "splender=Bike()\n",
    "splender.no_of_seats(2)\n",
    "splender.no_of_whls(2)"
   ]
  },
  {
   "cell_type": "code",
   "execution_count": 10,
   "id": "c1084916",
   "metadata": {},
   "outputs": [
    {
     "ename": "IndentationError",
     "evalue": "unindent does not match any outer indentation level (<tokenize>, line 7)",
     "output_type": "error",
     "traceback": [
      "\u001b[1;36m  File \u001b[1;32m<tokenize>:7\u001b[1;36m\u001b[0m\n\u001b[1;33m    @abstractmethod\u001b[0m\n\u001b[1;37m    ^\u001b[0m\n\u001b[1;31mIndentationError\u001b[0m\u001b[1;31m:\u001b[0m unindent does not match any outer indentation level\n"
     ]
    }
   ],
   "source": [
    "#ex-4 (abstract class can also contain concrete method as well as abstract method)\n",
    "\n",
    "class Car(ABC):\n",
    "        def breaktype(self):\n",
    "        print('Normal break')\n",
    "        \n",
    "    @abstractmethod\n",
    "    def no_of_seats(self):\n",
    "        pass\n",
    "    \n",
    "        \n",
    "class Suzuki(Car):\n",
    "    def no_of_seats(self):\n",
    "        print('Number of seats 6')\n",
    "                 \n",
    "\n",
    "class Audi(Car):\n",
    "    def no_of_seats(self):\n",
    "         print('Number of seats 5')\n",
    "            \n",
    "    def breaktype(self):\n",
    "        print('special and powerfull break')\n",
    "        \n",
    "s=Suzuki()\n",
    "s.breaktype()\n",
    "s.no_of_seats()\n",
    "\n",
    "\n",
    "a=Audi()\n",
    "a.breaktype()\n",
    "a.no_of_seats()"
   ]
  }
 ],
 "metadata": {
  "kernelspec": {
   "display_name": "Python 3 (ipykernel)",
   "language": "python",
   "name": "python3"
  },
  "language_info": {
   "codemirror_mode": {
    "name": "ipython",
    "version": 3
   },
   "file_extension": ".py",
   "mimetype": "text/x-python",
   "name": "python",
   "nbconvert_exporter": "python",
   "pygments_lexer": "ipython3",
   "version": "3.9.12"
  }
 },
 "nbformat": 4,
 "nbformat_minor": 5
}
