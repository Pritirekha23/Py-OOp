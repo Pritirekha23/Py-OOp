{
 "cells": [
  {
   "cell_type": "markdown",
   "id": "2c23414b",
   "metadata": {},
   "source": [
    "dt-19/03/23"
   ]
  },
  {
   "cell_type": "markdown",
   "id": "9c153578",
   "metadata": {},
   "source": [
    "# complete flow of execution of (try-except-else-finally block)"
   ]
  },
  {
   "cell_type": "code",
   "execution_count": null,
   "id": "afad1285",
   "metadata": {},
   "outputs": [],
   "source": [
    "#Ex-1\n"
   ]
  },
  {
   "cell_type": "code",
   "execution_count": null,
   "id": "3b228b47",
   "metadata": {},
   "outputs": [],
   "source": []
  },
  {
   "cell_type": "code",
   "execution_count": null,
   "id": "b7fee6f6",
   "metadata": {},
   "outputs": [],
   "source": []
  },
  {
   "cell_type": "code",
   "execution_count": null,
   "id": "271f8620",
   "metadata": {},
   "outputs": [],
   "source": []
  },
  {
   "cell_type": "code",
   "execution_count": null,
   "id": "51256363",
   "metadata": {},
   "outputs": [],
   "source": []
  }
 ],
 "metadata": {
  "kernelspec": {
   "display_name": "Python 3 (ipykernel)",
   "language": "python",
   "name": "python3"
  },
  "language_info": {
   "codemirror_mode": {
    "name": "ipython",
    "version": 3
   },
   "file_extension": ".py",
   "mimetype": "text/x-python",
   "name": "python",
   "nbconvert_exporter": "python",
   "pygments_lexer": "ipython3",
   "version": "3.9.12"
  }
 },
 "nbformat": 4,
 "nbformat_minor": 5
}
