{
 "cells": [
  {
   "cell_type": "markdown",
   "id": "246d197a",
   "metadata": {},
   "source": [
    "# constructor overloading using multipledispatch module"
   ]
  },
  {
   "cell_type": "markdown",
   "id": "34084ae6",
   "metadata": {},
   "source": [
    "dt-14/02/23"
   ]
  },
  {
   "cell_type": "code",
   "execution_count": 1,
   "id": "eb5caad8",
   "metadata": {},
   "outputs": [],
   "source": [
    "from multipledispatch import dispatch"
   ]
  },
  {
   "cell_type": "markdown",
   "id": "7f4e5513",
   "metadata": {},
   "source": [
    "It is a mechanism in which a class can have any nymber of constructors with different number of parameters or different type of parameters. "
   ]
  },
  {
   "cell_type": "code",
   "execution_count": null,
   "id": "d04c0147",
   "metadata": {},
   "outputs": [],
   "source": []
  },
  {
   "cell_type": "code",
   "execution_count": null,
   "id": "f73a0bba",
   "metadata": {},
   "outputs": [],
   "source": []
  },
  {
   "cell_type": "code",
   "execution_count": null,
   "id": "e4657972",
   "metadata": {},
   "outputs": [],
   "source": []
  }
 ],
 "metadata": {
  "kernelspec": {
   "display_name": "Python 3 (ipykernel)",
   "language": "python",
   "name": "python3"
  },
  "language_info": {
   "codemirror_mode": {
    "name": "ipython",
    "version": 3
   },
   "file_extension": ".py",
   "mimetype": "text/x-python",
   "name": "python",
   "nbconvert_exporter": "python",
   "pygments_lexer": "ipython3",
   "version": "3.9.12"
  }
 },
 "nbformat": 4,
 "nbformat_minor": 5
}
