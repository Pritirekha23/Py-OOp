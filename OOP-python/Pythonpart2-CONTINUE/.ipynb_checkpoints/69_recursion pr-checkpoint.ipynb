{
 "cells": [
  {
   "cell_type": "markdown",
   "id": "ea121920",
   "metadata": {},
   "source": [
    "dt-26/03/23"
   ]
  },
  {
   "cell_type": "code",
   "execution_count": 4,
   "id": "cb02c326",
   "metadata": {},
   "outputs": [
    {
     "name": "stdout",
     "output_type": "stream",
     "text": [
      "120\n"
     ]
    }
   ],
   "source": [
    "def fact(n):\n",
    "    if n==1:\n",
    "        return 1\n",
    "    return n*fact(n-1)\n",
    "print(fact(5))"
   ]
  },
  {
   "cell_type": "code",
   "execution_count": null,
   "id": "b9fe5071",
   "metadata": {},
   "outputs": [],
   "source": []
  },
  {
   "cell_type": "code",
   "execution_count": null,
   "id": "2f2e3614",
   "metadata": {},
   "outputs": [],
   "source": []
  }
 ],
 "metadata": {
  "kernelspec": {
   "display_name": "Python 3 (ipykernel)",
   "language": "python",
   "name": "python3"
  },
  "language_info": {
   "codemirror_mode": {
    "name": "ipython",
    "version": 3
   },
   "file_extension": ".py",
   "mimetype": "text/x-python",
   "name": "python",
   "nbconvert_exporter": "python",
   "pygments_lexer": "ipython3",
   "version": "3.9.12"
  }
 },
 "nbformat": 4,
 "nbformat_minor": 5
}
