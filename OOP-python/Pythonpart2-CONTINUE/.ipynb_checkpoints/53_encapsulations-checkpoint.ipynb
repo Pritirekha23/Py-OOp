{
 "cells": [
  {
   "cell_type": "markdown",
   "id": "1094887c",
   "metadata": {},
   "source": [
    "dt-02/03/23"
   ]
  },
  {
   "cell_type": "markdown",
   "id": "b76f9941",
   "metadata": {},
   "source": [
    "# ENCAPSULATION"
   ]
  },
  {
   "cell_type": "markdown",
   "id": "97020509",
   "metadata": {},
   "source": [
    "Encapsulation is a mechanism of wrapping the data and methods into a single unit.\n",
    "Prevents accidental modification or deletion.\n",
    "In encapsulation::\n",
    "   -->The attribute of a class will be hidden from other classes.\n",
    "   -->It can be access only by using methods of their current class."
   ]
  },
  {
   "cell_type": "code",
   "execution_count": null,
   "id": "846385f1",
   "metadata": {},
   "outputs": [],
   "source": []
  },
  {
   "cell_type": "code",
   "execution_count": null,
   "id": "e08a578f",
   "metadata": {},
   "outputs": [],
   "source": []
  }
 ],
 "metadata": {
  "kernelspec": {
   "display_name": "Python 3 (ipykernel)",
   "language": "python",
   "name": "python3"
  },
  "language_info": {
   "codemirror_mode": {
    "name": "ipython",
    "version": 3
   },
   "file_extension": ".py",
   "mimetype": "text/x-python",
   "name": "python",
   "nbconvert_exporter": "python",
   "pygments_lexer": "ipython3",
   "version": "3.9.12"
  }
 },
 "nbformat": 4,
 "nbformat_minor": 5
}
