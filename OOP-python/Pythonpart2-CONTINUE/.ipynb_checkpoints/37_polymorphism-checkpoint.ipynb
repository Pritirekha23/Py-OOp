{
 "cells": [
  {
   "cell_type": "code",
   "execution_count": null,
   "id": "4eed54fb",
   "metadata": {},
   "outputs": [],
   "source": [
    "#dt-07/02/23"
   ]
  },
  {
   "cell_type": "markdown",
   "id": "7aeb57f0",
   "metadata": {},
   "source": [
    "# POLYMORPHISM"
   ]
  },
  {
   "cell_type": "markdown",
   "id": "90ae86ed",
   "metadata": {},
   "source": [
    "Polymorphism is a Greek word,here poly means \"many\" and morphe means \"form\"\n",
    "If one thing existed in a different form then it is called polymorphism.\n",
    "Ex-Potato has many roles like:-1(patato chips) , 2(patato finger chips), 3(patato role)"
   ]
  },
  {
   "cell_type": "code",
   "execution_count": null,
   "id": "8eb026b2",
   "metadata": {},
   "outputs": [],
   "source": []
  }
 ],
 "metadata": {
  "kernelspec": {
   "display_name": "Python 3 (ipykernel)",
   "language": "python",
   "name": "python3"
  },
  "language_info": {
   "codemirror_mode": {
    "name": "ipython",
    "version": 3
   },
   "file_extension": ".py",
   "mimetype": "text/x-python",
   "name": "python",
   "nbconvert_exporter": "python",
   "pygments_lexer": "ipython3",
   "version": "3.9.12"
  }
 },
 "nbformat": 4,
 "nbformat_minor": 5
}
