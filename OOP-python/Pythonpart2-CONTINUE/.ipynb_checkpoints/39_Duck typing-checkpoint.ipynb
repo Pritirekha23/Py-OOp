{
 "cells": [
  {
   "cell_type": "markdown",
   "id": "243d2740",
   "metadata": {},
   "source": [
    "# Duck typing"
   ]
  },
  {
   "cell_type": "markdown",
   "id": "e334ad21",
   "metadata": {},
   "source": [
    "dt-10/02/23"
   ]
  },
  {
   "cell_type": "markdown",
   "id": "81bf7b23",
   "metadata": {},
   "source": [
    "\n",
    "object contain method\n",
    "here the type of object is not important the method is more important"
   ]
  },
  {
   "cell_type": "code",
   "execution_count": 14,
   "id": "23682bbd",
   "metadata": {},
   "outputs": [
    {
     "name": "stdout",
     "output_type": "stream",
     "text": [
      "A-m1\n"
     ]
    }
   ],
   "source": [
    "class A:\n",
    "    def m1(self):\n",
    "        print('A-m1')\n",
    "    \n",
    "class B:\n",
    "    def m1(self):\n",
    "        print('B-m1')\n",
    "        \n",
    "class C:\n",
    "    def m1(self):\n",
    "        print('C-m1')\n",
    "        \n",
    "    \n",
    "def display(x):\n",
    "    x.m1()\n",
    "    \n",
    "# x does not care about what type of object u  r passing , here it will check whether that class contain m1() method or not    \n",
    "a=A()\n",
    "display(a)"
   ]
  },
  {
   "cell_type": "code",
   "execution_count": 13,
   "id": "c75bf71b",
   "metadata": {},
   "outputs": [
    {
     "name": "stdout",
     "output_type": "stream",
     "text": [
      "A-m1\n",
      "B-m1\n"
     ]
    }
   ],
   "source": [
    "class A:\n",
    "    def m1(self):\n",
    "        print('A-m1')\n",
    "    \n",
    "class B:\n",
    "    def m1(self):\n",
    "        print('B-m1')\n",
    "        \n",
    "class C:\n",
    "    def m1(self):\n",
    "        print('C-m1')\n",
    "        \n",
    "    \n",
    "def display(x):\n",
    "    x.m1() # it means a.m1()\n",
    "    \n",
    "    \n",
    "a=A()\n",
    "display(a)\n",
    "\n",
    "b=B()\n",
    "displya(b)\n",
    "#a --> refernce variable"
   ]
  },
  {
   "cell_type": "code",
   "execution_count": null,
   "id": "986c4291",
   "metadata": {},
   "outputs": [],
   "source": [
    "class A:\n",
    "    def m1(self):\n",
    "        print('A-m1')\n",
    "    \n",
    "class B:\n",
    "    def m1(self):\n",
    "        print('B-m1')\n",
    "        \n",
    "class C:\n",
    "   pass         \n",
    "    \n",
    "def display(x):\n",
    "    x.m1() # it means a.m1()\n",
    "    \n",
    "    \n",
    "a=A()\n",
    "display(a)\n",
    "\n",
    "b=B()\n",
    "displya(b)\n",
    "#a --> refernce variable"
   ]
  },
  {
   "cell_type": "code",
   "execution_count": null,
   "id": "3224c062",
   "metadata": {},
   "outputs": [],
   "source": []
  }
 ],
 "metadata": {
  "kernelspec": {
   "display_name": "Python 3 (ipykernel)",
   "language": "python",
   "name": "python3"
  },
  "language_info": {
   "codemirror_mode": {
    "name": "ipython",
    "version": 3
   },
   "file_extension": ".py",
   "mimetype": "text/x-python",
   "name": "python",
   "nbconvert_exporter": "python",
   "pygments_lexer": "ipython3",
   "version": "3.9.12"
  }
 },
 "nbformat": 4,
 "nbformat_minor": 5
}
