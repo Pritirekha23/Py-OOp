{
 "cells": [
  {
   "cell_type": "markdown",
   "id": "045c797e",
   "metadata": {},
   "source": [
    "# INTERFACE"
   ]
  },
  {
   "cell_type": "markdown",
   "id": "5bc9e130",
   "metadata": {},
   "source": [
    "dt-26/02/23"
   ]
  },
  {
   "cell_type": "markdown",
   "id": "3d4e43d8",
   "metadata": {},
   "source": [
    "Interafec is just like abstract class,but inteface only contain abstract method,whereas abstract class contain both abstract and concrete method.\n",
    "python does not provide any support for inteface , so we must define inteface by using abc module.\n",
    "we cant create object for interface.\n",
    "Interface is the blueprint for class.\n",
    "child classs is responsible to provide the body part for inteface abstract method."
   ]
  },
  {
   "cell_type": "code",
   "execution_count": null,
   "id": "7bcee84d",
   "metadata": {},
   "outputs": [],
   "source": []
  },
  {
   "cell_type": "code",
   "execution_count": null,
   "id": "73725193",
   "metadata": {},
   "outputs": [],
   "source": []
  }
 ],
 "metadata": {
  "kernelspec": {
   "display_name": "Python 3 (ipykernel)",
   "language": "python",
   "name": "python3"
  },
  "language_info": {
   "codemirror_mode": {
    "name": "ipython",
    "version": 3
   },
   "file_extension": ".py",
   "mimetype": "text/x-python",
   "name": "python",
   "nbconvert_exporter": "python",
   "pygments_lexer": "ipython3",
   "version": "3.9.12"
  }
 },
 "nbformat": 4,
 "nbformat_minor": 5
}
