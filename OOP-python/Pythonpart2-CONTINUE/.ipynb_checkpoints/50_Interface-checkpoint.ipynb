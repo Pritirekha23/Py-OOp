{
 "cells": [
  {
   "cell_type": "markdown",
   "id": "fa1ed405",
   "metadata": {},
   "source": [
    "# INTERFACE"
   ]
  },
  {
   "cell_type": "markdown",
   "id": "365fe6cc",
   "metadata": {},
   "source": [
    "dt-26/02/23"
   ]
  },
  {
   "cell_type": "markdown",
   "id": "432a9c8a",
   "metadata": {},
   "source": [
    "Interafec is just like abstract class,but inteface only contain abstract method,whereas abstract class contain both abstract and concrete method.\n",
    "python does not provide any support for inteface , so we must define inteface by using abc module.\n",
    "we cant create object for interface.\n",
    "Interface is the blueprint for class.\n",
    "child classs is responsible to provide the body part for inteface abstract method."
   ]
  },
  {
   "cell_type": "markdown",
   "id": "c03b95b0",
   "metadata": {},
   "source": [
    "Abstract class Vs Interface::\n",
    "Abstract class contain abstract method as well as concrete method but Interface contain only abstract method."
   ]
  },
  {
   "cell_type": "code",
   "execution_count": 4,
   "id": "44f4a4ab",
   "metadata": {},
   "outputs": [
    {
     "ename": "TypeError",
     "evalue": "Can't instantiate abstract class Vehicle with abstract methods breaktype, no_of_seats",
     "output_type": "error",
     "traceback": [
      "\u001b[1;31m---------------------------------------------------------------------------\u001b[0m",
      "\u001b[1;31mTypeError\u001b[0m                                 Traceback (most recent call last)",
      "Input \u001b[1;32mIn [4]\u001b[0m, in \u001b[0;36m<cell line: 12>\u001b[1;34m()\u001b[0m\n\u001b[0;32m      9\u001b[0m         \u001b[38;5;28;01mpass\u001b[39;00m\n\u001b[0;32m     11\u001b[0m \u001b[38;5;66;03m#we cant create the object for inteface\u001b[39;00m\n\u001b[1;32m---> 12\u001b[0m v\u001b[38;5;241m=\u001b[39m\u001b[43mVehicle\u001b[49m\u001b[43m(\u001b[49m\u001b[43m)\u001b[49m\n",
      "\u001b[1;31mTypeError\u001b[0m: Can't instantiate abstract class Vehicle with abstract methods breaktype, no_of_seats"
     ]
    }
   ],
   "source": [
    "from abc import ABC,abstractmethod\n",
    "#ex-1\n",
    "class Vehicle(ABC):\n",
    "    @abstractmethod\n",
    "    def no_of_seats(self):\n",
    "        pass\n",
    "    @abstractmethod\n",
    "    def breaktype(self):\n",
    "        pass\n",
    "    \n",
    "#we cant create the object for inteface\n",
    "v=Vehicle()\n",
    "\n"
   ]
  },
  {
   "cell_type": "code",
   "execution_count": 10,
   "id": "392394e7",
   "metadata": {},
   "outputs": [
    {
     "name": "stdout",
     "output_type": "stream",
     "text": [
      "4+ seats\n",
      "special break\n",
      "-------\n",
      "2 seats\n",
      "Normal break\n"
     ]
    }
   ],
   "source": [
    "\n",
    "#ex-1\n",
    "class Vehicle(ABC):\n",
    "    @abstractmethod\n",
    "    def no_of_seats(self):\n",
    "        pass\n",
    "    @abstractmethod\n",
    "    def breaktype(self):\n",
    "        pass\n",
    "    \n",
    "class Car(Vehicle):\n",
    "    def no_of_seats(self):\n",
    "        print('4+ seats')\n",
    "    \n",
    "    def breaktype(self):\n",
    "        print('special break')\n",
    "        \n",
    "class Bike(Vehicle):\n",
    "    def no_of_seats(self):\n",
    "        print('2 seats')\n",
    "    \n",
    "    def breaktype(self):\n",
    "        print('Normal break')\n",
    "    \n",
    "    \n",
    "c=Car()\n",
    "c.no_of_seats()\n",
    "c.breaktype()\n",
    "print('-'*7)\n",
    "    \n",
    "b=Bike()\n",
    "b.no_of_seats()\n",
    "b.breaktype()"
   ]
  },
  {
   "cell_type": "markdown",
   "id": "6cdbf0c7",
   "metadata": {},
   "source": [
    "Based on Vehicle class design we are designing Car and Bike class thats why Interface is the blueprint for class. "
   ]
  },
  {
   "cell_type": "code",
   "execution_count": 13,
   "id": "32c6d9d2",
   "metadata": {},
   "outputs": [
    {
     "name": "stdout",
     "output_type": "stream",
     "text": [
      "4+ seats\n",
      "special break\n",
      "Extra method m1\n",
      "-------\n",
      "2 seats\n",
      "Normal break\n"
     ]
    },
    {
     "ename": "AttributeError",
     "evalue": "'Car' object has no attribute 'm2'",
     "output_type": "error",
     "traceback": [
      "\u001b[1;31m---------------------------------------------------------------------------\u001b[0m",
      "\u001b[1;31mAttributeError\u001b[0m                            Traceback (most recent call last)",
      "Input \u001b[1;32mIn [13]\u001b[0m, in \u001b[0;36m<cell line: 41>\u001b[1;34m()\u001b[0m\n\u001b[0;32m     39\u001b[0m b\u001b[38;5;241m.\u001b[39mno_of_seats()\n\u001b[0;32m     40\u001b[0m b\u001b[38;5;241m.\u001b[39mbreaktype()\n\u001b[1;32m---> 41\u001b[0m \u001b[43mc\u001b[49m\u001b[38;5;241;43m.\u001b[39;49m\u001b[43mm2\u001b[49m()\n",
      "\u001b[1;31mAttributeError\u001b[0m: 'Car' object has no attribute 'm2'"
     ]
    }
   ],
   "source": [
    "#child class can also contain its own method\n",
    "#ex-3\n",
    "class Vehicle(ABC):\n",
    "    @abstractmethod\n",
    "    def no_of_seats(self):\n",
    "        pass\n",
    "    @abstractmethod\n",
    "    def breaktype(self):\n",
    "        pass\n",
    "    \n",
    "class Car(Vehicle):\n",
    "    def no_of_seats(self):\n",
    "        print('4+ seats')\n",
    "    \n",
    "    def breaktype(self):\n",
    "        print('special break')\n",
    "        \n",
    "    def m1(self):\n",
    "        print('Extra method m1')\n",
    "        \n",
    "class Bike(Vehicle):\n",
    "    def no_of_seats(self):\n",
    "        print('2 seats')\n",
    "    \n",
    "    def breaktype(self):\n",
    "        print('Normal break')\n",
    "          \n",
    "    def m2(self):\n",
    "        print('Extra method m2')\n",
    "    \n",
    "    \n",
    "c=Car()\n",
    "c.no_of_seats()\n",
    "c.breaktype()\n",
    "c.m1()\n",
    "\n",
    "print('-'*7)\n",
    "    \n",
    "b=Bike()\n",
    "b.no_of_seats()\n",
    "b.breaktype()\n",
    "b.m2()"
   ]
  }
 ],
 "metadata": {
  "kernelspec": {
   "display_name": "Python 3 (ipykernel)",
   "language": "python",
   "name": "python3"
  },
  "language_info": {
   "codemirror_mode": {
    "name": "ipython",
    "version": 3
   },
   "file_extension": ".py",
   "mimetype": "text/x-python",
   "name": "python",
   "nbconvert_exporter": "python",
   "pygments_lexer": "ipython3",
   "version": "3.9.12"
  }
 },
 "nbformat": 4,
 "nbformat_minor": 5
}
