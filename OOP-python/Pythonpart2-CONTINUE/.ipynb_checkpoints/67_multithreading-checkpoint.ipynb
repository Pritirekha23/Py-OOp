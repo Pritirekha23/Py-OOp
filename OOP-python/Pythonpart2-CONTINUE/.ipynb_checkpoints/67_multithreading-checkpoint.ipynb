{
 "cells": [
  {
   "cell_type": "markdown",
   "id": "ee931620",
   "metadata": {},
   "source": [
    "dt-11/04/23"
   ]
  },
  {
   "cell_type": "markdown",
   "id": "8f7e73bb",
   "metadata": {},
   "source": [
    "# MULTITHREADING"
   ]
  },
  {
   "cell_type": "markdown",
   "id": "836ff17e",
   "metadata": {},
   "source": [
    "process:\n",
    "    program is in execution is known as process.\n",
    "    \n",
    "    "
   ]
  },
  {
   "cell_type": "code",
   "execution_count": null,
   "id": "0cf8d416",
   "metadata": {},
   "outputs": [],
   "source": []
  },
  {
   "cell_type": "code",
   "execution_count": null,
   "id": "3698af61",
   "metadata": {},
   "outputs": [],
   "source": []
  },
  {
   "cell_type": "code",
   "execution_count": null,
   "id": "e17d6911",
   "metadata": {},
   "outputs": [],
   "source": []
  },
  {
   "cell_type": "code",
   "execution_count": null,
   "id": "9c5da864",
   "metadata": {},
   "outputs": [],
   "source": [
    "#working with multithreading"
   ]
  },
  {
   "cell_type": "code",
   "execution_count": 2,
   "id": "b964daea",
   "metadata": {},
   "outputs": [
    {
     "name": "stdout",
     "output_type": "stream",
     "text": [
      "1\n",
      "2\n",
      "3\n",
      "<_MainThread(MainThread, started 368)>\n"
     ]
    }
   ],
   "source": [
    "#ex-1\n",
    "import threading\n",
    "print(1)\n",
    "print(2)\n",
    "print(3)\n",
    "print(threading.current_thread())\n",
    "\n",
    "#current_thread() is a function which will return an object."
   ]
  },
  {
   "cell_type": "code",
   "execution_count": null,
   "id": "6bfc8e8b",
   "metadata": {},
   "outputs": [],
   "source": []
  },
  {
   "cell_type": "code",
   "execution_count": null,
   "id": "72d8f37b",
   "metadata": {},
   "outputs": [],
   "source": []
  },
  {
   "cell_type": "code",
   "execution_count": null,
   "id": "8dba2cb9",
   "metadata": {},
   "outputs": [],
   "source": []
  },
  {
   "cell_type": "code",
   "execution_count": null,
   "id": "1fd85ec5",
   "metadata": {},
   "outputs": [],
   "source": []
  },
  {
   "cell_type": "code",
   "execution_count": null,
   "id": "6aab96ec",
   "metadata": {},
   "outputs": [],
   "source": []
  }
 ],
 "metadata": {
  "kernelspec": {
   "display_name": "Python 3 (ipykernel)",
   "language": "python",
   "name": "python3"
  },
  "language_info": {
   "codemirror_mode": {
    "name": "ipython",
    "version": 3
   },
   "file_extension": ".py",
   "mimetype": "text/x-python",
   "name": "python",
   "nbconvert_exporter": "python",
   "pygments_lexer": "ipython3",
   "version": "3.9.12"
  }
 },
 "nbformat": 4,
 "nbformat_minor": 5
}
