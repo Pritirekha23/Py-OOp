{
 "cells": [
  {
   "cell_type": "markdown",
   "id": "d7db8963",
   "metadata": {},
   "source": [
    "# method overloading"
   ]
  },
  {
   "cell_type": "markdown",
   "id": "9d569dfd",
   "metadata": {},
   "source": [
    "dt-12/02/23"
   ]
  },
  {
   "cell_type": "markdown",
   "id": "d499e70c",
   "metadata": {},
   "source": [
    "If two or more method have same name with diffferent number of parameter or different type of parameter is called method overloading.\n",
    "python does not suppport method overloading.\n",
    "Bcz if we will define multiple method then python will consider the last one.\n",
    "but indirectly we can achieve method overloading by using multiple dispatch decorator.\n",
    "\n",
    "ADVANTAGES:\n",
    "code reusability.\n",
    "provided flexibility and easy ness to programmer.\n",
    "it reduces complexity.\n",
    "\n"
   ]
  },
  {
   "cell_type": "code",
   "execution_count": 3,
   "id": "5807f6f8",
   "metadata": {},
   "outputs": [
    {
     "name": "stdout",
     "output_type": "stream",
     "text": [
      "10\n",
      "3\n",
      "2\n"
     ]
    },
    {
     "ename": "TypeError",
     "evalue": "m1() missing 1 required positional argument: 'c'",
     "output_type": "error",
     "traceback": [
      "\u001b[1;31m---------------------------------------------------------------------------\u001b[0m",
      "\u001b[1;31mTypeError\u001b[0m                                 Traceback (most recent call last)",
      "Input \u001b[1;32mIn [3]\u001b[0m, in \u001b[0;36m<cell line: 22>\u001b[1;34m()\u001b[0m\n\u001b[0;32m     19\u001b[0m t\u001b[38;5;241m=\u001b[39mTest()\n\u001b[0;32m     20\u001b[0m t\u001b[38;5;241m.\u001b[39mm1(\u001b[38;5;241m10\u001b[39m,\u001b[38;5;241m3\u001b[39m,\u001b[38;5;241m2\u001b[39m)\n\u001b[1;32m---> 22\u001b[0m \u001b[43mt\u001b[49m\u001b[38;5;241;43m.\u001b[39;49m\u001b[43mm1\u001b[49m\u001b[43m(\u001b[49m\u001b[38;5;241;43m2\u001b[39;49m\u001b[43m,\u001b[49m\u001b[38;5;241;43m3\u001b[39;49m\u001b[43m)\u001b[49m\n",
      "\u001b[1;31mTypeError\u001b[0m: m1() missing 1 required positional argument: 'c'"
     ]
    }
   ],
   "source": [
    "#example-1\n",
    "#methodoverloading\n",
    "\n",
    "class Test:\n",
    "    def m1(self,a):\n",
    "        print(a)\n",
    "    def m1(self,a,b):\n",
    "        print(a)\n",
    "        print(b)\n",
    "    def m1(self,a,b,c):\n",
    "        print(a)\n",
    "        print(b)\n",
    "        print(c)\n",
    "   \n",
    "\n",
    "# In java and c++ in this case it will execute that method which have one parameter but in python it will show an error\n",
    "# It will take the last method (internally python treated the last one method),so python does not support method overloading.\n",
    "\n",
    "t=Test()\n",
    "t.m1(10,3,2)\n",
    "\n",
    "t.m1(2,3)\n"
   ]
  },
  {
   "cell_type": "code",
   "execution_count": 11,
   "id": "62a82388",
   "metadata": {},
   "outputs": [
    {
     "ename": "TypeError",
     "evalue": "m1() missing 1 required positional argument: 'c'",
     "output_type": "error",
     "traceback": [
      "\u001b[1;31m---------------------------------------------------------------------------\u001b[0m",
      "\u001b[1;31mTypeError\u001b[0m                                 Traceback (most recent call last)",
      "Input \u001b[1;32mIn [11]\u001b[0m, in \u001b[0;36m<cell line: 14>\u001b[1;34m()\u001b[0m\n\u001b[0;32m     10\u001b[0m         \u001b[38;5;28mprint\u001b[39m(c)\n\u001b[0;32m     13\u001b[0m t\u001b[38;5;241m=\u001b[39mTest()\n\u001b[1;32m---> 14\u001b[0m \u001b[43mt\u001b[49m\u001b[38;5;241;43m.\u001b[39;49m\u001b[43mm1\u001b[49m\u001b[43m(\u001b[49m\u001b[38;5;241;43m2\u001b[39;49m\u001b[43m,\u001b[49m\u001b[38;5;241;43m3\u001b[39;49m\u001b[43m)\u001b[49m\n",
      "\u001b[1;31mTypeError\u001b[0m: m1() missing 1 required positional argument: 'c'"
     ]
    }
   ],
   "source": [
    "class Test:\n",
    "    def m1(self,a):\n",
    "        print(a)\n",
    "    def m1(self,a,b):\n",
    "        print(a)\n",
    "        print(b)\n",
    "    def m1(self,a,b,c):\n",
    "        print(a)\n",
    "        print(b)\n",
    "        print(c)\n",
    "   \n",
    "\n",
    "t=Test()\n",
    "t.m1(2,3)"
   ]
  },
  {
   "cell_type": "code",
   "execution_count": 12,
   "id": "738e7a1d",
   "metadata": {},
   "outputs": [
    {
     "name": "stdout",
     "output_type": "stream",
     "text": [
      "2\n",
      "3\n",
      "2\n"
     ]
    }
   ],
   "source": [
    "class Test:\n",
    "    def m1(self,a):\n",
    "        print(a)\n",
    "    def m1(self,a,b):\n",
    "        print(a)\n",
    "        print(b)\n",
    "    def m1(self,a,b,c):\n",
    "        print(a)\n",
    "        print(b)\n",
    "        print(c)\n",
    "   \n",
    "\n",
    "t=Test()\n",
    "t.m1(2,3,2)"
   ]
  },
  {
   "cell_type": "markdown",
   "id": "c0c16031",
   "metadata": {},
   "source": [
    "# ways to achive method overloading in python"
   ]
  },
  {
   "cell_type": "code",
   "execution_count": 16,
   "id": "086b3e44",
   "metadata": {},
   "outputs": [
    {
     "name": "stdout",
     "output_type": "stream",
     "text": [
      "(10,)\n",
      "(10, 20)\n",
      "(10, 20, 30, 40)\n"
     ]
    }
   ],
   "source": [
    "# way-1\n",
    "class Test:\n",
    "    def m1(self,*a):\n",
    "        print(a)\n",
    "\n",
    "t=Test()\n",
    "#based on our requirement we  can give number of argument\n",
    "t.m1(10)\n",
    "t.m1(10,20)\n",
    "t.m1(10,20,30,40)"
   ]
  },
  {
   "cell_type": "code",
   "execution_count": 21,
   "id": "f9efe82d",
   "metadata": {},
   "outputs": [
    {
     "name": "stdout",
     "output_type": "stream",
     "text": [
      "10\n",
      "20\n",
      "100\n",
      "None\n",
      "None\n",
      "None\n"
     ]
    }
   ],
   "source": [
    "#another way\n",
    "class Test:\n",
    "    def m1(self,a=None,b=None):\n",
    "        print(a)\n",
    "        print(b)\n",
    "        \n",
    "t=Test()\n",
    "t.m1(10,20)\n",
    "t.m1(100)\n",
    "t.m1()"
   ]
  },
  {
   "cell_type": "code",
   "execution_count": 23,
   "id": "5f81fac2",
   "metadata": {},
   "outputs": [
    {
     "name": "stdout",
     "output_type": "stream",
     "text": [
      "you provided two value\n",
      "----\n",
      "You did not provided two value\n",
      "You did not provided two value\n"
     ]
    }
   ],
   "source": [
    "#way-3\n",
    "\n",
    "class Test:\n",
    "    def m1(self,a=None,b=None):\n",
    "        if a!=None and b!=None:\n",
    "            print('you provided two value')\n",
    "        else:\n",
    "            print('You did not provided two value')\n",
    "       \n",
    "t=Test()\n",
    "t.m1(10,20)\n",
    "print('----')\n",
    "t.m1(100)\n",
    "t.m1()\n",
    "\n"
   ]
  },
  {
   "cell_type": "code",
   "execution_count": 24,
   "id": "6f169ac2",
   "metadata": {},
   "outputs": [
    {
     "name": "stdout",
     "output_type": "stream",
     "text": [
      "you provided two value\n",
      "----\n",
      "You  provided one value\n",
      "You did not provided two value\n"
     ]
    }
   ],
   "source": [
    "#way-3\n",
    "\n",
    "class Test:\n",
    "    def m1(self,a=None,b=None):\n",
    "        if a!=None and b!=None:\n",
    "            print('you provided two value')\n",
    "        elif a!=None:\n",
    "            print('You  provided one value')\n",
    "            \n",
    "        elif b!=None:\n",
    "            print('Ypu provided one value')\n",
    "            \n",
    "        else:\n",
    "            print(\"You did not provided two value\")\n",
    "       \n",
    "t=Test()\n",
    "t.m1(10,20)\n",
    "print('----')\n",
    "t.m1(100)\n",
    "t.m1()\n",
    "\n"
   ]
  },
  {
   "cell_type": "markdown",
   "id": "096e8ab3",
   "metadata": {},
   "source": [
    "# dt-13/02/23"
   ]
  },
  {
   "cell_type": "markdown",
   "id": "13ff8594",
   "metadata": {},
   "source": [
    "# Method overloading using multipledispatch module"
   ]
  },
  {
   "cell_type": "code",
   "execution_count": 3,
   "id": "47b3bc54",
   "metadata": {},
   "outputs": [
    {
     "name": "stdout",
     "output_type": "stream",
     "text": [
      "Requirement already satisfied: multipledispatch in c:\\users\\asus\\anaconda3\\lib\\site-packages (0.6.0)\n",
      "Requirement already satisfied: six in c:\\users\\asus\\anaconda3\\lib\\site-packages (from multipledispatch) (1.16.0)\n",
      "Note: you may need to restart the kernel to use updated packages.\n"
     ]
    }
   ],
   "source": [
    "pip install multipledispatch"
   ]
  },
  {
   "cell_type": "code",
   "execution_count": 10,
   "id": "bed0ddd0",
   "metadata": {},
   "outputs": [
    {
     "name": "stdout",
     "output_type": "stream",
     "text": [
      "12\n",
      "5.4\n",
      "14.2\n",
      "11\n"
     ]
    }
   ],
   "source": [
    "from multipledispatch import dispatch\n",
    "\n",
    "class Test:\n",
    "    @dispatch(int,int)\n",
    "    def add(a,b):\n",
    "        print(a+b)\n",
    "        \n",
    "    @dispatch(float,float)\n",
    "    def add(a,b):\n",
    "        print(a+b)\n",
    "        \n",
    "    @dispatch(int,float)\n",
    "    def add(a,b):\n",
    "        print(a+b)\n",
    "        \n",
    "    @dispatch(int,int,int)\n",
    "    def add(a,b,c):\n",
    "        print(a+b+c)\n",
    "    \n",
    "t=Test()\n",
    "t.add(10,2)\n",
    "t.add(2.2,3.2)\n",
    "t.add(12,2.2)\n",
    "t.add(2,4,5)"
   ]
  },
  {
   "cell_type": "code",
   "execution_count": null,
   "id": "a64092b2",
   "metadata": {},
   "outputs": [],
   "source": []
  }
 ],
 "metadata": {
  "kernelspec": {
   "display_name": "Python 3 (ipykernel)",
   "language": "python",
   "name": "python3"
  },
  "language_info": {
   "codemirror_mode": {
    "name": "ipython",
    "version": 3
   },
   "file_extension": ".py",
   "mimetype": "text/x-python",
   "name": "python",
   "nbconvert_exporter": "python",
   "pygments_lexer": "ipython3",
   "version": "3.9.12"
  }
 },
 "nbformat": 4,
 "nbformat_minor": 5
}
