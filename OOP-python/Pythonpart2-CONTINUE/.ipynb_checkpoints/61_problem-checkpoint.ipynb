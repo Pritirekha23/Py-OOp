{
 "cells": [
  {
   "cell_type": "markdown",
   "id": "43e68ae8",
   "metadata": {},
   "source": [
    "dt-16/03/23"
   ]
  },
  {
   "cell_type": "markdown",
   "id": "08b7cacf",
   "metadata": {},
   "source": [
    "# SNAKE WATER GUN"
   ]
  },
  {
   "cell_type": "code",
   "execution_count": 4,
   "id": "5eaf6e65",
   "metadata": {},
   "outputs": [
    {
     "name": "stdout",
     "output_type": "stream",
     "text": [
      "Enter 0 for Snake, 1 for Water and 2 for Gun\n",
      "2\n",
      "You:  2\n",
      "sys: 2\n",
      "won\n"
     ]
    }
   ],
   "source": [
    "import random\n",
    "\n",
    "def check(sys,user):\n",
    "    if sys==0:\n",
    "        return 0\n",
    "    if(sys==0 and user==1):\n",
    "        return -1\n",
    "    if(sys==1 and user==2):\n",
    "        return -1\n",
    "    if(sys==2 and user==0):\n",
    "        return -1\n",
    "    return 1\n",
    "sys=random.randint(0,2)\n",
    "user=int(input('Enter 0 for Snake, 1 for Water and 2 for Gun\\n'))\n",
    "score=check(sys,user)\n",
    "\n",
    "print('You: ',user)\n",
    "print('sys:',sys)\n",
    "if(score==0):\n",
    "    print('Draw')\n",
    "elif score==-1:\n",
    "    print('loose')\n",
    "else:\n",
    "    print('won')"
   ]
  },
  {
   "cell_type": "code",
   "execution_count": 5,
   "id": "62bad330",
   "metadata": {},
   "outputs": [
    {
     "name": "stdout",
     "output_type": "stream",
     "text": [
      "Enter 0 for Snake, 1 for Water and 2 for Gun\n",
      "1\n",
      "You:  1\n",
      "sys: 0\n",
      "Draw\n"
     ]
    }
   ],
   "source": [
    "import random\n",
    "\n",
    "def check(sys,user):\n",
    "    if sys==0:\n",
    "        return 0\n",
    "    if(sys==0 and user==1):\n",
    "        return -1\n",
    "    if(sys==1 and user==2):\n",
    "        return -1\n",
    "    if(sys==2 and user==0):\n",
    "        return -1\n",
    "    return 1\n",
    "sys=random.randint(0,2)\n",
    "user=int(input('Enter 0 for Snake, 1 for Water and 2 for Gun\\n'))\n",
    "score=check(sys,user)\n",
    "\n",
    "print('You: ',user)\n",
    "print('sys:',sys)\n",
    "if(score==0):\n",
    "    print('Draw')\n",
    "elif score==-1:\n",
    "    print('loose')\n",
    "else:\n",
    "    print('won')"
   ]
  },
  {
   "cell_type": "code",
   "execution_count": 6,
   "id": "6d62f820",
   "metadata": {},
   "outputs": [
    {
     "name": "stdout",
     "output_type": "stream",
     "text": [
      "Enter 0 for Snake, 1 for Water and 2 for Gun\n",
      "0\n",
      "You:  0\n",
      "sys: 1\n",
      "won\n"
     ]
    }
   ],
   "source": [
    "import random\n",
    "\n",
    "def check(sys,user):\n",
    "    if sys==0:\n",
    "        return 0\n",
    "    if(sys==0 and user==1):\n",
    "        return -1\n",
    "    if(sys==1 and user==2):\n",
    "        return -1\n",
    "    if(sys==2 and user==0):\n",
    "        return -1\n",
    "    return 1\n",
    "sys=random.randint(0,2)\n",
    "user=int(input('Enter 0 for Snake, 1 for Water and 2 for Gun\\n'))\n",
    "score=check(sys,user)\n",
    "\n",
    "print('You: ',user)\n",
    "print('sys:',sys)\n",
    "if(score==0):\n",
    "    print('Draw')\n",
    "elif score==-1:\n",
    "    print('loose')\n",
    "else:\n",
    "    print('won')"
   ]
  }
 ],
 "metadata": {
  "kernelspec": {
   "display_name": "Python 3 (ipykernel)",
   "language": "python",
   "name": "python3"
  },
  "language_info": {
   "codemirror_mode": {
    "name": "ipython",
    "version": 3
   },
   "file_extension": ".py",
   "mimetype": "text/x-python",
   "name": "python",
   "nbconvert_exporter": "python",
   "pygments_lexer": "ipython3",
   "version": "3.9.12"
  }
 },
 "nbformat": 4,
 "nbformat_minor": 5
}
