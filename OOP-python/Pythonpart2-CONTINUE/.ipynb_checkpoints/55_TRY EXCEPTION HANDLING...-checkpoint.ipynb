{
 "cells": [
  {
   "cell_type": "markdown",
   "id": "a8adca60",
   "metadata": {},
   "source": [
    "# TRY EXCEPTION HANDLING"
   ]
  },
  {
   "cell_type": "markdown",
   "id": "2735a12e",
   "metadata": {},
   "source": [
    "dt-08/03/22\n",
    "Try block : Inside try block we will write critical/dangerous/risky code.\n",
    "Except block : Inside except block we will write corresponding handling code.\n",
    "\n",
    "syntax:\n",
    "try:\n",
    "  critical code\n",
    "except Exception_classname:\n",
    "  corresponding handling code\n",
    "  \n",
    "What is handling code?\n",
    "It means some other code.\n"
   ]
  },
  {
   "cell_type": "code",
   "execution_count": 4,
   "id": "a2fc3ae6",
   "metadata": {},
   "outputs": [
    {
     "name": "stdout",
     "output_type": "stream",
     "text": [
      "Enter a value10\n",
      "Enter b value0\n"
     ]
    },
    {
     "ename": "ZeroDivisionError",
     "evalue": "division by zero",
     "output_type": "error",
     "traceback": [
      "\u001b[1;31m---------------------------------------------------------------\u001b[0m",
      "\u001b[1;31mZeroDivisionError\u001b[0m             Traceback (most recent call last)",
      "Input \u001b[1;32mIn [4]\u001b[0m, in \u001b[0;36m<cell line: 5>\u001b[1;34m()\u001b[0m\n\u001b[0;32m      3\u001b[0m a\u001b[38;5;241m=\u001b[39m\u001b[38;5;28mint\u001b[39m(\u001b[38;5;28minput\u001b[39m(\u001b[38;5;124m\"\u001b[39m\u001b[38;5;124mEnter a value\u001b[39m\u001b[38;5;124m\"\u001b[39m))\n\u001b[0;32m      4\u001b[0m b\u001b[38;5;241m=\u001b[39m\u001b[38;5;28mint\u001b[39m(\u001b[38;5;28minput\u001b[39m(\u001b[38;5;124m\"\u001b[39m\u001b[38;5;124mEnter b value\u001b[39m\u001b[38;5;124m\"\u001b[39m))\n\u001b[1;32m----> 5\u001b[0m \u001b[38;5;28mprint\u001b[39m(\u001b[43ma\u001b[49m\u001b[38;5;241;43m/\u001b[39;49m\u001b[43mb\u001b[49m)\n",
      "\u001b[1;31mZeroDivisionError\u001b[0m: division by zero"
     ]
    }
   ],
   "source": [
    "#ex-1\n",
    "\n",
    "a=int(input(\"Enter a value\"))\n",
    "b=int(input(\"Enter b value\"))\n",
    "print(a/b)"
   ]
  },
  {
   "cell_type": "code",
   "execution_count": 5,
   "id": "dede9e59",
   "metadata": {},
   "outputs": [
    {
     "name": "stdout",
     "output_type": "stream",
     "text": [
      "Enter x value::10\n",
      "Enter y value::2\n",
      "5.0\n"
     ]
    }
   ],
   "source": [
    "#ex-2(If the user will provide b value 0 then instead if division add it)\n",
    "\n",
    "x=int(input(\"Enter x value::\"))\n",
    "y=int(input(\"Enter y value::\"))\n",
    "try:\n",
    "    print(x/y)\n",
    "except ZeroDivisionError:\n",
    "    print(x+y)"
   ]
  },
  {
   "cell_type": "code",
   "execution_count": 6,
   "id": "06f8e051",
   "metadata": {},
   "outputs": [
    {
     "name": "stdout",
     "output_type": "stream",
     "text": [
      "Enter i value::10\n",
      "Enter j value::0\n",
      "10\n"
     ]
    }
   ],
   "source": [
    "#ex-3\n",
    "i=int(input(\"Enter i value::\"))\n",
    "j=int(input(\"Enter j value::\"))\n",
    "try:\n",
    "    print(i/j)\n",
    "except ZeroDivisionError:\n",
    "    print(i+j)  #handling code"
   ]
  },
  {
   "cell_type": "markdown",
   "id": "a8e80a62",
   "metadata": {},
   "source": [
    "## NameError"
   ]
  },
  {
   "cell_type": "code",
   "execution_count": 7,
   "id": "cf88cc2e",
   "metadata": {},
   "outputs": [
    {
     "name": "stdout",
     "output_type": "stream",
     "text": [
      "Enter i value::10\n",
      "Enter j value::5\n"
     ]
    },
    {
     "ename": "NameError",
     "evalue": "name 'k' is not defined",
     "output_type": "error",
     "traceback": [
      "\u001b[1;31m---------------------------------------------------------------\u001b[0m",
      "\u001b[1;31mNameError\u001b[0m                     Traceback (most recent call last)",
      "Input \u001b[1;32mIn [7]\u001b[0m, in \u001b[0;36m<cell line: 3>\u001b[1;34m()\u001b[0m\n\u001b[0;32m      1\u001b[0m i\u001b[38;5;241m=\u001b[39m\u001b[38;5;28mint\u001b[39m(\u001b[38;5;28minput\u001b[39m(\u001b[38;5;124m\"\u001b[39m\u001b[38;5;124mEnter i value::\u001b[39m\u001b[38;5;124m\"\u001b[39m))\n\u001b[0;32m      2\u001b[0m j\u001b[38;5;241m=\u001b[39m\u001b[38;5;28mint\u001b[39m(\u001b[38;5;28minput\u001b[39m(\u001b[38;5;124m\"\u001b[39m\u001b[38;5;124mEnter j value::\u001b[39m\u001b[38;5;124m\"\u001b[39m))\n\u001b[1;32m----> 3\u001b[0m \u001b[38;5;28mprint\u001b[39m(i\u001b[38;5;241m+\u001b[39m\u001b[43mk\u001b[49m)\n",
      "\u001b[1;31mNameError\u001b[0m: name 'k' is not defined"
     ]
    }
   ],
   "source": [
    "#ex-1 (problem)\n",
    "i=int(input(\"Enter i value::\"))\n",
    "j=int(input(\"Enter j value::\"))\n",
    "print(i+k)"
   ]
  },
  {
   "cell_type": "code",
   "execution_count": 8,
   "id": "ba61057e",
   "metadata": {},
   "outputs": [
    {
     "name": "stdout",
     "output_type": "stream",
     "text": [
      "Enter i value::10\n",
      "Enter j value::2\n",
      "some variable not defined\n"
     ]
    }
   ],
   "source": [
    "#(solution of NameError)\n",
    "i=int(input(\"Enter i value::\"))\n",
    "j=int(input(\"Enter j value::\"))\n",
    "try:\n",
    "    print(i+k)\n",
    "except NameError:\n",
    "    print('some variable not defined')"
   ]
  },
  {
   "cell_type": "code",
   "execution_count": 9,
   "id": "2fec0291",
   "metadata": {},
   "outputs": [
    {
     "name": "stdout",
     "output_type": "stream",
     "text": [
      "Enter i value::12\n",
      "Enter j value::3\n",
      "name 'k' is not defined\n"
     ]
    }
   ],
   "source": [
    "#(solution of NameError) with printing exception information\n",
    "i=int(input(\"Enter i value::\"))\n",
    "j=int(input(\"Enter j value::\"))\n",
    "try:\n",
    "    print(i+k)\n",
    "except NameError as ne:\n",
    "    print(ne)"
   ]
  },
  {
   "cell_type": "code",
   "execution_count": null,
   "id": "fc3ace62",
   "metadata": {},
   "outputs": [],
   "source": []
  },
  {
   "cell_type": "code",
   "execution_count": null,
   "id": "fc6bacaf",
   "metadata": {},
   "outputs": [],
   "source": []
  },
  {
   "cell_type": "code",
   "execution_count": null,
   "id": "821ae776",
   "metadata": {},
   "outputs": [],
   "source": []
  }
 ],
 "metadata": {
  "kernelspec": {
   "display_name": "Python 3 (ipykernel)",
   "language": "python",
   "name": "python3"
  },
  "language_info": {
   "codemirror_mode": {
    "name": "ipython",
    "version": 3
   },
   "file_extension": ".py",
   "mimetype": "text/x-python",
   "name": "python",
   "nbconvert_exporter": "python",
   "pygments_lexer": "ipython3",
   "version": "3.9.12"
  }
 },
 "nbformat": 4,
 "nbformat_minor": 5
}
