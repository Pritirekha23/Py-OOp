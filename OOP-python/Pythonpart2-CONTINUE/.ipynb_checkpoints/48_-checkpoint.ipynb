{
 "cells": [
  {
   "cell_type": "markdown",
   "id": "3a1c0c60",
   "metadata": {},
   "source": [
    "dt-21/02/23"
   ]
  },
  {
   "cell_type": "markdown",
   "id": "a51856ea",
   "metadata": {},
   "source": [
    "hash function returns an integer that represents the hash value of an object.\n",
    "hash(object)\n",
    "The hash() method takes a single parameter."
   ]
  },
  {
   "cell_type": "code",
   "execution_count": 2,
   "id": "b695c6a6",
   "metadata": {},
   "outputs": [
    {
     "name": "stdout",
     "output_type": "stream",
     "text": [
      "Hash for 181 is: 181\n",
      "Hash for 181.23 is: 530343892119126197\n",
      "Hash for Python is: -4602410777588238922\n"
     ]
    }
   ],
   "source": [
    "#hash for integer unchanged\n",
    "print('Hash for 181 is:', hash(181))\n",
    "\n",
    "#hash for decimal\n",
    "print('Hash for 181.23 is:',hash(181.23))\n",
    "\n",
    "#hash for string\n",
    "print('Hash for Python is:', hash('Python'))"
   ]
  },
  {
   "cell_type": "markdown",
   "id": "5cb68a0b",
   "metadata": {},
   "source": [
    "hash() method only works for immutable objects as tuple.\n",
    "\n"
   ]
  },
  {
   "cell_type": "code",
   "execution_count": 3,
   "id": "d4854ca2",
   "metadata": {},
   "outputs": [
    {
     "name": "stdout",
     "output_type": "stream",
     "text": [
      "The hash is: -7225704882134538435\n"
     ]
    }
   ],
   "source": [
    "# tuple of vowels\n",
    "vowels = ('a', 'e', 'i', 'o', 'u')\n",
    "\n",
    "print('The hash is:', hash(vowels))"
   ]
  },
  {
   "cell_type": "code",
   "execution_count": null,
   "id": "a1b5a35e",
   "metadata": {},
   "outputs": [],
   "source": []
  },
  {
   "cell_type": "code",
   "execution_count": null,
   "id": "193a4352",
   "metadata": {},
   "outputs": [],
   "source": []
  },
  {
   "cell_type": "code",
   "execution_count": 5,
   "id": "6398aed5",
   "metadata": {},
   "outputs": [
    {
     "name": "stdout",
     "output_type": "stream",
     "text": [
      "True\n",
      "False\n"
     ]
    }
   ],
   "source": [
    "class Person:\n",
    "    def __init__(self, name, age):\n",
    "        self.name = name\n",
    "        self.age = age\n",
    "    \n",
    "    def __eq__(self, other):\n",
    "        if isinstance(other, Person):\n",
    "            return self.name == other.name and self.age == other.age\n",
    "        return False\n",
    "    \n",
    "person1 = Person(\"Alice\", 25)\n",
    "person2 = Person(\"Alice\", 25)\n",
    "person3 = Person(\"Bob\", 30)\n",
    "\n",
    "print(person1 == person2)  # True\n",
    "print(person1 == person3)  # False\n"
   ]
  },
  {
   "cell_type": "code",
   "execution_count": null,
   "id": "3a3d174d",
   "metadata": {},
   "outputs": [],
   "source": []
  },
  {
   "cell_type": "markdown",
   "id": "7326636c",
   "metadata": {},
   "source": [
    "The isinstance() function in Python is used to check whether an object is an instance of a particular class. It takes two arguments: the first argument is the object that we want to check, and the second argument is the class that we want to check against first argument. The function returns True if the object is an instance of the class, and False otherwise"
   ]
  },
  {
   "cell_type": "code",
   "execution_count": 12,
   "id": "37bd40ae",
   "metadata": {},
   "outputs": [
    {
     "name": "stdout",
     "output_type": "stream",
     "text": [
      "True\n",
      "False\n"
     ]
    }
   ],
   "source": [
    "class Person:\n",
    "    def __init__(self, name, age):\n",
    "        self.name = name\n",
    "        self.age = age\n",
    "\n",
    "obj = Person(\"Alice\", 25)\n",
    "\n",
    "print(isinstance(obj, Person))  # True\n",
    "print(isinstance(obj,str))     # False\n"
   ]
  },
  {
   "cell_type": "code",
   "execution_count": null,
   "id": "9130ecac",
   "metadata": {},
   "outputs": [],
   "source": []
  }
 ],
 "metadata": {
  "kernelspec": {
   "display_name": "Python 3 (ipykernel)",
   "language": "python",
   "name": "python3"
  },
  "language_info": {
   "codemirror_mode": {
    "name": "ipython",
    "version": 3
   },
   "file_extension": ".py",
   "mimetype": "text/x-python",
   "name": "python",
   "nbconvert_exporter": "python",
   "pygments_lexer": "ipython3",
   "version": "3.9.12"
  }
 },
 "nbformat": 4,
 "nbformat_minor": 5
}
