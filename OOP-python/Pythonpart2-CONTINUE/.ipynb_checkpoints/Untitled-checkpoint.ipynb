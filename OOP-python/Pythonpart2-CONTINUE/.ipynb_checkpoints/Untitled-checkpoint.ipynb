{
 "cells": [
  {
   "cell_type": "markdown",
   "id": "bca92767",
   "metadata": {},
   "source": [
    "dt-18/03/23"
   ]
  },
  {
   "cell_type": "code",
   "execution_count": 1,
   "id": "ec7696a6",
   "metadata": {},
   "outputs": [
    {
     "ename": "TypeError",
     "evalue": "__init__() takes 1 positional argument but 2 were given",
     "output_type": "error",
     "traceback": [
      "\u001b[1;31m---------------------------------------------------------------------------\u001b[0m",
      "\u001b[1;31mTypeError\u001b[0m                                 Traceback (most recent call last)",
      "Input \u001b[1;32mIn [1]\u001b[0m, in \u001b[0;36m<cell line: 4>\u001b[1;34m()\u001b[0m\n\u001b[0;32m      2\u001b[0m     \u001b[38;5;28;01mdef\u001b[39;00m \u001b[38;5;21m__init__\u001b[39m(javatpoint):  \n\u001b[0;32m      3\u001b[0m         javajavatpoint \u001b[38;5;241m=\u001b[39m java  \n\u001b[1;32m----> 4\u001b[0m name1\u001b[38;5;241m=\u001b[39m\u001b[43mName\u001b[49m\u001b[43m(\u001b[49m\u001b[38;5;124;43m\"\u001b[39;49m\u001b[38;5;124;43mABC\u001b[39;49m\u001b[38;5;124;43m\"\u001b[39;49m\u001b[43m)\u001b[49m  \n\u001b[0;32m      5\u001b[0m name2\u001b[38;5;241m=\u001b[39mname1\n",
      "\u001b[1;31mTypeError\u001b[0m: __init__() takes 1 positional argument but 2 were given"
     ]
    }
   ],
   "source": [
    "class Name:  \n",
    "    def __init__(javatpoint):  \n",
    "        javajavatpoint = java  \n",
    "name1=Name(\"ABC\")  \n",
    "name2=name1  "
   ]
  },
  {
   "cell_type": "code",
   "execution_count": 7,
   "id": "d3c16126",
   "metadata": {},
   "outputs": [
    {
     "data": {
      "text/plain": [
       "4"
      ]
     },
     "execution_count": 7,
     "metadata": {},
     "output_type": "execute_result"
    }
   ],
   "source": [
    "round(4.076)"
   ]
  },
  {
   "cell_type": "code",
   "execution_count": 8,
   "id": "7d663734",
   "metadata": {},
   "outputs": [
    {
     "data": {
      "text/plain": [
       "5"
      ]
     },
     "execution_count": 8,
     "metadata": {},
     "output_type": "execute_result"
    }
   ],
   "source": [
    "\n",
    "round(4.567)"
   ]
  },
  {
   "cell_type": "code",
   "execution_count": 9,
   "id": "6cc60a3f",
   "metadata": {},
   "outputs": [
    {
     "data": {
      "text/plain": [
       "False"
      ]
     },
     "execution_count": 9,
     "metadata": {},
     "output_type": "execute_result"
    }
   ],
   "source": [
    "all([2,4,0,6]) \n",
    "#Explanation: If any element is zero, it returns a false value, and if all elements are non-zero, it returns a true value. Hence, the output of this \"all([2,4,0,6])\" function will be false."
   ]
  },
  {
   "cell_type": "code",
   "execution_count": 12,
   "id": "d3fd1342",
   "metadata": {},
   "outputs": [
    {
     "name": "stdout",
     "output_type": "stream",
     "text": [
      "1\n",
      "2\n",
      "3\n",
      "4\n"
     ]
    }
   ],
   "source": [
    "x = 1  \n",
    "while True:  \n",
    "    if x % 5 == 0:  \n",
    "        break  \n",
    "    print(x)   \n",
    "    x+= 1  "
   ]
  },
  {
   "cell_type": "code",
   "execution_count": 14,
   "id": "3ebc0051",
   "metadata": {},
   "outputs": [
    {
     "ename": "SyntaxError",
     "evalue": "invalid syntax (2457776018.py, line 6)",
     "output_type": "error",
     "traceback": [
      "\u001b[1;36m  Input \u001b[1;32mIn [14]\u001b[1;36m\u001b[0m\n\u001b[1;33m    x + = 1\u001b[0m\n\u001b[1;37m        ^\u001b[0m\n\u001b[1;31mSyntaxError\u001b[0m\u001b[1;31m:\u001b[0m invalid syntax\n"
     ]
    }
   ],
   "source": [
    "x = 1  \n",
    "while True:  \n",
    "    if x % 5 == 0:  \n",
    "        break  \n",
    "    print(x)   \n",
    "    x + = 1  "
   ]
  },
  {
   "cell_type": "code",
   "execution_count": null,
   "id": "fcee5516",
   "metadata": {},
   "outputs": [],
   "source": []
  },
  {
   "cell_type": "code",
   "execution_count": null,
   "id": "8d4e5eb0",
   "metadata": {},
   "outputs": [],
   "source": []
  },
  {
   "cell_type": "code",
   "execution_count": null,
   "id": "587f12dc",
   "metadata": {},
   "outputs": [],
   "source": []
  }
 ],
 "metadata": {
  "kernelspec": {
   "display_name": "Python 3 (ipykernel)",
   "language": "python",
   "name": "python3"
  },
  "language_info": {
   "codemirror_mode": {
    "name": "ipython",
    "version": 3
   },
   "file_extension": ".py",
   "mimetype": "text/x-python",
   "name": "python",
   "nbconvert_exporter": "python",
   "pygments_lexer": "ipython3",
   "version": "3.9.12"
  }
 },
 "nbformat": 4,
 "nbformat_minor": 5
}
