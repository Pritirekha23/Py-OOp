{
 "cells": [
  {
   "cell_type": "code",
   "execution_count": null,
   "id": "51b57215",
   "metadata": {},
   "outputs": [],
   "source": [
    "dt-15/04/23"
   ]
  },
  {
   "cell_type": "markdown",
   "id": "2cbb387a",
   "metadata": {},
   "source": [
    "# How to get and set thread name"
   ]
  },
  {
   "cell_type": "markdown",
   "id": "00551d49",
   "metadata": {},
   "source": [
    "## How to get thraed name"
   ]
  },
  {
   "cell_type": "code",
   "execution_count": 1,
   "id": "4c0561cb",
   "metadata": {},
   "outputs": [],
   "source": [
    "from threading import*"
   ]
  },
  {
   "cell_type": "code",
   "execution_count": 33,
   "id": "deba5646",
   "metadata": {},
   "outputs": [
    {
     "name": "stdout",
     "output_type": "stream",
     "text": [
      "pritiArun\n",
      "Arun\n",
      "Arun\n",
      "Arun\n",
      "priti\n",
      "priti\n",
      "priti\n",
      "priti\n",
      "\n",
      "Arun\n"
     ]
    }
   ],
   "source": [
    "def fun1():\n",
    "    for i in range(5):\n",
    "        print('priti')\n",
    "def fun2():\n",
    "    for i in range(5):\n",
    "        print('Arun') \n",
    "        \n",
    "t1=Thread(target=fun1)\n",
    "t1.start()\n",
    "\n",
    "\n",
    "t2=Thread(target=fun2)\n",
    "t2.start()"
   ]
  },
  {
   "cell_type": "code",
   "execution_count": null,
   "id": "4f057231",
   "metadata": {},
   "outputs": [],
   "source": []
  }
 ],
 "metadata": {
  "kernelspec": {
   "display_name": "Python 3 (ipykernel)",
   "language": "python",
   "name": "python3"
  },
  "language_info": {
   "codemirror_mode": {
    "name": "ipython",
    "version": 3
   },
   "file_extension": ".py",
   "mimetype": "text/x-python",
   "name": "python",
   "nbconvert_exporter": "python",
   "pygments_lexer": "ipython3",
   "version": "3.9.12"
  }
 },
 "nbformat": 4,
 "nbformat_minor": 5
}
