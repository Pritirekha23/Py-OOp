{
 "cells": [
  {
   "cell_type": "code",
   "execution_count": null,
   "id": "9f12570d",
   "metadata": {},
   "outputs": [],
   "source": [
    "binary search"
   ]
  },
  {
   "cell_type": "code",
   "execution_count": 8,
   "id": "aa8ca65e",
   "metadata": {},
   "outputs": [
    {
     "ename": "TypeError",
     "evalue": "list indices must be integers or slices, not float",
     "output_type": "error",
     "traceback": [
      "\u001b[1;31m---------------------------------------------------------------------------\u001b[0m",
      "\u001b[1;31mTypeError\u001b[0m                                 Traceback (most recent call last)",
      "Input \u001b[1;32mIn [8]\u001b[0m, in \u001b[0;36m<cell line: 17>\u001b[1;34m()\u001b[0m\n\u001b[0;32m     14\u001b[0m a\u001b[38;5;241m=\u001b[39m[\u001b[38;5;241m5\u001b[39m,\u001b[38;5;241m23\u001b[39m,\u001b[38;5;241m43\u001b[39m,\u001b[38;5;241m53\u001b[39m,\u001b[38;5;241m63\u001b[39m,\u001b[38;5;241m83\u001b[39m,\u001b[38;5;241m93\u001b[39m]\n\u001b[0;32m     15\u001b[0m i\u001b[38;5;241m=\u001b[39m\u001b[38;5;241m28\u001b[39m\n\u001b[1;32m---> 17\u001b[0m result\u001b[38;5;241m=\u001b[39m\u001b[43mbinarysearch\u001b[49m\u001b[43m(\u001b[49m\u001b[43ma\u001b[49m\u001b[43m,\u001b[49m\u001b[38;5;241;43m0\u001b[39;49m\u001b[43m,\u001b[49m\u001b[38;5;28;43mlen\u001b[39;49m\u001b[43m(\u001b[49m\u001b[43ma\u001b[49m\u001b[43m)\u001b[49m\u001b[38;5;241;43m-\u001b[39;49m\u001b[38;5;241;43m1\u001b[39;49m\u001b[43m,\u001b[49m\u001b[43mi\u001b[49m\u001b[43m)\u001b[49m\n\u001b[0;32m     19\u001b[0m \u001b[38;5;28;01mif\u001b[39;00m result\u001b[38;5;241m!=\u001b[39m\u001b[38;5;241m-\u001b[39m\u001b[38;5;241m1\u001b[39m:\n\u001b[0;32m     20\u001b[0m     \u001b[38;5;28mprint\u001b[39m(\u001b[38;5;124mf\u001b[39m\u001b[38;5;124m'\u001b[39m\u001b[38;5;124mElement \u001b[39m\u001b[38;5;132;01m{\u001b[39;00mi\u001b[38;5;132;01m}\u001b[39;00m\u001b[38;5;124m is present at index \u001b[39m\u001b[38;5;132;01m{\u001b[39;00mresult\u001b[38;5;132;01m}\u001b[39;00m\u001b[38;5;124m'\u001b[39m)\n",
      "Input \u001b[1;32mIn [8]\u001b[0m, in \u001b[0;36mbinarysearch\u001b[1;34m(a, low, high, i)\u001b[0m\n\u001b[0;32m      2\u001b[0m \u001b[38;5;28;01mif\u001b[39;00m high\u001b[38;5;241m>\u001b[39m\u001b[38;5;241m=\u001b[39mlow:\n\u001b[0;32m      3\u001b[0m     mid\u001b[38;5;241m=\u001b[39m(high\u001b[38;5;241m+\u001b[39mlow)\u001b[38;5;241m/\u001b[39m\u001b[38;5;241m2\u001b[39m\n\u001b[1;32m----> 5\u001b[0m     \u001b[38;5;28;01mif\u001b[39;00m \u001b[43ma\u001b[49m\u001b[43m[\u001b[49m\u001b[43mmid\u001b[49m\u001b[43m]\u001b[49m\u001b[38;5;241m==\u001b[39mi:\n\u001b[0;32m      6\u001b[0m         \u001b[38;5;28;01mreturn\u001b[39;00m mid\n\u001b[0;32m      7\u001b[0m     \u001b[38;5;28;01melif\u001b[39;00m a[mid]\u001b[38;5;241m>\u001b[39mi:\n",
      "\u001b[1;31mTypeError\u001b[0m: list indices must be integers or slices, not float"
     ]
    }
   ],
   "source": [
    "def binarysearch(a,low,high,i):\n",
    "    if high>=low:\n",
    "        mid=(high+low)/2\n",
    "        \n",
    "        if a[mid]==i:\n",
    "            return mid\n",
    "        elif a[mid]>i:\n",
    "            return  binarysearch(a,low,high,mid-1,i)\n",
    "        else:\n",
    "            return  binarysearch(a,low,high,mid+1,i)\n",
    "    else:\n",
    "        return -1\n",
    "        \n",
    "a=[5,23,43,53,63,83,93]\n",
    "i=28\n",
    "\n",
    "result=binarysearch(a,0,len(a)-1,i)\n",
    "\n",
    "if result!=-1:\n",
    "    print(f'Element {i} is present at index {result}')\n",
    "else:\n",
    "    print(f'Element {i} is not present at index {result}')"
   ]
  },
  {
   "cell_type": "code",
   "execution_count": null,
   "id": "ce0d4c3c",
   "metadata": {},
   "outputs": [],
   "source": []
  }
 ],
 "metadata": {
  "kernelspec": {
   "display_name": "Python 3 (ipykernel)",
   "language": "python",
   "name": "python3"
  },
  "language_info": {
   "codemirror_mode": {
    "name": "ipython",
    "version": 3
   },
   "file_extension": ".py",
   "mimetype": "text/x-python",
   "name": "python",
   "nbconvert_exporter": "python",
   "pygments_lexer": "ipython3",
   "version": "3.9.12"
  }
 },
 "nbformat": 4,
 "nbformat_minor": 5
}
