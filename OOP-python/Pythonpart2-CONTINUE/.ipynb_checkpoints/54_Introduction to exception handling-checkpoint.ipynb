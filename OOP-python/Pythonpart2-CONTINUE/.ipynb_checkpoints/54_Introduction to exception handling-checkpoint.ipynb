{
 "cells": [
  {
   "cell_type": "markdown",
   "id": "8c23b1d6",
   "metadata": {},
   "source": [
    "# INTRODUCTION TO EXCEPTION HANDLING\n"
   ]
  },
  {
   "cell_type": "markdown",
   "id": "bdd9a785",
   "metadata": {},
   "source": [
    "dt-05/03/23"
   ]
  },
  {
   "cell_type": "markdown",
   "id": "32cb85a7",
   "metadata": {},
   "source": [
    "## INTRODUCTION TO ERROR AND ITS TYPES"
   ]
  },
  {
   "cell_type": "markdown",
   "id": "9a7a5ffa",
   "metadata": {},
   "source": [
    "ERROR::- Error means mistake.\n",
    "       ->In programming error are two types.\n",
    "(i) Syntax error(compile time error) :: Syntax error occur when we will do some mistake in syntax. IT occurs, if we will not follow proper syntax and rule regulation provided by python.        \n",
    "Ex:-If we forgot to mention :(colon) in control statement , \"\" (quote) in string,() in function we will get synatx error.\n",
    "programmer is responsible for syntax error.\n",
    "             \n",
    "(ii) Run time error (Execution time error):: \n",
    "If an error will occur at execution time that type error called Run time error. It is also known as Exception. \n",
    "\n",
    "This error occur at the program execution bcz of several reason like :-\n",
    "(i) user provide input (ex- in your account u have 10000 balance but u r trying to withdraw 25000 at that time u will get an error).\n",
    "(ii)memory issues (ex-  your laptop contain 2 gb ram and u r trying to run a program that required 4 gb ram at that particular time u eill get memory issues.)\n",
    "(iii) at the time of accessing data (ex-You want to open a file in your laptop but that particular file is not present in your laptop  )\n",
    " (iv) at the time of file opening         \n",
    "          "
   ]
  },
  {
   "cell_type": "code",
   "execution_count": 6,
   "id": "82e04209",
   "metadata": {},
   "outputs": [
    {
     "ename": "SyntaxError",
     "evalue": "EOL while scanning string literal (343688777.py, line 3)",
     "output_type": "error",
     "traceback": [
      "\u001b[1;36m  Input \u001b[1;32mIn [6]\u001b[1;36m\u001b[0m\n\u001b[1;33m    print(Hi\")\u001b[0m\n\u001b[1;37m              ^\u001b[0m\n\u001b[1;31mSyntaxError\u001b[0m\u001b[1;31m:\u001b[0m EOL while scanning string literal\n"
     ]
    }
   ],
   "source": [
    "# syntax error\n",
    "# ex-1\n",
    "print(Hi\")"
   ]
  },
  {
   "cell_type": "code",
   "execution_count": 5,
   "id": "cb64d92a",
   "metadata": {},
   "outputs": [
    {
     "name": "stdout",
     "output_type": "stream",
     "text": [
      "HI\n"
     ]
    }
   ],
   "source": [
    "# ex-1 solution\n",
    "print(\"HI\")"
   ]
  },
  {
   "cell_type": "code",
   "execution_count": 8,
   "id": "22495b6f",
   "metadata": {},
   "outputs": [
    {
     "ename": "SyntaxError",
     "evalue": "invalid syntax (4291732752.py, line 3)",
     "output_type": "error",
     "traceback": [
      "\u001b[1;36m  Input \u001b[1;32mIn [8]\u001b[1;36m\u001b[0m\n\u001b[1;33m    if a==10\u001b[0m\n\u001b[1;37m            ^\u001b[0m\n\u001b[1;31mSyntaxError\u001b[0m\u001b[1;31m:\u001b[0m invalid syntax\n"
     ]
    }
   ],
   "source": [
    "#ex-2\n",
    "a=10\n",
    "if a==10\n",
    "    print('a is 10')"
   ]
  },
  {
   "cell_type": "markdown",
   "id": "397f5b5c",
   "metadata": {},
   "source": [
    "# EXCEPTION"
   ]
  },
  {
   "cell_type": "markdown",
   "id": "007a7fb3",
   "metadata": {},
   "source": [
    "Exception is a runtime error.\n",
    "Exception is an unwanted event.\n",
    "Exception disturb normal flow of execution\n",
    "If exception occur , then we cant expect normal execution or smooth execution.\n"
   ]
  },
  {
   "cell_type": "markdown",
   "id": "434b0c01",
   "metadata": {},
   "source": [
    "# EXCEPTION HANDLING"
   ]
  },
  {
   "cell_type": "markdown",
   "id": "5e191535",
   "metadata": {},
   "source": [
    "Exception handling is a mechanism or technique or way to handle the exception.\n",
    "If exception handled successfully then we can except smooth ttermination.\n",
    "It is highly recomanded to handle the exception"
   ]
  },
  {
   "cell_type": "code",
   "execution_count": 12,
   "id": "8cb12340",
   "metadata": {},
   "outputs": [
    {
     "name": "stdout",
     "output_type": "stream",
     "text": [
      "59\n"
     ]
    },
    {
     "ename": "IndexError",
     "evalue": "list index out of range",
     "output_type": "error",
     "traceback": [
      "\u001b[1;31m---------------------------------------------------------------------------\u001b[0m",
      "\u001b[1;31mIndexError\u001b[0m                                Traceback (most recent call last)",
      "Input \u001b[1;32mIn [12]\u001b[0m, in \u001b[0;36m<cell line: 5>\u001b[1;34m()\u001b[0m\n\u001b[0;32m      3\u001b[0m l\u001b[38;5;241m=\u001b[39m[\u001b[38;5;241m109\u001b[39m,\u001b[38;5;241m20\u001b[39m,\u001b[38;5;241m30\u001b[39m,\u001b[38;5;241m40\u001b[39m,\u001b[38;5;241m59\u001b[39m]\n\u001b[0;32m      4\u001b[0m \u001b[38;5;28mprint\u001b[39m(l[\u001b[38;5;241m4\u001b[39m])\n\u001b[1;32m----> 5\u001b[0m \u001b[38;5;28mprint\u001b[39m(\u001b[43ml\u001b[49m\u001b[43m[\u001b[49m\u001b[38;5;241;43m6\u001b[39;49m\u001b[43m]\u001b[49m)\n",
      "\u001b[1;31mIndexError\u001b[0m: list index out of range"
     ]
    }
   ],
   "source": [
    "#run time error(EXCEPTION)\n",
    "#ex-3\n",
    "l=[109,20,30,40,59]\n",
    "print(l[4])\n",
    "print(l[6]) #index 6 is not present so we get an error"
   ]
  },
  {
   "cell_type": "code",
   "execution_count": 14,
   "id": "6ee52e49",
   "metadata": {},
   "outputs": [
    {
     "ename": "NameError",
     "evalue": "name 'x' is not defined",
     "output_type": "error",
     "traceback": [
      "\u001b[1;31m---------------------------------------------------------------------------\u001b[0m",
      "\u001b[1;31mNameError\u001b[0m                                 Traceback (most recent call last)",
      "Input \u001b[1;32mIn [14]\u001b[0m, in \u001b[0;36m<cell line: 2>\u001b[1;34m()\u001b[0m\n\u001b[0;32m      1\u001b[0m \u001b[38;5;66;03m#ex-3 \u001b[39;00m\n\u001b[1;32m----> 2\u001b[0m \u001b[43mx\u001b[49m\n\u001b[0;32m      3\u001b[0m y\n\u001b[0;32m      4\u001b[0m \u001b[38;5;28mprint\u001b[39m(x\u001b[38;5;241m+\u001b[39my)\n",
      "\u001b[1;31mNameError\u001b[0m: name 'x' is not defined"
     ]
    }
   ],
   "source": [
    "#ex-3 \n",
    "x\n",
    "y\n",
    "print(x+y)"
   ]
  },
  {
   "cell_type": "code",
   "execution_count": 18,
   "id": "9650a099",
   "metadata": {},
   "outputs": [
    {
     "name": "stdout",
     "output_type": "stream",
     "text": [
      "1\n",
      "2\n"
     ]
    },
    {
     "ename": "TypeError",
     "evalue": "unsupported operand type(s) for /: 'int' and 'str'",
     "output_type": "error",
     "traceback": [
      "\u001b[1;31m---------------------------------------------------------------------------\u001b[0m",
      "\u001b[1;31mTypeError\u001b[0m                                 Traceback (most recent call last)",
      "Input \u001b[1;32mIn [18]\u001b[0m, in \u001b[0;36m<cell line: 4>\u001b[1;34m()\u001b[0m\n\u001b[0;32m      2\u001b[0m \u001b[38;5;28mprint\u001b[39m(\u001b[38;5;124m'\u001b[39m\u001b[38;5;124m1\u001b[39m\u001b[38;5;124m'\u001b[39m)\n\u001b[0;32m      3\u001b[0m \u001b[38;5;28mprint\u001b[39m(\u001b[38;5;124m'\u001b[39m\u001b[38;5;124m2\u001b[39m\u001b[38;5;124m'\u001b[39m)\n\u001b[1;32m----> 4\u001b[0m \u001b[38;5;28mprint\u001b[39m(\u001b[38;5;241;43m10\u001b[39;49m\u001b[38;5;241;43m/\u001b[39;49m\u001b[38;5;124;43m'\u001b[39;49m\u001b[38;5;124;43msurendra\u001b[39;49m\u001b[38;5;124;43m'\u001b[39;49m) \u001b[38;5;66;03m#runtime error\u001b[39;00m\n\u001b[0;32m      5\u001b[0m \u001b[38;5;28mprint\u001b[39m(\u001b[38;5;124m'\u001b[39m\u001b[38;5;124m3\u001b[39m\u001b[38;5;124m'\u001b[39m)\n\u001b[0;32m      6\u001b[0m \u001b[38;5;28mprint\u001b[39m(\u001b[38;5;124m'\u001b[39m\u001b[38;5;124m4\u001b[39m\u001b[38;5;124m'\u001b[39m)\n",
      "\u001b[1;31mTypeError\u001b[0m: unsupported operand type(s) for /: 'int' and 'str'"
     ]
    }
   ],
   "source": [
    "#ex-4 (once exception occur remaining code will not execute,it will disrupt flow of execution)\n",
    "print('1')\n",
    "print('2')\n",
    "print(10/'surendra') #runtime error(abnormal termination)\n",
    "print('3')\n",
    "print('4')"
   ]
  },
  {
   "cell_type": "markdown",
   "id": "3459fdfb",
   "metadata": {},
   "source": [
    "NOTE::\n",
    "[smooth termination] :: If all the codes executed successfully that is known as smooth termination.\n",
    "[abnormal termination] :: If one exception occurs in the middle of the execution the reaming code will note execute which are present after the exception this is known as abnormal termination.(ex-4)"
   ]
  },
  {
   "cell_type": "code",
   "execution_count": 23,
   "id": "22a9f72d",
   "metadata": {},
   "outputs": [
    {
     "name": "stdout",
     "output_type": "stream",
     "text": [
      "1\n",
      "2\n",
      "unsupported operand type(s) for /: 'int' and 'str'\n",
      "3\n",
      "4\n"
     ]
    }
   ],
   "source": [
    "#ex-5\n",
    "print('1')\n",
    "print('2')\n",
    "try:\n",
    "    print(10/'surendra')\n",
    "except Exception as e:\n",
    "    print(e)\n",
    "print('3')\n",
    "print('4')"
   ]
  },
  {
   "cell_type": "code",
   "execution_count": 29,
   "id": "2d20d384",
   "metadata": {},
   "outputs": [
    {
     "ename": "IndexError",
     "evalue": "list index out of range",
     "output_type": "error",
     "traceback": [
      "\u001b[1;31m---------------------------------------------------------------------------\u001b[0m",
      "\u001b[1;31mIndexError\u001b[0m                                Traceback (most recent call last)",
      "Input \u001b[1;32mIn [29]\u001b[0m, in \u001b[0;36m<cell line: 3>\u001b[1;34m()\u001b[0m\n\u001b[0;32m      1\u001b[0m \u001b[38;5;66;03m#ex-6(exception)\u001b[39;00m\n\u001b[0;32m      2\u001b[0m l\u001b[38;5;241m=\u001b[39m[\u001b[38;5;241m20\u001b[39m,\u001b[38;5;241m30\u001b[39m,\u001b[38;5;241m50\u001b[39m]\n\u001b[1;32m----> 3\u001b[0m \u001b[38;5;28mprint\u001b[39m(\u001b[43ml\u001b[49m\u001b[43m[\u001b[49m\u001b[38;5;241;43m5\u001b[39;49m\u001b[43m]\u001b[49m)\n\u001b[0;32m      4\u001b[0m \u001b[38;5;28;01mfor\u001b[39;00m i \u001b[38;5;129;01min\u001b[39;00m \u001b[38;5;28mrange\u001b[39m(\u001b[38;5;241m5\u001b[39m):\n\u001b[0;32m      5\u001b[0m     \u001b[38;5;28mprint\u001b[39m(i)\n",
      "\u001b[1;31mIndexError\u001b[0m: list index out of range"
     ]
    }
   ],
   "source": [
    "#ex-6(exception)\n",
    "l=[20,30,50]\n",
    "print(l[5])\n",
    "for i in range(5):\n",
    "    print(i)\n",
    "    \n"
   ]
  },
  {
   "cell_type": "code",
   "execution_count": 28,
   "id": "e51e8d11",
   "metadata": {},
   "outputs": [
    {
     "name": "stdout",
     "output_type": "stream",
     "text": [
      "list index out of range\n",
      "0\n",
      "1\n",
      "2\n",
      "3\n",
      "4\n"
     ]
    }
   ],
   "source": [
    "#ex-6(solution)\n",
    "l=[20,30,50]\n",
    "try:\n",
    "    print(l[5])  \n",
    "except Exception as e:\n",
    "    print(e)\n",
    "for i in range(5):\n",
    "    print(i)\n",
    "    \n"
   ]
  },
  {
   "cell_type": "code",
   "execution_count": 31,
   "id": "954e917c",
   "metadata": {},
   "outputs": [
    {
     "name": "stdout",
     "output_type": "stream",
     "text": [
      "Enter i value100\n",
      "Enter j value2\n",
      "50.0\n"
     ]
    }
   ],
   "source": [
    "#ex-7\n",
    "i=int(input(\"Enter i value\"))\n",
    "j=int(input(\"Enter j value\"))\n",
    "print(i/j)"
   ]
  },
  {
   "cell_type": "code",
   "execution_count": 32,
   "id": "258e4b8b",
   "metadata": {},
   "outputs": [
    {
     "name": "stdout",
     "output_type": "stream",
     "text": [
      "Enter i value100\n",
      "Enter j value0\n"
     ]
    },
    {
     "ename": "ZeroDivisionError",
     "evalue": "division by zero",
     "output_type": "error",
     "traceback": [
      "\u001b[1;31m---------------------------------------------------------------------------\u001b[0m",
      "\u001b[1;31mZeroDivisionError\u001b[0m                         Traceback (most recent call last)",
      "Input \u001b[1;32mIn [32]\u001b[0m, in \u001b[0;36m<cell line: 4>\u001b[1;34m()\u001b[0m\n\u001b[0;32m      2\u001b[0m i\u001b[38;5;241m=\u001b[39m\u001b[38;5;28mint\u001b[39m(\u001b[38;5;28minput\u001b[39m(\u001b[38;5;124m\"\u001b[39m\u001b[38;5;124mEnter i value\u001b[39m\u001b[38;5;124m\"\u001b[39m))\n\u001b[0;32m      3\u001b[0m j\u001b[38;5;241m=\u001b[39m\u001b[38;5;28mint\u001b[39m(\u001b[38;5;28minput\u001b[39m(\u001b[38;5;124m\"\u001b[39m\u001b[38;5;124mEnter j value\u001b[39m\u001b[38;5;124m\"\u001b[39m))\n\u001b[1;32m----> 4\u001b[0m \u001b[38;5;28mprint\u001b[39m(\u001b[43mi\u001b[49m\u001b[38;5;241;43m/\u001b[39;49m\u001b[43mj\u001b[49m)\n",
      "\u001b[1;31mZeroDivisionError\u001b[0m: division by zero"
     ]
    }
   ],
   "source": [
    "#ex-7(Exception)\n",
    "i=int(input(\"Enter i value\"))\n",
    "j=int(input(\"Enter j value\"))\n",
    "print(i/j)"
   ]
  },
  {
   "cell_type": "code",
   "execution_count": 33,
   "id": "57e0cd9c",
   "metadata": {},
   "outputs": [
    {
     "name": "stdout",
     "output_type": "stream",
     "text": [
      "Enter i value100\n",
      "Enter j value0\n",
      "division by zero\n"
     ]
    }
   ],
   "source": [
    "#ex-7 (solution of exception)\n",
    "i=int(input(\"Enter i value\"))\n",
    "j=int(input(\"Enter j value\"))\n",
    "try:\n",
    "    print(i/j)\n",
    "except Exception as e:\n",
    "    print(e)\n"
   ]
  },
  {
   "cell_type": "code",
   "execution_count": 1,
   "id": "6a61e82d",
   "metadata": {},
   "outputs": [
    {
     "name": "stdout",
     "output_type": "stream",
     "text": [
      "Enter i value100\n",
      "Enter j value0\n",
      "Hey user u can not divide any numnber with zero\n"
     ]
    }
   ],
   "source": [
    "#ex-8 (solution of exception(custom msg))\n",
    "i=int(input(\"Enter i value\"))\n",
    "j=int(input(\"Enter j value\"))\n",
    "try:\n",
    "    print(i/j)\n",
    "except ZeroDivisionError as z:\n",
    "    print('Hey user u can not divide any numnber with zero')\n"
   ]
  },
  {
   "cell_type": "code",
   "execution_count": 2,
   "id": "89cf34e1",
   "metadata": {},
   "outputs": [
    {
     "name": "stdout",
     "output_type": "stream",
     "text": [
      "Enter i value100\n",
      "Enter j value0\n",
      "division by zero\n",
      "Hey user u can not divide any numnber with zero\n"
     ]
    }
   ],
   "source": [
    "#ex-8 (solution of exception(custom msg with python provide msg for the exception))\n",
    "i=int(input(\"Enter i value\"))\n",
    "j=int(input(\"Enter j value\"))\n",
    "try:\n",
    "    print(i/j)\n",
    "except ZeroDivisionError as z:\n",
    "    print(z)\n",
    "    print('Hey user u can not divide any numnber with zero')\n"
   ]
  },
  {
   "cell_type": "code",
   "execution_count": 1,
   "id": "a80e5c12",
   "metadata": {},
   "outputs": [
    {
     "name": "stdout",
     "output_type": "stream",
     "text": [
      "Enter i value10\n",
      "Enter j value2\n",
      "30\n",
      "5.0\n"
     ]
    }
   ],
   "source": [
    "#ex-9\n",
    "i=int(input(\"Enter i value\"))\n",
    "j=int(input(\"Enter j value\"))\n",
    "l=[10,20,30]\n",
    "try:\n",
    "    print(l[2])\n",
    "\n",
    "    print(i/j)\n",
    "except ZeroDivisionError as z:\n",
    "     print('Hey user u can not divide any numnber with zero')\n"
   ]
  },
  {
   "cell_type": "code",
   "execution_count": 2,
   "id": "0b7fc6d8",
   "metadata": {},
   "outputs": [
    {
     "name": "stdout",
     "output_type": "stream",
     "text": [
      "Enter i value10\n",
      "Enter j value2\n"
     ]
    },
    {
     "ename": "IndexError",
     "evalue": "list index out of range",
     "output_type": "error",
     "traceback": [
      "\u001b[1;31m---------------------------------------------------------------------------\u001b[0m",
      "\u001b[1;31mIndexError\u001b[0m                                Traceback (most recent call last)",
      "Input \u001b[1;32mIn [2]\u001b[0m, in \u001b[0;36m<cell line: 5>\u001b[1;34m()\u001b[0m\n\u001b[0;32m      4\u001b[0m l\u001b[38;5;241m=\u001b[39m[\u001b[38;5;241m10\u001b[39m,\u001b[38;5;241m20\u001b[39m,\u001b[38;5;241m30\u001b[39m]\n\u001b[0;32m      5\u001b[0m \u001b[38;5;28;01mtry\u001b[39;00m:\n\u001b[1;32m----> 6\u001b[0m     \u001b[38;5;28mprint\u001b[39m(\u001b[43ml\u001b[49m\u001b[43m[\u001b[49m\u001b[38;5;241;43m5\u001b[39;49m\u001b[43m]\u001b[49m)\n\u001b[0;32m      7\u001b[0m     \u001b[38;5;28mprint\u001b[39m(i\u001b[38;5;241m/\u001b[39mj)\n\u001b[0;32m      8\u001b[0m \u001b[38;5;28;01mexcept\u001b[39;00m \u001b[38;5;167;01mZeroDivisionError\u001b[39;00m \u001b[38;5;28;01mas\u001b[39;00m z:\n",
      "\u001b[1;31mIndexError\u001b[0m: list index out of range"
     ]
    }
   ],
   "source": [
    "#ex-10\n",
    "i=int(input(\"Enter i value\"))\n",
    "j=int(input(\"Enter j value\"))\n",
    "l=[10,20,30]\n",
    "try:\n",
    "    print(l[5])\n",
    "    print(i/j)\n",
    "except ZeroDivisionError as z:  #it only can \n",
    "     print('Hey user u can not divide any numnber with zero')\n"
   ]
  },
  {
   "cell_type": "code",
   "execution_count": 5,
   "id": "41e602bf",
   "metadata": {},
   "outputs": [
    {
     "name": "stdout",
     "output_type": "stream",
     "text": [
      "Enter i value10\n",
      "Enter j value2\n",
      "You can not access out of range index value\n"
     ]
    }
   ],
   "source": [
    "#ex-10(solution of 10)\n",
    "i=int(input(\"Enter i value\"))\n",
    "j=int(input(\"Enter j value\"))\n",
    "l=[10,20,30]\n",
    "try:\n",
    "    print(l[5])\n",
    "    print(i/j)\n",
    "except ZeroDivisionError as z:  \n",
    "     print('Hey user u can not divide any numnber with zero')\n",
    "except IndexError as I:\n",
    "    #print(I)\n",
    "    print('You can not access out of range index value')"
   ]
  }
 ],
 "metadata": {
  "kernelspec": {
   "display_name": "Python 3 (ipykernel)",
   "language": "python",
   "name": "python3"
  },
  "language_info": {
   "codemirror_mode": {
    "name": "ipython",
    "version": 3
   },
   "file_extension": ".py",
   "mimetype": "text/x-python",
   "name": "python",
   "nbconvert_exporter": "python",
   "pygments_lexer": "ipython3",
   "version": "3.9.12"
  }
 },
 "nbformat": 4,
 "nbformat_minor": 5
}
