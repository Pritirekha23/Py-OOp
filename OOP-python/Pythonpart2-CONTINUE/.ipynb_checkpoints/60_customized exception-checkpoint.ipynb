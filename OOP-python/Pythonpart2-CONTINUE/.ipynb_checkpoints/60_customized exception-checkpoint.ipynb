{
 "cells": [
  {
   "cell_type": "markdown",
   "id": "b77d84f5",
   "metadata": {},
   "source": [
    "dt-15/03/23"
   ]
  },
  {
   "cell_type": "markdown",
   "id": "236719c6",
   "metadata": {},
   "source": [
    "# CUSTOMIZED EXCEPTION"
   ]
  },
  {
   "cell_type": "code",
   "execution_count": null,
   "id": "4de66eba",
   "metadata": {},
   "outputs": [],
   "source": []
  },
  {
   "cell_type": "code",
   "execution_count": 7,
   "id": "aef92104",
   "metadata": {},
   "outputs": [
    {
     "name": "stdout",
     "output_type": "stream",
     "text": [
      "1500 withdrwa successfully\n"
     ]
    },
    {
     "ename": "NameError",
     "evalue": "name 'InsufficientBalance' is not defined",
     "output_type": "error",
     "traceback": [
      "\u001b[1;31m---------------------------------------------------------------------------\u001b[0m",
      "\u001b[1;31mNameError\u001b[0m                                 Traceback (most recent call last)",
      "Input \u001b[1;32mIn [7]\u001b[0m, in \u001b[0;36m<cell line: 11>\u001b[1;34m()\u001b[0m\n\u001b[0;32m      8\u001b[0m         \u001b[38;5;28mprint\u001b[39m(\u001b[38;5;124mf\u001b[39m\u001b[38;5;124m'\u001b[39m\u001b[38;5;132;01m{\u001b[39;00mamount\u001b[38;5;132;01m}\u001b[39;00m\u001b[38;5;124m withdrwa successfully\u001b[39m\u001b[38;5;124m'\u001b[39m)\n\u001b[0;32m     10\u001b[0m withdraw(\u001b[38;5;241m1500\u001b[39m)\n\u001b[1;32m---> 11\u001b[0m \u001b[43mwithdraw\u001b[49m\u001b[43m(\u001b[49m\u001b[38;5;241;43m260000\u001b[39;49m\u001b[43m)\u001b[49m\n",
      "Input \u001b[1;32mIn [7]\u001b[0m, in \u001b[0;36mwithdraw\u001b[1;34m(amount)\u001b[0m\n\u001b[0;32m      4\u001b[0m main_bal\u001b[38;5;241m=\u001b[39m\u001b[38;5;241m20000\u001b[39m\n\u001b[0;32m      5\u001b[0m \u001b[38;5;28;01mif\u001b[39;00m(amount\u001b[38;5;241m>\u001b[39mmain_bal):\n\u001b[1;32m----> 6\u001b[0m     \u001b[38;5;28;01mraise\u001b[39;00m \u001b[43mInsufficientBalance\u001b[49m \n\u001b[0;32m      7\u001b[0m \u001b[38;5;28;01melse\u001b[39;00m:\n\u001b[0;32m      8\u001b[0m     \u001b[38;5;28mprint\u001b[39m(\u001b[38;5;124mf\u001b[39m\u001b[38;5;124m'\u001b[39m\u001b[38;5;132;01m{\u001b[39;00mamount\u001b[38;5;132;01m}\u001b[39;00m\u001b[38;5;124m withdrwa successfully\u001b[39m\u001b[38;5;124m'\u001b[39m)\n",
      "\u001b[1;31mNameError\u001b[0m: name 'InsufficientBalance' is not defined"
     ]
    }
   ],
   "source": [
    "#ex-1\n",
    "class InSufficientBalanace(Exception):\n",
    "    pass\n",
    "def withdraw(amount):\n",
    "    main_bal=20000\n",
    "    if(amount>main_bal):\n",
    "        raise InsufficientBalance \n",
    "    else:\n",
    "        print(f'{amount} withdrwa successfully')\n",
    "        \n",
    "withdraw(1500)\n",
    "withdraw(260000)"
   ]
  },
  {
   "cell_type": "code",
   "execution_count": null,
   "id": "e3d9ccf3",
   "metadata": {},
   "outputs": [],
   "source": []
  },
  {
   "cell_type": "code",
   "execution_count": null,
   "id": "832f6c1e",
   "metadata": {},
   "outputs": [],
   "source": []
  },
  {
   "cell_type": "code",
   "execution_count": null,
   "id": "88988eaf",
   "metadata": {},
   "outputs": [],
   "source": []
  },
  {
   "cell_type": "code",
   "execution_count": null,
   "id": "40068af5",
   "metadata": {},
   "outputs": [],
   "source": []
  },
  {
   "cell_type": "code",
   "execution_count": null,
   "id": "73398aa2",
   "metadata": {},
   "outputs": [],
   "source": []
  },
  {
   "cell_type": "code",
   "execution_count": null,
   "id": "4e0d906f",
   "metadata": {},
   "outputs": [],
   "source": []
  }
 ],
 "metadata": {
  "kernelspec": {
   "display_name": "Python 3 (ipykernel)",
   "language": "python",
   "name": "python3"
  },
  "language_info": {
   "codemirror_mode": {
    "name": "ipython",
    "version": 3
   },
   "file_extension": ".py",
   "mimetype": "text/x-python",
   "name": "python",
   "nbconvert_exporter": "python",
   "pygments_lexer": "ipython3",
   "version": "3.9.12"
  }
 },
 "nbformat": 4,
 "nbformat_minor": 5
}
