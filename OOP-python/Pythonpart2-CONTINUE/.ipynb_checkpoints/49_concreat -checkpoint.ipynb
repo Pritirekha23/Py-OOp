{
 "cells": [
  {
   "cell_type": "markdown",
   "id": "b9f4e0f5",
   "metadata": {},
   "source": [
    "dt-22/02/23"
   ]
  },
  {
   "cell_type": "code",
   "execution_count": null,
   "id": "27e3b1fd",
   "metadata": {},
   "outputs": [],
   "source": []
  },
  {
   "cell_type": "markdown",
   "id": "3b6d26f5",
   "metadata": {},
   "source": [
    "Concrete class::\n",
    "class contain concrete method,we can not use abstract method.\n",
    "child class is not responsible to provide any implementation part of parent class methods.\n",
    "we can create the object of class.\n",
    "class is the blueprint for object.(if u want to create the object 1st create a class)\n",
    "To define concreate class we dont required to import any module.\n"
   ]
  },
  {
   "cell_type": "markdown",
   "id": "6abe1f79",
   "metadata": {},
   "source": [
    "ABstract class::\n",
    "It can also contain abstract method as well as concrete method.\n",
    "child class is responsible to provide implementation part for parent class abstract method.\n",
    "we cant create object for abstract class.\n",
    "Abstrcat class is blueprint for class.(if u want to cretae class 1st create abstract class)\n",
    "to define abstract class w erequired to import a module i.e abc module and extend from ABC class."
   ]
  },
  {
   "cell_type": "code",
   "execution_count": null,
   "id": "7313ef0a",
   "metadata": {},
   "outputs": [],
   "source": []
  }
 ],
 "metadata": {
  "kernelspec": {
   "display_name": "Python 3 (ipykernel)",
   "language": "python",
   "name": "python3"
  },
  "language_info": {
   "codemirror_mode": {
    "name": "ipython",
    "version": 3
   },
   "file_extension": ".py",
   "mimetype": "text/x-python",
   "name": "python",
   "nbconvert_exporter": "python",
   "pygments_lexer": "ipython3",
   "version": "3.9.12"
  }
 },
 "nbformat": 4,
 "nbformat_minor": 5
}
