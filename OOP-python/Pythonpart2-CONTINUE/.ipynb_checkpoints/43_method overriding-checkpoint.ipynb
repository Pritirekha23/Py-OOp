{
 "cells": [
  {
   "cell_type": "markdown",
   "id": "b943e626",
   "metadata": {},
   "source": [
    "dt-15/02/23"
   ]
  },
  {
   "cell_type": "markdown",
   "id": "f66eb21a",
   "metadata": {},
   "source": [
    "# Method overriding"
   ]
  },
  {
   "cell_type": "markdown",
   "id": "19dd9bc9",
   "metadata": {},
   "source": [
    "what ever methods parent contain those method by default available to the child class.\n",
    "If child class want, then child class can provide own implementation for those method , this mechanism is called as method overriding.\n"
   ]
  },
  {
   "cell_type": "code",
   "execution_count": 3,
   "id": "e1550bc1",
   "metadata": {},
   "outputs": [
    {
     "name": "stdout",
     "output_type": "stream",
     "text": [
      "Hello\n"
     ]
    }
   ],
   "source": [
    "class P:\n",
    "    def m1(self):\n",
    "        print(\"Hello\")\n",
    "        \n",
    "class C(P):\n",
    "    pass\n",
    "\n",
    "c=C()\n",
    "c.m1()\n",
    "    "
   ]
  },
  {
   "cell_type": "code",
   "execution_count": 4,
   "id": "c81dca41",
   "metadata": {},
   "outputs": [
    {
     "name": "stdout",
     "output_type": "stream",
     "text": [
      "Hi\n"
     ]
    }
   ],
   "source": [
    "class P:\n",
    "    def m1(self):\n",
    "        print(\"Hello\")\n",
    "        \n",
    "class C(P):\n",
    "     def m1(self):\n",
    "        print(\"Hi\")\n",
    "        \n",
    "    \n",
    "\n",
    "c=C()\n",
    "c.m1()\n",
    "    "
   ]
  },
  {
   "cell_type": "code",
   "execution_count": 6,
   "id": "88b901f3",
   "metadata": {},
   "outputs": [
    {
     "name": "stdout",
     "output_type": "stream",
     "text": [
      "6.16\n",
      "9\n"
     ]
    }
   ],
   "source": [
    "class Circle:\n",
    "    def area(self,r):\n",
    "        print(3.14*r*r)\n",
    "        \n",
    "class Triangle(Circle):\n",
    "    def area(self,b,h):\n",
    "        print(0.5*b*h)\n",
    "        \n",
    "class Square(Circle):\n",
    "      def area(self,s):\n",
    "        print(s*s)\n",
    "        \n",
    "        \n",
    "        \n",
    "t=Triangle()\n",
    "t.area(2.2,5.6)\n",
    "\n",
    "\n",
    "s=Square()\n",
    "s.area(3)"
   ]
  },
  {
   "cell_type": "code",
   "execution_count": 10,
   "id": "ad7d28db",
   "metadata": {},
   "outputs": [
    {
     "name": "stdout",
     "output_type": "stream",
     "text": [
      "I like yamaha rx100\n",
      "touch screen mobile\n"
     ]
    }
   ],
   "source": [
    "class P:\n",
    "    def bike(self):\n",
    "        print('I like yamaha rx100')\n",
    "    def mob(self):\n",
    "        print(\"keypad mobile\")\n",
    "        \n",
    "class C(P):\n",
    "    def mob(self):\n",
    "        print(\"touch screen mobile\")\n",
    "        \n",
    "    \n",
    "\n",
    "c=C()\n",
    "c.bike()\n",
    "\n",
    "c.mob()"
   ]
  },
  {
   "cell_type": "code",
   "execution_count": 11,
   "id": "86d65688",
   "metadata": {},
   "outputs": [
    {
     "name": "stdout",
     "output_type": "stream",
     "text": [
      "I like yamaha rx100\n",
      "I like yamaha rx100\n",
      "touch screen mobile\n"
     ]
    }
   ],
   "source": [
    "class P:\n",
    "    def bike(self):\n",
    "        print('I like yamaha rx100')\n",
    "    def mob(self):\n",
    "        print(\"keypad mobile\")\n",
    "        \n",
    "class C(P):\n",
    "    def mob(self):\n",
    "        super().bike()\n",
    "        print(\"touch screen mobile\")\n",
    "        \n",
    "    \n",
    "\n",
    "c=C()\n",
    "c.mob()"
   ]
  },
  {
   "cell_type": "code",
   "execution_count": null,
   "id": "22f9fe02",
   "metadata": {},
   "outputs": [],
   "source": []
  }
 ],
 "metadata": {
  "kernelspec": {
   "display_name": "Python 3 (ipykernel)",
   "language": "python",
   "name": "python3"
  },
  "language_info": {
   "codemirror_mode": {
    "name": "ipython",
    "version": 3
   },
   "file_extension": ".py",
   "mimetype": "text/x-python",
   "name": "python",
   "nbconvert_exporter": "python",
   "pygments_lexer": "ipython3",
   "version": "3.9.12"
  }
 },
 "nbformat": 4,
 "nbformat_minor": 5
}
