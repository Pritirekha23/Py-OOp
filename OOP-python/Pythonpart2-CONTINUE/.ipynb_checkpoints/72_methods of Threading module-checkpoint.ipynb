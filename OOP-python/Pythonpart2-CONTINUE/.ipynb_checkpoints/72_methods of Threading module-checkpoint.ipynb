{
 "cells": [
  {
   "cell_type": "markdown",
   "id": "ef47f474",
   "metadata": {},
   "source": [
    "dt-08/05/23"
   ]
  },
  {
   "cell_type": "markdown",
   "id": "a98bf018",
   "metadata": {},
   "source": [
    "Is_alive() method :\n",
    "    It is used to check whether the thread is alive or not.\n",
    "    It means, it is still running or not.\n",
    "    If it is running then it will return True or else False."
   ]
  },
  {
   "cell_type": "code",
   "execution_count": null,
   "id": "277d8d95",
   "metadata": {},
   "outputs": [],
   "source": [
    "sleep() method:\n",
    "    "
   ]
  },
  {
   "cell_type": "code",
   "execution_count": 3,
   "id": "fa53013f",
   "metadata": {},
   "outputs": [
    {
     "name": "stdout",
     "output_type": "stream",
     "text": [
      "0\n",
      "1\n",
      "2\n"
     ]
    }
   ],
   "source": [
    "#sleep() method program\n",
    "#ex-1\n",
    "\n",
    "import time \n",
    "for i in range(3):\n",
    "    print(i)\n",
    "    time.sleep(5)"
   ]
  },
  {
   "cell_type": "code",
   "execution_count": 4,
   "id": "3297050e",
   "metadata": {},
   "outputs": [
    {
     "name": "stdout",
     "output_type": "stream",
     "text": [
      "Arun\n",
      "Jin\n",
      "Jimin\n"
     ]
    }
   ],
   "source": [
    "print('Arun')\n",
    "time.sleep(3)\n",
    "print('Jin')\n",
    "time.sleep(2)\n",
    "print('Jimin')\n",
    "time.sleep(5)"
   ]
  },
  {
   "cell_type": "code",
   "execution_count": null,
   "id": "987eda7f",
   "metadata": {},
   "outputs": [],
   "source": []
  },
  {
   "cell_type": "code",
   "execution_count": null,
   "id": "9e3c98ce",
   "metadata": {},
   "outputs": [],
   "source": []
  },
  {
   "cell_type": "code",
   "execution_count": null,
   "id": "ec32ebda",
   "metadata": {},
   "outputs": [],
   "source": []
  }
 ],
 "metadata": {
  "kernelspec": {
   "display_name": "Python 3 (ipykernel)",
   "language": "python",
   "name": "python3"
  },
  "language_info": {
   "codemirror_mode": {
    "name": "ipython",
    "version": 3
   },
   "file_extension": ".py",
   "mimetype": "text/x-python",
   "name": "python",
   "nbconvert_exporter": "python",
   "pygments_lexer": "ipython3",
   "version": "3.9.12"
  }
 },
 "nbformat": 4,
 "nbformat_minor": 5
}
