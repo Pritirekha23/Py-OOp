{
 "cells": [
  {
   "cell_type": "markdown",
   "id": "315fb01d",
   "metadata": {},
   "source": [
    "dt-08/05/23"
   ]
  },
  {
   "cell_type": "code",
   "execution_count": null,
   "id": "eb407238",
   "metadata": {},
   "outputs": [],
   "source": [
    "sleep() method:\n",
    "    "
   ]
  },
  {
   "cell_type": "code",
   "execution_count": 3,
   "id": "938b8f22",
   "metadata": {},
   "outputs": [
    {
     "name": "stdout",
     "output_type": "stream",
     "text": [
      "0\n",
      "1\n",
      "2\n"
     ]
    }
   ],
   "source": [
    "#sleep() method program\n",
    "#ex-1\n",
    "\n",
    "import time \n",
    "for i in range(3):\n",
    "    print(i)\n",
    "    time.sleep(5)"
   ]
  },
  {
   "cell_type": "code",
   "execution_count": 4,
   "id": "0ac782b8",
   "metadata": {},
   "outputs": [
    {
     "name": "stdout",
     "output_type": "stream",
     "text": [
      "Arun\n",
      "Jin\n",
      "Jimin\n"
     ]
    }
   ],
   "source": [
    "print('Arun')\n",
    "time.sleep(3)\n",
    "print('Jin')\n",
    "time.sleep(2)\n",
    "print('Jimin')\n",
    "time.sleep(5)"
   ]
  },
  {
   "cell_type": "markdown",
   "id": "3325531c",
   "metadata": {},
   "source": [
    "# Is_alive() method"
   ]
  },
  {
   "cell_type": "markdown",
   "id": "a38b27b4",
   "metadata": {},
   "source": [
    "Is_alive() method :\n",
    "    It is used to check whether the thread is alive or not.\n",
    "    It means, it is still running or not.\n",
    "    If it is running then it will return True or else False."
   ]
  },
  {
   "cell_type": "code",
   "execution_count": 22,
   "id": "83fadcd3",
   "metadata": {},
   "outputs": [
    {
     "name": "stdout",
     "output_type": "stream",
     "text": [
      "Before starting t1 thread : False\n",
      "JinAfter starting t1 thread : True\n",
      "\n",
      "Jimin\n"
     ]
    }
   ],
   "source": [
    "#ex-1\n",
    "\n",
    "from threading import*\n",
    "import time\n",
    "def fun1():\n",
    "    print('Jin')\n",
    "    time.sleep(3)\n",
    "    print('Jimin')\n",
    "    \n",
    "t1=Thread(target=fun1)\n",
    "print('Before starting t1 thread :',t1.is_alive())\n",
    "t1.start()\n",
    "print('After starting t1 thread :',t1.is_alive())"
   ]
  },
  {
   "cell_type": "code",
   "execution_count": 38,
   "id": "2b27e939",
   "metadata": {},
   "outputs": [
    {
     "name": "stdout",
     "output_type": "stream",
     "text": [
      "Before starting t1 thread : False\n",
      "Before starting t2 thread : False\n",
      "Jin\n",
      "After starting t1 thread : True\n",
      "After starting t2 thread : False\n",
      "Jimin\n"
     ]
    }
   ],
   "source": [
    "#ex-2\n",
    "\n",
    "from threading import*\n",
    "import time\n",
    "def fun1():\n",
    "    time.sleep(3)\n",
    "    print('Jimin')\n",
    "    \n",
    "def fun2():\n",
    "    print('Jin')\n",
    "    \n",
    "t1=Thread(target=fun1)\n",
    "t2=Thread(target=fun2)\n",
    "print('Before starting t1 thread :',t1.is_alive())\n",
    "print('Before starting t2 thread :',t2.is_alive())\n",
    "t1.start()\n",
    "t2.start()\n",
    "print('After starting t1 thread :',t1.is_alive())\n",
    "print('After starting t2 thread :',t2.is_alive())\n",
    "\n",
    "\n"
   ]
  },
  {
   "cell_type": "code",
   "execution_count": null,
   "id": "aa28653b",
   "metadata": {},
   "outputs": [],
   "source": []
  }
 ],
 "metadata": {
  "kernelspec": {
   "display_name": "Python 3 (ipykernel)",
   "language": "python",
   "name": "python3"
  },
  "language_info": {
   "codemirror_mode": {
    "name": "ipython",
    "version": 3
   },
   "file_extension": ".py",
   "mimetype": "text/x-python",
   "name": "python",
   "nbconvert_exporter": "python",
   "pygments_lexer": "ipython3",
   "version": "3.9.12"
  }
 },
 "nbformat": 4,
 "nbformat_minor": 5
}
