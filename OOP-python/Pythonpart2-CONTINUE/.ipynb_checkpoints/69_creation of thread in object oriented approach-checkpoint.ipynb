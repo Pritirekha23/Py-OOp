{
 "cells": [
  {
   "cell_type": "markdown",
   "id": "c13ddf27",
   "metadata": {},
   "source": [
    "dt-13/04/23"
   ]
  },
  {
   "cell_type": "markdown",
   "id": "312bfb61",
   "metadata": {},
   "source": [
    "# creation of thread in object oriented approach"
   ]
  },
  {
   "cell_type": "code",
   "execution_count": 1,
   "id": "617e45ca",
   "metadata": {},
   "outputs": [],
   "source": [
    "from threading import*"
   ]
  },
  {
   "cell_type": "code",
   "execution_count": 2,
   "id": "f95b2242",
   "metadata": {},
   "outputs": [
    {
     "name": "stdout",
     "output_type": "stream",
     "text": [
      "priti\n",
      "priti\n",
      "priti\n",
      "priti\n",
      "priti\n",
      "smruti\n",
      "smruti\n",
      "smruti\n",
      "smruti\n",
      "smruti\n"
     ]
    }
   ],
   "source": [
    "#ex-1 by using single thraed\n",
    "class Test:\n",
    "    def m1(self):\n",
    "        for i in range(5):\n",
    "            print('priti')\n",
    "    def m2(self):\n",
    "        for i in range(5):\n",
    "            print('smruti')\n",
    "ob=Test()    \n",
    "ob.m1()\n",
    "ob.m2()"
   ]
  },
  {
   "cell_type": "code",
   "execution_count": 24,
   "id": "7847add1",
   "metadata": {},
   "outputs": [
    {
     "name": "stdout",
     "output_type": "stream",
     "text": [
      "priti\n",
      "smrutipriti\n",
      "smruti\n",
      "smruti\n",
      "smruti\n",
      "smruti\n",
      "\n",
      "priti\n",
      "priti\n",
      "priti\n"
     ]
    }
   ],
   "source": [
    "#ex-2 by using  multithraed\n",
    "class Test:\n",
    "    def m1(self):\n",
    "        for i in range(5):\n",
    "            print('priti')\n",
    "    def m2(self):\n",
    "        for i in range(5):\n",
    "            print('smruti')\n",
    "ob=Test()    \n",
    "t1=Thread(target=ob.m1)\n",
    "t1.start()\n",
    "\n",
    "\n",
    "t2=Thread(target=ob.m2)\n",
    "t2.start()"
   ]
  },
  {
   "cell_type": "code",
   "execution_count": 26,
   "id": "1ac8aa8b",
   "metadata": {},
   "outputs": [
    {
     "name": "stdout",
     "output_type": "stream",
     "text": [
      "priti\n",
      "priti\n",
      "priti\n",
      "priti\n",
      "priti\n",
      "smruti\n",
      "smruti\n",
      "smruti\n",
      "smruti\n",
      "smruti\n"
     ]
    }
   ],
   "source": [
    "#ex-3 pass arrgument\n",
    "class Test:\n",
    "    def m1(self,name):\n",
    "        for i in range(5):\n",
    "            print(name)\n",
    "    def m2(self,name):\n",
    "        for i in range(5):\n",
    "            print(name)\n",
    "ob=Test()    \n",
    "t1=Thread(target=ob.m1,args=('priti',))\n",
    "t1.start()\n",
    "\n",
    "\n",
    "t2=Thread(target=ob.m2,args=('smruti',))\n",
    "t2.start()"
   ]
  }
 ],
 "metadata": {
  "kernelspec": {
   "display_name": "Python 3 (ipykernel)",
   "language": "python",
   "name": "python3"
  },
  "language_info": {
   "codemirror_mode": {
    "name": "ipython",
    "version": 3
   },
   "file_extension": ".py",
   "mimetype": "text/x-python",
   "name": "python",
   "nbconvert_exporter": "python",
   "pygments_lexer": "ipython3",
   "version": "3.9.12"
  }
 },
 "nbformat": 4,
 "nbformat_minor": 5
}
