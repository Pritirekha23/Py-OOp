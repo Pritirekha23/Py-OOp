{
 "cells": [
  {
   "cell_type": "markdown",
   "id": "594e482e",
   "metadata": {},
   "source": [
    "dt-14/04/23"
   ]
  },
  {
   "cell_type": "markdown",
   "id": "fc41026f",
   "metadata": {},
   "source": [
    "# creation of thread by extending thread class"
   ]
  },
  {
   "cell_type": "markdown",
   "id": "f8043f03",
   "metadata": {},
   "source": [
    "Thread is inbuild class that is provided by python, we have to create a class by extending from Thread class.\n",
    "Inside thread claass python provided run() method and we have to override run("
   ]
  },
  {
   "cell_type": "code",
   "execution_count": 1,
   "id": "58a08ecd",
   "metadata": {},
   "outputs": [],
   "source": [
    "from threading import*"
   ]
  },
  {
   "cell_type": "code",
   "execution_count": 2,
   "id": "5306a78a",
   "metadata": {},
   "outputs": [
    {
     "name": "stdout",
     "output_type": "stream",
     "text": [
      "priti\n",
      "priti\n",
      "priti\n",
      "priti\n",
      "priti\n",
      "kriti\n",
      "kriti\n",
      "kriti\n",
      "kriti\n",
      "kriti\n"
     ]
    }
   ],
   "source": [
    "#ex-1 without multithreading\n",
    "class Test1(Thread):\n",
    "    def run(self):\n",
    "        for i in range(5):\n",
    "            print('priti')\n",
    "    \n",
    "class Test2(Thread):\n",
    "    def run(self):\n",
    "        for i in range(5):\n",
    "            print('kriti')\n",
    "            \n",
    "ob1=Test1() \n",
    "ob1.run()\n",
    " \n",
    "\n",
    "ob2=Test2() \n",
    "ob2.run()    "
   ]
  },
  {
   "cell_type": "code",
   "execution_count": 9,
   "id": "182f31b7",
   "metadata": {},
   "outputs": [
    {
     "name": "stdout",
     "output_type": "stream",
     "text": [
      "priti\n",
      "kriti\n",
      "kriti\n",
      "kriti\n",
      "kriti\n",
      "kriti\n",
      "priti\n",
      "priti\n",
      "priti\n",
      "priti\n"
     ]
    }
   ],
   "source": [
    "#ex2 with multithreading\n",
    "class Test1(Thread):\n",
    "    def run(self):  #overide run()\n",
    "        for i in range(5):\n",
    "            print('priti')\n",
    "    \n",
    "class Test2(Thread):\n",
    "    def run(self): #overide run()\n",
    "        for i in range(5):\n",
    "            print('kriti')\n",
    "            \n",
    "ob1=Test1() \n",
    "ob1.start() #internaly this start() method will execute ob1.run()\n",
    " \n",
    "\n",
    "ob2=Test2() \n",
    "ob2.start()    #internaly this start() method will execute ob2.run() "
   ]
  },
  {
   "cell_type": "code",
   "execution_count": 12,
   "id": "4c93e74d",
   "metadata": {},
   "outputs": [
    {
     "name": "stdout",
     "output_type": "stream",
     "text": [
      "Arun\n",
      "Arun\n",
      "Arun\n",
      "Arun\n",
      "Arun\n"
     ]
    }
   ],
   "source": [
    "#with constructor\n",
    "#ex-2\n",
    "#passing argument\n",
    "\n",
    "class Test1(Thread):\n",
    "    def __init__(self,name):#override Thread class constructor\n",
    "        Thread.__init__(self) #calling parent class constructor\n",
    "        self.name=name\n",
    "    def run(self):\n",
    "        for i in range(5):\n",
    "            print(self.name)\n",
    "    \n",
    "ob1=Test1('Arun')\n",
    "ob1.start()\n",
    "\n",
    "\n"
   ]
  },
  {
   "cell_type": "markdown",
   "id": "acd3f2d0",
   "metadata": {},
   "source": [
    "NOTE<- If a subclass overrides the constructor , it must make sure to invoke the base class contructor (Thread.__init__()) before doing anything to the thread."
   ]
  },
  {
   "cell_type": "code",
   "execution_count": null,
   "id": "88d9a7a4",
   "metadata": {},
   "outputs": [],
   "source": []
  }
 ],
 "metadata": {
  "kernelspec": {
   "display_name": "Python 3 (ipykernel)",
   "language": "python",
   "name": "python3"
  },
  "language_info": {
   "codemirror_mode": {
    "name": "ipython",
    "version": 3
   },
   "file_extension": ".py",
   "mimetype": "text/x-python",
   "name": "python",
   "nbconvert_exporter": "python",
   "pygments_lexer": "ipython3",
   "version": "3.9.12"
  }
 },
 "nbformat": 4,
 "nbformat_minor": 5
}
