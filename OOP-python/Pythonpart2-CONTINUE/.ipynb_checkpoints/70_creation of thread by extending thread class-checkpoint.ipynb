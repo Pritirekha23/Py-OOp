{
 "cells": [
  {
   "cell_type": "markdown",
   "id": "a8a342e4",
   "metadata": {},
   "source": [
    "dt-14/04/23"
   ]
  },
  {
   "cell_type": "markdown",
   "id": "577f8ee8",
   "metadata": {},
   "source": [
    "# creation of thread by extending thread class"
   ]
  },
  {
   "cell_type": "markdown",
   "id": "45bc73ad",
   "metadata": {},
   "source": [
    "Thread is inbuild class that is provided by python, we have to create a class by extending from Thread class.\n",
    "Inside thread claass python provided run() method and we have to override run("
   ]
  },
  {
   "cell_type": "code",
   "execution_count": 1,
   "id": "3197fc19",
   "metadata": {},
   "outputs": [],
   "source": [
    "from threading import*"
   ]
  },
  {
   "cell_type": "code",
   "execution_count": 2,
   "id": "505d92dd",
   "metadata": {},
   "outputs": [
    {
     "name": "stdout",
     "output_type": "stream",
     "text": [
      "priti\n",
      "priti\n",
      "priti\n",
      "priti\n",
      "priti\n",
      "kriti\n",
      "kriti\n",
      "kriti\n",
      "kriti\n",
      "kriti\n"
     ]
    }
   ],
   "source": [
    "#ex1 without multithreading\n",
    "class Test1(Thread):\n",
    "    def run(self):\n",
    "        for i in range(5):\n",
    "            print('priti')\n",
    "    \n",
    "class Test2(Thread):\n",
    "    def run(self):\n",
    "        for i in range(5):\n",
    "            print('kriti')\n",
    "            \n",
    "ob1=Test1() \n",
    "ob1.run()\n",
    " \n",
    "\n",
    "ob2=Test2() \n",
    "ob2.run()    "
   ]
  },
  {
   "cell_type": "code",
   "execution_count": 9,
   "id": "ccccb28a",
   "metadata": {},
   "outputs": [
    {
     "name": "stdout",
     "output_type": "stream",
     "text": [
      "priti\n",
      "kriti\n",
      "kriti\n",
      "kriti\n",
      "kriti\n",
      "kriti\n",
      "priti\n",
      "priti\n",
      "priti\n",
      "priti\n"
     ]
    }
   ],
   "source": [
    "#ex1 with multithreading\n",
    "class Test1(Thread):\n",
    "    def run(self):\n",
    "        for i in range(5):\n",
    "            print('priti')\n",
    "    \n",
    "class Test2(Thread):\n",
    "    def run(self):\n",
    "        for i in range(5):\n",
    "            print('kriti')\n",
    "            \n",
    "ob1=Test1() \n",
    "ob1.start()\n",
    " \n",
    "\n",
    "ob2=Test2() \n",
    "ob2.start()    "
   ]
  },
  {
   "cell_type": "code",
   "execution_count": null,
   "id": "6a49d3e1",
   "metadata": {},
   "outputs": [],
   "source": []
  },
  {
   "cell_type": "code",
   "execution_count": null,
   "id": "0143af7d",
   "metadata": {},
   "outputs": [],
   "source": []
  },
  {
   "cell_type": "code",
   "execution_count": null,
   "id": "c4bd23dc",
   "metadata": {},
   "outputs": [],
   "source": []
  }
 ],
 "metadata": {
  "kernelspec": {
   "display_name": "Python 3 (ipykernel)",
   "language": "python",
   "name": "python3"
  },
  "language_info": {
   "codemirror_mode": {
    "name": "ipython",
    "version": 3
   },
   "file_extension": ".py",
   "mimetype": "text/x-python",
   "name": "python",
   "nbconvert_exporter": "python",
   "pygments_lexer": "ipython3",
   "version": "3.9.12"
  }
 },
 "nbformat": 4,
 "nbformat_minor": 5
}
