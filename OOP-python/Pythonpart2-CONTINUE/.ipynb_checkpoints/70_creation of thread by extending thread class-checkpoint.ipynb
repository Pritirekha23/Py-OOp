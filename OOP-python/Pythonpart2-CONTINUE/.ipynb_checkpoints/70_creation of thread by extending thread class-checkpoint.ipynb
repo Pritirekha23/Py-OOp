{
 "cells": [
  {
   "cell_type": "markdown",
   "id": "600d0295",
   "metadata": {},
   "source": [
    "dt-14/04/23"
   ]
  },
  {
   "cell_type": "markdown",
   "id": "3ac477d6",
   "metadata": {},
   "source": [
    "# creation of thread by extending thread class"
   ]
  },
  {
   "cell_type": "markdown",
   "id": "7767d90c",
   "metadata": {},
   "source": [
    "Thread is inbuild class that is provided by python, we have to create a class by extending from Thread class.\n",
    "Inside thread claass python provided run() method and we have to override run("
   ]
  },
  {
   "cell_type": "code",
   "execution_count": 1,
   "id": "d0d1463d",
   "metadata": {},
   "outputs": [],
   "source": [
    "from threading import*"
   ]
  },
  {
   "cell_type": "code",
   "execution_count": null,
   "id": "77ca76c7",
   "metadata": {},
   "outputs": [],
   "source": [
    "class Test(Thread):\n",
    "    \n",
    "    "
   ]
  }
 ],
 "metadata": {
  "kernelspec": {
   "display_name": "Python 3 (ipykernel)",
   "language": "python",
   "name": "python3"
  },
  "language_info": {
   "codemirror_mode": {
    "name": "ipython",
    "version": 3
   },
   "file_extension": ".py",
   "mimetype": "text/x-python",
   "name": "python",
   "nbconvert_exporter": "python",
   "pygments_lexer": "ipython3",
   "version": "3.9.12"
  }
 },
 "nbformat": 4,
 "nbformat_minor": 5
}
