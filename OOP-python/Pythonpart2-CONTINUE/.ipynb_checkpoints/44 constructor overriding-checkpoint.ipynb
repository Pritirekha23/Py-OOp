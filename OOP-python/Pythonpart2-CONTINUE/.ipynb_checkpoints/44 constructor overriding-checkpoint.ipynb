{
 "cells": [
  {
   "cell_type": "markdown",
   "id": "9d89fa23",
   "metadata": {},
   "source": [
    "dt-16/02/23"
   ]
  },
  {
   "cell_type": "markdown",
   "id": "998919bf",
   "metadata": {},
   "source": [
    "# CONSTRUCTOR OVERRIDING"
   ]
  },
  {
   "cell_type": "markdown",
   "id": "064e856c",
   "metadata": {},
   "source": [
    "parent class constructor by default avialable to child class, if child class want then child class can override it.\n"
   ]
  },
  {
   "cell_type": "code",
   "execution_count": 1,
   "id": "89cf5648",
   "metadata": {},
   "outputs": [
    {
     "name": "stdout",
     "output_type": "stream",
     "text": [
      "Hello\n"
     ]
    }
   ],
   "source": [
    "#without overriding\n",
    "class P:\n",
    "    def __init__(self):\n",
    "        print(\"Hello\")\n",
    "        \n",
    "class C(P):\n",
    "    pass\n",
    "#constructor of P class is available to C class by default .\n",
    "c=C()\n",
    "\n",
    "           "
   ]
  },
  {
   "cell_type": "code",
   "execution_count": 4,
   "id": "c9bff28e",
   "metadata": {},
   "outputs": [
    {
     "name": "stdout",
     "output_type": "stream",
     "text": [
      "Hi\n"
     ]
    }
   ],
   "source": [
    "#with overriding\n",
    "class P:\n",
    "    def __init__(self):\n",
    "        print(\"Hello\")\n",
    "        \n",
    "class C(P):\n",
    "    def __init__(self):\n",
    "        print(\"Hi\")\n",
    "    \n",
    "c=C()          "
   ]
  },
  {
   "cell_type": "code",
   "execution_count": null,
   "id": "a0bcae44",
   "metadata": {},
   "outputs": [],
   "source": []
  },
  {
   "cell_type": "code",
   "execution_count": 9,
   "id": "3fa94757",
   "metadata": {},
   "outputs": [],
   "source": [
    "#problem without constructor overriding\n",
    "\n",
    "class Human:\n",
    "    def __init__(self,name,age):\n",
    "        self.name=name\n",
    "        self.age=age\n",
    "        \n",
    "    def printdetails(self):\n",
    "        print(f'Name is {self.name}')\n",
    "        print(f'Age is {self.age}')\n",
    "\n",
    "class Student(Human):\n",
    "    def __init__(self,name,age,roll,course,college):\n",
    "        self.name=name #dc\n",
    "        self.age=age  #dc\n",
    "        self.roll=roll\n",
    "        self.course=course\n",
    "        self.college=college\n",
    "        \n",
    "    def printdetials(self):\n",
    "        print(f'Name is {self.name}') #dc\n",
    "        print(f'Age is {self.age}')#dc\n",
    "        print(f'Roll is {self.roll}')\n",
    "        print(f'course is {self.course}')\n",
    "        print(f'college is{self.college}')\n",
    "    \n",
    "    \n",
    "    \n",
    "    \n",
    "class Employe(Human):\n",
    "    def __init__(self,name,age,eid,company,sal):\n",
    "        self.name=name #dc\n",
    "        self.age=age #dc\n",
    "        self.eid=eid\n",
    "        self.company=company\n",
    "        self.sal=sal\n",
    "    def printdetials(self):\n",
    "        print(f'Name is {self.name}')  #dc\n",
    "        print(f'Age is {self.age}')    #dc\n",
    "        print(f'eid is {self.eid}')\n",
    "        print(f'company is {self.company}')\n",
    "        print(f'sal is{self.sal}')\n",
    "        \n",
    "    \n"
   ]
  },
  {
   "cell_type": "code",
   "execution_count": null,
   "id": "db499c68",
   "metadata": {},
   "outputs": [],
   "source": [
    "# solution"
   ]
  },
  {
   "cell_type": "code",
   "execution_count": null,
   "id": "4e5862dd",
   "metadata": {},
   "outputs": [],
   "source": []
  }
 ],
 "metadata": {
  "kernelspec": {
   "display_name": "Python 3 (ipykernel)",
   "language": "python",
   "name": "python3"
  },
  "language_info": {
   "codemirror_mode": {
    "name": "ipython",
    "version": 3
   },
   "file_extension": ".py",
   "mimetype": "text/x-python",
   "name": "python",
   "nbconvert_exporter": "python",
   "pygments_lexer": "ipython3",
   "version": "3.9.12"
  }
 },
 "nbformat": 4,
 "nbformat_minor": 5
}
