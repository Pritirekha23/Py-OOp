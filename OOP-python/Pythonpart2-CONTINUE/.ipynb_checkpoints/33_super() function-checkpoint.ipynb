{
 "cells": [
  {
   "cell_type": "markdown",
   "id": "19cbde1d",
   "metadata": {},
   "source": [
    "Dt-06/02/2023\n"
   ]
  },
  {
   "cell_type": "markdown",
   "id": "ce4ab2bd",
   "metadata": {},
   "source": [
    "# super() functipn"
   ]
  },
  {
   "cell_type": "code",
   "execution_count": null,
   "id": "df4c4e82",
   "metadata": {},
   "outputs": [],
   "source": [
    "# problem  without super function"
   ]
  },
  {
   "cell_type": "code",
   "execution_count": null,
   "id": "74740d7c",
   "metadata": {},
   "outputs": [],
   "source": [
    "class EMp:\n",
    "    def __init__(self,name,age,eid,sal):\n",
    "        self.name=name\n",
    "        self.age=age\n",
    "        self.eid=eid\n",
    "        self.sal=sal\n",
    "    def printdetails(self):\n",
    "        print(f\"Name is {self.name}\")\n",
    "        print(f\"Age is {self.age}\")\n",
    "        print(f\"eid is {self.eid}\")\n",
    "        print(f\"sal is {self.sal}')\n",
    "        \n",
    "              \n",
    "def student:\n",
    "        def __init__(self,name,age,sid,course,college):\n",
    "              self.name=name\n",
    "              self.age=age\n",
    "              self.sid=sid\n",
    "              self.course=course\n",
    "              self.college=college\n",
    "              \n",
    "                    "
   ]
  },
  {
   "cell_type": "code",
   "execution_count": null,
   "id": "f2f64788",
   "metadata": {},
   "outputs": [],
   "source": []
  },
  {
   "cell_type": "code",
   "execution_count": null,
   "id": "4887c8e7",
   "metadata": {},
   "outputs": [],
   "source": [
    "# solution by using super function"
   ]
  },
  {
   "cell_type": "code",
   "execution_count": null,
   "id": "e4b7d8fa",
   "metadata": {},
   "outputs": [],
   "source": []
  }
 ],
 "metadata": {
  "kernelspec": {
   "display_name": "Python 3 (ipykernel)",
   "language": "python",
   "name": "python3"
  },
  "language_info": {
   "codemirror_mode": {
    "name": "ipython",
    "version": 3
   },
   "file_extension": ".py",
   "mimetype": "text/x-python",
   "name": "python",
   "nbconvert_exporter": "python",
   "pygments_lexer": "ipython3",
   "version": "3.9.12"
  }
 },
 "nbformat": 4,
 "nbformat_minor": 5
}
