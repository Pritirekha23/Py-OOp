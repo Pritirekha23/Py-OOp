{
 "cells": [
  {
   "cell_type": "markdown",
   "id": "fda040ab",
   "metadata": {},
   "source": [
    "dt-06/03/23"
   ]
  },
  {
   "cell_type": "markdown",
   "id": "acf9230f",
   "metadata": {},
   "source": [
    "# DEFAULT EXCEPTION HANDLING"
   ]
  },
  {
   "cell_type": "markdown",
   "id": "0359f328",
   "metadata": {},
   "source": [
    "In python all exceptions are object.\n",
    "In python if any exception will raise then PVM will create the corresponding exception object.\n",
    "Then it will check corresponding handling code, if handling code code available then no problem or else it will print the exception information and program will terminate abnormally."
   ]
  },
  {
   "cell_type": "code",
   "execution_count": 2,
   "id": "cbb4a522",
   "metadata": {},
   "outputs": [
    {
     "ename": "TypeError",
     "evalue": "unsupported operand type(s) for /: 'int' and 'str'",
     "output_type": "error",
     "traceback": [
      "\u001b[1;31m---------------------------------------------------------------------------\u001b[0m",
      "\u001b[1;31mTypeError\u001b[0m                                 Traceback (most recent call last)",
      "Input \u001b[1;32mIn [2]\u001b[0m, in \u001b[0;36m<cell line: 4>\u001b[1;34m()\u001b[0m\n\u001b[0;32m      2\u001b[0m a\u001b[38;5;241m=\u001b[39m\u001b[38;5;241m10\u001b[39m\n\u001b[0;32m      3\u001b[0m b\u001b[38;5;241m=\u001b[39m\u001b[38;5;124m'\u001b[39m\u001b[38;5;124msurendra\u001b[39m\u001b[38;5;124m'\u001b[39m\n\u001b[1;32m----> 4\u001b[0m \u001b[38;5;28mprint\u001b[39m(\u001b[43ma\u001b[49m\u001b[38;5;241;43m/\u001b[39;49m\u001b[43mb\u001b[49m)\n\u001b[0;32m      5\u001b[0m \u001b[38;5;28mprint\u001b[39m(\u001b[38;5;124m'\u001b[39m\u001b[38;5;124mHI\u001b[39m\u001b[38;5;124m'\u001b[39m)\n",
      "\u001b[1;31mTypeError\u001b[0m: unsupported operand type(s) for /: 'int' and 'str'"
     ]
    }
   ],
   "source": [
    "#ex-1\n",
    "a=10\n",
    "b='surendra'\n",
    "print(a/b)\n",
    "print('HI')"
   ]
  },
  {
   "cell_type": "code",
   "execution_count": 4,
   "id": "4b09a52a",
   "metadata": {},
   "outputs": [
    {
     "ename": "FileNotFoundError",
     "evalue": "[Errno 2] No such file or directory: 'pythonnotes.txt'",
     "output_type": "error",
     "traceback": [
      "\u001b[1;31m---------------------------------------------------------------------------\u001b[0m",
      "\u001b[1;31mFileNotFoundError\u001b[0m                         Traceback (most recent call last)",
      "Input \u001b[1;32mIn [4]\u001b[0m, in \u001b[0;36m<cell line: 1>\u001b[1;34m()\u001b[0m\n\u001b[1;32m----> 1\u001b[0m f\u001b[38;5;241m=\u001b[39m\u001b[38;5;28;43mopen\u001b[39;49m\u001b[43m(\u001b[49m\u001b[38;5;124;43m'\u001b[39;49m\u001b[38;5;124;43mpythonnotes.txt\u001b[39;49m\u001b[38;5;124;43m'\u001b[39;49m\u001b[43m)\u001b[49m\n",
      "\u001b[1;31mFileNotFoundError\u001b[0m: [Errno 2] No such file or directory: 'pythonnotes.txt'"
     ]
    }
   ],
   "source": [
    "#ex-2\n",
    "f=open('pythonnotes.txt')"
   ]
  },
  {
   "cell_type": "code",
   "execution_count": 8,
   "id": "4389e2b2",
   "metadata": {},
   "outputs": [
    {
     "name": "stdout",
     "output_type": "stream",
     "text": [
      "File is not found\n",
      "Thank you\n"
     ]
    }
   ],
   "source": [
    "#ex-3(smooth termination)\n",
    "try:\n",
    "    f=open('pythonnotes.txt')\n",
    "    \n",
    "except FileNotFoundError:\n",
    "    print('File is not found')\n",
    "    \n",
    "print('Thank you')"
   ]
  },
  {
   "cell_type": "code",
   "execution_count": 11,
   "id": "7ccd28a2",
   "metadata": {},
   "outputs": [
    {
     "ename": "FileNotFoundError",
     "evalue": "[Errno 2] No such file or directory: 'pythonnotes.txt'",
     "output_type": "error",
     "traceback": [
      "\u001b[1;31m---------------------------------------------------------------------------\u001b[0m",
      "\u001b[1;31mFileNotFoundError\u001b[0m                         Traceback (most recent call last)",
      "Input \u001b[1;32mIn [11]\u001b[0m, in \u001b[0;36m<cell line: 2>\u001b[1;34m()\u001b[0m\n\u001b[0;32m      1\u001b[0m \u001b[38;5;66;03m#ex-4\u001b[39;00m\n\u001b[0;32m      2\u001b[0m \u001b[38;5;28;01mtry\u001b[39;00m:\n\u001b[1;32m----> 3\u001b[0m     f\u001b[38;5;241m=\u001b[39m\u001b[38;5;28;43mopen\u001b[39;49m\u001b[43m(\u001b[49m\u001b[38;5;124;43m'\u001b[39;49m\u001b[38;5;124;43mpythonnotes.txt\u001b[39;49m\u001b[38;5;124;43m'\u001b[39;49m\u001b[43m)\u001b[49m\n\u001b[0;32m      5\u001b[0m \u001b[38;5;28;01mexcept\u001b[39;00m \u001b[38;5;167;01mZeroDivisionError\u001b[39;00m:\n\u001b[0;32m      6\u001b[0m     \u001b[38;5;66;03m#handling code is here but corresponding handling code is not present.\u001b[39;00m\n\u001b[0;32m      7\u001b[0m     \u001b[38;5;28;01mpass\u001b[39;00m\n",
      "\u001b[1;31mFileNotFoundError\u001b[0m: [Errno 2] No such file or directory: 'pythonnotes.txt'"
     ]
    }
   ],
   "source": [
    "#ex-4(abnormal execution)\n",
    "try:\n",
    "    f=open('pythonnotes.txt')\n",
    "    \n",
    "except ZeroDivisionError:\n",
    "    #handling code is here but corresponding handling code is not present.\n",
    "    pass\n",
    "    \n",
    "print('Thank you')"
   ]
  },
  {
   "cell_type": "markdown",
   "id": "9b83ca98",
   "metadata": {},
   "source": [
    "NOTE:\n",
    "All exceptions are child of Base exception."
   ]
  },
  {
   "cell_type": "code",
   "execution_count": 3,
   "id": "cb9b6427",
   "metadata": {},
   "outputs": [
    {
     "name": "stdout",
     "output_type": "stream",
     "text": [
      "unsupported operand type(s) for /: 'int' and 'str'\n",
      "Hello\n"
     ]
    }
   ],
   "source": [
    "a=2\n",
    "b='3'\n",
    "try:\n",
    "    print(a/b)\n",
    "except Exception as e:\n",
    "    print(e)\n",
    "print('Hello')"
   ]
  }
 ],
 "metadata": {
  "kernelspec": {
   "display_name": "Python 3 (ipykernel)",
   "language": "python",
   "name": "python3"
  },
  "language_info": {
   "codemirror_mode": {
    "name": "ipython",
    "version": 3
   },
   "file_extension": ".py",
   "mimetype": "text/x-python",
   "name": "python",
   "nbconvert_exporter": "python",
   "pygments_lexer": "ipython3",
   "version": "3.9.12"
  }
 },
 "nbformat": 4,
 "nbformat_minor": 5
}
