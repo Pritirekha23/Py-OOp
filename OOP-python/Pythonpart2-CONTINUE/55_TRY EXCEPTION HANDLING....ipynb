{
 "cells": [
  {
   "cell_type": "markdown",
   "id": "e6a96407",
   "metadata": {},
   "source": [
    "# TRY EXCEPTION HANDLING"
   ]
  },
  {
   "cell_type": "markdown",
   "id": "ff1e6f1c",
   "metadata": {},
   "source": [
    "dt-08/03/22\n",
    "Try block : Inside try block we will write critical/dangerous/risky code.\n",
    "Except block : Inside except block we will write corresponding handling code.\n",
    "\n",
    "syntax:\n",
    "try:\n",
    "  critical code\n",
    "except Exception_classname:\n",
    "  corresponding handling code\n",
    "  \n",
    "What is handling code?\n",
    "It means some other code.\n"
   ]
  },
  {
   "cell_type": "code",
   "execution_count": 4,
   "id": "2b9faa2c",
   "metadata": {},
   "outputs": [
    {
     "name": "stdout",
     "output_type": "stream",
     "text": [
      "Enter a value10\n",
      "Enter b value0\n"
     ]
    },
    {
     "ename": "ZeroDivisionError",
     "evalue": "division by zero",
     "output_type": "error",
     "traceback": [
      "\u001b[1;31m---------------------------------------------------------------\u001b[0m",
      "\u001b[1;31mZeroDivisionError\u001b[0m             Traceback (most recent call last)",
      "Input \u001b[1;32mIn [4]\u001b[0m, in \u001b[0;36m<cell line: 5>\u001b[1;34m()\u001b[0m\n\u001b[0;32m      3\u001b[0m a\u001b[38;5;241m=\u001b[39m\u001b[38;5;28mint\u001b[39m(\u001b[38;5;28minput\u001b[39m(\u001b[38;5;124m\"\u001b[39m\u001b[38;5;124mEnter a value\u001b[39m\u001b[38;5;124m\"\u001b[39m))\n\u001b[0;32m      4\u001b[0m b\u001b[38;5;241m=\u001b[39m\u001b[38;5;28mint\u001b[39m(\u001b[38;5;28minput\u001b[39m(\u001b[38;5;124m\"\u001b[39m\u001b[38;5;124mEnter b value\u001b[39m\u001b[38;5;124m\"\u001b[39m))\n\u001b[1;32m----> 5\u001b[0m \u001b[38;5;28mprint\u001b[39m(\u001b[43ma\u001b[49m\u001b[38;5;241;43m/\u001b[39;49m\u001b[43mb\u001b[49m)\n",
      "\u001b[1;31mZeroDivisionError\u001b[0m: division by zero"
     ]
    }
   ],
   "source": [
    "#ex-1\n",
    "\n",
    "a=int(input(\"Enter a value\"))\n",
    "b=int(input(\"Enter b value\"))\n",
    "print(a/b)"
   ]
  },
  {
   "cell_type": "code",
   "execution_count": 5,
   "id": "8c18c8f4",
   "metadata": {},
   "outputs": [
    {
     "name": "stdout",
     "output_type": "stream",
     "text": [
      "Enter x value::10\n",
      "Enter y value::2\n",
      "5.0\n"
     ]
    }
   ],
   "source": [
    "#ex-2(If the user will provide b value 0 then instead if division add it)\n",
    "\n",
    "x=int(input(\"Enter x value::\"))\n",
    "y=int(input(\"Enter y value::\"))\n",
    "try:\n",
    "    print(x/y)\n",
    "except ZeroDivisionError:\n",
    "    print(x+y)"
   ]
  },
  {
   "cell_type": "code",
   "execution_count": 6,
   "id": "76a0f4f7",
   "metadata": {},
   "outputs": [
    {
     "name": "stdout",
     "output_type": "stream",
     "text": [
      "Enter i value::10\n",
      "Enter j value::0\n",
      "10\n"
     ]
    }
   ],
   "source": [
    "#ex-3\n",
    "i=int(input(\"Enter i value::\"))\n",
    "j=int(input(\"Enter j value::\"))\n",
    "try:\n",
    "    print(i/j)\n",
    "except ZeroDivisionError:\n",
    "    print(i+j)  #handling code"
   ]
  },
  {
   "cell_type": "markdown",
   "id": "d88306df",
   "metadata": {},
   "source": [
    "## NameError"
   ]
  },
  {
   "cell_type": "code",
   "execution_count": 7,
   "id": "5afcdfdf",
   "metadata": {},
   "outputs": [
    {
     "name": "stdout",
     "output_type": "stream",
     "text": [
      "Enter i value::10\n",
      "Enter j value::5\n"
     ]
    },
    {
     "ename": "NameError",
     "evalue": "name 'k' is not defined",
     "output_type": "error",
     "traceback": [
      "\u001b[1;31m---------------------------------------------------------------\u001b[0m",
      "\u001b[1;31mNameError\u001b[0m                     Traceback (most recent call last)",
      "Input \u001b[1;32mIn [7]\u001b[0m, in \u001b[0;36m<cell line: 3>\u001b[1;34m()\u001b[0m\n\u001b[0;32m      1\u001b[0m i\u001b[38;5;241m=\u001b[39m\u001b[38;5;28mint\u001b[39m(\u001b[38;5;28minput\u001b[39m(\u001b[38;5;124m\"\u001b[39m\u001b[38;5;124mEnter i value::\u001b[39m\u001b[38;5;124m\"\u001b[39m))\n\u001b[0;32m      2\u001b[0m j\u001b[38;5;241m=\u001b[39m\u001b[38;5;28mint\u001b[39m(\u001b[38;5;28minput\u001b[39m(\u001b[38;5;124m\"\u001b[39m\u001b[38;5;124mEnter j value::\u001b[39m\u001b[38;5;124m\"\u001b[39m))\n\u001b[1;32m----> 3\u001b[0m \u001b[38;5;28mprint\u001b[39m(i\u001b[38;5;241m+\u001b[39m\u001b[43mk\u001b[49m)\n",
      "\u001b[1;31mNameError\u001b[0m: name 'k' is not defined"
     ]
    }
   ],
   "source": [
    "#ex-1 (problem)\n",
    "i=int(input(\"Enter i value::\"))\n",
    "j=int(input(\"Enter j value::\"))\n",
    "print(i+k)"
   ]
  },
  {
   "cell_type": "code",
   "execution_count": 8,
   "id": "aaf5a32a",
   "metadata": {},
   "outputs": [
    {
     "name": "stdout",
     "output_type": "stream",
     "text": [
      "Enter i value::10\n",
      "Enter j value::2\n",
      "some variable not defined\n"
     ]
    }
   ],
   "source": [
    "#(solution of NameError)\n",
    "i=int(input(\"Enter i value::\"))\n",
    "j=int(input(\"Enter j value::\"))\n",
    "try:\n",
    "    print(i+k)\n",
    "except NameError:\n",
    "    print('some variable not defined')"
   ]
  },
  {
   "cell_type": "code",
   "execution_count": 16,
   "id": "6116a80e",
   "metadata": {},
   "outputs": [
    {
     "name": "stdout",
     "output_type": "stream",
     "text": [
      "Enter i value::10\n",
      "Enter j value::5\n",
      "Exception msg is:: name 'k' is not defined\n",
      "<class 'NameError'>\n"
     ]
    }
   ],
   "source": [
    "#(solution of NameError) with printing exception information\n",
    "i=int(input(\"Enter i value::\"))\n",
    "j=int(input(\"Enter j value::\"))\n",
    "try:\n",
    "    print(i+k)\n",
    "except NameError as ne:\n",
    "    print('Exception msg is::',ne) #printing exception information\n",
    "    print(type(ne)) #type of ne\n"
   ]
  },
  {
   "cell_type": "code",
   "execution_count": 17,
   "id": "709c95e5",
   "metadata": {},
   "outputs": [
    {
     "name": "stdout",
     "output_type": "stream",
     "text": [
      "<class '__main__.Hi'>\n"
     ]
    }
   ],
   "source": [
    "class Hi:\n",
    "    pass\n",
    "t=Hi()\n",
    "print(type(t)) #class name will come "
   ]
  },
  {
   "cell_type": "markdown",
   "id": "89f524c7",
   "metadata": {},
   "source": [
    "# ValueError"
   ]
  },
  {
   "cell_type": "code",
   "execution_count": 20,
   "id": "57ced410",
   "metadata": {},
   "outputs": [
    {
     "name": "stdout",
     "output_type": "stream",
     "text": [
      "Enter x value::priti\n"
     ]
    },
    {
     "ename": "ValueError",
     "evalue": "invalid literal for int() with base 10: 'priti'",
     "output_type": "error",
     "traceback": [
      "\u001b[1;31m---------------------------------------------------------------\u001b[0m",
      "\u001b[1;31mValueError\u001b[0m                    Traceback (most recent call last)",
      "Input \u001b[1;32mIn [20]\u001b[0m, in \u001b[0;36m<cell line: 2>\u001b[1;34m()\u001b[0m\n\u001b[0;32m      1\u001b[0m \u001b[38;5;66;03m#ex-1\u001b[39;00m\n\u001b[1;32m----> 2\u001b[0m x\u001b[38;5;241m=\u001b[39m\u001b[38;5;28;43mint\u001b[39;49m\u001b[43m(\u001b[49m\u001b[38;5;28;43minput\u001b[39;49m\u001b[43m(\u001b[49m\u001b[38;5;124;43m\"\u001b[39;49m\u001b[38;5;124;43mEnter x value::\u001b[39;49m\u001b[38;5;124;43m\"\u001b[39;49m\u001b[43m)\u001b[49m\u001b[43m)\u001b[49m\n\u001b[0;32m      3\u001b[0m \u001b[38;5;28mprint\u001b[39m(x)\n",
      "\u001b[1;31mValueError\u001b[0m: invalid literal for int() with base 10: 'priti'"
     ]
    }
   ],
   "source": [
    "#ex-1\n",
    "x=int(input(\"Enter x value::\"))\n",
    "print(x)"
   ]
  },
  {
   "cell_type": "code",
   "execution_count": 22,
   "id": "62a3059a",
   "metadata": {},
   "outputs": [
    {
     "name": "stdout",
     "output_type": "stream",
     "text": [
      "Enter x value::Jimin\n",
      "invalid literal for int() with base 10: 'Jimin'\n"
     ]
    }
   ],
   "source": [
    "#solution of ex-1\n",
    "try:\n",
    "    x=int(input(\"Enter x value::\"))\n",
    "except ValueError as v:\n",
    "    print(v)"
   ]
  },
  {
   "cell_type": "markdown",
   "id": "b697c8df",
   "metadata": {},
   "source": [
    "## TypeError"
   ]
  },
  {
   "cell_type": "code",
   "execution_count": 21,
   "id": "d49f2dcb",
   "metadata": {},
   "outputs": [
    {
     "ename": "TypeError",
     "evalue": "unsupported operand type(s) for +: 'int' and 'str'",
     "output_type": "error",
     "traceback": [
      "\u001b[1;31m---------------------------------------------------------------\u001b[0m",
      "\u001b[1;31mTypeError\u001b[0m                     Traceback (most recent call last)",
      "Input \u001b[1;32mIn [21]\u001b[0m, in \u001b[0;36m<cell line: 1>\u001b[1;34m()\u001b[0m\n\u001b[1;32m----> 1\u001b[0m x\u001b[38;5;241m=\u001b[39m\u001b[38;5;241;43m10\u001b[39;49m\u001b[38;5;241;43m+\u001b[39;49m\u001b[38;5;124;43m'\u001b[39;49m\u001b[38;5;124;43mJimin\u001b[39;49m\u001b[38;5;124;43m'\u001b[39;49m\n\u001b[0;32m      2\u001b[0m \u001b[38;5;28mprint\u001b[39m(x)\n",
      "\u001b[1;31mTypeError\u001b[0m: unsupported operand type(s) for +: 'int' and 'str'"
     ]
    }
   ],
   "source": [
    "x=10+'Jimin'\n",
    "print(x)"
   ]
  },
  {
   "cell_type": "code",
   "execution_count": 23,
   "id": "254c3c9f",
   "metadata": {},
   "outputs": [
    {
     "name": "stdout",
     "output_type": "stream",
     "text": [
      "Exception msg :: unsupported operand type(s) for +: 'int' and 'str'\n"
     ]
    }
   ],
   "source": [
    "#solution\n",
    "try:\n",
    "    x=10+'Jimin'\n",
    "except TypeError as te:\n",
    "    print('Exception msg ::',te)"
   ]
  },
  {
   "cell_type": "code",
   "execution_count": 24,
   "id": "bc37482d",
   "metadata": {},
   "outputs": [
    {
     "name": "stdout",
     "output_type": "stream",
     "text": [
      "Enter ur roll156\n",
      "Enter your namepriti\n",
      "Exception msg :: unsupported operand type(s) for +: 'int' and 'str'\n"
     ]
    }
   ],
   "source": [
    "try:\n",
    "    x=int(input('Enter ur roll'))+input('Enter your name')\n",
    "except TypeError as te:\n",
    "    print('Exception msg ::',te)"
   ]
  },
  {
   "cell_type": "markdown",
   "id": "1f447161",
   "metadata": {},
   "source": [
    "## IndexError"
   ]
  },
  {
   "cell_type": "code",
   "execution_count": 26,
   "id": "abf7dea4",
   "metadata": {},
   "outputs": [
    {
     "name": "stdout",
     "output_type": "stream",
     "text": [
      "45\n"
     ]
    },
    {
     "ename": "IndexError",
     "evalue": "list index out of range",
     "output_type": "error",
     "traceback": [
      "\u001b[1;31m---------------------------------------------------------------\u001b[0m",
      "\u001b[1;31mIndexError\u001b[0m                    Traceback (most recent call last)",
      "Input \u001b[1;32mIn [26]\u001b[0m, in \u001b[0;36m<cell line: 3>\u001b[1;34m()\u001b[0m\n\u001b[0;32m      1\u001b[0m l\u001b[38;5;241m=\u001b[39m[\u001b[38;5;241m39\u001b[39m,\u001b[38;5;241m12\u001b[39m,\u001b[38;5;241m45\u001b[39m,\u001b[38;5;241m665\u001b[39m]\n\u001b[0;32m      2\u001b[0m \u001b[38;5;28mprint\u001b[39m(l[\u001b[38;5;241m2\u001b[39m])\n\u001b[1;32m----> 3\u001b[0m \u001b[38;5;28mprint\u001b[39m(\u001b[43ml\u001b[49m\u001b[43m[\u001b[49m\u001b[38;5;241;43m67\u001b[39;49m\u001b[43m]\u001b[49m)\n",
      "\u001b[1;31mIndexError\u001b[0m: list index out of range"
     ]
    }
   ],
   "source": [
    "l=[39,12,45,665]\n",
    "print(l[2])\n",
    "print(l[67])"
   ]
  },
  {
   "cell_type": "code",
   "execution_count": 27,
   "id": "e5dccb06",
   "metadata": {},
   "outputs": [
    {
     "name": "stdout",
     "output_type": "stream",
     "text": [
      "list index out of range\n"
     ]
    }
   ],
   "source": [
    "#solution\n",
    "l=[39,12,45,665]\n",
    "try:\n",
    "    print(l[67])\n",
    "except IndexError as ie:\n",
    "    print(ie)"
   ]
  },
  {
   "cell_type": "code",
   "execution_count": 28,
   "id": "36a1fb55",
   "metadata": {},
   "outputs": [
    {
     "name": "stdout",
     "output_type": "stream",
     "text": [
      "Enter list index::2\n",
      "45\n"
     ]
    }
   ],
   "source": [
    "l=[39,12,45,665]\n",
    "try:\n",
    "    print(l[int(input('Enter list index::'))])\n",
    "except IndexError as ie:\n",
    "    print(ie)"
   ]
  },
  {
   "cell_type": "code",
   "execution_count": 31,
   "id": "3f7aa8bf",
   "metadata": {},
   "outputs": [
    {
     "name": "stdout",
     "output_type": "stream",
     "text": [
      "Enter list index::67\n",
      "list index out of range\n",
      "Hey user the total number of elements is :: 4\n"
     ]
    }
   ],
   "source": [
    "l=[39,12,45,665]\n",
    "try:\n",
    "    print(l[int(input('Enter list index::'))])\n",
    "except IndexError as ie:\n",
    "    print(ie)\n",
    "    print('Hey user the total number of elements is ::',len(l))"
   ]
  },
  {
   "cell_type": "markdown",
   "id": "583b1ac2",
   "metadata": {},
   "source": [
    "## KeyError"
   ]
  },
  {
   "cell_type": "code",
   "execution_count": 32,
   "id": "b0a2a015",
   "metadata": {},
   "outputs": [
    {
     "name": "stdout",
     "output_type": "stream",
     "text": [
      "Suga\n"
     ]
    },
    {
     "ename": "KeyError",
     "evalue": "5",
     "output_type": "error",
     "traceback": [
      "\u001b[1;31m---------------------------------------------------------------\u001b[0m",
      "\u001b[1;31mKeyError\u001b[0m                      Traceback (most recent call last)",
      "Input \u001b[1;32mIn [32]\u001b[0m, in \u001b[0;36m<cell line: 9>\u001b[1;34m()\u001b[0m\n\u001b[0;32m      2\u001b[0m d\u001b[38;5;241m=\u001b[39m{\n\u001b[0;32m      3\u001b[0m     \u001b[38;5;241m1\u001b[39m:\u001b[38;5;124m'\u001b[39m\u001b[38;5;124mJimin\u001b[39m\u001b[38;5;124m'\u001b[39m,\n\u001b[0;32m      4\u001b[0m     \u001b[38;5;241m2\u001b[39m:\u001b[38;5;124m'\u001b[39m\u001b[38;5;124mTae\u001b[39m\u001b[38;5;124m'\u001b[39m,\n\u001b[0;32m      5\u001b[0m     \u001b[38;5;241m3\u001b[39m:\u001b[38;5;124m'\u001b[39m\u001b[38;5;124mSuga\u001b[39m\u001b[38;5;124m'\u001b[39m,\n\u001b[0;32m      6\u001b[0m     \u001b[38;5;241m4\u001b[39m:\u001b[38;5;124m'\u001b[39m\u001b[38;5;124mJungk\u001b[39m\u001b[38;5;124m'\u001b[39m\n\u001b[0;32m      7\u001b[0m }\n\u001b[0;32m      8\u001b[0m \u001b[38;5;28mprint\u001b[39m(d[\u001b[38;5;241m3\u001b[39m])\n\u001b[1;32m----> 9\u001b[0m \u001b[38;5;28mprint\u001b[39m(\u001b[43md\u001b[49m\u001b[43m[\u001b[49m\u001b[38;5;241;43m5\u001b[39;49m\u001b[43m]\u001b[49m)\n",
      "\u001b[1;31mKeyError\u001b[0m: 5"
     ]
    }
   ],
   "source": [
    "#ex-1\n",
    "d={\n",
    "    1:'Jimin',\n",
    "    2:'Tae',\n",
    "    3:'Suga',\n",
    "    4:'Jungk'\n",
    "}\n",
    "print(d[3])\n",
    "print(d[5])"
   ]
  },
  {
   "cell_type": "code",
   "execution_count": 41,
   "id": "c5da4be9",
   "metadata": {},
   "outputs": [
    {
     "name": "stdout",
     "output_type": "stream",
     "text": [
      "exception msg:: 5\n"
     ]
    }
   ],
   "source": [
    "#ex-1 solution\n",
    "d={\n",
    "    1:'Jimin',\n",
    "    2:'Tae',\n",
    "    3:'Suga',\n",
    "    4:'Jungk'\n",
    "}\n",
    "try:\n",
    "    print(d[5])\n",
    "except KeyError as ke:\n",
    "    print('exception msg::',ke)"
   ]
  },
  {
   "cell_type": "markdown",
   "id": "cdaeed7f",
   "metadata": {},
   "source": [
    "## FileNotFoundError"
   ]
  },
  {
   "cell_type": "code",
   "execution_count": 45,
   "id": "2ed5b3b3",
   "metadata": {},
   "outputs": [
    {
     "ename": "FileNotFoundError",
     "evalue": "[Errno 2] No such file or directory: 'pythonnote.txt'",
     "output_type": "error",
     "traceback": [
      "\u001b[1;31m---------------------------------------------------------------\u001b[0m",
      "\u001b[1;31mFileNotFoundError\u001b[0m             Traceback (most recent call last)",
      "Input \u001b[1;32mIn [45]\u001b[0m, in \u001b[0;36m<cell line: 2>\u001b[1;34m()\u001b[0m\n\u001b[0;32m      1\u001b[0m \u001b[38;5;66;03m#ex-1\u001b[39;00m\n\u001b[1;32m----> 2\u001b[0m f\u001b[38;5;241m=\u001b[39m\u001b[38;5;28;43mopen\u001b[39;49m\u001b[43m(\u001b[49m\u001b[38;5;124;43m'\u001b[39;49m\u001b[38;5;124;43mpythonnote.txt\u001b[39;49m\u001b[38;5;124;43m'\u001b[39;49m\u001b[43m)\u001b[49m\n",
      "\u001b[1;31mFileNotFoundError\u001b[0m: [Errno 2] No such file or directory: 'pythonnote.txt'"
     ]
    }
   ],
   "source": [
    "#ex-1\n",
    "f=open('pythonnote.txt')"
   ]
  },
  {
   "cell_type": "code",
   "execution_count": 46,
   "id": "e7632065",
   "metadata": {},
   "outputs": [
    {
     "name": "stdout",
     "output_type": "stream",
     "text": [
      "Exception msg: [Errno 2] No such file or directory: 'pythonnote.txt'\n"
     ]
    }
   ],
   "source": [
    "#ex-1(solution)\n",
    "try:\n",
    "    f=open('pythonnote.txt') \n",
    "except FileNotFoundError as fee:\n",
    "    print('Exception msg:',fee)"
   ]
  },
  {
   "cell_type": "markdown",
   "id": "ce697565",
   "metadata": {},
   "source": [
    "## ModuleNotFoundError"
   ]
  },
  {
   "cell_type": "code",
   "execution_count": 48,
   "id": "288bdce7",
   "metadata": {},
   "outputs": [
    {
     "ename": "ModuleNotFoundError",
     "evalue": "No module named 'pyqt5'",
     "output_type": "error",
     "traceback": [
      "\u001b[1;31m---------------------------------------------------------------\u001b[0m",
      "\u001b[1;31mModuleNotFoundError\u001b[0m           Traceback (most recent call last)",
      "Input \u001b[1;32mIn [48]\u001b[0m, in \u001b[0;36m<cell line: 1>\u001b[1;34m()\u001b[0m\n\u001b[1;32m----> 1\u001b[0m \u001b[38;5;28;01mimport\u001b[39;00m \u001b[38;5;21;01mpyqt5\u001b[39;00m\n\u001b[0;32m      2\u001b[0m \u001b[38;5;28mprint\u001b[39m(\u001b[38;5;124m'\u001b[39m\u001b[38;5;124mhi\u001b[39m\u001b[38;5;124m'\u001b[39m)\n",
      "\u001b[1;31mModuleNotFoundError\u001b[0m: No module named 'pyqt5'"
     ]
    }
   ],
   "source": [
    "import pyqt5\n",
    "print('hi')"
   ]
  },
  {
   "cell_type": "code",
   "execution_count": 57,
   "id": "5caff200",
   "metadata": {},
   "outputs": [
    {
     "name": "stdout",
     "output_type": "stream",
     "text": [
      "exception msg:: No module named 'pyqt5'\n",
      "Hi\n"
     ]
    }
   ],
   "source": [
    "#ex-1(solution)\n",
    "try:\n",
    "    import pyqt5\n",
    "except ModuleNotFoundError as me:\n",
    "    print('exception msg::',me)\n",
    "print('Hi')"
   ]
  },
  {
   "cell_type": "markdown",
   "id": "a94de404",
   "metadata": {},
   "source": [
    "## OverflowError"
   ]
  },
  {
   "cell_type": "code",
   "execution_count": 59,
   "id": "6d156ee9",
   "metadata": {},
   "outputs": [
    {
     "ename": "OverflowError",
     "evalue": "factorial() argument should not exceed 2147483647",
     "output_type": "error",
     "traceback": [
      "\u001b[1;31m---------------------------------------------------------------\u001b[0m",
      "\u001b[1;31mOverflowError\u001b[0m                 Traceback (most recent call last)",
      "Input \u001b[1;32mIn [59]\u001b[0m, in \u001b[0;36m<cell line: 3>\u001b[1;34m()\u001b[0m\n\u001b[0;32m      1\u001b[0m \u001b[38;5;66;03m#ex-1\u001b[39;00m\n\u001b[0;32m      2\u001b[0m \u001b[38;5;28;01mimport\u001b[39;00m \u001b[38;5;21;01mmath\u001b[39;00m\n\u001b[1;32m----> 3\u001b[0m \u001b[38;5;28mprint\u001b[39m(\u001b[43mmath\u001b[49m\u001b[38;5;241;43m.\u001b[39;49m\u001b[43mfactorial\u001b[49m\u001b[43m(\u001b[49m\u001b[38;5;241;43m69856875682294382888958\u001b[39;49m\u001b[43m)\u001b[49m)\n",
      "\u001b[1;31mOverflowError\u001b[0m: factorial() argument should not exceed 2147483647"
     ]
    }
   ],
   "source": [
    "#ex-1\n",
    "import math\n",
    "print(math.factorial(69856875682294382888958))"
   ]
  },
  {
   "cell_type": "code",
   "execution_count": 62,
   "id": "6409a00c",
   "metadata": {},
   "outputs": [
    {
     "name": "stdout",
     "output_type": "stream",
     "text": [
      "Exception msg:: factorial() argument should not exceed 2147483647\n"
     ]
    }
   ],
   "source": [
    "#ex-1(solution)\n",
    "import math\n",
    "try:\n",
    "    print(math.factorial(69856875682294382888958))\n",
    "except OverflowError as oe:\n",
    "    print('Exception msg::',oe)\n",
    "    "
   ]
  },
  {
   "cell_type": "code",
   "execution_count": null,
   "id": "7db19490",
   "metadata": {},
   "outputs": [],
   "source": []
  }
 ],
 "metadata": {
  "kernelspec": {
   "display_name": "Python 3 (ipykernel)",
   "language": "python",
   "name": "python3"
  },
  "language_info": {
   "codemirror_mode": {
    "name": "ipython",
    "version": 3
   },
   "file_extension": ".py",
   "mimetype": "text/x-python",
   "name": "python",
   "nbconvert_exporter": "python",
   "pygments_lexer": "ipython3",
   "version": "3.9.12"
  }
 },
 "nbformat": 4,
 "nbformat_minor": 5
}
