{
 "cells": [
  {
   "cell_type": "markdown",
   "id": "fd172667",
   "metadata": {},
   "source": [
    "dt-27/02/23"
   ]
  },
  {
   "cell_type": "markdown",
   "id": "b0e44339",
   "metadata": {},
   "source": [
    "# ABSTRACTION"
   ]
  },
  {
   "cell_type": "markdown",
   "id": "eabbb88b",
   "metadata": {},
   "source": [
    "It means Hide the coding part and showinng the functionality part to the user.\n",
    "By using abstract class and interface we can achieve abstraction.\n",
    "By using interface, we can achieve 100% abstraction whereas by ussing abstract class we can achieve 0 to 100% abstraction.\n"
   ]
  }
 ],
 "metadata": {
  "kernelspec": {
   "display_name": "Python 3 (ipykernel)",
   "language": "python",
   "name": "python3"
  },
  "language_info": {
   "codemirror_mode": {
    "name": "ipython",
    "version": 3
   },
   "file_extension": ".py",
   "mimetype": "text/x-python",
   "name": "python",
   "nbconvert_exporter": "python",
   "pygments_lexer": "ipython3",
   "version": "3.9.12"
  }
 },
 "nbformat": 4,
 "nbformat_minor": 5
}
