{
 "cells": [
  {
   "cell_type": "markdown",
   "id": "f38fc18a",
   "metadata": {},
   "source": [
    "dt-17/03/23"
   ]
  },
  {
   "cell_type": "markdown",
   "id": "5ef142e3",
   "metadata": {},
   "source": [
    "# ELSE BLOCK IN EXCEPTION HANDLING "
   ]
  },
  {
   "cell_type": "markdown",
   "id": "535ad37c",
   "metadata": {},
   "source": [
    "Try: This block will test the excepted error to occur\n",
    "Except:  Here you can handle the error\n",
    "Else: If there is no exception then this block will be executed\n",
    "Finally: Finally block always gets executed either exception is generated or not."
   ]
  },
  {
   "cell_type": "code",
   "execution_count": null,
   "id": "bdb0f1ca",
   "metadata": {},
   "outputs": [],
   "source": []
  },
  {
   "cell_type": "code",
   "execution_count": null,
   "id": "804ec77b",
   "metadata": {},
   "outputs": [],
   "source": []
  },
  {
   "cell_type": "code",
   "execution_count": null,
   "id": "d9449739",
   "metadata": {},
   "outputs": [],
   "source": []
  },
  {
   "cell_type": "code",
   "execution_count": null,
   "id": "b86c5327",
   "metadata": {},
   "outputs": [],
   "source": []
  }
 ],
 "metadata": {
  "kernelspec": {
   "display_name": "Python 3 (ipykernel)",
   "language": "python",
   "name": "python3"
  },
  "language_info": {
   "codemirror_mode": {
    "name": "ipython",
    "version": 3
   },
   "file_extension": ".py",
   "mimetype": "text/x-python",
   "name": "python",
   "nbconvert_exporter": "python",
   "pygments_lexer": "ipython3",
   "version": "3.9.12"
  }
 },
 "nbformat": 4,
 "nbformat_minor": 5
}
