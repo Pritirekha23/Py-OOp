{
 "cells": [
  {
   "cell_type": "markdown",
   "id": "15517823",
   "metadata": {},
   "source": [
    "dt-22/02/23"
   ]
  },
  {
   "cell_type": "code",
   "execution_count": null,
   "id": "9bd5e6e5",
   "metadata": {},
   "outputs": [],
   "source": []
  },
  {
   "cell_type": "markdown",
   "id": "c90e8c51",
   "metadata": {},
   "source": [
    "# Concrete  class vs Abstract class"
   ]
  },
  {
   "cell_type": "markdown",
   "id": "6fc9430c",
   "metadata": {},
   "source": [
    "Concreate class::\n",
    "class contain concrete method,we can not use abstract method.\n",
    "child class is not responsible to provide any implementation part of parent class methods.\n",
    "we can create the object of class.\n",
    "class is the blueprint for object.(if u want to create the object 1st create a class)\n",
    "To define concreate class we dont required to import any module.\n"
   ]
  },
  {
   "cell_type": "markdown",
   "id": "2afce9fe",
   "metadata": {},
   "source": [
    "Abstract class::\n",
    "It can also contain abstract method as well as concrete method.\n",
    "child class is responsible to provide implementation part for parent class abstract method.\n",
    "we cant create object for abstract class.\n",
    "Abstrcat class is blueprint for class.(if u want to cretae class 1st create abstract class)\n",
    "to define abstract class w erequired to import a module i.e abc module and extend from ABC class."
   ]
  },
  {
   "cell_type": "code",
   "execution_count": 1,
   "id": "404de888",
   "metadata": {},
   "outputs": [],
   "source": [
    "class Test:\n",
    "    def m1(self):\n",
    "        pass\n",
    "    \n",
    "t=Test()\n",
    "t.m1()"
   ]
  },
  {
   "cell_type": "code",
   "execution_count": 2,
   "id": "7b9e83aa",
   "metadata": {},
   "outputs": [
    {
     "ename": "SyntaxError",
     "evalue": "invalid syntax (1232180338.py, line 4)",
     "output_type": "error",
     "traceback": [
      "\u001b[1;36m  Input \u001b[1;32mIn [2]\u001b[1;36m\u001b[0m\n\u001b[1;33m    derf m1(self):\u001b[0m\n\u001b[1;37m    ^\u001b[0m\n\u001b[1;31mSyntaxError\u001b[0m\u001b[1;31m:\u001b[0m invalid syntax\n"
     ]
    }
   ],
   "source": [
    "#prove we cant we cant create the object of abstrcat class\n",
    "from abc import ABC,abstractmethod\n",
    "class Test(ABC):\n",
    "    @abstractmethod\n",
    "    derf m1(self):\n",
    "        pass\n",
    "    \n",
    "t=Test()"
   ]
  },
  {
   "cell_type": "code",
   "execution_count": 21,
   "id": "df80b09a",
   "metadata": {},
   "outputs": [
    {
     "name": "stdout",
     "output_type": "stream",
     "text": [
      "Hello\n"
     ]
    }
   ],
   "source": [
    "# If abstract class does not contain any abstract method then object creation is posiible.\n",
    "\n",
    "class Test(ABC):\n",
    "  \n",
    "    def m1(self):\n",
    "        print('Hello')\n",
    "#     @abstractmethod\n",
    "#     def m1(self):\n",
    "#         pass\n",
    "    \n",
    "t=Test()\n",
    "t.m1()"
   ]
  },
  {
   "cell_type": "code",
   "execution_count": 24,
   "id": "83d6dc50",
   "metadata": {},
   "outputs": [
    {
     "ename": "TypeError",
     "evalue": "Can't instantiate abstract class Test with abstract method mt1",
     "output_type": "error",
     "traceback": [
      "\u001b[1;31m---------------------------------------------------------------------------\u001b[0m",
      "\u001b[1;31mTypeError\u001b[0m                                 Traceback (most recent call last)",
      "Input \u001b[1;32mIn [24]\u001b[0m, in \u001b[0;36m<cell line: 12>\u001b[1;34m()\u001b[0m\n\u001b[0;32m      7\u001b[0m     \u001b[38;5;129m@abstractmethod\u001b[39m\n\u001b[0;32m      8\u001b[0m     \u001b[38;5;28;01mdef\u001b[39;00m \u001b[38;5;21mmt1\u001b[39m(\u001b[38;5;28mself\u001b[39m):\n\u001b[0;32m      9\u001b[0m         \u001b[38;5;28;01mpass\u001b[39;00m\n\u001b[1;32m---> 12\u001b[0m t\u001b[38;5;241m=\u001b[39m\u001b[43mTest\u001b[49m\u001b[43m(\u001b[49m\u001b[43m)\u001b[49m\n\u001b[0;32m     13\u001b[0m t\u001b[38;5;241m.\u001b[39mm1()\n",
      "\u001b[1;31mTypeError\u001b[0m: Can't instantiate abstract class Test with abstract method mt1"
     ]
    }
   ],
   "source": [
    "# If abstract class contain any abstract method then object creation is not posiible.\n",
    "\n",
    "class Test(ABC):\n",
    "    def m1(self):\n",
    "        print('Hello')\n",
    "    \n",
    "    @abstractmethod\n",
    "    def mt1(self):\n",
    "        pass\n",
    "\n",
    "    \n",
    "t=Test()\n",
    "t.m1()"
   ]
  },
  {
   "cell_type": "code",
   "execution_count": 26,
   "id": "ed634403",
   "metadata": {},
   "outputs": [
    {
     "name": "stdout",
     "output_type": "stream",
     "text": [
      "Hi\n",
      "Hello\n"
     ]
    }
   ],
   "source": [
    "\n",
    "class Test(ABC):\n",
    "  \n",
    "    def mt1(self):\n",
    "        print('Hello')\n",
    "    @abstractmethod\n",
    "    def m1(self):\n",
    "        pass\n",
    "    \n",
    "class Child(Test):\n",
    "    def m1(self):\n",
    "        print('Hi')\n",
    "        \n",
    "c=Child()\n",
    "c.m1()\n",
    "c.mt1()"
   ]
  },
  {
   "cell_type": "code",
   "execution_count": 25,
   "id": "3dd25740",
   "metadata": {},
   "outputs": [
    {
     "name": "stdout",
     "output_type": "stream",
     "text": [
      "Hello\n"
     ]
    }
   ],
   "source": [
    "\n",
    "class Test(ABC):\n",
    "  \n",
    "    def mt1(self):\n",
    "        print('Hello')\n",
    "    @abstractmethod\n",
    "    def m1(self):\n",
    "        pass\n",
    "    \n",
    "class Child(Test):\n",
    "    def m1(self):\n",
    "        pass\n",
    "        \n",
    "c=Child()\n",
    "c.m1()\n",
    "c.mt1()"
   ]
  },
  {
   "cell_type": "code",
   "execution_count": 19,
   "id": "c2769c0e",
   "metadata": {},
   "outputs": [
    {
     "ename": "TypeError",
     "evalue": "Can't instantiate abstract class Child with abstract method m1",
     "output_type": "error",
     "traceback": [
      "\u001b[1;31m---------------------------------------------------------------------------\u001b[0m",
      "\u001b[1;31mTypeError\u001b[0m                                 Traceback (most recent call last)",
      "Input \u001b[1;32mIn [19]\u001b[0m, in \u001b[0;36m<cell line: 12>\u001b[1;34m()\u001b[0m\n\u001b[0;32m      9\u001b[0m \u001b[38;5;28;01mclass\u001b[39;00m \u001b[38;5;21;01mChild\u001b[39;00m(Test):\n\u001b[0;32m     10\u001b[0m     \u001b[38;5;28;01mpass\u001b[39;00m\n\u001b[1;32m---> 12\u001b[0m c\u001b[38;5;241m=\u001b[39m\u001b[43mChild\u001b[49m\u001b[43m(\u001b[49m\u001b[43m)\u001b[49m\n\u001b[0;32m     13\u001b[0m c\u001b[38;5;241m.\u001b[39mm1()\n\u001b[0;32m     14\u001b[0m c\u001b[38;5;241m.\u001b[39mmt1()\n",
      "\u001b[1;31mTypeError\u001b[0m: Can't instantiate abstract class Child with abstract method m1"
     ]
    }
   ],
   "source": [
    "\n",
    "class Test(ABC):\n",
    "  \n",
    "    def mt1(self):\n",
    "        print('Hello')\n",
    "    @abstractmethod\n",
    "    def m1(self):\n",
    "        pass\n",
    "    \n",
    "class Child(Test):\n",
    "    pass\n",
    "        \n",
    "c=Child()\n",
    "c.m1()\n",
    "c.mt1()"
   ]
  },
  {
   "cell_type": "markdown",
   "id": "6f1fec25",
   "metadata": {},
   "source": [
    "# Concrete  method vs Abstract method"
   ]
  },
  {
   "cell_type": "markdown",
   "id": "39220a69",
   "metadata": {},
   "source": [
    "\n",
    "Concrate method:\n",
    "It have body part.\n",
    "No decorator is required to define concreate method.\n",
    "If child class wanr then child class can override the parent class method.\n",
    "\n",
    "\n",
    "Abstract method:\n",
    "It does not contain body part.\n",
    "@abstractmethod decorator required to define abstract method.\n",
    "child class will provide the body part for abstract method."
   ]
  }
 ],
 "metadata": {
  "kernelspec": {
   "display_name": "Python 3 (ipykernel)",
   "language": "python",
   "name": "python3"
  },
  "language_info": {
   "codemirror_mode": {
    "name": "ipython",
    "version": 3
   },
   "file_extension": ".py",
   "mimetype": "text/x-python",
   "name": "python",
   "nbconvert_exporter": "python",
   "pygments_lexer": "ipython3",
   "version": "3.9.12"
  }
 },
 "nbformat": 4,
 "nbformat_minor": 5
}
