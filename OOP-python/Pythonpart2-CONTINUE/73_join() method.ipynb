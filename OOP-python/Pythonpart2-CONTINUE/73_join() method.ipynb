{
 "cells": [
  {
   "cell_type": "markdown",
   "id": "d6a92c5a",
   "metadata": {},
   "source": [
    "# join() method"
   ]
  },
  {
   "cell_type": "markdown",
   "id": "dbded8b6",
   "metadata": {},
   "source": [
    "In multithreading, multiple thread can execute simultaneously but there are some situations where a thread wants to wait until completion of another thread execution then we should go for join() method."
   ]
  },
  {
   "cell_type": "code",
   "execution_count": 1,
   "id": "62289dc8",
   "metadata": {},
   "outputs": [],
   "source": [
    "from threading import*\n",
    "import time"
   ]
  },
  {
   "cell_type": "code",
   "execution_count": 7,
   "id": "84afe50b",
   "metadata": {},
   "outputs": [
    {
     "name": "stdout",
     "output_type": "stream",
     "text": [
      "fun1Jimin\n",
      "Jimin\n",
      "Jimin\n",
      "\n",
      "fun1\n",
      "fun1\n"
     ]
    }
   ],
   "source": [
    "#ex-1\n",
    "def fun1():\n",
    "    for i in range(3):\n",
    "        print('fun1')\n",
    "# def fun2():\n",
    "#     for i in range(3):\n",
    "#         print(fun2)\n",
    "\n",
    "t1=Thread(target=fun1)\n",
    "t1.start()\n",
    "\n",
    "for i in range(3):\n",
    "    print('Jimin')"
   ]
  },
  {
   "cell_type": "code",
   "execution_count": null,
   "id": "882f9b8f",
   "metadata": {},
   "outputs": [],
   "source": []
  },
  {
   "cell_type": "code",
   "execution_count": null,
   "id": "927ec5c2",
   "metadata": {},
   "outputs": [],
   "source": []
  },
  {
   "cell_type": "code",
   "execution_count": null,
   "id": "d77f8f98",
   "metadata": {},
   "outputs": [],
   "source": []
  },
  {
   "cell_type": "code",
   "execution_count": null,
   "id": "112e8455",
   "metadata": {},
   "outputs": [],
   "source": []
  }
 ],
 "metadata": {
  "kernelspec": {
   "display_name": "Python 3 (ipykernel)",
   "language": "python",
   "name": "python3"
  },
  "language_info": {
   "codemirror_mode": {
    "name": "ipython",
    "version": 3
   },
   "file_extension": ".py",
   "mimetype": "text/x-python",
   "name": "python",
   "nbconvert_exporter": "python",
   "pygments_lexer": "ipython3",
   "version": "3.9.12"
  }
 },
 "nbformat": 4,
 "nbformat_minor": 5
}
