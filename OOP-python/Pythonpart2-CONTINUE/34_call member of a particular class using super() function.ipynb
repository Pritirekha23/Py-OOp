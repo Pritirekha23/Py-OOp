{
 "cells": [
  {
   "cell_type": "markdown",
   "id": "3555c228",
   "metadata": {},
   "source": [
    "# call member of a particular class using super() function"
   ]
  },
  {
   "cell_type": "markdown",
   "id": "bafc18c0",
   "metadata": {},
   "source": [
    "dt-06/02/2023"
   ]
  },
  {
   "cell_type": "code",
   "execution_count": 21,
   "id": "1c55dfd3",
   "metadata": {},
   "outputs": [
    {
     "name": "stdout",
     "output_type": "stream",
     "text": [
      "D-m1\n",
      "C-m1\n"
     ]
    }
   ],
   "source": [
    "class A:\n",
    "    def m1(self):\n",
    "        print('A-m1')\n",
    "class B(A):\n",
    "    def m1(self):\n",
    "        print('B-m1')\n",
    "class C(A):\n",
    "    def m1(self):\n",
    "        print('C-m1')\n",
    "        \n",
    "class D(B,C):\n",
    "     def m1(self):\n",
    "        print('D-m1')\n",
    "        #using super()\n",
    "        super(B,self).m1()\n",
    "        #super(D,self).m1()\n",
    "        \n",
    "        #without using super() executing m1() of C class\n",
    "       # C.m1(self)\n",
    "       # A.m1(self)\n",
    "\n",
    "d=D()\n",
    "d.m1()\n",
    "        "
   ]
  }
 ],
 "metadata": {
  "kernelspec": {
   "display_name": "Python 3 (ipykernel)",
   "language": "python",
   "name": "python3"
  },
  "language_info": {
   "codemirror_mode": {
    "name": "ipython",
    "version": 3
   },
   "file_extension": ".py",
   "mimetype": "text/x-python",
   "name": "python",
   "nbconvert_exporter": "python",
   "pygments_lexer": "ipython3",
   "version": "3.9.12"
  }
 },
 "nbformat": 4,
 "nbformat_minor": 5
}
