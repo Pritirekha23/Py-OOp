{
 "cells": [
  {
   "cell_type": "markdown",
   "id": "05d47b39",
   "metadata": {},
   "source": [
    "dt-19/03/23"
   ]
  },
  {
   "cell_type": "markdown",
   "id": "89eebc7b",
   "metadata": {},
   "source": [
    "# complete flow of execution of (try-except-else-finally block)"
   ]
  },
  {
   "cell_type": "code",
   "execution_count": 1,
   "id": "d3e3aa96",
   "metadata": {},
   "outputs": [
    {
     "name": "stdout",
     "output_type": "stream",
     "text": [
      "1\n",
      "2\n",
      "3\n",
      "4\n",
      "5\n",
      "end\n"
     ]
    }
   ],
   "source": [
    "#Ex-1\n",
    "try:\n",
    "    print('1')\n",
    "    print('2')\n",
    "    print('3')\n",
    "    print('4')\n",
    "    print('5')\n",
    "except Exception as e:\n",
    "    print(e)\n",
    "finally:\n",
    "    print('end')"
   ]
  },
  {
   "cell_type": "code",
   "execution_count": 2,
   "id": "1d03b2fb",
   "metadata": {},
   "outputs": [
    {
     "name": "stdout",
     "output_type": "stream",
     "text": [
      "1\n",
      "2\n",
      "unsupported operand type(s) for +: 'int' and 'str'\n",
      "end\n"
     ]
    }
   ],
   "source": [
    "#Ex-2\n",
    "try:\n",
    "    print('1')\n",
    "    print('2')\n",
    "    print(23+'surendra')\n",
    "    print('4')\n",
    "    print('5')\n",
    "except Exception as e:\n",
    "    print(e)\n",
    "finally:\n",
    "    print('end')"
   ]
  },
  {
   "cell_type": "code",
   "execution_count": 3,
   "id": "05ebb346",
   "metadata": {},
   "outputs": [
    {
     "name": "stdout",
     "output_type": "stream",
     "text": [
      "1\n",
      "2\n",
      "end\n"
     ]
    },
    {
     "ename": "TypeError",
     "evalue": "unsupported operand type(s) for +: 'int' and 'str'",
     "output_type": "error",
     "traceback": [
      "\u001b[1;31m--------------------------------------------\u001b[0m",
      "\u001b[1;31mTypeError\u001b[0m  Traceback (most recent call last)",
      "Input \u001b[1;32mIn [3]\u001b[0m, in \u001b[0;36m<cell line: 2>\u001b[1;34m()\u001b[0m\n\u001b[0;32m      3\u001b[0m \u001b[38;5;28mprint\u001b[39m(\u001b[38;5;124m'\u001b[39m\u001b[38;5;124m1\u001b[39m\u001b[38;5;124m'\u001b[39m)\n\u001b[0;32m      4\u001b[0m \u001b[38;5;28mprint\u001b[39m(\u001b[38;5;124m'\u001b[39m\u001b[38;5;124m2\u001b[39m\u001b[38;5;124m'\u001b[39m)\n\u001b[1;32m----> 5\u001b[0m \u001b[38;5;28mprint\u001b[39m(\u001b[38;5;241;43m23\u001b[39;49m\u001b[38;5;241;43m+\u001b[39;49m\u001b[38;5;124;43m'\u001b[39;49m\u001b[38;5;124;43msurendra\u001b[39;49m\u001b[38;5;124;43m'\u001b[39;49m)\n\u001b[0;32m      6\u001b[0m \u001b[38;5;28mprint\u001b[39m(\u001b[38;5;124m'\u001b[39m\u001b[38;5;124m4\u001b[39m\u001b[38;5;124m'\u001b[39m)\n\u001b[0;32m      7\u001b[0m \u001b[38;5;28mprint\u001b[39m(\u001b[38;5;124m'\u001b[39m\u001b[38;5;124m5\u001b[39m\u001b[38;5;124m'\u001b[39m)\n",
      "\u001b[1;31mTypeError\u001b[0m: unsupported operand type(s) for +: 'int' and 'str'"
     ]
    }
   ],
   "source": [
    "#Ex-3\n",
    "try:\n",
    "    print('1')\n",
    "    print('2')\n",
    "    print(23+'surendra')\n",
    "    print('4')\n",
    "    print('5')\n",
    "except FileNotFoundError as e:\n",
    "    print(e)\n",
    "finally:\n",
    "    print('end')"
   ]
  },
  {
   "cell_type": "code",
   "execution_count": 4,
   "id": "a8e73251",
   "metadata": {},
   "outputs": [
    {
     "name": "stdout",
     "output_type": "stream",
     "text": [
      "1\n",
      "2\n",
      "something went wrong\n",
      "end\n"
     ]
    }
   ],
   "source": [
    "#Ex-4\n",
    "try:\n",
    "    print('1')\n",
    "    print('2')\n",
    "    print(23+'surendra')\n",
    "    print('4')\n",
    "    print('5')\n",
    "except:\n",
    "    print('something went wrong')\n",
    "finally:\n",
    "    print('end')"
   ]
  },
  {
   "cell_type": "code",
   "execution_count": 5,
   "id": "bf9603a0",
   "metadata": {},
   "outputs": [
    {
     "name": "stdout",
     "output_type": "stream",
     "text": [
      "1\n",
      "2\n",
      "end\n"
     ]
    },
    {
     "ename": "NameError",
     "evalue": "name 'e' is not defined",
     "output_type": "error",
     "traceback": [
      "\u001b[1;31m--------------------------------------------\u001b[0m",
      "\u001b[1;31mTypeError\u001b[0m  Traceback (most recent call last)",
      "Input \u001b[1;32mIn [5]\u001b[0m, in \u001b[0;36m<cell line: 2>\u001b[1;34m()\u001b[0m\n\u001b[0;32m      4\u001b[0m \u001b[38;5;28mprint\u001b[39m(\u001b[38;5;124m'\u001b[39m\u001b[38;5;124m2\u001b[39m\u001b[38;5;124m'\u001b[39m)\n\u001b[1;32m----> 5\u001b[0m \u001b[38;5;28mprint\u001b[39m(\u001b[38;5;241;43m23\u001b[39;49m\u001b[38;5;241;43m+\u001b[39;49m\u001b[38;5;124;43m'\u001b[39;49m\u001b[38;5;124;43msurendra\u001b[39;49m\u001b[38;5;124;43m'\u001b[39;49m)\n\u001b[0;32m      6\u001b[0m \u001b[38;5;28mprint\u001b[39m(\u001b[38;5;124m'\u001b[39m\u001b[38;5;124m4\u001b[39m\u001b[38;5;124m'\u001b[39m)\n",
      "\u001b[1;31mTypeError\u001b[0m: unsupported operand type(s) for +: 'int' and 'str'",
      "\nDuring handling of the above exception, another exception occurred:\n",
      "\u001b[1;31mNameError\u001b[0m  Traceback (most recent call last)",
      "Input \u001b[1;32mIn [5]\u001b[0m, in \u001b[0;36m<cell line: 2>\u001b[1;34m()\u001b[0m\n\u001b[0;32m      7\u001b[0m     \u001b[38;5;28mprint\u001b[39m(\u001b[38;5;124m'\u001b[39m\u001b[38;5;124m5\u001b[39m\u001b[38;5;124m'\u001b[39m)\n\u001b[0;32m      8\u001b[0m \u001b[38;5;28;01mexcept\u001b[39;00m:\n\u001b[1;32m----> 9\u001b[0m     \u001b[38;5;28mprint\u001b[39m(\u001b[43me\u001b[49m)\n\u001b[0;32m     10\u001b[0m \u001b[38;5;28;01mfinally\u001b[39;00m:\n\u001b[0;32m     11\u001b[0m     \u001b[38;5;28mprint\u001b[39m(\u001b[38;5;124m'\u001b[39m\u001b[38;5;124mend\u001b[39m\u001b[38;5;124m'\u001b[39m)\n",
      "\u001b[1;31mNameError\u001b[0m: name 'e' is not defined"
     ]
    }
   ],
   "source": [
    "#Ex-5\n",
    "try:\n",
    "    print('1')\n",
    "    print('2')\n",
    "    print(23+'surendra')\n",
    "    print('4')\n",
    "    print('5')\n",
    "except:\n",
    "    print(e) # e is not available so it will give NameError \n",
    "finally:\n",
    "    print('end')"
   ]
  },
  {
   "cell_type": "code",
   "execution_count": 6,
   "id": "e77ea128",
   "metadata": {},
   "outputs": [
    {
     "name": "stdout",
     "output_type": "stream",
     "text": [
      "1\n",
      "2\n",
      "name 'e' is not defined\n",
      "end\n"
     ]
    }
   ],
   "source": [
    "#Ex-6\n",
    "try:\n",
    "    print('1')\n",
    "    print('2')\n",
    "    print(23+'surendra')\n",
    "    print('4')\n",
    "    print('5')\n",
    "except:\n",
    "    try:\n",
    "        print(e)\n",
    "    except Exception as e:\n",
    "        print(e)\n",
    "finally:\n",
    "    print('end')"
   ]
  },
  {
   "cell_type": "code",
   "execution_count": 7,
   "id": "4e281ea8",
   "metadata": {},
   "outputs": [
    {
     "name": "stdout",
     "output_type": "stream",
     "text": [
      "end\n"
     ]
    },
    {
     "ename": "NameError",
     "evalue": "name 'e' is not defined",
     "output_type": "error",
     "traceback": [
      "\u001b[1;31m--------------------------------------------\u001b[0m",
      "\u001b[1;31mTypeError\u001b[0m  Traceback (most recent call last)",
      "Input \u001b[1;32mIn [7]\u001b[0m, in \u001b[0;36m<cell line: 2>\u001b[1;34m()\u001b[0m\n\u001b[0;32m      2\u001b[0m \u001b[38;5;28;01mtry\u001b[39;00m:\n\u001b[1;32m----> 3\u001b[0m     \u001b[38;5;28mprint\u001b[39m(\u001b[38;5;241;43m23\u001b[39;49m\u001b[38;5;241;43m+\u001b[39;49m\u001b[38;5;124;43m'\u001b[39;49m\u001b[38;5;124;43msurendra\u001b[39;49m\u001b[38;5;124;43m'\u001b[39;49m)\n\u001b[0;32m      4\u001b[0m \u001b[38;5;28;01mexcept\u001b[39;00m:\n",
      "\u001b[1;31mTypeError\u001b[0m: unsupported operand type(s) for +: 'int' and 'str'",
      "\nDuring handling of the above exception, another exception occurred:\n",
      "\u001b[1;31mNameError\u001b[0m  Traceback (most recent call last)",
      "Input \u001b[1;32mIn [7]\u001b[0m, in \u001b[0;36m<cell line: 2>\u001b[1;34m()\u001b[0m\n\u001b[0;32m      4\u001b[0m \u001b[38;5;28;01mexcept\u001b[39;00m:\n\u001b[0;32m      5\u001b[0m     \u001b[38;5;28;01mtry\u001b[39;00m:\n\u001b[1;32m----> 6\u001b[0m         \u001b[38;5;28mprint\u001b[39m(\u001b[43me\u001b[49m)\n\u001b[0;32m      7\u001b[0m     \u001b[38;5;28;01mexcept\u001b[39;00m \u001b[38;5;167;01mTypeError\u001b[39;00m \u001b[38;5;28;01mas\u001b[39;00m e:\n\u001b[0;32m      8\u001b[0m         \u001b[38;5;28mprint\u001b[39m(e)\n",
      "\u001b[1;31mNameError\u001b[0m: name 'e' is not defined"
     ]
    }
   ],
   "source": [
    "#Ex-7\n",
    "try:\n",
    "    print(23+'surendra') #typerror\n",
    "except:\n",
    "    try:\n",
    "        print(e) #nameerror\n",
    "    except TypeError as e:\n",
    "        print(e)\n",
    "finally:\n",
    "    print('end')"
   ]
  },
  {
   "cell_type": "code",
   "execution_count": 9,
   "id": "b737c2a9",
   "metadata": {},
   "outputs": [
    {
     "name": "stdout",
     "output_type": "stream",
     "text": [
      "name 'e' is not defined\n",
      "end\n"
     ]
    }
   ],
   "source": [
    "#Ex-8\n",
    "try:\n",
    "    print(23+'surendra') \n",
    "except:\n",
    "    try:\n",
    "        print(e) \n",
    "    except TypeError as e:\n",
    "        print(e)\n",
    "    except NameError as n:\n",
    "        print(n)\n",
    "finally:\n",
    "    print('end')"
   ]
  },
  {
   "cell_type": "code",
   "execution_count": 11,
   "id": "e7df76db",
   "metadata": {},
   "outputs": [
    {
     "name": "stdout",
     "output_type": "stream",
     "text": [
      "name 'e' is not defined\n",
      "end\n"
     ]
    }
   ],
   "source": [
    "#Ex-9\n",
    "try:\n",
    "    print(23+'surendra') \n",
    "except:\n",
    "    try:\n",
    "        print(e) \n",
    "    except TypeError as e:\n",
    "        print(e)\n",
    "    except Exception as e:\n",
    "        print(e)\n",
    "    except NameError as n:\n",
    "        print('Name Error occur')\n",
    "finally:\n",
    "    print('end')"
   ]
  },
  {
   "cell_type": "code",
   "execution_count": 15,
   "id": "429c5115",
   "metadata": {},
   "outputs": [
    {
     "name": "stdout",
     "output_type": "stream",
     "text": [
      "name 'e' is not defined\n",
      "Inner finally\n",
      "end\n"
     ]
    }
   ],
   "source": [
    "#Ex-10\n",
    "try:\n",
    "    print(23+'surendra') \n",
    "except:\n",
    "    try:\n",
    "        print(e) \n",
    "    except Exception as e:\n",
    "        print(e)\n",
    "    finally:\n",
    "        print('Inner finally')\n",
    "        \n",
    "finally:\n",
    "    print('end')"
   ]
  },
  {
   "cell_type": "code",
   "execution_count": 16,
   "id": "5a679799",
   "metadata": {},
   "outputs": [
    {
     "name": "stdout",
     "output_type": "stream",
     "text": [
      "1\n",
      "end\n"
     ]
    }
   ],
   "source": [
    "#Ex-11\n",
    "try:\n",
    "    print('1')\n",
    "except Exception as e:\n",
    "    print(e)\n",
    "    print(23+'surendra')\n",
    "    print('2')\n",
    "finally:\n",
    "    print('end')\n",
    "    "
   ]
  },
  {
   "cell_type": "code",
   "execution_count": 17,
   "id": "fe33e221",
   "metadata": {},
   "outputs": [
    {
     "name": "stdout",
     "output_type": "stream",
     "text": [
      "division by zero\n",
      "end\n"
     ]
    },
    {
     "ename": "TypeError",
     "evalue": "unsupported operand type(s) for +: 'int' and 'str'",
     "output_type": "error",
     "traceback": [
      "\u001b[1;31m--------------------------------------------\u001b[0m",
      "\u001b[1;31mZeroDivisionError\u001b[0mTraceback (most recent call last)",
      "Input \u001b[1;32mIn [17]\u001b[0m, in \u001b[0;36m<cell line: 2>\u001b[1;34m()\u001b[0m\n\u001b[0;32m      2\u001b[0m \u001b[38;5;28;01mtry\u001b[39;00m:\n\u001b[1;32m----> 3\u001b[0m     \u001b[38;5;28mprint\u001b[39m(\u001b[38;5;241;43m10\u001b[39;49m\u001b[38;5;241;43m/\u001b[39;49m\u001b[38;5;241;43m0\u001b[39;49m)\n\u001b[0;32m      4\u001b[0m \u001b[38;5;28;01mexcept\u001b[39;00m \u001b[38;5;167;01mException\u001b[39;00m \u001b[38;5;28;01mas\u001b[39;00m e:\n",
      "\u001b[1;31mZeroDivisionError\u001b[0m: division by zero",
      "\nDuring handling of the above exception, another exception occurred:\n",
      "\u001b[1;31mTypeError\u001b[0m  Traceback (most recent call last)",
      "Input \u001b[1;32mIn [17]\u001b[0m, in \u001b[0;36m<cell line: 2>\u001b[1;34m()\u001b[0m\n\u001b[0;32m      4\u001b[0m \u001b[38;5;28;01mexcept\u001b[39;00m \u001b[38;5;167;01mException\u001b[39;00m \u001b[38;5;28;01mas\u001b[39;00m e:\n\u001b[0;32m      5\u001b[0m     \u001b[38;5;28mprint\u001b[39m(e)\n\u001b[1;32m----> 6\u001b[0m     \u001b[38;5;28mprint\u001b[39m(\u001b[38;5;241;43m23\u001b[39;49m\u001b[38;5;241;43m+\u001b[39;49m\u001b[38;5;124;43m'\u001b[39;49m\u001b[38;5;124;43msurendra\u001b[39;49m\u001b[38;5;124;43m'\u001b[39;49m)\n\u001b[0;32m      7\u001b[0m     \u001b[38;5;28mprint\u001b[39m(\u001b[38;5;124m'\u001b[39m\u001b[38;5;124m2\u001b[39m\u001b[38;5;124m'\u001b[39m)\n\u001b[0;32m      8\u001b[0m \u001b[38;5;28;01mfinally\u001b[39;00m:\n",
      "\u001b[1;31mTypeError\u001b[0m: unsupported operand type(s) for +: 'int' and 'str'"
     ]
    }
   ],
   "source": [
    "#Ex-12\n",
    "try:\n",
    "    print(10/0)\n",
    "except Exception as e:\n",
    "    print(e)\n",
    "    print(23+'surendra')\n",
    "    print('2')\n",
    "finally:\n",
    "    print('end')"
   ]
  },
  {
   "cell_type": "code",
   "execution_count": 18,
   "id": "f0ab096b",
   "metadata": {},
   "outputs": [
    {
     "name": "stdout",
     "output_type": "stream",
     "text": [
      "division by zero\n",
      "end\n"
     ]
    },
    {
     "ename": "TypeError",
     "evalue": "unsupported operand type(s) for +: 'int' and 'str'",
     "output_type": "error",
     "traceback": [
      "\u001b[1;31m--------------------------------------------\u001b[0m",
      "\u001b[1;31mZeroDivisionError\u001b[0mTraceback (most recent call last)",
      "Input \u001b[1;32mIn [18]\u001b[0m, in \u001b[0;36m<cell line: 2>\u001b[1;34m()\u001b[0m\n\u001b[0;32m      2\u001b[0m \u001b[38;5;28;01mtry\u001b[39;00m:\n\u001b[1;32m----> 3\u001b[0m     \u001b[38;5;28mprint\u001b[39m(\u001b[38;5;241;43m10\u001b[39;49m\u001b[38;5;241;43m/\u001b[39;49m\u001b[38;5;241;43m0\u001b[39;49m)\n\u001b[0;32m      4\u001b[0m \u001b[38;5;28;01mexcept\u001b[39;00m \u001b[38;5;167;01mException\u001b[39;00m \u001b[38;5;28;01mas\u001b[39;00m e:\n",
      "\u001b[1;31mZeroDivisionError\u001b[0m: division by zero",
      "\nDuring handling of the above exception, another exception occurred:\n",
      "\u001b[1;31mTypeError\u001b[0m  Traceback (most recent call last)",
      "Input \u001b[1;32mIn [18]\u001b[0m, in \u001b[0;36m<cell line: 2>\u001b[1;34m()\u001b[0m\n\u001b[0;32m      4\u001b[0m \u001b[38;5;28;01mexcept\u001b[39;00m \u001b[38;5;167;01mException\u001b[39;00m \u001b[38;5;28;01mas\u001b[39;00m e:\n\u001b[0;32m      5\u001b[0m     \u001b[38;5;28mprint\u001b[39m(e)\n\u001b[1;32m----> 6\u001b[0m     \u001b[38;5;28mprint\u001b[39m(\u001b[38;5;241;43m23\u001b[39;49m\u001b[38;5;241;43m+\u001b[39;49m\u001b[38;5;124;43m'\u001b[39;49m\u001b[38;5;124;43msurendra\u001b[39;49m\u001b[38;5;124;43m'\u001b[39;49m)\n\u001b[0;32m      7\u001b[0m     \u001b[38;5;28mprint\u001b[39m(\u001b[38;5;124m'\u001b[39m\u001b[38;5;124m2\u001b[39m\u001b[38;5;124m'\u001b[39m)\n\u001b[0;32m      8\u001b[0m \u001b[38;5;28;01melse\u001b[39;00m:\n",
      "\u001b[1;31mTypeError\u001b[0m: unsupported operand type(s) for +: 'int' and 'str'"
     ]
    }
   ],
   "source": [
    "#Ex-13\n",
    "try:\n",
    "    print(10/0)\n",
    "except Exception as e:\n",
    "    print(e)\n",
    "    print(23+'surendra')\n",
    "    print('2')\n",
    "else:\n",
    "    print('I am else block')\n",
    "finally:\n",
    "    print('end')"
   ]
  },
  {
   "cell_type": "code",
   "execution_count": 19,
   "id": "c2266782",
   "metadata": {},
   "outputs": [
    {
     "name": "stdout",
     "output_type": "stream",
     "text": [
      "1\n",
      "I am else block\n",
      "end\n"
     ]
    }
   ],
   "source": [
    "#Ex-14\n",
    "try:\n",
    "    print('1')\n",
    "except Exception as e:\n",
    "    print(e)\n",
    "    print(23+'surendra')\n",
    "    print('2')\n",
    "else:\n",
    "    print('I am else block')\n",
    "finally:\n",
    "    print('end')"
   ]
  },
  {
   "cell_type": "code",
   "execution_count": 20,
   "id": "0fcb2e5c",
   "metadata": {},
   "outputs": [
    {
     "name": "stdout",
     "output_type": "stream",
     "text": [
      "division by zero\n",
      "unsupported operand type(s) for +: 'int' and 'str'\n",
      "2\n",
      "end\n"
     ]
    }
   ],
   "source": [
    "#Ex-15\n",
    "try:\n",
    "    print(10/0)\n",
    "except Exception as e:\n",
    "    print(e)\n",
    "    try:\n",
    "        print(23+'surendra')\n",
    "    except Exception as e:\n",
    "        print(e)\n",
    "    print('2')\n",
    "else:\n",
    "    print('I am else block')\n",
    "finally:\n",
    "    print('end')"
   ]
  },
  {
   "cell_type": "code",
   "execution_count": 21,
   "id": "f5ebe433",
   "metadata": {},
   "outputs": [
    {
     "name": "stdout",
     "output_type": "stream",
     "text": [
      "1.0\n",
      "I am else block\n",
      "end\n"
     ]
    }
   ],
   "source": [
    "#Ex-16\n",
    "try:\n",
    "    print(10/10)\n",
    "except Exception as e:\n",
    "    print(e)\n",
    "    try:\n",
    "        print(23+'surendra')\n",
    "    except Exception as e:\n",
    "        print(e)\n",
    "    print('2')\n",
    "else:\n",
    "    print('I am else block')\n",
    "finally:\n",
    "    print('end')"
   ]
  },
  {
   "cell_type": "code",
   "execution_count": 22,
   "id": "34372481",
   "metadata": {},
   "outputs": [
    {
     "name": "stdout",
     "output_type": "stream",
     "text": [
      "1.0\n",
      "I am else block\n",
      "end\n"
     ]
    }
   ],
   "source": [
    "#Ex-17\n",
    "import os\n",
    "try:\n",
    "    print(10/10)\n",
    "except Exception as e:\n",
    "    print(e)\n",
    "    try:\n",
    "        print(23+'surendra')\n",
    "    except Exception as e:\n",
    "        print(e)\n",
    "        os._exit(0)\n",
    "    print('2')\n",
    "else:\n",
    "    print('I am else block')\n",
    "finally:\n",
    "    print('end')"
   ]
  },
  {
   "cell_type": "code",
   "execution_count": null,
   "id": "54283143",
   "metadata": {},
   "outputs": [],
   "source": [
    "#Ex-18\n",
    "import os\n",
    "try:\n",
    "    print(10/0)\n",
    "except Exception as e:\n",
    "    print(e)\n",
    "    try:\n",
    "        print(23+'surendra')\n",
    "    except Exception as e:\n",
    "        print(e)\n",
    "        os._exit(0) #PVM stop forcefully so \n",
    "    print('2')\n",
    "else:\n",
    "    print('I am else block')\n",
    "finally:\n",
    "    print('end')\n",
    "    \n",
    "#output::\n",
    "division by zero\n",
    "unsupported operand type(s) for +: 'int' and 'str'"
   ]
  },
  {
   "cell_type": "code",
   "execution_count": 1,
   "id": "fa89cd28",
   "metadata": {},
   "outputs": [
    {
     "name": "stdout",
     "output_type": "stream",
     "text": [
      "1\n",
      "2\n",
      "division by zero\n"
     ]
    }
   ],
   "source": [
    "#Ex-19\n",
    "try:\n",
    "    print('1')\n",
    "    print('2')\n",
    "    print(10/0)\n",
    "    print('3')\n",
    "    try:\n",
    "        print('4')\n",
    "        print('5')\n",
    "    except Exception as e:\n",
    "        print(e)\n",
    "except Exception as e:\n",
    "    print(e)\n",
    "    "
   ]
  },
  {
   "cell_type": "code",
   "execution_count": 2,
   "id": "7877bdd9",
   "metadata": {},
   "outputs": [
    {
     "name": "stdout",
     "output_type": "stream",
     "text": [
      "1\n",
      "2\n",
      "test hello: division by zero\n"
     ]
    }
   ],
   "source": [
    "#Ex-20\n",
    "try:\n",
    "    print('1')\n",
    "    print('2')\n",
    "    print(10/0)\n",
    "    print('3')\n",
    "    try:\n",
    "        print('4')\n",
    "        print('5')\n",
    "    except Exception as e:\n",
    "        print('test hi:',e)\n",
    "except Exception as e:\n",
    "    print('test hello:',e)"
   ]
  },
  {
   "cell_type": "code",
   "execution_count": 4,
   "id": "01b9ec13",
   "metadata": {},
   "outputs": [
    {
     "name": "stdout",
     "output_type": "stream",
     "text": [
      "1\n",
      "2\n",
      "2.0\n",
      "3\n",
      "4\n",
      "5\n"
     ]
    }
   ],
   "source": [
    "#Ex-21\n",
    "try:\n",
    "    print('1')\n",
    "    print('2')\n",
    "    print(10/5)\n",
    "    print('3')\n",
    "    try:\n",
    "        print('4')\n",
    "        print('5')\n",
    "    except Exception as e:\n",
    "        print('test hi:',e)\n",
    "except Exception as e:\n",
    "    print('test hello:',e)"
   ]
  },
  {
   "cell_type": "code",
   "execution_count": 5,
   "id": "7de0c180",
   "metadata": {},
   "outputs": [
    {
     "name": "stdout",
     "output_type": "stream",
     "text": [
      "1\n",
      "2\n",
      "2.0\n",
      "3\n",
      "4\n",
      "5\n",
      "Inner finally\n",
      "outer finally\n"
     ]
    }
   ],
   "source": [
    "#Ex-22\n",
    "try:\n",
    "    print('1')\n",
    "    print('2')\n",
    "    print(10/5)\n",
    "    print('3')\n",
    "    try:\n",
    "        print('4')\n",
    "        print('5')\n",
    "    except Exception as e:\n",
    "        print('test hi:',e)\n",
    "    finally:\n",
    "        print('Inner finally')\n",
    "        \n",
    "except Exception as e:\n",
    "    print('test hello:',e)\n",
    "finally:\n",
    "        print('outer finally')"
   ]
  },
  {
   "cell_type": "code",
   "execution_count": 6,
   "id": "113d9037",
   "metadata": {},
   "outputs": [
    {
     "name": "stdout",
     "output_type": "stream",
     "text": [
      "Test hello: unsupported operand type(s) for +: 'int' and 'str'\n",
      "outer finally\n"
     ]
    }
   ],
   "source": [
    "#Ex-23\n",
    "try:\n",
    "    print(23+'surendra')\n",
    "    try:\n",
    "        print(23+'surendra')\n",
    "    except Exception as e:\n",
    "        print('Test hi:',e)\n",
    "    finally:\n",
    "        print('Inner finally')\n",
    "except Exception as e:\n",
    "        print('Test hello:',e)\n",
    "finally:\n",
    "        print('outer finally')"
   ]
  },
  {
   "cell_type": "code",
   "execution_count": 15,
   "id": "b0a77c1c",
   "metadata": {},
   "outputs": [
    {
     "name": "stdout",
     "output_type": "stream",
     "text": [
      "23surendra\n",
      "Test hi: unsupported operand type(s) for +: 'int' and 'str'\n",
      "Test hello: division by zero\n"
     ]
    }
   ],
   "source": [
    "#Ex-24\n",
    "try:\n",
    "    print('23'+'surendra')\n",
    "    try:\n",
    "        print(23+'surendra')\n",
    "    except Exception as e:\n",
    "        print('Test hi:',e)\n",
    "    finally:\n",
    "        print(10/0) #it will produce an error and if there is handling code then it will handle by that corresponding handling code\n",
    "except Exception as e:\n",
    "        print('Test hello:',e)\n"
   ]
  },
  {
   "cell_type": "code",
   "execution_count": 17,
   "id": "e89d6d09",
   "metadata": {},
   "outputs": [
    {
     "name": "stdout",
     "output_type": "stream",
     "text": [
      "23surendra\n",
      "Test hi: unsupported operand type(s) for +: 'int' and 'str'\n"
     ]
    },
    {
     "ename": "ZeroDivisionError",
     "evalue": "division by zero",
     "output_type": "error",
     "traceback": [
      "\u001b[1;31m--------------------------------------------\u001b[0m",
      "\u001b[1;31mZeroDivisionError\u001b[0mTraceback (most recent call last)",
      "Input \u001b[1;32mIn [17]\u001b[0m, in \u001b[0;36m<cell line: 2>\u001b[1;34m()\u001b[0m\n\u001b[0;32m      7\u001b[0m         \u001b[38;5;28mprint\u001b[39m(\u001b[38;5;124m'\u001b[39m\u001b[38;5;124mTest hi:\u001b[39m\u001b[38;5;124m'\u001b[39m,e)\n\u001b[0;32m      8\u001b[0m     \u001b[38;5;28;01mfinally\u001b[39;00m:\n\u001b[1;32m----> 9\u001b[0m         \u001b[38;5;28mprint\u001b[39m(\u001b[38;5;241;43m10\u001b[39;49m\u001b[38;5;241;43m/\u001b[39;49m\u001b[38;5;241;43m0\u001b[39;49m)\n\u001b[0;32m     10\u001b[0m \u001b[38;5;28;01mexcept\u001b[39;00m \u001b[38;5;167;01mFileNotFoundError\u001b[39;00m \u001b[38;5;28;01mas\u001b[39;00m e:\n\u001b[0;32m     11\u001b[0m         \u001b[38;5;28mprint\u001b[39m(\u001b[38;5;124m'\u001b[39m\u001b[38;5;124mTest hello:\u001b[39m\u001b[38;5;124m'\u001b[39m,e)\n",
      "\u001b[1;31mZeroDivisionError\u001b[0m: division by zero"
     ]
    }
   ],
   "source": [
    "#Ex-25\n",
    "try:\n",
    "    print('23'+'surendra')\n",
    "    try:\n",
    "        print(23+'surendra')\n",
    "    except Exception as e:\n",
    "        print('Test hi:',e)\n",
    "    finally:\n",
    "        print(10/0)\n",
    "except FileNotFoundError as e:\n",
    "        print('Test hello:',e)"
   ]
  },
  {
   "cell_type": "code",
   "execution_count": 18,
   "id": "7b4003de",
   "metadata": {},
   "outputs": [
    {
     "name": "stdout",
     "output_type": "stream",
     "text": [
      "23surendra\n",
      "Test hi: unsupported operand type(s) for +: 'int' and 'str'\n",
      "division by zero\n"
     ]
    }
   ],
   "source": [
    "#Ex-26\n",
    "try:\n",
    "    print('23'+'surendra')\n",
    "    try:\n",
    "        print(23+'surendra')\n",
    "    except Exception as e:\n",
    "        print('Test hi:',e)\n",
    "    finally:\n",
    "        print(10/0)\n",
    "except FileNotFoundError as e:\n",
    "        print('Test hello:',e)\n",
    "except Exception as e:\n",
    "        print(e)"
   ]
  },
  {
   "cell_type": "code",
   "execution_count": 19,
   "id": "bf48ee1b",
   "metadata": {},
   "outputs": [
    {
     "name": "stdout",
     "output_type": "stream",
     "text": [
      "23surendra\n",
      "Test hi: unsupported operand type(s) for +: 'int' and 'str'\n",
      "priti\n",
      "division by zero\n"
     ]
    }
   ],
   "source": [
    "#Ex-27\n",
    "try:\n",
    "    print('23'+'surendra')\n",
    "    try:\n",
    "        print(23+'surendra')\n",
    "    except Exception as e:\n",
    "        print('Test hi:',e)\n",
    "    finally:\n",
    "        print('priti')\n",
    "        print(10/0)\n",
    "        print('smruti')\n",
    "except FileNotFoundError as e:\n",
    "        print('Test hello:',e)\n",
    "except Exception as e:\n",
    "        print(e)"
   ]
  },
  {
   "cell_type": "code",
   "execution_count": 20,
   "id": "991b3b1c",
   "metadata": {},
   "outputs": [
    {
     "name": "stdout",
     "output_type": "stream",
     "text": [
      "23surendra\n",
      "Test hi: unsupported operand type(s) for +: 'int' and 'str'\n",
      "priti\n",
      "5.0\n",
      "smruti\n"
     ]
    }
   ],
   "source": [
    "#Ex-28\n",
    "try:\n",
    "    print('23'+'surendra')\n",
    "    try:\n",
    "        print(23+'surendra')\n",
    "    except Exception as e:\n",
    "        print('Test hi:',e)\n",
    "    finally:\n",
    "        print('priti')\n",
    "        print(10/2)\n",
    "        print('smruti')\n",
    "except FileNotFoundError as e:\n",
    "        print('Test hello:',e)\n",
    "except Exception as e:\n",
    "        print(e)"
   ]
  },
  {
   "cell_type": "code",
   "execution_count": 21,
   "id": "4c5f088e",
   "metadata": {},
   "outputs": [
    {
     "name": "stdout",
     "output_type": "stream",
     "text": [
      "False\n"
     ]
    }
   ],
   "source": [
    "#Ex-29\n",
    "def fun():\n",
    "    if(1>1):\n",
    "        return True\n",
    "    else:\n",
    "        return False\n",
    "    return 100\n",
    "    try:\n",
    "        print(1)\n",
    "    except Exception as e:\n",
    "        print(e)\n",
    "    finally:\n",
    "        return 999\n",
    "print(fun())\n",
    "    \n",
    "        "
   ]
  },
  {
   "cell_type": "code",
   "execution_count": 22,
   "id": "5262db4b",
   "metadata": {},
   "outputs": [
    {
     "name": "stdout",
     "output_type": "stream",
     "text": [
      "300\n"
     ]
    }
   ],
   "source": [
    "#Ex-30\n",
    "def fun():\n",
    "    \n",
    "    try:\n",
    "        return 100\n",
    "    except:\n",
    "        return 200\n",
    "    finally:\n",
    "        return 300\n",
    "print(fun())\n",
    "    \n",
    "        "
   ]
  },
  {
   "cell_type": "code",
   "execution_count": 24,
   "id": "b0cec6eb",
   "metadata": {},
   "outputs": [
    {
     "name": "stdout",
     "output_type": "stream",
     "text": [
      "100\n"
     ]
    }
   ],
   "source": [
    "#Ex-31\n",
    "def fun():\n",
    "    \n",
    "    try:\n",
    "        return 100\n",
    "    except:\n",
    "        return 200\n",
    "  \n",
    "print(fun())\n",
    "    \n",
    "        "
   ]
  },
  {
   "cell_type": "code",
   "execution_count": 26,
   "id": "a53db207",
   "metadata": {},
   "outputs": [
    {
     "name": "stdout",
     "output_type": "stream",
     "text": [
      "50\n"
     ]
    }
   ],
   "source": [
    "#Ex-31\n",
    "def fun():\n",
    "    return 50\n",
    "    try:\n",
    "        return 100\n",
    "    except:\n",
    "        return 200\n",
    "    finally:\n",
    "        return 999\n",
    "print(fun())\n",
    "    \n",
    "        "
   ]
  },
  {
   "cell_type": "code",
   "execution_count": 27,
   "id": "8a13d566",
   "metadata": {},
   "outputs": [
    {
     "name": "stdout",
     "output_type": "stream",
     "text": [
      "1\n",
      "end\n"
     ]
    }
   ],
   "source": [
    "#Ex-32\n",
    "try:\n",
    "    print('1')\n",
    "finally:\n",
    "    print('end')"
   ]
  },
  {
   "cell_type": "code",
   "execution_count": 16,
   "id": "7c31200e",
   "metadata": {},
   "outputs": [
    {
     "ename": "SyntaxError",
     "evalue": "unexpected EOF while parsing (640067706.py, line 10)",
     "output_type": "error",
     "traceback": [
      "\u001b[1;36m  Input \u001b[1;32mIn [16]\u001b[1;36m\u001b[0m\n\u001b[1;33m    print(10/0)\u001b[0m\n\u001b[1;37m               ^\u001b[0m\n\u001b[1;31mSyntaxError\u001b[0m\u001b[1;31m:\u001b[0m unexpected EOF while parsing\n"
     ]
    }
   ],
   "source": [
    "#Ex-33\n",
    "\n",
    "try:\n",
    "    print('23'+'surendra')\n",
    "    try:\n",
    "        print(23+'surendra')\n",
    "    except Exception as e:\n",
    "        print('Test hi:',e)\n",
    "    finally:\n",
    "        print(10/0) #handling code is not present\n"
   ]
  }
 ],
 "metadata": {
  "kernelspec": {
   "display_name": "Python 3 (ipykernel)",
   "language": "python",
   "name": "python3"
  },
  "language_info": {
   "codemirror_mode": {
    "name": "ipython",
    "version": 3
   },
   "file_extension": ".py",
   "mimetype": "text/x-python",
   "name": "python",
   "nbconvert_exporter": "python",
   "pygments_lexer": "ipython3",
   "version": "3.9.12"
  }
 },
 "nbformat": 4,
 "nbformat_minor": 5
}
