{
 "cells": [
  {
   "cell_type": "markdown",
   "id": "b77d84f5",
   "metadata": {},
   "source": [
    "dt-15/03/23"
   ]
  },
  {
   "cell_type": "markdown",
   "id": "7c1120ec",
   "metadata": {},
   "source": [
    "# CUSTOMIZED EXCEPTION"
   ]
  },
  {
   "cell_type": "code",
   "execution_count": null,
   "id": "240ca6b6",
   "metadata": {},
   "outputs": [],
   "source": []
  },
  {
   "cell_type": "code",
   "execution_count": 4,
   "id": "aef92104",
   "metadata": {},
   "outputs": [
    {
     "name": "stdout",
     "output_type": "stream",
     "text": [
      "1500 withdraw successfully\n"
     ]
    },
    {
     "ename": "InSufficientBalanace",
     "evalue": "",
     "output_type": "error",
     "traceback": [
      "\u001b[1;31m---------------------------------------------------------------------------\u001b[0m",
      "\u001b[1;31mInSufficientBalanace\u001b[0m                      Traceback (most recent call last)",
      "Input \u001b[1;32mIn [4]\u001b[0m, in \u001b[0;36m<cell line: 12>\u001b[1;34m()\u001b[0m\n\u001b[0;32m      9\u001b[0m         \u001b[38;5;28mprint\u001b[39m(\u001b[38;5;124mf\u001b[39m\u001b[38;5;124m'\u001b[39m\u001b[38;5;132;01m{\u001b[39;00mamount\u001b[38;5;132;01m}\u001b[39;00m\u001b[38;5;124m withdraw successfully\u001b[39m\u001b[38;5;124m'\u001b[39m)\n\u001b[0;32m     11\u001b[0m withdraw(\u001b[38;5;241m1500\u001b[39m)\n\u001b[1;32m---> 12\u001b[0m \u001b[43mwithdraw\u001b[49m\u001b[43m(\u001b[49m\u001b[38;5;241;43m260000\u001b[39;49m\u001b[43m)\u001b[49m\n\u001b[0;32m     13\u001b[0m \u001b[38;5;28mprint\u001b[39m(\u001b[38;5;124m'\u001b[39m\u001b[38;5;124mlast line\u001b[39m\u001b[38;5;124m'\u001b[39m)\n",
      "Input \u001b[1;32mIn [4]\u001b[0m, in \u001b[0;36mwithdraw\u001b[1;34m(amount)\u001b[0m\n\u001b[0;32m      5\u001b[0m main_bal\u001b[38;5;241m=\u001b[39m\u001b[38;5;241m20000\u001b[39m\n\u001b[0;32m      6\u001b[0m \u001b[38;5;28;01mif\u001b[39;00m(amount\u001b[38;5;241m>\u001b[39mmain_bal):\n\u001b[1;32m----> 7\u001b[0m     \u001b[38;5;28;01mraise\u001b[39;00m InSufficientBalanace\n\u001b[0;32m      8\u001b[0m \u001b[38;5;28;01melse\u001b[39;00m:\n\u001b[0;32m      9\u001b[0m     \u001b[38;5;28mprint\u001b[39m(\u001b[38;5;124mf\u001b[39m\u001b[38;5;124m'\u001b[39m\u001b[38;5;132;01m{\u001b[39;00mamount\u001b[38;5;132;01m}\u001b[39;00m\u001b[38;5;124m withdraw successfully\u001b[39m\u001b[38;5;124m'\u001b[39m)\n",
      "\u001b[1;31mInSufficientBalanace\u001b[0m: "
     ]
    }
   ],
   "source": [
    "#ex-1\n",
    "class InSufficientBalanace(Exception):\n",
    "    pass\n",
    "def withdraw(amount):\n",
    "    main_bal=20000\n",
    "    if(amount>main_bal):\n",
    "        raise InSufficientBalanace\n",
    "    else:\n",
    "        print(f'{amount} withdraw successfully')\n",
    "        \n",
    "withdraw(1500)\n",
    "withdraw(260000)\n",
    "#it will not execute bcz before it one exception occurs\n",
    "print('last line')"
   ]
  },
  {
   "cell_type": "code",
   "execution_count": 11,
   "id": "e3d9ccf3",
   "metadata": {},
   "outputs": [
    {
     "name": "stdout",
     "output_type": "stream",
     "text": [
      "1500 withdraw successfully\n",
      "your withdraw amount should be less than main_bal\n",
      "last line\n"
     ]
    }
   ],
   "source": [
    "#ex-1(handle customized exception)\n",
    "class InSufficientBalanace(Exception):\n",
    "    pass\n",
    "def withdraw(amount):\n",
    "    main_bal=20000\n",
    "    if(amount>main_bal):\n",
    "        raise InSufficientBalanace\n",
    "    else:\n",
    "        print(f'{amount} withdraw successfully')\n",
    "        \n",
    "withdraw(1500)\n",
    "\n",
    "try:\n",
    "    withdraw(260000) \n",
    "except InSufficientBalanace:\n",
    "    print('your withdraw amount should be less than main_bal')\n",
    "print('last line')"
   ]
  },
  {
   "cell_type": "code",
   "execution_count": 12,
   "id": "832f6c1e",
   "metadata": {},
   "outputs": [
    {
     "name": "stdout",
     "output_type": "stream",
     "text": [
      "1500 withdraw successfully\n",
      "your withdraw amount should be less than main_bal\n",
      "last line\n"
     ]
    }
   ],
   "source": [
    "#ex-2\n",
    "class InSufficientBalanace(Exception):\n",
    "    pass\n",
    "def withdraw(amount):\n",
    "    main_bal=20000\n",
    "    if(amount>main_bal):\n",
    "        raise InSufficientBalanace('your withdraw amount should be less than main_bal')\n",
    "    else:\n",
    "        print(f'{amount} withdraw successfully')\n",
    "        \n",
    "withdraw(1500)\n",
    "\n",
    "try:\n",
    "    withdraw(260000) \n",
    "except InSufficientBalanace as i:\n",
    "    print(i)\n",
    "print('last line')"
   ]
  },
  {
   "cell_type": "code",
   "execution_count": 14,
   "id": "88988eaf",
   "metadata": {},
   "outputs": [],
   "source": [
    "#ex-2\n",
    "#if user provide 1st value is larger than 2nd value then we will raise an exception\n",
    "for i in range(10,5):\n",
    "    print(i)"
   ]
  },
  {
   "cell_type": "code",
   "execution_count": 4,
   "id": "40068af5",
   "metadata": {},
   "outputs": [
    {
     "name": "stdout",
     "output_type": "stream",
     "text": [
      "10\n",
      "11\n",
      "12\n",
      "13\n",
      "14\n",
      "15\n",
      "16\n",
      "17\n",
      "18\n",
      "19\n",
      "-----\n"
     ]
    },
    {
     "ename": "firstValueSmallException",
     "evalue": "",
     "output_type": "error",
     "traceback": [
      "\u001b[1;31m---------------------------------------------------------------------------\u001b[0m",
      "\u001b[1;31mfirstValueSmallException\u001b[0m                  Traceback (most recent call last)",
      "Input \u001b[1;32mIn [4]\u001b[0m, in \u001b[0;36m<cell line: 14>\u001b[1;34m()\u001b[0m\n\u001b[0;32m     12\u001b[0m printval(\u001b[38;5;241m10\u001b[39m,\u001b[38;5;241m20\u001b[39m)\n\u001b[0;32m     13\u001b[0m \u001b[38;5;28mprint\u001b[39m(\u001b[38;5;124m'\u001b[39m\u001b[38;5;124m-\u001b[39m\u001b[38;5;124m'\u001b[39m\u001b[38;5;241m*\u001b[39m\u001b[38;5;241m5\u001b[39m)\n\u001b[1;32m---> 14\u001b[0m \u001b[43mprintval\u001b[49m\u001b[43m(\u001b[49m\u001b[38;5;241;43m10\u001b[39;49m\u001b[43m,\u001b[49m\u001b[38;5;241;43m5\u001b[39;49m\u001b[43m)\u001b[49m   \n\u001b[0;32m     15\u001b[0m \u001b[38;5;28mprint\u001b[39m(\u001b[38;5;124m'\u001b[39m\u001b[38;5;124mlast line\u001b[39m\u001b[38;5;124m'\u001b[39m)\n",
      "Input \u001b[1;32mIn [4]\u001b[0m, in \u001b[0;36mprintval\u001b[1;34m(a, b)\u001b[0m\n\u001b[0;32m      6\u001b[0m \u001b[38;5;28;01mdef\u001b[39;00m \u001b[38;5;21mprintval\u001b[39m(a,b):\n\u001b[0;32m      7\u001b[0m     \u001b[38;5;28;01mif\u001b[39;00m(a\u001b[38;5;241m>\u001b[39mb):\n\u001b[1;32m----> 8\u001b[0m         \u001b[38;5;28;01mraise\u001b[39;00m firstValueSmallException\n\u001b[0;32m      9\u001b[0m     \u001b[38;5;28;01melse\u001b[39;00m:\n\u001b[0;32m     10\u001b[0m         \u001b[38;5;28;01mfor\u001b[39;00m i \u001b[38;5;129;01min\u001b[39;00m \u001b[38;5;28mrange\u001b[39m(a,b):\n",
      "\u001b[1;31mfirstValueSmallException\u001b[0m: "
     ]
    }
   ],
   "source": [
    "#ex-2\n",
    "class  firstValueSmallException(Exception):\n",
    "    pass\n",
    "\n",
    "\n",
    "def printval(a,b):\n",
    "    if(a>b):\n",
    "        raise firstValueSmallException\n",
    "    else:\n",
    "        for i in range(a,b):\n",
    "            print(i)\n",
    "printval(10,20)\n",
    "print('-'*5)\n",
    "printval(10,5)   \n",
    "print('last line')"
   ]
  },
  {
   "cell_type": "code",
   "execution_count": 5,
   "id": "73398aa2",
   "metadata": {},
   "outputs": [
    {
     "name": "stdout",
     "output_type": "stream",
     "text": [
      "5\n",
      "6\n",
      "7\n",
      "8\n",
      "9\n",
      "-----\n",
      "first value should be smaller than second value\n",
      "last line\n"
     ]
    }
   ],
   "source": [
    "#ex-2(handling)\n",
    "class  firstValueSmallException(Exception):\n",
    "    pass\n",
    "\n",
    "\n",
    "def printval(a,b):\n",
    "    if(a>b):\n",
    "        raise firstValueSmallException('first value should be smaller than second value')\n",
    "    else:\n",
    "        for i in range(a,b):\n",
    "            print(i)\n",
    "            \n",
    "printval(5,10)\n",
    "print('-'*5)\n",
    "try:\n",
    "    printval(10,5) \n",
    "except firstValueSmallException as fs:\n",
    "    print(fs)\n",
    "print('last line')"
   ]
  },
  {
   "cell_type": "code",
   "execution_count": 10,
   "id": "4e0d906f",
   "metadata": {},
   "outputs": [
    {
     "name": "stdout",
     "output_type": "stream",
     "text": [
      "10\n",
      "11\n",
      "12\n",
      "13\n",
      "14\n",
      "15\n",
      "16\n",
      "17\n",
      "18\n",
      "19\n",
      "-----\n"
     ]
    },
    {
     "ename": "firstValueSmallException",
     "evalue": "first value should be smaller than second value",
     "output_type": "error",
     "traceback": [
      "\u001b[1;31m---------------------------------------------------------------------------\u001b[0m",
      "\u001b[1;31mfirstValueSmallException\u001b[0m                  Traceback (most recent call last)",
      "Input \u001b[1;32mIn [10]\u001b[0m, in \u001b[0;36m<cell line: 15>\u001b[1;34m()\u001b[0m\n\u001b[0;32m     14\u001b[0m \u001b[38;5;28mprint\u001b[39m(\u001b[38;5;124m'\u001b[39m\u001b[38;5;124m-\u001b[39m\u001b[38;5;124m'\u001b[39m\u001b[38;5;241m*\u001b[39m\u001b[38;5;241m5\u001b[39m)\n\u001b[0;32m     15\u001b[0m \u001b[38;5;28;01mtry\u001b[39;00m:\n\u001b[1;32m---> 16\u001b[0m     \u001b[43mprintval\u001b[49m\u001b[43m(\u001b[49m\u001b[38;5;241;43m10\u001b[39;49m\u001b[43m,\u001b[49m\u001b[38;5;241;43m5\u001b[39;49m\u001b[43m)\u001b[49m \n\u001b[0;32m     17\u001b[0m \u001b[38;5;28;01mexcept\u001b[39;00m \u001b[38;5;167;01mZeroDivisionError\u001b[39;00m \u001b[38;5;28;01mas\u001b[39;00m fs:\n\u001b[0;32m     18\u001b[0m     \u001b[38;5;28mprint\u001b[39m(fs)\n",
      "Input \u001b[1;32mIn [10]\u001b[0m, in \u001b[0;36mprintval\u001b[1;34m(a, b)\u001b[0m\n\u001b[0;32m      6\u001b[0m \u001b[38;5;28;01mdef\u001b[39;00m \u001b[38;5;21mprintval\u001b[39m(a,b):\n\u001b[0;32m      7\u001b[0m     \u001b[38;5;28;01mif\u001b[39;00m(a\u001b[38;5;241m>\u001b[39mb):\n\u001b[1;32m----> 8\u001b[0m         \u001b[38;5;28;01mraise\u001b[39;00m firstValueSmallException(\u001b[38;5;124m'\u001b[39m\u001b[38;5;124mfirst value should be smaller than second value\u001b[39m\u001b[38;5;124m'\u001b[39m)\n\u001b[0;32m      9\u001b[0m     \u001b[38;5;28;01melse\u001b[39;00m:\n\u001b[0;32m     10\u001b[0m         \u001b[38;5;28;01mfor\u001b[39;00m i \u001b[38;5;129;01min\u001b[39;00m \u001b[38;5;28mrange\u001b[39m(a,b):\n",
      "\u001b[1;31mfirstValueSmallException\u001b[0m: first value should be smaller than second value"
     ]
    }
   ],
   "source": [
    "#ex-2(abnormally termination of program)\n",
    "class  firstValueSmallException(Exception):\n",
    "    pass\n",
    "\n",
    "\n",
    "def printval(a,b):\n",
    "    if(a>b):\n",
    "        raise firstValueSmallException('first value should be smaller than second value')\n",
    "    else:\n",
    "        for i in range(a,b):\n",
    "            print(i)\n",
    "            \n",
    "printval(10,20)\n",
    "print('-'*5)\n",
    "try:\n",
    "    printval(10,5) \n",
    "except ZeroDivisionError as fs:\n",
    "    print(fs)\n",
    "print('last line')"
   ]
  },
  {
   "cell_type": "code",
   "execution_count": 11,
   "id": "4a4ef6c3",
   "metadata": {},
   "outputs": [
    {
     "name": "stdout",
     "output_type": "stream",
     "text": [
      "10\n",
      "11\n",
      "12\n",
      "13\n",
      "14\n",
      "15\n",
      "16\n",
      "17\n",
      "18\n",
      "19\n",
      "-----\n",
      "first value should be smaller than second value\n"
     ]
    }
   ],
   "source": [
    "#ex-2(using Base class)\n",
    "class  firstValueSmallException(Exception):\n",
    "    pass\n",
    "\n",
    "\n",
    "def printval(a,b):\n",
    "    if(a>b):\n",
    "        raise firstValueSmallException('first value should be smaller than second value')\n",
    "    else:\n",
    "        for i in range(a,b):\n",
    "            print(i)\n",
    "            \n",
    "printval(10,20)\n",
    "print('-'*5)\n",
    "try:\n",
    "    printval(10,5) \n",
    "except Exception as e:\n",
    "    print(e)"
   ]
  },
  {
   "cell_type": "code",
   "execution_count": 1,
   "id": "66e9a143",
   "metadata": {},
   "outputs": [
    {
     "name": "stdout",
     "output_type": "stream",
     "text": [
      "Enter a number:17\n",
      "not Eligible for vote\n"
     ]
    }
   ],
   "source": [
    "#ex-3\n",
    "class AgeInvalidException(Exception):\n",
    "    pass\n",
    "\n",
    "n=18\n",
    "\n",
    "try:\n",
    "    num=int(input(\"Enter a number:\"))\n",
    "    if num<n:\n",
    "        raise  AgeInvalidException('not Eligible for vote')\n",
    "    else:\n",
    "        print('Eligible for vote')\n",
    "except AgeInvalidException as a:\n",
    "    print(a)"
   ]
  },
  {
   "cell_type": "code",
   "execution_count": 13,
   "id": "c0ca9e33",
   "metadata": {},
   "outputs": [
    {
     "name": "stdout",
     "output_type": "stream",
     "text": [
      "Enter a number:45\n",
      "Eligible for vote\n"
     ]
    }
   ],
   "source": [
    "#ex-3\n",
    "class AgeInvalidException(Exception):\n",
    "    pass\n",
    "\n",
    "n=18\n",
    "\n",
    "try:\n",
    "    num=int(input(\"Enter a number:\"))\n",
    "    if num<n:\n",
    "        raise  AgeInvalidException('not Eligible for vote')\n",
    "    else:\n",
    "        print('Eligible for vote')\n",
    "except AgeInvalidException as a:\n",
    "    print(a)"
   ]
  }
 ],
 "metadata": {
  "kernelspec": {
   "display_name": "Python 3 (ipykernel)",
   "language": "python",
   "name": "python3"
  },
  "language_info": {
   "codemirror_mode": {
    "name": "ipython",
    "version": 3
   },
   "file_extension": ".py",
   "mimetype": "text/x-python",
   "name": "python",
   "nbconvert_exporter": "python",
   "pygments_lexer": "ipython3",
   "version": "3.9.12"
  }
 },
 "nbformat": 4,
 "nbformat_minor": 5
}
