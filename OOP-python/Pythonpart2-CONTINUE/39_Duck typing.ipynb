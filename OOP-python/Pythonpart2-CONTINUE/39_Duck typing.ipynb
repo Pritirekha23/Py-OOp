{
 "cells": [
  {
   "cell_type": "markdown",
   "id": "7a1ad56c",
   "metadata": {},
   "source": [
    "# Duck typing"
   ]
  },
  {
   "cell_type": "markdown",
   "id": "47ccde0d",
   "metadata": {},
   "source": [
    "dt-10/02/23"
   ]
  },
  {
   "cell_type": "markdown",
   "id": "eb10159f",
   "metadata": {},
   "source": [
    "\n",
    "object contain method\n",
    "here the type of object is not important the method is more important"
   ]
  },
  {
   "cell_type": "code",
   "execution_count": 14,
   "id": "a34bc018",
   "metadata": {},
   "outputs": [
    {
     "name": "stdout",
     "output_type": "stream",
     "text": [
      "A-m1\n"
     ]
    }
   ],
   "source": [
    "class A:\n",
    "    def m1(self):\n",
    "        print('A-m1')\n",
    "    \n",
    "class B:\n",
    "    def m1(self):\n",
    "        print('B-m1')\n",
    "        \n",
    "class C:\n",
    "    def m1(self):\n",
    "        print('C-m1')\n",
    "        \n",
    "    \n",
    "def display(x):\n",
    "    x.m1()\n",
    "    \n",
    "# x does not care about what type of object u  r passing , here it will check whether that class contain m1() method or not    \n",
    "a=A()\n",
    "display(a)"
   ]
  },
  {
   "cell_type": "code",
   "execution_count": 20,
   "id": "1be1681c",
   "metadata": {},
   "outputs": [
    {
     "name": "stdout",
     "output_type": "stream",
     "text": [
      "A-m1\n",
      "B-m1\n"
     ]
    }
   ],
   "source": [
    "class A:\n",
    "    def m1(self):\n",
    "        print('A-m1')\n",
    "    \n",
    "class B:\n",
    "    def m1(self):\n",
    "        print('B-m1')\n",
    "        \n",
    "class C:\n",
    "    def m1(self):\n",
    "        print('C-m1')\n",
    "        \n",
    "    \n",
    "def display(x):\n",
    "    x.m1() # it means a.m1()\n",
    "    \n",
    "    \n",
    "a=A()\n",
    "display(a)\n",
    "\n",
    "bj=B()\n",
    "displya(bj)"
   ]
  },
  {
   "cell_type": "code",
   "execution_count": 18,
   "id": "2c4f3162",
   "metadata": {},
   "outputs": [
    {
     "ename": "AttributeError",
     "evalue": "'C' object has no attribute 'm1'",
     "output_type": "error",
     "traceback": [
      "\u001b[1;31m---------------------------------------------------------------------------\u001b[0m",
      "\u001b[1;31mAttributeError\u001b[0m                            Traceback (most recent call last)",
      "Input \u001b[1;32mIn [18]\u001b[0m, in \u001b[0;36m<cell line: 18>\u001b[1;34m()\u001b[0m\n\u001b[0;32m     13\u001b[0m     x\u001b[38;5;241m.\u001b[39mm1() \u001b[38;5;66;03m# it means a.m1()\u001b[39;00m\n\u001b[0;32m     17\u001b[0m obj\u001b[38;5;241m=\u001b[39mC()\n\u001b[1;32m---> 18\u001b[0m \u001b[43mdisplya\u001b[49m\u001b[43m(\u001b[49m\u001b[43mobj\u001b[49m\u001b[43m)\u001b[49m\n",
      "Input \u001b[1;32mIn [12]\u001b[0m, in \u001b[0;36mdisplya\u001b[1;34m(x)\u001b[0m\n\u001b[0;32m     14\u001b[0m \u001b[38;5;28;01mdef\u001b[39;00m \u001b[38;5;21mdisplya\u001b[39m(x):\n\u001b[1;32m---> 15\u001b[0m     \u001b[43mx\u001b[49m\u001b[38;5;241;43m.\u001b[39;49m\u001b[43mm1\u001b[49m()\n",
      "\u001b[1;31mAttributeError\u001b[0m: 'C' object has no attribute 'm1'"
     ]
    }
   ],
   "source": [
    "class A:\n",
    "    def m1(self):\n",
    "        print('A-m1')\n",
    "    \n",
    "class B:\n",
    "    def m1(self):\n",
    "        print('B-m1')\n",
    "        \n",
    "class C:\n",
    "    pass\n",
    "    \n",
    "def display(x):\n",
    "    x.m1() # it means a.m1()\n",
    "    \n",
    "    \n",
    "#obj is C type\n",
    "obj=C()\n",
    "displya(obj)\n"
   ]
  },
  {
   "cell_type": "markdown",
   "id": "58d8db76",
   "metadata": {},
   "source": [
    "## \"If it walks like duck, swims like duck, looks like a duck, then it probably should be a duck.\""
   ]
  }
 ],
 "metadata": {
  "kernelspec": {
   "display_name": "Python 3 (ipykernel)",
   "language": "python",
   "name": "python3"
  },
  "language_info": {
   "codemirror_mode": {
    "name": "ipython",
    "version": 3
   },
   "file_extension": ".py",
   "mimetype": "text/x-python",
   "name": "python",
   "nbconvert_exporter": "python",
   "pygments_lexer": "ipython3",
   "version": "3.9.12"
  }
 },
 "nbformat": 4,
 "nbformat_minor": 5
}
