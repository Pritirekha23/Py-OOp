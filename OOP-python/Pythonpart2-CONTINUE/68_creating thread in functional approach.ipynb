{
 "cells": [
  {
   "cell_type": "markdown",
   "id": "18569fa0",
   "metadata": {},
   "source": [
    "dt-12/04/23"
   ]
  },
  {
   "cell_type": "markdown",
   "id": "16d32fae",
   "metadata": {},
   "source": [
    "# HOW TO CREATE THREAD IN FUNCTIONAL APPROACH"
   ]
  },
  {
   "cell_type": "code",
   "execution_count": 1,
   "id": "735d868d",
   "metadata": {},
   "outputs": [
    {
     "name": "stdout",
     "output_type": "stream",
     "text": [
      "priti\n",
      "priti\n",
      "priti\n",
      "priti\n",
      "priti\n",
      "smruti\n",
      "smruti\n",
      "smruti\n",
      "smruti\n",
      "smruti\n"
     ]
    }
   ],
   "source": [
    "#ex-1\n",
    "#without multithreading program(single thread)\n",
    "\n",
    "def fun1():\n",
    "    for i in range(5):\n",
    "        print('priti')\n",
    "def fun2():\n",
    "    for i in range(5):\n",
    "        print('smruti')\n",
    "fun1()\n",
    "fun2()"
   ]
  },
  {
   "cell_type": "code",
   "execution_count": 11,
   "id": "afb07faf",
   "metadata": {},
   "outputs": [
    {
     "name": "stdout",
     "output_type": "stream",
     "text": [
      "priti\n",
      "priti\n",
      "priti\n",
      "smruti\n",
      "smruti\n",
      "smruti\n",
      "smruti\n",
      "smruti\n",
      "priti\n",
      "priti\n"
     ]
    }
   ],
   "source": [
    "#ex-2\n",
    "#with multithreading program\n",
    "from threading import *\n",
    "\n",
    "def fun1():\n",
    "    for i in range(5):\n",
    "        print('priti')\n",
    "        \n",
    "def fun2():\n",
    "    for i in range(5):\n",
    "        print('smruti')\n",
    "        \n",
    "# create thread\n",
    "t1=Thread(target=fun1)\n",
    "t1.start()\n",
    "\n",
    "t2=Thread(target=fun2)\n",
    "t2.start()"
   ]
  },
  {
   "cell_type": "code",
   "execution_count": 42,
   "id": "1ccd426b",
   "metadata": {},
   "outputs": [
    {
     "name": "stdout",
     "output_type": "stream",
     "text": [
      "line-2: MainThread\n",
      "line-17: MainThread\n",
      "line-5: Thread-77\n",
      "priti\n",
      "priti\n",
      "priti\n",
      "priti\n",
      "priti\n",
      "line-19: MainThread\n",
      "line-22: MainThread\n",
      "line-11: Thread-78\n",
      "smruti\n",
      "smruti\n",
      "smruti\n",
      "smruti\n",
      "smruti\n",
      "line-24: MainThread\n"
     ]
    }
   ],
   "source": [
    "#ex-3(thread informstions)\n",
    "from threading import *\n",
    "print('line-2:', current_thread().name)\n",
    "def fun1():\n",
    "    print('line-5:', current_thread().name)\n",
    "    for i in range(5):\n",
    "        print('priti')\n",
    " \n",
    "      \n",
    "def fun2():\n",
    "    print('line-11:', current_thread().name)\n",
    "    for i in range(5):\n",
    "        print('smruti')\n",
    "        \n",
    "# create thread\n",
    "t1=Thread(target=fun1)\n",
    "print('line-17:', current_thread().name)\n",
    "t1.start()\n",
    "print('line-19:', current_thread().name)\n",
    "\n",
    "t2=Thread(target=fun2)\n",
    "print('line-22:', current_thread().name)\n",
    "t2.start()\n",
    "print('line-24:', current_thread().name)\n",
    "\n",
    "#print('line 26:',active_count())"
   ]
  },
  {
   "cell_type": "code",
   "execution_count": 89,
   "id": "da625313",
   "metadata": {},
   "outputs": [
    {
     "name": "stdout",
     "output_type": "stream",
     "text": [
      "line 14: 6\n",
      "pritiline 16:\n",
      "priti\n",
      "priti\n",
      "priti\n",
      "priti\n",
      " 7\n",
      "line 18: 6\n",
      "smruti\n",
      "line 19:smruti\n",
      "smruti 7\n",
      "\n",
      "smruti\n",
      "smruti\n"
     ]
    }
   ],
   "source": [
    "#ex-4 count number of thread\n",
    "from threading import *\n",
    "\n",
    "def fun1():\n",
    "    for i in range(5):\n",
    "        print('priti')\n",
    "        \n",
    "def fun2():\n",
    "    for i in range(5):\n",
    "        print('smruti')\n",
    "        \n",
    "# create thread\n",
    "t1=Thread(target=fun1)\n",
    "print('line 14:',active_count())\n",
    "t1.start()\n",
    "print('line 16:',active_count())\n",
    "t2=Thread(target=fun2)\n",
    "\n",
    "print('line 18:',active_count())\n",
    "t2.start()\n",
    "\n",
    "\n",
    "print('line 19:',active_count())"
   ]
  },
  {
   "cell_type": "code",
   "execution_count": null,
   "id": "9b5a503f",
   "metadata": {},
   "outputs": [],
   "source": [
    "#ex-5"
   ]
  }
 ],
 "metadata": {
  "kernelspec": {
   "display_name": "Python 3 (ipykernel)",
   "language": "python",
   "name": "python3"
  },
  "language_info": {
   "codemirror_mode": {
    "name": "ipython",
    "version": 3
   },
   "file_extension": ".py",
   "mimetype": "text/x-python",
   "name": "python",
   "nbconvert_exporter": "python",
   "pygments_lexer": "ipython3",
   "version": "3.9.12"
  }
 },
 "nbformat": 4,
 "nbformat_minor": 5
}
