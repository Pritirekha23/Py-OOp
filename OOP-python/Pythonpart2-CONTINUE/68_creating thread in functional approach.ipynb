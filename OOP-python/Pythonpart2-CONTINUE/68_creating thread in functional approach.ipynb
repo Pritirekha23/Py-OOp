{
 "cells": [
  {
   "cell_type": "markdown",
   "id": "58cea0fc",
   "metadata": {},
   "source": [
    "dt-12/04/23"
   ]
  },
  {
   "cell_type": "markdown",
   "id": "59c9f9a5",
   "metadata": {},
   "source": [
    "# HOW TO CREATE THREAD IN FUNCTIONAL APPROACH"
   ]
  },
  {
   "cell_type": "code",
   "execution_count": 1,
   "id": "83f21c97",
   "metadata": {},
   "outputs": [
    {
     "name": "stdout",
     "output_type": "stream",
     "text": [
      "priti\n",
      "priti\n",
      "priti\n",
      "priti\n",
      "priti\n",
      "smruti\n",
      "smruti\n",
      "smruti\n",
      "smruti\n",
      "smruti\n"
     ]
    }
   ],
   "source": [
    "#ex-1\n",
    "#without multithreading program(single thread)\n",
    "\n",
    "def fun1():\n",
    "    for i in range(5):\n",
    "        print('priti')\n",
    "def fun2():\n",
    "    for i in range(5):\n",
    "        print('smruti')\n",
    "fun1()\n",
    "fun2()"
   ]
  },
  {
   "cell_type": "code",
   "execution_count": 11,
   "id": "196656e5",
   "metadata": {},
   "outputs": [
    {
     "name": "stdout",
     "output_type": "stream",
     "text": [
      "priti\n",
      "priti\n",
      "priti\n",
      "smruti\n",
      "smruti\n",
      "smruti\n",
      "smruti\n",
      "smruti\n",
      "priti\n",
      "priti\n"
     ]
    }
   ],
   "source": [
    "#ex-2\n",
    "#with multithreading program\n",
    "from threading import *\n",
    "\n",
    "def fun1():\n",
    "    for i in range(5):\n",
    "        print('priti')\n",
    "        \n",
    "def fun2():\n",
    "    for i in range(5):\n",
    "        print('smruti')\n",
    "        \n",
    "# create thread\n",
    "t1=Thread(target=fun1)\n",
    "t1.start()\n",
    "\n",
    "t2=Thread(target=fun2)\n",
    "t2.start()"
   ]
  },
  {
   "cell_type": "code",
   "execution_count": 42,
   "id": "10b08b5a",
   "metadata": {},
   "outputs": [
    {
     "name": "stdout",
     "output_type": "stream",
     "text": [
      "line-2: MainThread\n",
      "line-17: MainThread\n",
      "line-5: Thread-77\n",
      "priti\n",
      "priti\n",
      "priti\n",
      "priti\n",
      "priti\n",
      "line-19: MainThread\n",
      "line-22: MainThread\n",
      "line-11: Thread-78\n",
      "smruti\n",
      "smruti\n",
      "smruti\n",
      "smruti\n",
      "smruti\n",
      "line-24: MainThread\n"
     ]
    }
   ],
   "source": [
    "#ex-3(thread informstions)\n",
    "from threading import *\n",
    "print('line-2:', current_thread().name)\n",
    "def fun1():\n",
    "    print('line-5:', current_thread().name)\n",
    "    for i in range(5):\n",
    "        print('priti')\n",
    " \n",
    "      \n",
    "def fun2():\n",
    "    print('line-11:', current_thread().name)\n",
    "    for i in range(5):\n",
    "        print('smruti')\n",
    "        \n",
    "# create thread\n",
    "t1=Thread(target=fun1)\n",
    "print('line-17:', current_thread().name)\n",
    "t1.start()\n",
    "print('line-19:', current_thread().name)\n",
    "\n",
    "t2=Thread(target=fun2)\n",
    "print('line-22:', current_thread().name)\n",
    "t2.start()\n",
    "print('line-24:', current_thread().name)\n",
    "\n",
    "#print('line 26:',active_count())"
   ]
  },
  {
   "cell_type": "code",
   "execution_count": 89,
   "id": "fbac054c",
   "metadata": {},
   "outputs": [
    {
     "name": "stdout",
     "output_type": "stream",
     "text": [
      "line 14: 6\n",
      "pritiline 16:\n",
      "priti\n",
      "priti\n",
      "priti\n",
      "priti\n",
      " 7\n",
      "line 18: 6\n",
      "smruti\n",
      "line 19:smruti\n",
      "smruti 7\n",
      "\n",
      "smruti\n",
      "smruti\n"
     ]
    }
   ],
   "source": [
    "#ex-4 count number of thread\n",
    "from threading import *\n",
    "\n",
    "def fun1():\n",
    "    for i in range(5):\n",
    "        print('priti')\n",
    "        \n",
    "def fun2():\n",
    "    for i in range(5):\n",
    "        print('smruti')\n",
    "        \n",
    "# create thread\n",
    "t1=Thread(target=fun1)\n",
    "print('line 14:',active_count())\n",
    "t1.start()\n",
    "print('line 16:',active_count())\n",
    "t2=Thread(target=fun2)\n",
    "\n",
    "print('line 18:',active_count())\n",
    "t2.start()\n",
    "\n",
    "\n",
    "print('line 19:',active_count())"
   ]
  },
  {
   "cell_type": "code",
   "execution_count": 139,
   "id": "28f856a0",
   "metadata": {},
   "outputs": [
    {
     "name": "stdout",
     "output_type": "stream",
     "text": [
      "line 1: MainThread\n",
      "line 5:line 13: MainThread\n",
      "line 8: MainThread\n",
      "j 0\n",
      "j 1\n",
      "j 2\n",
      "j 3\n",
      "j 4\n",
      " Thread-253\n",
      "i 0\n",
      "i 1\n",
      "i 2\n",
      "i 3\n",
      "i 4\n"
     ]
    }
   ],
   "source": [
    "#ex-5\n",
    "print('line 1:',current_thread().name)\n",
    "def f1():\n",
    "    \n",
    "    print('line 5:',current_thread().name)\n",
    "    for i in range(5):\n",
    "        print('i',i)\n",
    "def f2():\n",
    "    \n",
    "    print('line 8:',current_thread().name)\n",
    "    for j in range(5):\n",
    "        print('j',j)\n",
    "        \n",
    "t1=Thread(target=f1)\n",
    "t1.start()\n",
    "\n",
    "print('line 13:',current_thread().name)\n",
    "f2()\n",
    "#t2=Thread(target=f2)\n",
    "# t2.start()\n",
    "\n",
    "#thread information"
   ]
  },
  {
   "cell_type": "code",
   "execution_count": 151,
   "id": "b73c60df",
   "metadata": {},
   "outputs": [
    {
     "name": "stdout",
     "output_type": "stream",
     "text": [
      "pritismruti\n",
      "smruti\n",
      "smruti\n",
      "smruti\n",
      "smruti\n",
      "\n",
      "priti\n",
      "priti\n",
      "priti\n",
      "priti\n"
     ]
    }
   ],
   "source": [
    "#ex-6\n",
    "\n",
    "def f1(name):\n",
    "    for i in range(5):\n",
    "        print(name)\n",
    "    \n",
    "def f2(name):\n",
    "    for i in range(5):\n",
    "        print(name)\n",
    "t1=Thread(target=f1,args=('priti',))\n",
    "#t1=Thread(target=f1,kwargs={'name':'priti'})\n",
    "t1.start()        \n",
    "f2('smruti')        "
   ]
  }
 ],
 "metadata": {
  "kernelspec": {
   "display_name": "Python 3 (ipykernel)",
   "language": "python",
   "name": "python3"
  },
  "language_info": {
   "codemirror_mode": {
    "name": "ipython",
    "version": 3
   },
   "file_extension": ".py",
   "mimetype": "text/x-python",
   "name": "python",
   "nbconvert_exporter": "python",
   "pygments_lexer": "ipython3",
   "version": "3.9.12"
  }
 },
 "nbformat": 4,
 "nbformat_minor": 5
}
