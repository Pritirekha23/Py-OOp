{
 "cells": [
  {
   "cell_type": "markdown",
   "id": "f847ca9f",
   "metadata": {},
   "source": [
    "dt-12/04/23"
   ]
  },
  {
   "cell_type": "markdown",
   "id": "e4f420d7",
   "metadata": {},
   "source": [
    "# HOW TO CREATE THREAD IN FUNCTIONAL APPROACH"
   ]
  },
  {
   "cell_type": "code",
   "execution_count": 1,
   "id": "c4bf4279",
   "metadata": {},
   "outputs": [
    {
     "name": "stdout",
     "output_type": "stream",
     "text": [
      "priti\n",
      "priti\n",
      "priti\n",
      "priti\n",
      "priti\n",
      "smruti\n",
      "smruti\n",
      "smruti\n",
      "smruti\n",
      "smruti\n"
     ]
    }
   ],
   "source": [
    "#ex-1\n",
    "#without multithreading program(single thread)\n",
    "\n",
    "def fun1():\n",
    "    for i in range(5):\n",
    "        print('priti')\n",
    "def fun2():\n",
    "    for i in range(5):\n",
    "        print('smruti')\n",
    "fun1()\n",
    "fun2()"
   ]
  },
  {
   "cell_type": "code",
   "execution_count": 4,
   "id": "dca76e0b",
   "metadata": {},
   "outputs": [
    {
     "name": "stdout",
     "output_type": "stream",
     "text": [
      "priti\n",
      "priti\n",
      "priti\n",
      "priti\n",
      "priti\n",
      "smruti\n",
      "smruti\n",
      "smruti\n",
      "smruti\n",
      "smruti\n"
     ]
    }
   ],
   "source": [
    "#ex-2\n",
    "#with multithreading program\n",
    "from threading import *\n",
    "\n",
    "def fun1():\n",
    "    for i in range(5):\n",
    "        print('priti')\n",
    "        \n",
    "def fun2():\n",
    "    for i in range(5):\n",
    "        print('smruti')\n",
    "        \n",
    "# create thread\n",
    "t1=Thread(target=fun1)\n",
    "t1.start()\n",
    "\n",
    "t2=Thread(target=fun2)\n",
    "t2.start()"
   ]
  },
  {
   "cell_type": "code",
   "execution_count": null,
   "id": "b537f8f8",
   "metadata": {},
   "outputs": [],
   "source": [
    "#ex-3\n",
    "from threading import *\n",
    "\n",
    "def fun1():\n",
    "    for i in range(5):\n",
    "        print('priti')\n",
    "        \n",
    "def fun2():\n",
    "    for i in range(5):\n",
    "        print('smruti')\n",
    "        \n",
    "# create thread\n",
    "t1=Thread(target=fun1)\n",
    "t1.start()\n",
    "\n",
    "t2=Thread(target=fun2)\n",
    "t2.start()"
   ]
  },
  {
   "cell_type": "code",
   "execution_count": null,
   "id": "05c96baa",
   "metadata": {},
   "outputs": [],
   "source": []
  },
  {
   "cell_type": "code",
   "execution_count": null,
   "id": "121cc960",
   "metadata": {},
   "outputs": [],
   "source": []
  }
 ],
 "metadata": {
  "kernelspec": {
   "display_name": "Python 3 (ipykernel)",
   "language": "python",
   "name": "python3"
  },
  "language_info": {
   "codemirror_mode": {
    "name": "ipython",
    "version": 3
   },
   "file_extension": ".py",
   "mimetype": "text/x-python",
   "name": "python",
   "nbconvert_exporter": "python",
   "pygments_lexer": "ipython3",
   "version": "3.9.12"
  }
 },
 "nbformat": 4,
 "nbformat_minor": 5
}
