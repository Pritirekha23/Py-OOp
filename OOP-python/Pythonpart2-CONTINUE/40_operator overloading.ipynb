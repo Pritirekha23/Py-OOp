{
 "cells": [
  {
   "cell_type": "markdown",
   "id": "5c0b590e",
   "metadata": {},
   "source": [
    "# operator overloading"
   ]
  },
  {
   "cell_type": "markdown",
   "id": "dcf300f0",
   "metadata": {},
   "source": [
    "dt-11/02/23"
   ]
  },
  {
   "cell_type": "markdown",
   "id": "78bf0576",
   "metadata": {},
   "source": [
    "If we will use same operator in different purposes then it is called operator overloading.\n",
    "we are using +,* and etc in operator for different purposes.\n",
    "Python supports operator overloading other languages like java does not it.\n",
    "we will use corresponding magic method to overload operator."
   ]
  },
  {
   "cell_type": "code",
   "execution_count": 2,
   "id": "817470f0",
   "metadata": {},
   "outputs": [
    {
     "name": "stdout",
     "output_type": "stream",
     "text": [
      "30\n",
      "surendrapanda\n"
     ]
    }
   ],
   "source": [
    "print(10+20)\n",
    "print('surendra'+'panda')"
   ]
  },
  {
   "cell_type": "code",
   "execution_count": 4,
   "id": "8ab838eb",
   "metadata": {},
   "outputs": [
    {
     "ename": "TypeError",
     "evalue": "unsupported operand type(s) for +: 'Emp' and 'Student'",
     "output_type": "error",
     "traceback": [
      "\u001b[1;31m---------------------------------------------------------------------------\u001b[0m",
      "\u001b[1;31mTypeError\u001b[0m                                 Traceback (most recent call last)",
      "Input \u001b[1;32mIn [4]\u001b[0m, in \u001b[0;36m<cell line: 16>\u001b[1;34m()\u001b[0m\n\u001b[0;32m     13\u001b[0m s\u001b[38;5;241m=\u001b[39mStudent(\u001b[38;5;241m5000\u001b[39m)\n\u001b[0;32m     15\u001b[0m \u001b[38;5;66;03m#add emp sal + pocket monet\u001b[39;00m\n\u001b[1;32m---> 16\u001b[0m \u001b[38;5;28mprint\u001b[39m(\u001b[43me\u001b[49m\u001b[38;5;241;43m+\u001b[39;49m\u001b[43ms\u001b[49m)\n",
      "\u001b[1;31mTypeError\u001b[0m: unsupported operand type(s) for +: 'Emp' and 'Student'"
     ]
    }
   ],
   "source": [
    "#example-1\n",
    "# operator overloading without magic method(which is not possible in this way)\n",
    "class Emp:\n",
    "    def __init__(self,sal):\n",
    "        self.sal=sal\n",
    "        \n",
    "class Student:\n",
    "    def __init__(self,pmoney):\n",
    "        self.pmoney=pmoney\n",
    "        \n",
    "        \n",
    "e=Emp(20000)\n",
    "s=Student(5000)\n",
    "\n",
    "#add emp sal + pocket money\n",
    "print(e+s) #TypeError: unsupported operand type(s) for +: 'Emp' and 'Student'\n"
   ]
  },
  {
   "cell_type": "markdown",
   "id": "1a6db93f",
   "metadata": {},
   "source": [
    "# Magic method"
   ]
  },
  {
   "cell_type": "markdown",
   "id": "3d3f2197",
   "metadata": {},
   "source": [
    "Magic methods in Python are the special methods that start and end with the double underscores. They are also called dunder methods.\n",
    "dir() function to see the number of magic methods inherited by a class."
   ]
  },
  {
   "cell_type": "code",
   "execution_count": 6,
   "id": "2df95eea",
   "metadata": {},
   "outputs": [
    {
     "data": {
      "text/plain": [
       "['__abs__',\n",
       " '__add__',\n",
       " '__and__',\n",
       " '__bool__',\n",
       " '__ceil__',\n",
       " '__class__',\n",
       " '__delattr__',\n",
       " '__dir__',\n",
       " '__divmod__',\n",
       " '__doc__',\n",
       " '__eq__',\n",
       " '__float__',\n",
       " '__floor__',\n",
       " '__floordiv__',\n",
       " '__format__',\n",
       " '__ge__',\n",
       " '__getattribute__',\n",
       " '__getnewargs__',\n",
       " '__gt__',\n",
       " '__hash__',\n",
       " '__index__',\n",
       " '__init__',\n",
       " '__init_subclass__',\n",
       " '__int__',\n",
       " '__invert__',\n",
       " '__le__',\n",
       " '__lshift__',\n",
       " '__lt__',\n",
       " '__mod__',\n",
       " '__mul__',\n",
       " '__ne__',\n",
       " '__neg__',\n",
       " '__new__',\n",
       " '__or__',\n",
       " '__pos__',\n",
       " '__pow__',\n",
       " '__radd__',\n",
       " '__rand__',\n",
       " '__rdivmod__',\n",
       " '__reduce__',\n",
       " '__reduce_ex__',\n",
       " '__repr__',\n",
       " '__rfloordiv__',\n",
       " '__rlshift__',\n",
       " '__rmod__',\n",
       " '__rmul__',\n",
       " '__ror__',\n",
       " '__round__',\n",
       " '__rpow__',\n",
       " '__rrshift__',\n",
       " '__rshift__',\n",
       " '__rsub__',\n",
       " '__rtruediv__',\n",
       " '__rxor__',\n",
       " '__setattr__',\n",
       " '__sizeof__',\n",
       " '__str__',\n",
       " '__sub__',\n",
       " '__subclasshook__',\n",
       " '__truediv__',\n",
       " '__trunc__',\n",
       " '__xor__',\n",
       " 'as_integer_ratio',\n",
       " 'bit_length',\n",
       " 'conjugate',\n",
       " 'denominator',\n",
       " 'from_bytes',\n",
       " 'imag',\n",
       " 'numerator',\n",
       " 'real',\n",
       " 'to_bytes']"
      ]
     },
     "execution_count": 6,
     "metadata": {},
     "output_type": "execute_result"
    }
   ],
   "source": [
    "dir(int)"
   ]
  },
  {
   "cell_type": "code",
   "execution_count": null,
   "id": "1a07a40c",
   "metadata": {},
   "outputs": [],
   "source": [
    "__add__"
   ]
  },
  {
   "cell_type": "code",
   "execution_count": 11,
   "id": "daaf25bd",
   "metadata": {},
   "outputs": [
    {
     "name": "stdout",
     "output_type": "stream",
     "text": [
      "20000\n",
      "5000\n",
      "25000\n"
     ]
    }
   ],
   "source": [
    "#example-1\n",
    "# operator overloading with magic method\n",
    "class Emp:\n",
    "    def __init__(self,sal):\n",
    "        self.sal=sal\n",
    "        \n",
    "    def __add__(self,other):\n",
    "        print(self.sal)\n",
    "        print(other.pmoney)\n",
    "        return self.sal+other.pmoney\n",
    "        \n",
    "class Student:\n",
    "    def __init__(self,pmoney):\n",
    "        self.pmoney=pmoney\n",
    "        \n",
    "        \n",
    "e=Emp(20000)\n",
    "s=Student(5000)\n",
    "\n",
    "#add emp sal + pocket monet\n",
    "print(e+s) "
   ]
  },
  {
   "cell_type": "markdown",
   "id": "5878bd39",
   "metadata": {},
   "source": [
    "python provided lot of magic methods based on our requirement we will use it."
   ]
  },
  {
   "cell_type": "code",
   "execution_count": 15,
   "id": "61f93ab4",
   "metadata": {},
   "outputs": [
    {
     "name": "stdout",
     "output_type": "stream",
     "text": [
      "True\n"
     ]
    }
   ],
   "source": [
    "# __gt__() ---> gretaerthan\n",
    "#example-1\n",
    "# operator overloading with magic method\n",
    "class Emp:\n",
    "    def __init__(self,sal):\n",
    "        self.sal=sal\n",
    "        \n",
    "    def __gt__(self,other):\n",
    "       \n",
    "        return self.sal>other.pmoney\n",
    "        \n",
    "class Student:\n",
    "    def __init__(self,pmoney):\n",
    "        self.pmoney=pmoney\n",
    "        \n",
    "        \n",
    "e=Emp(20000)\n",
    "s=Student(5000)\n",
    "\n",
    "#add emp sal + pocket monet\n",
    "print(e>s) "
   ]
  },
  {
   "cell_type": "code",
   "execution_count": 17,
   "id": "3a08328e",
   "metadata": {},
   "outputs": [
    {
     "name": "stdout",
     "output_type": "stream",
     "text": [
      "False\n"
     ]
    }
   ],
   "source": [
    "# __lt__() ---> lessthan\n",
    "#example-1\n",
    "# operator overloading with magic method\n",
    "class Emp:\n",
    "    def __init__(self,sal):\n",
    "        self.sal=sal\n",
    "        \n",
    "    def __lt__(self,other):\n",
    "       \n",
    "        return self.sal<other.pmoney\n",
    "        \n",
    "class Student:\n",
    "    def __init__(self,pmoney):\n",
    "        self.pmoney=pmoney\n",
    "        \n",
    "        \n",
    "e=Emp(20000)\n",
    "s=Student(5000)\n",
    "\n",
    "\n",
    "print(e<s) "
   ]
  },
  {
   "cell_type": "code",
   "execution_count": 20,
   "id": "d359e64a",
   "metadata": {},
   "outputs": [
    {
     "name": "stdout",
     "output_type": "stream",
     "text": [
      "True\n"
     ]
    }
   ],
   "source": [
    "# __ge__() ---> >=\n",
    "#example-1\n",
    "# operator overloading with magic method\n",
    "class Emp:\n",
    "    def __init__(self,sal):\n",
    "        self.sal=sal\n",
    "        \n",
    "    def __ge__(self,other):\n",
    "       \n",
    "        return self.sal>=other.pmoney\n",
    "        \n",
    "class Student:\n",
    "    def __init__(self,pmoney):\n",
    "        self.pmoney=pmoney\n",
    "        \n",
    "        \n",
    "e=Emp(5000)\n",
    "s=Student(5000)\n",
    "\n",
    "\n",
    "print(e>=s) "
   ]
  },
  {
   "cell_type": "markdown",
   "id": "bcf16e2d",
   "metadata": {},
   "source": [
    "dt-13/02/23\n",
    "__len__()"
   ]
  },
  {
   "cell_type": "code",
   "execution_count": 7,
   "id": "9b9d6b5d",
   "metadata": {},
   "outputs": [
    {
     "name": "stdout",
     "output_type": "stream",
     "text": [
      "43\n"
     ]
    }
   ],
   "source": [
    "class Python:\n",
    "    def __init__(self,a):\n",
    "        self.a=a\n",
    "        \n",
    "    def __len__(self):\n",
    "        return len(self.a)\n",
    "    \n",
    "object=Python(\"Python is a High-level programming language\")\n",
    "print(len(object))"
   ]
  },
  {
   "cell_type": "code",
   "execution_count": null,
   "id": "dbd9a974",
   "metadata": {},
   "outputs": [],
   "source": []
  },
  {
   "cell_type": "code",
   "execution_count": null,
   "id": "6a0ac1e7",
   "metadata": {},
   "outputs": [],
   "source": []
  }
 ],
 "metadata": {
  "kernelspec": {
   "display_name": "Python 3 (ipykernel)",
   "language": "python",
   "name": "python3"
  },
  "language_info": {
   "codemirror_mode": {
    "name": "ipython",
    "version": 3
   },
   "file_extension": ".py",
   "mimetype": "text/x-python",
   "name": "python",
   "nbconvert_exporter": "python",
   "pygments_lexer": "ipython3",
   "version": "3.9.12"
  }
 },
 "nbformat": 4,
 "nbformat_minor": 5
}
