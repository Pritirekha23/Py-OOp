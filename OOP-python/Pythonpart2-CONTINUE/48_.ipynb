{
 "cells": [
  {
   "cell_type": "markdown",
   "id": "d3e4b26b",
   "metadata": {},
   "source": [
    "dt-21/02/23"
   ]
  },
  {
   "cell_type": "markdown",
   "id": "44b6f5fc",
   "metadata": {},
   "source": [
    "hash function returns an integer that represents the hash value of an object.\n",
    "hash(object)\n",
    "The hash() method takes a single parameter."
   ]
  },
  {
   "cell_type": "code",
   "execution_count": 2,
   "id": "6f8f5c92",
   "metadata": {},
   "outputs": [
    {
     "name": "stdout",
     "output_type": "stream",
     "text": [
      "Hash for 181 is: 181\n",
      "Hash for 181.23 is: 530343892119126197\n",
      "Hash for Python is: -4602410777588238922\n"
     ]
    }
   ],
   "source": [
    "#hash for integer unchanged\n",
    "print('Hash for 181 is:', hash(181))\n",
    "\n",
    "#hash for decimal\n",
    "print('Hash for 181.23 is:',hash(181.23))\n",
    "\n",
    "#hash for string\n",
    "print('Hash for Python is:', hash('Python'))"
   ]
  },
  {
   "cell_type": "markdown",
   "id": "a37a9917",
   "metadata": {},
   "source": [
    "hash() method only works for immutable objects as tuple.\n",
    "\n"
   ]
  },
  {
   "cell_type": "code",
   "execution_count": null,
   "id": "5d429c18",
   "metadata": {},
   "outputs": [],
   "source": []
  },
  {
   "cell_type": "code",
   "execution_count": null,
   "id": "d011b839",
   "metadata": {},
   "outputs": [],
   "source": []
  }
 ],
 "metadata": {
  "kernelspec": {
   "display_name": "Python 3 (ipykernel)",
   "language": "python",
   "name": "python3"
  },
  "language_info": {
   "codemirror_mode": {
    "name": "ipython",
    "version": 3
   },
   "file_extension": ".py",
   "mimetype": "text/x-python",
   "name": "python",
   "nbconvert_exporter": "python",
   "pygments_lexer": "ipython3",
   "version": "3.9.12"
  }
 },
 "nbformat": 4,
 "nbformat_minor": 5
}
