{
 "cells": [
  {
   "cell_type": "code",
   "execution_count": 7,
   "id": "6d38e426",
   "metadata": {},
   "outputs": [
    {
     "name": "stdout",
     "output_type": "stream",
     "text": [
      "D-m1\n"
     ]
    },
    {
     "ename": "NameError",
     "evalue": "name 'm1' is not defined",
     "output_type": "error",
     "traceback": [
      "\u001b[1;31m---------------------------------------------------------------------------\u001b[0m",
      "\u001b[1;31mNameError\u001b[0m                                 Traceback (most recent call last)",
      "Input \u001b[1;32mIn [7]\u001b[0m, in \u001b[0;36m<cell line: 24>\u001b[1;34m()\u001b[0m\n\u001b[0;32m     17\u001b[0m         \u001b[38;5;66;03m#super(D,self).m1()\u001b[39;00m\n\u001b[0;32m     18\u001b[0m         \n\u001b[0;32m     19\u001b[0m         \u001b[38;5;66;03m#without using super() executing m1() of C class\u001b[39;00m\n\u001b[0;32m     20\u001b[0m        \u001b[38;5;66;03m# C.m1(self)\u001b[39;00m\n\u001b[0;32m     21\u001b[0m        \u001b[38;5;66;03m# A.m1(self)\u001b[39;00m\n\u001b[0;32m     23\u001b[0m d\u001b[38;5;241m=\u001b[39mD()\n\u001b[1;32m---> 24\u001b[0m \u001b[43md\u001b[49m\u001b[38;5;241;43m.\u001b[39;49m\u001b[43mm1\u001b[49m\u001b[43m(\u001b[49m\u001b[43m)\u001b[49m\n",
      "Input \u001b[1;32mIn [7]\u001b[0m, in \u001b[0;36mD.m1\u001b[1;34m(self)\u001b[0m\n\u001b[0;32m     13\u001b[0m   \u001b[38;5;28mprint\u001b[39m(\u001b[38;5;124m'\u001b[39m\u001b[38;5;124mD-m1\u001b[39m\u001b[38;5;124m'\u001b[39m)\n\u001b[0;32m     14\u001b[0m   \u001b[38;5;66;03m#using super()\u001b[39;00m\n\u001b[0;32m     15\u001b[0m \u001b[38;5;66;03m#  super(B,self).m1()\u001b[39;00m\n\u001b[1;32m---> 16\u001b[0m   \u001b[38;5;28msuper\u001b[39m(A,\u001b[43mm1\u001b[49m())\n",
      "\u001b[1;31mNameError\u001b[0m: name 'm1' is not defined"
     ]
    }
   ],
   "source": [
    "class A:\n",
    "    def m1(self):\n",
    "        print('A-m1')\n",
    "class B(A):\n",
    "    def m1(self):\n",
    "        print('B-m1')\n",
    "class C(A):\n",
    "    def m1(self):\n",
    "        print('C-m1')\n",
    "        \n",
    "class D(B,C):\n",
    "     def m1(self):\n",
    "        print('D-m1')\n",
    "        #using super()\n",
    "        super(B,self).m1()\n",
    "        \n",
    "        #super(D,self).m1()\n",
    "        \n",
    "        #without using super() executing m1() of C class\n",
    "       # C.m1(self)\n",
    "       # A.m1(self)\n",
    "\n",
    "d=D()\n",
    "d.m1()\n",
    "        "
   ]
  }
 ],
 "metadata": {
  "kernelspec": {
   "display_name": "Python 3 (ipykernel)",
   "language": "python",
   "name": "python3"
  },
  "language_info": {
   "codemirror_mode": {
    "name": "ipython",
    "version": 3
   },
   "file_extension": ".py",
   "mimetype": "text/x-python",
   "name": "python",
   "nbconvert_exporter": "python",
   "pygments_lexer": "ipython3",
   "version": "3.9.12"
  }
 },
 "nbformat": 4,
 "nbformat_minor": 5
}
