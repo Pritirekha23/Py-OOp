{
 "cells": [
  {
   "cell_type": "markdown",
   "id": "76d6d8fc",
   "metadata": {},
   "source": [
    "# Leap year"
   ]
  },
  {
   "cell_type": "markdown",
   "id": "70930d8b",
   "metadata": {},
   "source": [
    "dt-19/02/23"
   ]
  },
  {
   "cell_type": "code",
   "execution_count": 6,
   "id": "226b23cd",
   "metadata": {},
   "outputs": [
    {
     "name": "stdout",
     "output_type": "stream",
     "text": [
      "Enter a year2024\n",
      "Leap year\n"
     ]
    }
   ],
   "source": [
    "year=int(input(\"Enter a year\"))\n",
    "def LeapY(year):\n",
    "    if((year%400==0)or(year%100!=0)and(year%4==0)):\n",
    "        print('Leap year')\n",
    "        \n",
    "    else:\n",
    "        print('Not a leaap year')\n",
    "        \n",
    "LeapY(year)"
   ]
  },
  {
   "cell_type": "markdown",
   "id": "169abb48",
   "metadata": {},
   "source": [
    "# Disarium number"
   ]
  },
  {
   "cell_type": "markdown",
   "id": "7771748a",
   "metadata": {},
   "source": [
    " Disarium number is called  if sum of its digits powered with their respective positions is equal to the number itself.\n",
    " \n",
    " ex-135=1^1+3^2+5^3=135\n",
    " "
   ]
  },
  {
   "cell_type": "code",
   "execution_count": null,
   "id": "2fae4736",
   "metadata": {},
   "outputs": [],
   "source": []
  },
  {
   "cell_type": "code",
   "execution_count": null,
   "id": "79a22159",
   "metadata": {},
   "outputs": [],
   "source": []
  },
  {
   "cell_type": "code",
   "execution_count": null,
   "id": "9a065730",
   "metadata": {},
   "outputs": [],
   "source": []
  },
  {
   "cell_type": "code",
   "execution_count": null,
   "id": "f14552bb",
   "metadata": {},
   "outputs": [],
   "source": []
  }
 ],
 "metadata": {
  "kernelspec": {
   "display_name": "Python 3 (ipykernel)",
   "language": "python",
   "name": "python3"
  },
  "language_info": {
   "codemirror_mode": {
    "name": "ipython",
    "version": 3
   },
   "file_extension": ".py",
   "mimetype": "text/x-python",
   "name": "python",
   "nbconvert_exporter": "python",
   "pygments_lexer": "ipython3",
   "version": "3.9.12"
  }
 },
 "nbformat": 4,
 "nbformat_minor": 5
}
