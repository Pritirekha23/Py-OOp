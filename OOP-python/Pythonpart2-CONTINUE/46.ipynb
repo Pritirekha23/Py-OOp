{
 "cells": [
  {
   "cell_type": "markdown",
   "id": "5a0ae7d0",
   "metadata": {},
   "source": [
    "# Leap year"
   ]
  },
  {
   "cell_type": "markdown",
   "id": "1444ecc1",
   "metadata": {},
   "source": [
    "dt-19/02/23"
   ]
  },
  {
   "cell_type": "code",
   "execution_count": 6,
   "id": "e3da6328",
   "metadata": {},
   "outputs": [
    {
     "name": "stdout",
     "output_type": "stream",
     "text": [
      "Enter a year2024\n",
      "Leap year\n"
     ]
    }
   ],
   "source": [
    "year=int(input(\"Enter a year\"))\n",
    "def LeapY(year):\n",
    "    if((year%400==0)or(year%100!=0)and(year%4==0)):\n",
    "        print('Leap year')\n",
    "        \n",
    "    else:\n",
    "        print('Not a leaap year')\n",
    "        \n",
    "LeapY(year)"
   ]
  },
  {
   "cell_type": "markdown",
   "id": "4f0bb5aa",
   "metadata": {},
   "source": [
    "# Disarium number"
   ]
  },
  {
   "cell_type": "markdown",
   "id": "a1cf7890",
   "metadata": {},
   "source": [
    " Disarium number is called  if sum of its digits powered with their respective positions is equal to the number itself.\n",
    " \n",
    " ex-135=1^1+3^2+5^3=135\n",
    " "
   ]
  },
  {
   "cell_type": "code",
   "execution_count": 10,
   "id": "cc123263",
   "metadata": {},
   "outputs": [
    {
     "name": "stdout",
     "output_type": "stream",
     "text": [
      "Enter a number::153\n"
     ]
    },
    {
     "ename": "ValueError",
     "evalue": "math domain error",
     "output_type": "error",
     "traceback": [
      "\u001b[1;31m---------------------------------------------------------------------------\u001b[0m",
      "\u001b[1;31mValueError\u001b[0m                                Traceback (most recent call last)",
      "Input \u001b[1;32mIn [10]\u001b[0m, in \u001b[0;36m<cell line: 15>\u001b[1;34m()\u001b[0m\n\u001b[0;32m     12\u001b[0m         flg\u001b[38;5;241m/\u001b[39m\u001b[38;5;241m/\u001b[39m\u001b[38;5;241m=\u001b[39m\u001b[38;5;241m10\u001b[39m\n\u001b[0;32m     14\u001b[0m num\u001b[38;5;241m=\u001b[39m\u001b[38;5;28mint\u001b[39m(\u001b[38;5;28minput\u001b[39m(\u001b[38;5;124m'\u001b[39m\u001b[38;5;124mEnter a number::\u001b[39m\u001b[38;5;124m'\u001b[39m))\n\u001b[1;32m---> 15\u001b[0m \u001b[38;5;28;01mif\u001b[39;00m(\u001b[43mcheck\u001b[49m\u001b[43m(\u001b[49m\u001b[43mnum\u001b[49m\u001b[43m)\u001b[49m\u001b[38;5;241m==\u001b[39m\u001b[38;5;241m1\u001b[39m):\n\u001b[0;32m     16\u001b[0m     \u001b[38;5;28mprint\u001b[39m(\u001b[38;5;124m'\u001b[39m\u001b[38;5;124mThe number is a Disarium number\u001b[39m\u001b[38;5;124m'\u001b[39m)\n\u001b[0;32m     17\u001b[0m \u001b[38;5;28;01melse\u001b[39;00m:\n",
      "Input \u001b[1;32mIn [10]\u001b[0m, in \u001b[0;36mcheck\u001b[1;34m(num)\u001b[0m\n\u001b[0;32m      7\u001b[0m \u001b[38;5;28;01mwhile\u001b[39;00m(num\u001b[38;5;241m!=\u001b[39m\u001b[38;5;241m0\u001b[39m):\n\u001b[0;32m      8\u001b[0m     r\u001b[38;5;241m=\u001b[39mflg\u001b[38;5;241m%\u001b[39m\u001b[38;5;241m10\u001b[39m\n\u001b[1;32m---> 10\u001b[0m     \u001b[38;5;28msum\u001b[39m\u001b[38;5;241m=\u001b[39m(\u001b[38;5;28mint\u001b[39m)(\u001b[38;5;28msum\u001b[39m\u001b[38;5;241m+\u001b[39m\u001b[43mmath\u001b[49m\u001b[38;5;241;43m.\u001b[39;49m\u001b[43mpow\u001b[49m\u001b[43m(\u001b[49m\u001b[43mr\u001b[49m\u001b[43m,\u001b[49m\u001b[43mc_digit\u001b[49m\u001b[43m)\u001b[49m)\n\u001b[0;32m     11\u001b[0m     c_digit\u001b[38;5;241m-\u001b[39m\u001b[38;5;241m=\u001b[39m\u001b[38;5;241m1\u001b[39m\n\u001b[0;32m     12\u001b[0m     flg\u001b[38;5;241m/\u001b[39m\u001b[38;5;241m/\u001b[39m\u001b[38;5;241m=\u001b[39m\u001b[38;5;241m10\u001b[39m\n",
      "\u001b[1;31mValueError\u001b[0m: math domain error"
     ]
    }
   ],
   "source": [
    "import math\n",
    "def check(num):\n",
    "    c_digit=len(str(num))\n",
    "    \n",
    "    sum=0\n",
    "    flg=num\n",
    "    while(num!=0):\n",
    "        r=flg%10\n",
    "        \n",
    "        sum=(int)(sum+math.pow(r,c_digit))\n",
    "        c_digit-=1\n",
    "        flg//=10\n",
    "        \n",
    "num=int(input('Enter a number::'))\n",
    "if(check(num)==1):\n",
    "    print('The number is a Disarium number')\n",
    "else:\n",
    "     print('The number is not a Disarium number')"
   ]
  },
  {
   "cell_type": "code",
   "execution_count": 11,
   "id": "477221b6",
   "metadata": {},
   "outputs": [
    {
     "name": "stdout",
     "output_type": "stream",
     "text": [
      "Note: you may need to restart the kernel to use updated packages.\n"
     ]
    },
    {
     "name": "stderr",
     "output_type": "stream",
     "text": [
      "ERROR: Could not find a version that satisfies the requirement math (from versions: none)\n",
      "ERROR: No matching distribution found for math\n"
     ]
    }
   ],
   "source": [
    "pip install math"
   ]
  },
  {
   "cell_type": "code",
   "execution_count": null,
   "id": "248d543f",
   "metadata": {},
   "outputs": [],
   "source": []
  },
  {
   "cell_type": "code",
   "execution_count": null,
   "id": "6ac48273",
   "metadata": {},
   "outputs": [],
   "source": []
  }
 ],
 "metadata": {
  "kernelspec": {
   "display_name": "Python 3 (ipykernel)",
   "language": "python",
   "name": "python3"
  },
  "language_info": {
   "codemirror_mode": {
    "name": "ipython",
    "version": 3
   },
   "file_extension": ".py",
   "mimetype": "text/x-python",
   "name": "python",
   "nbconvert_exporter": "python",
   "pygments_lexer": "ipython3",
   "version": "3.9.12"
  }
 },
 "nbformat": 4,
 "nbformat_minor": 5
}
