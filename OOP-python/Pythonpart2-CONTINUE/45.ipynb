{
 "cells": [
  {
   "cell_type": "markdown",
   "id": "a2af3ffd",
   "metadata": {},
   "source": [
    "dt-17/02/23"
   ]
  },
  {
   "cell_type": "markdown",
   "id": "422141a9",
   "metadata": {},
   "source": [
    "# MCQ "
   ]
  },
  {
   "cell_type": "code",
   "execution_count": 1,
   "id": "e8c2b233",
   "metadata": {},
   "outputs": [
    {
     "name": "stdout",
     "output_type": "stream",
     "text": [
      "{'c', 'b', 'a', 'q', 'san', 'p'}\n"
     ]
    }
   ],
   "source": [
    "z=set('abc')\n",
    "z.add('san')\n",
    "z.update(set(['p', 'q']))\n",
    "print(z)"
   ]
  },
  {
   "cell_type": "code",
   "execution_count": 2,
   "id": "7faedf4c",
   "metadata": {},
   "outputs": [
    {
     "name": "stdout",
     "output_type": "stream",
     "text": [
      "Abc. def\n"
     ]
    }
   ],
   "source": [
    "print(\"abc. DEF\".capitalize())"
   ]
  },
  {
   "cell_type": "markdown",
   "id": "c73a0c5d",
   "metadata": {},
   "source": [
    "59. Which of the following is the use of id() function in python?\n",
    "a) Every object in Python doesn’t have a unique id\n",
    "b) In Python Id function returns the identity of the object\n",
    "c) None of the mentioned\n",
    "d) All of the mentioned\n",
    "ans-b"
   ]
  },
  {
   "cell_type": "code",
   "execution_count": 3,
   "id": "e728507d",
   "metadata": {},
   "outputs": [
    {
     "name": "stdout",
     "output_type": "stream",
     "text": [
      "('[0] [1]',)\n"
     ]
    }
   ],
   "source": [
    "x = [[0], [1]]\n",
    "print((' '.join(list(map(str, x))),))"
   ]
  },
  {
   "cell_type": "code",
   "execution_count": 3,
   "id": "6045882d",
   "metadata": {},
   "outputs": [
    {
     "ename": "NameError",
     "evalue": "name 'ABC' is not defined",
     "output_type": "error",
     "traceback": [
      "\u001b[1;31m---------------------------------------------------------------------------\u001b[0m",
      "\u001b[1;31mNameError\u001b[0m                                 Traceback (most recent call last)",
      "Input \u001b[1;32mIn [3]\u001b[0m, in \u001b[0;36m<cell line: 3>\u001b[1;34m()\u001b[0m\n\u001b[0;32m      1\u001b[0m \u001b[38;5;66;03m#ex-4 (abstract class can also contain concrete method as well as abstract method)\u001b[39;00m\n\u001b[1;32m----> 3\u001b[0m \u001b[38;5;28;01mclass\u001b[39;00m \u001b[38;5;21;01mCar\u001b[39;00m(\u001b[43mABC\u001b[49m):\n\u001b[0;32m      4\u001b[0m     \u001b[38;5;28;01mdef\u001b[39;00m \u001b[38;5;21mbreaktype\u001b[39m(\u001b[38;5;28mself\u001b[39m):\n\u001b[0;32m      5\u001b[0m         \u001b[38;5;28mprint\u001b[39m(\u001b[38;5;124m'\u001b[39m\u001b[38;5;124mNormal break\u001b[39m\u001b[38;5;124m'\u001b[39m)\n",
      "\u001b[1;31mNameError\u001b[0m: name 'ABC' is not defined"
     ]
    }
   ],
   "source": [
    "#ex-4 (abstract class can also contain concrete method as well as abstract method)\n",
    "\n",
    "class Car(ABC):\n",
    "    def breaktype(self):\n",
    "        print('Normal break')\n",
    "        \n",
    "    @abstractmethod\n",
    "    def no_of_seats(self):\n",
    "        pass\n",
    "    \n",
    "        \n",
    "class Suzuki(Car):\n",
    "    def no_of_seats(self):\n",
    "        print('Number of seats 6')\n",
    " \n",
    "\n",
    "class Audi(Car):\n",
    "    def no_of_seats(self):\n",
    "         print('Number of seats 5')\n",
    "            \n",
    "    def breaktype(self):\n",
    "        print('special and powerfull break')\n",
    "        \n",
    "s=Suzuki()\n",
    "s.breaktype()\n",
    "s.no_of_seats()\n",
    "\n",
    "a=Audi()\n",
    "a.breaktype()\n",
    "a.no_of_seats()"
   ]
  },
  {
   "cell_type": "code",
   "execution_count": null,
   "id": "a9304a60",
   "metadata": {},
   "outputs": [],
   "source": []
  }
 ],
 "metadata": {
  "kernelspec": {
   "display_name": "Python 3 (ipykernel)",
   "language": "python",
   "name": "python3"
  },
  "language_info": {
   "codemirror_mode": {
    "name": "ipython",
    "version": 3
   },
   "file_extension": ".py",
   "mimetype": "text/x-python",
   "name": "python",
   "nbconvert_exporter": "python",
   "pygments_lexer": "ipython3",
   "version": "3.9.12"
  }
 },
 "nbformat": 4,
 "nbformat_minor": 5
}
