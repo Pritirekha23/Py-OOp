{
 "cells": [
  {
   "cell_type": "markdown",
   "id": "a2af3ffd",
   "metadata": {},
   "source": [
    "dt-17/02/23"
   ]
  },
  {
   "cell_type": "markdown",
   "id": "422141a9",
   "metadata": {},
   "source": [
    "# MCQ "
   ]
  },
  {
   "cell_type": "code",
   "execution_count": 1,
   "id": "e8c2b233",
   "metadata": {},
   "outputs": [
    {
     "name": "stdout",
     "output_type": "stream",
     "text": [
      "{'c', 'b', 'a', 'q', 'san', 'p'}\n"
     ]
    }
   ],
   "source": [
    "z=set('abc')\n",
    "z.add('san')\n",
    "z.update(set(['p', 'q']))\n",
    "print(z)"
   ]
  },
  {
   "cell_type": "code",
   "execution_count": 2,
   "id": "7faedf4c",
   "metadata": {},
   "outputs": [
    {
     "name": "stdout",
     "output_type": "stream",
     "text": [
      "Abc. def\n"
     ]
    }
   ],
   "source": [
    "print(\"abc. DEF\".capitalize())"
   ]
  },
  {
   "cell_type": "markdown",
   "id": "c73a0c5d",
   "metadata": {},
   "source": [
    "59. Which of the following is the use of id() function in python?\n",
    "a) Every object in Python doesn’t have a unique id\n",
    "b) In Python Id function returns the identity of the object\n",
    "c) None of the mentioned\n",
    "d) All of the mentioned\n",
    "ans-b"
   ]
  },
  {
   "cell_type": "code",
   "execution_count": 3,
   "id": "e728507d",
   "metadata": {},
   "outputs": [
    {
     "name": "stdout",
     "output_type": "stream",
     "text": [
      "('[0] [1]',)\n"
     ]
    }
   ],
   "source": [
    "x = [[0], [1]]\n",
    "print((' '.join(list(map(str, x))),))"
   ]
  },
  {
   "cell_type": "code",
   "execution_count": null,
   "id": "6045882d",
   "metadata": {},
   "outputs": [],
   "source": []
  },
  {
   "cell_type": "code",
   "execution_count": null,
   "id": "a9304a60",
   "metadata": {},
   "outputs": [],
   "source": []
  }
 ],
 "metadata": {
  "kernelspec": {
   "display_name": "Python 3 (ipykernel)",
   "language": "python",
   "name": "python3"
  },
  "language_info": {
   "codemirror_mode": {
    "name": "ipython",
    "version": 3
   },
   "file_extension": ".py",
   "mimetype": "text/x-python",
   "name": "python",
   "nbconvert_exporter": "python",
   "pygments_lexer": "ipython3",
   "version": "3.9.12"
  }
 },
 "nbformat": 4,
 "nbformat_minor": 5
}
