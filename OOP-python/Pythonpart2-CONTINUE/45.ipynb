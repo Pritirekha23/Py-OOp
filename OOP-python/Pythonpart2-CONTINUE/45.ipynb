{
 "cells": [
  {
   "cell_type": "markdown",
   "id": "e8c07eba",
   "metadata": {},
   "source": [
    "dt-17/02/23"
   ]
  },
  {
   "cell_type": "code",
   "execution_count": null,
   "id": "d6bc63c5",
   "metadata": {},
   "outputs": [],
   "source": []
  },
  {
   "cell_type": "code",
   "execution_count": null,
   "id": "4f8ad649",
   "metadata": {},
   "outputs": [],
   "source": []
  },
  {
   "cell_type": "code",
   "execution_count": null,
   "id": "a36c4a75",
   "metadata": {},
   "outputs": [],
   "source": []
  }
 ],
 "metadata": {
  "kernelspec": {
   "display_name": "Python 3 (ipykernel)",
   "language": "python",
   "name": "python3"
  },
  "language_info": {
   "codemirror_mode": {
    "name": "ipython",
    "version": 3
   },
   "file_extension": ".py",
   "mimetype": "text/x-python",
   "name": "python",
   "nbconvert_exporter": "python",
   "pygments_lexer": "ipython3",
   "version": "3.9.12"
  }
 },
 "nbformat": 4,
 "nbformat_minor": 5
}
