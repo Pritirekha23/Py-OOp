{
 "cells": [
  {
   "cell_type": "markdown",
   "id": "02646088",
   "metadata": {},
   "source": [
    "# method overloading"
   ]
  },
  {
   "cell_type": "markdown",
   "id": "1dc9de93",
   "metadata": {},
   "source": [
    "dt-12/02/23"
   ]
  },
  {
   "cell_type": "markdown",
   "id": "68b3f891",
   "metadata": {},
   "source": [
    "If two or more method have same name with diffferent number of parameter or different type of parameter is called method overloading.\n",
    "python does not suppport method overloading.\n",
    "\n"
   ]
  },
  {
   "cell_type": "code",
   "execution_count": 7,
   "id": "196a71d6",
   "metadata": {},
   "outputs": [
    {
     "ename": "TypeError",
     "evalue": "m1() missing 2 required positional arguments: 'b' and 'c'",
     "output_type": "error",
     "traceback": [
      "\u001b[1;31m---------------------------------------------------------------------------\u001b[0m",
      "\u001b[1;31mTypeError\u001b[0m                                 Traceback (most recent call last)",
      "Input \u001b[1;32mIn [7]\u001b[0m, in \u001b[0;36m<cell line: 20>\u001b[1;34m()\u001b[0m\n\u001b[0;32m     16\u001b[0m \u001b[38;5;66;03m# In java and c++ in this case it will execute that method which have one parameter but in python it will show an error\u001b[39;00m\n\u001b[0;32m     17\u001b[0m \u001b[38;5;66;03m# It will take the last method (inernally python treated the last one method) , so python does not support method overloading.\u001b[39;00m\n\u001b[0;32m     19\u001b[0m t\u001b[38;5;241m=\u001b[39mTest()\n\u001b[1;32m---> 20\u001b[0m \u001b[43mt\u001b[49m\u001b[38;5;241;43m.\u001b[39;49m\u001b[43mm1\u001b[49m\u001b[43m(\u001b[49m\u001b[38;5;241;43m10\u001b[39;49m\u001b[43m)\u001b[49m\n\u001b[0;32m     22\u001b[0m t\u001b[38;5;241m.\u001b[39mm1(\u001b[38;5;241m2\u001b[39m,\u001b[38;5;241m3\u001b[39m)\n",
      "\u001b[1;31mTypeError\u001b[0m: m1() missing 2 required positional arguments: 'b' and 'c'"
     ]
    }
   ],
   "source": [
    "#example-1\n",
    "#methodoverloading\n",
    "\n",
    "class Test:\n",
    "    def m1(self,a):\n",
    "        print(a)\n",
    "    def m1(self,a,b):\n",
    "        print(a)\n",
    "        print(b)\n",
    "    def m1(self,a,b,c):\n",
    "        print(a)\n",
    "        print(b)\n",
    "        print(c)\n",
    "   \n",
    "\n",
    "# In java and c++ in this case it will execute that method which have one parameter but in python it will show an error\n",
    "# It will take the last method (inernally python treated the last one method) , so python does not support method overloading.\n",
    "\n",
    "t=Test()\n",
    "t.m1(10)\n",
    "\n",
    "t.m1(2,3)\n"
   ]
  },
  {
   "cell_type": "code",
   "execution_count": 11,
   "id": "fc447801",
   "metadata": {},
   "outputs": [
    {
     "ename": "TypeError",
     "evalue": "m1() missing 1 required positional argument: 'c'",
     "output_type": "error",
     "traceback": [
      "\u001b[1;31m---------------------------------------------------------------------------\u001b[0m",
      "\u001b[1;31mTypeError\u001b[0m                                 Traceback (most recent call last)",
      "Input \u001b[1;32mIn [11]\u001b[0m, in \u001b[0;36m<cell line: 14>\u001b[1;34m()\u001b[0m\n\u001b[0;32m     10\u001b[0m         \u001b[38;5;28mprint\u001b[39m(c)\n\u001b[0;32m     13\u001b[0m t\u001b[38;5;241m=\u001b[39mTest()\n\u001b[1;32m---> 14\u001b[0m \u001b[43mt\u001b[49m\u001b[38;5;241;43m.\u001b[39;49m\u001b[43mm1\u001b[49m\u001b[43m(\u001b[49m\u001b[38;5;241;43m2\u001b[39;49m\u001b[43m,\u001b[49m\u001b[38;5;241;43m3\u001b[39;49m\u001b[43m)\u001b[49m\n",
      "\u001b[1;31mTypeError\u001b[0m: m1() missing 1 required positional argument: 'c'"
     ]
    }
   ],
   "source": [
    "class Test:\n",
    "    def m1(self,a):\n",
    "        print(a)\n",
    "    def m1(self,a,b):\n",
    "        print(a)\n",
    "        print(b)\n",
    "    def m1(self,a,b,c):\n",
    "        print(a)\n",
    "        print(b)\n",
    "        print(c)\n",
    "   \n",
    "\n",
    "t=Test()\n",
    "t.m1(2,3)"
   ]
  },
  {
   "cell_type": "code",
   "execution_count": 12,
   "id": "6342ee65",
   "metadata": {},
   "outputs": [
    {
     "name": "stdout",
     "output_type": "stream",
     "text": [
      "2\n",
      "3\n",
      "2\n"
     ]
    }
   ],
   "source": [
    "class Test:\n",
    "    def m1(self,a):\n",
    "        print(a)\n",
    "    def m1(self,a,b):\n",
    "        print(a)\n",
    "        print(b)\n",
    "    def m1(self,a,b,c):\n",
    "        print(a)\n",
    "        print(b)\n",
    "        print(c)\n",
    "   \n",
    "\n",
    "t=Test()\n",
    "t.m1(2,3,2)"
   ]
  },
  {
   "cell_type": "markdown",
   "id": "620d8ca6",
   "metadata": {},
   "source": [
    "# ways to achive method overloading in python"
   ]
  },
  {
   "cell_type": "code",
   "execution_count": null,
   "id": "c5dbb3f1",
   "metadata": {},
   "outputs": [],
   "source": [
    "class Test:\n",
    "    def m1(self,*a):\n",
    "        print(a)\n",
    "\n"
   ]
  },
  {
   "cell_type": "code",
   "execution_count": null,
   "id": "230d8b83",
   "metadata": {},
   "outputs": [],
   "source": []
  },
  {
   "cell_type": "code",
   "execution_count": null,
   "id": "5a6ddc9e",
   "metadata": {},
   "outputs": [],
   "source": []
  }
 ],
 "metadata": {
  "kernelspec": {
   "display_name": "Python 3 (ipykernel)",
   "language": "python",
   "name": "python3"
  },
  "language_info": {
   "codemirror_mode": {
    "name": "ipython",
    "version": 3
   },
   "file_extension": ".py",
   "mimetype": "text/x-python",
   "name": "python",
   "nbconvert_exporter": "python",
   "pygments_lexer": "ipython3",
   "version": "3.9.12"
  }
 },
 "nbformat": 4,
 "nbformat_minor": 5
}
