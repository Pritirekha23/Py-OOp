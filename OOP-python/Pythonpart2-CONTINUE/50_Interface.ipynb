{
 "cells": [
  {
   "cell_type": "markdown",
   "id": "e210089e",
   "metadata": {},
   "source": [
    "# INTERFACE"
   ]
  },
  {
   "cell_type": "markdown",
   "id": "5c38249d",
   "metadata": {},
   "source": [
    "dt-26/02/23"
   ]
  },
  {
   "cell_type": "markdown",
   "id": "06fefa5f",
   "metadata": {},
   "source": [
    "Interafec is just like abstract class,but inteface only contain abstract method,whereas abstract class contain both abstract and concrete method."
   ]
  },
  {
   "cell_type": "code",
   "execution_count": null,
   "id": "26194638",
   "metadata": {},
   "outputs": [],
   "source": []
  },
  {
   "cell_type": "code",
   "execution_count": null,
   "id": "aeecc80f",
   "metadata": {},
   "outputs": [],
   "source": []
  }
 ],
 "metadata": {
  "kernelspec": {
   "display_name": "Python 3 (ipykernel)",
   "language": "python",
   "name": "python3"
  },
  "language_info": {
   "codemirror_mode": {
    "name": "ipython",
    "version": 3
   },
   "file_extension": ".py",
   "mimetype": "text/x-python",
   "name": "python",
   "nbconvert_exporter": "python",
   "pygments_lexer": "ipython3",
   "version": "3.9.12"
  }
 },
 "nbformat": 4,
 "nbformat_minor": 5
}
