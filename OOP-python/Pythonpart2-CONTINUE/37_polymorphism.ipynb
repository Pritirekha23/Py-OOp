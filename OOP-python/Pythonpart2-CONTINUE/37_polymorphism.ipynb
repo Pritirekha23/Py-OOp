{
 "cells": [
  {
   "cell_type": "code",
   "execution_count": null,
   "id": "ccef05a4",
   "metadata": {},
   "outputs": [],
   "source": [
    "#dt-07/02/23"
   ]
  },
  {
   "cell_type": "markdown",
   "id": "75edb0a3",
   "metadata": {},
   "source": [
    "# POLYMORPHISM"
   ]
  },
  {
   "cell_type": "markdown",
   "id": "2f069d4b",
   "metadata": {},
   "source": [
    "Polymorphism is a Greek word,here poly means \"many\" and morphe means \"form\"\n",
    "If one thing existed in a different form then it is called polymorphism.\n",
    "Ex-1)Potato has many roles like:-1(patato chips) , 2(patato finger chips), 3(patato role)\n",
    "Ex-2) Water has 3 states -- slid,liquid,gas\n"
   ]
  },
  {
   "cell_type": "code",
   "execution_count": null,
   "id": "8d322b60",
   "metadata": {},
   "outputs": [],
   "source": []
  }
 ],
 "metadata": {
  "kernelspec": {
   "display_name": "Python 3 (ipykernel)",
   "language": "python",
   "name": "python3"
  },
  "language_info": {
   "codemirror_mode": {
    "name": "ipython",
    "version": 3
   },
   "file_extension": ".py",
   "mimetype": "text/x-python",
   "name": "python",
   "nbconvert_exporter": "python",
   "pygments_lexer": "ipython3",
   "version": "3.9.12"
  }
 },
 "nbformat": 4,
 "nbformat_minor": 5
}
