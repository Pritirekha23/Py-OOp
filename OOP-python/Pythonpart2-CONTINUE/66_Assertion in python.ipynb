{
 "cells": [
  {
   "cell_type": "markdown",
   "id": "ee804996",
   "metadata": {},
   "source": [
    "dt-21/03/23"
   ]
  },
  {
   "cell_type": "markdown",
   "id": "415c97cc",
   "metadata": {},
   "source": [
    "# ASSERT"
   ]
  },
  {
   "cell_type": "markdown",
   "id": "9ca2d662",
   "metadata": {},
   "source": [
    "assert is keyword in python which is used in debugging.\n",
    "debugging is the process of finding and fixing bugs.\n",
    "If we want to varify something then we can use assertion.\n",
    "syntax:\n"
   ]
  },
  {
   "cell_type": "code",
   "execution_count": 7,
   "id": "2c2cc2ea",
   "metadata": {},
   "outputs": [
    {
     "name": "stdout",
     "output_type": "stream",
     "text": [
      "1\n",
      "2\n",
      "3\n",
      "4\n",
      "5\n",
      "6\n",
      "7\n",
      "8\n",
      "9\n",
      "10\n"
     ]
    }
   ],
   "source": [
    "#Ex-1\n",
    "a=100\n",
    "print(1)\n",
    "print(2)\n",
    "print(3)\n",
    "print(4)\n",
    "print(5)\n",
    "print(6)\n",
    "assert a==100  #If the condition is true then execute next code,if it false raise exception and stop the flow of executions\n",
    "print(7)\n",
    "print(8)\n",
    "print(9)\n",
    "print(10)"
   ]
  },
  {
   "cell_type": "code",
   "execution_count": 11,
   "id": "608353aa",
   "metadata": {},
   "outputs": [
    {
     "name": "stdout",
     "output_type": "stream",
     "text": [
      "1\n",
      "2\n",
      "3\n",
      "4\n",
      "5\n",
      "6\n"
     ]
    },
    {
     "ename": "AssertionError",
     "evalue": "",
     "output_type": "error",
     "traceback": [
      "\u001b[1;31m---------------------------------------------------------------------------\u001b[0m",
      "\u001b[1;31mAssertionError\u001b[0m                            Traceback (most recent call last)",
      "Input \u001b[1;32mIn [11]\u001b[0m, in \u001b[0;36m<cell line: 10>\u001b[1;34m()\u001b[0m\n\u001b[0;32m      8\u001b[0m \u001b[38;5;28mprint\u001b[39m(\u001b[38;5;241m5\u001b[39m)\n\u001b[0;32m      9\u001b[0m \u001b[38;5;28mprint\u001b[39m(\u001b[38;5;241m6\u001b[39m)\n\u001b[1;32m---> 10\u001b[0m \u001b[38;5;28;01massert\u001b[39;00m a\u001b[38;5;241m==\u001b[39m\u001b[38;5;241m100\u001b[39m\n\u001b[0;32m     11\u001b[0m \u001b[38;5;28mprint\u001b[39m(\u001b[38;5;241m7\u001b[39m)\n\u001b[0;32m     12\u001b[0m \u001b[38;5;28mprint\u001b[39m(\u001b[38;5;241m8\u001b[39m)\n",
      "\u001b[1;31mAssertionError\u001b[0m: "
     ]
    }
   ],
   "source": [
    "#Ex-2\n",
    "a=100\n",
    "print(1)\n",
    "print(2)\n",
    "print(3)\n",
    "print(4)\n",
    "a=23\n",
    "print(5)\n",
    "print(6)\n",
    "assert a==100\n",
    "print(7)\n",
    "print(8)\n",
    "print(9)\n",
    "print(10)"
   ]
  },
  {
   "cell_type": "code",
   "execution_count": null,
   "id": "7fda403d",
   "metadata": {},
   "outputs": [],
   "source": [
    "#Ex-3\n",
    "\n",
    "a=100\n",
    "print(1)\n",
    "print(2)\n",
    "print(3)\n",
    "print(4)\n",
    "a=23\n",
    "print(5)\n",
    "print(6)\n",
    "assert a==100, 'a is not 100 it is modified'\n",
    "print(7) \n",
    "print(8)\n",
    "print(9)\n",
    "print(10)"
   ]
  },
  {
   "cell_type": "code",
   "execution_count": 12,
   "id": "32ed4b89",
   "metadata": {},
   "outputs": [
    {
     "name": "stdout",
     "output_type": "stream",
     "text": [
      "Enter your namrRM\n",
      "remaining code\n"
     ]
    }
   ],
   "source": [
    "#Ex-4\n",
    "l=['jin','jimin','jhope','Tae','Jk','RM']\n",
    "assert input(\"Enter your namr\") in l\n",
    "print('remaining code')"
   ]
  },
  {
   "cell_type": "code",
   "execution_count": 13,
   "id": "4201f0c2",
   "metadata": {
    "scrolled": true
   },
   "outputs": [
    {
     "name": "stdout",
     "output_type": "stream",
     "text": [
      "Enter your namrPRiti\n"
     ]
    },
    {
     "ename": "AssertionError",
     "evalue": "",
     "output_type": "error",
     "traceback": [
      "\u001b[1;31m---------------------------------------------------------------------------\u001b[0m",
      "\u001b[1;31mAssertionError\u001b[0m                            Traceback (most recent call last)",
      "Input \u001b[1;32mIn [13]\u001b[0m, in \u001b[0;36m<cell line: 3>\u001b[1;34m()\u001b[0m\n\u001b[0;32m      1\u001b[0m \u001b[38;5;66;03m#Ex-5\u001b[39;00m\n\u001b[0;32m      2\u001b[0m l\u001b[38;5;241m=\u001b[39m[\u001b[38;5;124m'\u001b[39m\u001b[38;5;124mjin\u001b[39m\u001b[38;5;124m'\u001b[39m,\u001b[38;5;124m'\u001b[39m\u001b[38;5;124mjimin\u001b[39m\u001b[38;5;124m'\u001b[39m,\u001b[38;5;124m'\u001b[39m\u001b[38;5;124mjhope\u001b[39m\u001b[38;5;124m'\u001b[39m,\u001b[38;5;124m'\u001b[39m\u001b[38;5;124mTae\u001b[39m\u001b[38;5;124m'\u001b[39m,\u001b[38;5;124m'\u001b[39m\u001b[38;5;124mJk\u001b[39m\u001b[38;5;124m'\u001b[39m,\u001b[38;5;124m'\u001b[39m\u001b[38;5;124mRM\u001b[39m\u001b[38;5;124m'\u001b[39m]\n\u001b[1;32m----> 3\u001b[0m \u001b[38;5;28;01massert\u001b[39;00m \u001b[38;5;28minput\u001b[39m(\u001b[38;5;124m\"\u001b[39m\u001b[38;5;124mEnter your namr\u001b[39m\u001b[38;5;124m\"\u001b[39m) \u001b[38;5;129;01min\u001b[39;00m l\n\u001b[0;32m      4\u001b[0m \u001b[38;5;28mprint\u001b[39m(\u001b[38;5;124m'\u001b[39m\u001b[38;5;124mremaining code\u001b[39m\u001b[38;5;124m'\u001b[39m)\n",
      "\u001b[1;31mAssertionError\u001b[0m: "
     ]
    }
   ],
   "source": [
    "#Ex-5\n",
    "l=['jin','jimin','jhope','Tae','Jk','RM']\n",
    "assert input(\"Enter your namr\") in l\n",
    "print('remaining code')"
   ]
  },
  {
   "cell_type": "code",
   "execution_count": 14,
   "id": "d75d144f",
   "metadata": {},
   "outputs": [
    {
     "name": "stdout",
     "output_type": "stream",
     "text": [
      "Enter your namrpriti\n"
     ]
    },
    {
     "ename": "AssertionError",
     "evalue": "This name is not present",
     "output_type": "error",
     "traceback": [
      "\u001b[1;31m---------------------------------------------------------------------------\u001b[0m",
      "\u001b[1;31mAssertionError\u001b[0m                            Traceback (most recent call last)",
      "Input \u001b[1;32mIn [14]\u001b[0m, in \u001b[0;36m<cell line: 3>\u001b[1;34m()\u001b[0m\n\u001b[0;32m      1\u001b[0m \u001b[38;5;66;03m#Ex-5\u001b[39;00m\n\u001b[0;32m      2\u001b[0m l\u001b[38;5;241m=\u001b[39m[\u001b[38;5;124m'\u001b[39m\u001b[38;5;124mjin\u001b[39m\u001b[38;5;124m'\u001b[39m,\u001b[38;5;124m'\u001b[39m\u001b[38;5;124mjimin\u001b[39m\u001b[38;5;124m'\u001b[39m,\u001b[38;5;124m'\u001b[39m\u001b[38;5;124mjhope\u001b[39m\u001b[38;5;124m'\u001b[39m,\u001b[38;5;124m'\u001b[39m\u001b[38;5;124mTae\u001b[39m\u001b[38;5;124m'\u001b[39m,\u001b[38;5;124m'\u001b[39m\u001b[38;5;124mJk\u001b[39m\u001b[38;5;124m'\u001b[39m,\u001b[38;5;124m'\u001b[39m\u001b[38;5;124mRM\u001b[39m\u001b[38;5;124m'\u001b[39m]\n\u001b[1;32m----> 3\u001b[0m \u001b[38;5;28;01massert\u001b[39;00m \u001b[38;5;28minput\u001b[39m(\u001b[38;5;124m\"\u001b[39m\u001b[38;5;124mEnter your namr\u001b[39m\u001b[38;5;124m\"\u001b[39m) \u001b[38;5;129;01min\u001b[39;00m l,\u001b[38;5;124m'\u001b[39m\u001b[38;5;124mThis name is not present\u001b[39m\u001b[38;5;124m'\u001b[39m\n\u001b[0;32m      4\u001b[0m \u001b[38;5;28mprint\u001b[39m(\u001b[38;5;124m'\u001b[39m\u001b[38;5;124mremaining code\u001b[39m\u001b[38;5;124m'\u001b[39m)\n",
      "\u001b[1;31mAssertionError\u001b[0m: This name is not present"
     ]
    }
   ],
   "source": [
    "#Ex-5\n",
    "l=['jin','jimin','jhope','Tae','Jk','RM']\n",
    "assert input(\"Enter your namr\") in l,'This name is not present'\n",
    "print('remaining code')"
   ]
  },
  {
   "cell_type": "code",
   "execution_count": 15,
   "id": "e3c351a5",
   "metadata": {},
   "outputs": [
    {
     "name": "stdout",
     "output_type": "stream",
     "text": [
      "Enter your namrJAck\n",
      "This name is not present\n",
      "remaining code\n"
     ]
    }
   ],
   "source": [
    "#Ex-6\n",
    "l=['jin','jimin','jhope','Tae','Jk','RM']\n",
    "try:\n",
    "    assert input(\"Enter your namr\") in l,'This name is not present'\n",
    "except AssertionError as e:\n",
    "    print(e)\n",
    "print('remaining code')"
   ]
  },
  {
   "cell_type": "code",
   "execution_count": 16,
   "id": "52b37273",
   "metadata": {},
   "outputs": [
    {
     "name": "stdout",
     "output_type": "stream",
     "text": [
      "Enter your namrRAJJ\n",
      "This name is not present\n",
      "remaining code\n"
     ]
    }
   ],
   "source": [
    "#Ex-7\n",
    "l=['jin','jimin','jhope','Tae','Jk','RM']\n",
    "try:\n",
    "    assert input(\"Enter your namr\") in l,'This name is not present'\n",
    "except AssertionError as e:\n",
    "    print(e)\n",
    "print('remaining code')"
   ]
  },
  {
   "cell_type": "code",
   "execution_count": 2,
   "id": "a1396965",
   "metadata": {},
   "outputs": [
    {
     "name": "stdout",
     "output_type": "stream",
     "text": [
      "Enter your namrSuga\n",
      "\n",
      "remaining code\n"
     ]
    }
   ],
   "source": [
    "#Ex-8\n",
    "l=['jin','jimin','jhope','Tae','Jk','RM']\n",
    "try:\n",
    "    assert input(\"Enter your namr\") in l\n",
    "except AssertionError as e:\n",
    "    print(e)\n",
    "print('remaining code')"
   ]
  }
 ],
 "metadata": {
  "kernelspec": {
   "display_name": "Python 3 (ipykernel)",
   "language": "python",
   "name": "python3"
  },
  "language_info": {
   "codemirror_mode": {
    "name": "ipython",
    "version": 3
   },
   "file_extension": ".py",
   "mimetype": "text/x-python",
   "name": "python",
   "nbconvert_exporter": "python",
   "pygments_lexer": "ipython3",
   "version": "3.9.12"
  }
 },
 "nbformat": 4,
 "nbformat_minor": 5
}
