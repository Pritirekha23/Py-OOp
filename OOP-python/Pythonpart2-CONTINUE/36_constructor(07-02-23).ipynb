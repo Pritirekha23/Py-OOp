{
 "cells": [
  {
   "cell_type": "markdown",
   "id": "d26fbc5a",
   "metadata": {},
   "source": [
    "# CONSTRUCTOR"
   ]
  },
  {
   "cell_type": "markdown",
   "id": "045f819f",
   "metadata": {},
   "source": [
    "Constructor is just like a method in python, it is a special method because the constructor will execute automatically at the time of object creation.\n",
    "REQUIREMENT OF CONSTRCTOR?\n",
    "ans:- Constructor is used to assigning values to the instance variable.\n",
    "In pythob __init__(self) method acts as a constructor.\n",
    "constructor will minimum take one argument i.e self.\n",
    "inside python class constructor is fully optional.\n",
    "constructor will execute only once per object.\n",
    "If we will not provide any constructor then python will add one default constructor automatically.\n",
    "If we will call constructor manually then python will treat it as a normal method.\n"
   ]
  },
  {
   "cell_type": "code",
   "execution_count": 2,
   "id": "ed7964eb",
   "metadata": {},
   "outputs": [
    {
     "name": "stdout",
     "output_type": "stream",
     "text": [
      "Name is Arun\n",
      "Age is 23\n",
      "Roll is 102323\n"
     ]
    }
   ],
   "source": [
    "class Student:\n",
    "    def __init__(self,name,age,roll):\n",
    "        self.name=name\n",
    "        self.age=age\n",
    "        self.roll=roll\n",
    "    def printdetails(self):\n",
    "        print(f'Name is {self.name}')\n",
    "        print(f'Age is {self.age}')\n",
    "        print(f'Roll is {self.roll}')\n",
    "\n",
    "s=Student('Arun',23,102323)\n",
    "s.printdetails()"
   ]
  },
  {
   "cell_type": "code",
   "execution_count": 5,
   "id": "6e35b443",
   "metadata": {},
   "outputs": [
    {
     "name": "stdout",
     "output_type": "stream",
     "text": [
      "Name is Arun\n",
      "Age is 23\n",
      "Roll is 10233\n",
      "Name is Arun\n",
      "Age is 23\n",
      "Roll is 10233\n"
     ]
    }
   ],
   "source": [
    "# constructor will execute only once per object\n",
    "class Student:\n",
    "    def __init__(self,name,age,roll):\n",
    "        self.name=name\n",
    "        self.age=age\n",
    "        self.roll=roll\n",
    "    def printdetails(self):\n",
    "        print(f'Name is {self.name}')\n",
    "        print(f'Age is {self.age}')\n",
    "        print(f'Roll is {self.roll}')\n",
    "\n",
    "s=Student('Arun',23,10233)\n",
    "s.printdetails()\n",
    "s.printdetails()"
   ]
  },
  {
   "cell_type": "code",
   "execution_count": 8,
   "id": "06ba5dda",
   "metadata": {},
   "outputs": [
    {
     "name": "stdout",
     "output_type": "stream",
     "text": [
      "Name is Arun\n",
      "Age is 23\n",
      "Roll is 102323\n",
      "----------\n",
      "Name is RAhul\n",
      "Age is 25\n",
      "Roll is 1024\n",
      "----------\n",
      "Name is Zin\n",
      "Age is 25\n",
      "Roll is 123024\n"
     ]
    }
   ],
   "source": [
    "# \n",
    "class Student:\n",
    "    def __init__(self,name,age,roll):\n",
    "        self.name=name\n",
    "        self.age=age\n",
    "        self.roll=roll\n",
    "    def printdetails(self):\n",
    "        print(f'Name is {self.name}')\n",
    "        print(f'Age is {self.age}')\n",
    "        print(f'Roll is {self.roll}')\n",
    "\n",
    "s=Student('Arun',23,102323)\n",
    "s.printdetails()\n",
    "print(\"-\"*10)\n",
    "s1=Student('RAhul',25,1024)\n",
    "s1.printdetails()\n",
    "print(\"-\"*10)\n",
    "s1=Student('Zin',25,123024)\n",
    "s1.printdetails()"
   ]
  },
  {
   "cell_type": "code",
   "execution_count": 9,
   "id": "08ac1ab8",
   "metadata": {},
   "outputs": [
    {
     "name": "stdout",
     "output_type": "stream",
     "text": [
      "Company name is ABC pvt ltd.\n"
     ]
    }
   ],
   "source": [
    "# define a class without constructor\n",
    "  # Here we didnot create any constructor but python will add one default constructor behind the screen\n",
    "class EMp:\n",
    "    def Cname(self):\n",
    "        print(\"Company name is ABC pvt ltd.\")\n",
    "    \n",
    "c=EMp()\n",
    "c.Cname()"
   ]
  },
  {
   "cell_type": "markdown",
   "id": "f7369210",
   "metadata": {},
   "source": [
    "If we will call constructor manually then python will treat it as a normal method."
   ]
  },
  {
   "cell_type": "code",
   "execution_count": 11,
   "id": "d8471a55",
   "metadata": {},
   "outputs": [
    {
     "name": "stdout",
     "output_type": "stream",
     "text": [
      "I am constructor\n",
      "I am constructor\n"
     ]
    }
   ],
   "source": [
    "class Demo:\n",
    "    def __init__(self):\n",
    "        print('I am constructor')\n",
    "        \n",
    "d1=Demo() # constructor will execute automatically.\n",
    "d1.__init__() # It will be treated as a normal method."
   ]
  },
  {
   "cell_type": "code",
   "execution_count": null,
   "id": "d66827bb",
   "metadata": {},
   "outputs": [],
   "source": [
    "\n"
   ]
  },
  {
   "cell_type": "code",
   "execution_count": null,
   "id": "edf805bb",
   "metadata": {},
   "outputs": [],
   "source": []
  }
 ],
 "metadata": {
  "celltoolbar": "Raw Cell Format",
  "kernelspec": {
   "display_name": "Python 3 (ipykernel)",
   "language": "python",
   "name": "python3"
  },
  "language_info": {
   "codemirror_mode": {
    "name": "ipython",
    "version": 3
   },
   "file_extension": ".py",
   "mimetype": "text/x-python",
   "name": "python",
   "nbconvert_exporter": "python",
   "pygments_lexer": "ipython3",
   "version": "3.9.12"
  }
 },
 "nbformat": 4,
 "nbformat_minor": 5
}
