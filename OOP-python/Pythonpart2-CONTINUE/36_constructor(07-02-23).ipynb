{
 "cells": [
  {
   "cell_type": "markdown",
   "id": "d7347fc7",
   "metadata": {},
   "source": [
    "# CONSTRUCTOR"
   ]
  },
  {
   "cell_type": "markdown",
   "id": "03d460de",
   "metadata": {},
   "source": [
    "Constructor is just like a method in python, it is a special method because the constructor will execute automatically at the time of object creation.\n",
    "REQUIREMENT OF CONSTRCTOR?\n",
    "ans:- Constructor is used to assigning values to the instance variable.\n",
    "In pythob __init__(self) method acts as a constructor.\n",
    "constructor will minimum take one argument i.e self.\n",
    "inside python class constructor is fully optional."
   ]
  },
  {
   "cell_type": "code",
   "execution_count": 2,
   "id": "9b85b26a",
   "metadata": {},
   "outputs": [
    {
     "name": "stdout",
     "output_type": "stream",
     "text": [
      "Name is Arun\n",
      "Age is 23\n",
      "Roll is 102323\n"
     ]
    }
   ],
   "source": [
    "class Student:\n",
    "    def __init__(self,name,age,roll):\n",
    "        self.name=name\n",
    "        self.age=age\n",
    "        self.roll=roll\n",
    "    def printdetails(self):\n",
    "        print(f'Name is {self.name}')\n",
    "        print(f'Age is {self.age}')\n",
    "        print(f'Roll is {self.roll}')\n",
    "\n",
    "s=Student('Arun',23,102323)\n",
    "s.printdetails()"
   ]
  },
  {
   "cell_type": "code",
   "execution_count": 5,
   "id": "d65ee92c",
   "metadata": {},
   "outputs": [
    {
     "name": "stdout",
     "output_type": "stream",
     "text": [
      "Name is Arun\n",
      "Age is 23\n",
      "Roll is 10233\n",
      "Name is Arun\n",
      "Age is 23\n",
      "Roll is 10233\n"
     ]
    }
   ],
   "source": [
    "# constructor will execute only once per object\n",
    "class Student:\n",
    "    def __init__(self,name,age,roll):\n",
    "        self.name=name\n",
    "        self.age=age\n",
    "        self.roll=roll\n",
    "    def printdetails(self):\n",
    "        print(f'Name is {self.name}')\n",
    "        print(f'Age is {self.age}')\n",
    "        print(f'Roll is {self.roll}')\n",
    "\n",
    "s=Student('Arun',23,10233)\n",
    "s.printdetails()\n",
    "s.printdetails()"
   ]
  },
  {
   "cell_type": "code",
   "execution_count": 8,
   "id": "e9478b5d",
   "metadata": {},
   "outputs": [
    {
     "name": "stdout",
     "output_type": "stream",
     "text": [
      "Name is Arun\n",
      "Age is 23\n",
      "Roll is 102323\n",
      "----------\n",
      "Name is RAhul\n",
      "Age is 25\n",
      "Roll is 1024\n",
      "----------\n",
      "Name is Zin\n",
      "Age is 25\n",
      "Roll is 123024\n"
     ]
    }
   ],
   "source": [
    "# \n",
    "class Student:\n",
    "    def __init__(self,name,age,roll):\n",
    "        self.name=name\n",
    "        self.age=age\n",
    "        self.roll=roll\n",
    "    def printdetails(self):\n",
    "        print(f'Name is {self.name}')\n",
    "        print(f'Age is {self.age}')\n",
    "        print(f'Roll is {self.roll}')\n",
    "\n",
    "s=Student('Arun',23,102323)\n",
    "s.printdetails()\n",
    "print(\"-\"*10)\n",
    "s1=Student('RAhul',25,1024)\n",
    "s1.printdetails()\n",
    "print(\"-\"*10)\n",
    "s1=Student('Zin',25,123024)\n",
    "s1.printdetails()"
   ]
  },
  {
   "cell_type": "code",
   "execution_count": 9,
   "id": "a55a0ca6",
   "metadata": {},
   "outputs": [
    {
     "name": "stdout",
     "output_type": "stream",
     "text": [
      "Company name is ABC pvt ltd.\n"
     ]
    }
   ],
   "source": [
    "# define a class without constructor\n",
    "  # Here we didnot create any constructor but python will add one default constructor behind the screen\n",
    "class EMp:\n",
    "    def Cname(self):\n",
    "        print(\"Company name is ABC pvt ltd.\")\n",
    "    \n",
    "c=EMp()\n",
    "c.Cname()"
   ]
  },
  {
   "cell_type": "code",
   "execution_count": null,
   "id": "e998f235",
   "metadata": {},
   "outputs": [],
   "source": []
  },
  {
   "cell_type": "code",
   "execution_count": null,
   "id": "35dbc221",
   "metadata": {},
   "outputs": [],
   "source": []
  },
  {
   "cell_type": "code",
   "execution_count": null,
   "id": "4ec93a9f",
   "metadata": {},
   "outputs": [],
   "source": []
  },
  {
   "cell_type": "code",
   "execution_count": null,
   "id": "3e0cba27",
   "metadata": {},
   "outputs": [],
   "source": []
  }
 ],
 "metadata": {
  "celltoolbar": "Raw Cell Format",
  "kernelspec": {
   "display_name": "Python 3 (ipykernel)",
   "language": "python",
   "name": "python3"
  },
  "language_info": {
   "codemirror_mode": {
    "name": "ipython",
    "version": 3
   },
   "file_extension": ".py",
   "mimetype": "text/x-python",
   "name": "python",
   "nbconvert_exporter": "python",
   "pygments_lexer": "ipython3",
   "version": "3.9.12"
  }
 },
 "nbformat": 4,
 "nbformat_minor": 5
}
