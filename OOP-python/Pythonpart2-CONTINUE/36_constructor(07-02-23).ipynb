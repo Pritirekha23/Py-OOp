{
 "cells": [
  {
   "cell_type": "markdown",
   "id": "f0a7e317",
   "metadata": {},
   "source": [
    "# CONSTRUCTOR"
   ]
  },
  {
   "cell_type": "markdown",
   "id": "cf19ed54",
   "metadata": {},
   "source": [
    "Constructor is just like a method in python, it is a special method because the constructor will execute automatically at the time of object creation.\n",
    "\n",
    "REQUIREMENT OF CONSTRCTOR?\n",
    "ans:- Constructor is used to assigning values to the instance variable.\n",
    "\n",
    "In pythob __init__(self) method acts as a constructor.\n",
    "constructor will minimum take one argument i.e self.\n",
    "inside python class constructor is fully optional.\n",
    "constructor will execute only once per object.\n",
    "\n",
    "If we will not provide any constructor then python will add one default constructor automatically.\n",
    "\n",
    "If we will call constructor manually then python will treat it as a normal method.\n",
    "\n",
    "we cant create multiple constructors inside a class bcz overloading is not possible in python,but if we create multiple constructors inside a class then it treated the last one,and it will not raise any error.\n",
    "\n",
    "Types: Non-parameterize, Parameterize, Default."
   ]
  },
  {
   "cell_type": "code",
   "execution_count": 2,
   "id": "26d71fd1",
   "metadata": {},
   "outputs": [
    {
     "name": "stdout",
     "output_type": "stream",
     "text": [
      "Name is Arun\n",
      "Age is 23\n",
      "Roll is 102323\n"
     ]
    }
   ],
   "source": [
    "class Student:\n",
    "    def __init__(self,name,age,roll):\n",
    "        self.name=name\n",
    "        self.age=age\n",
    "        self.roll=roll\n",
    "    def printdetails(self):\n",
    "        print(f'Name is {self.name}')\n",
    "        print(f'Age is {self.age}')\n",
    "        print(f'Roll is {self.roll}')\n",
    "\n",
    "s=Student('Arun',23,102323)\n",
    "s.printdetails()"
   ]
  },
  {
   "cell_type": "code",
   "execution_count": 5,
   "id": "4f075dfb",
   "metadata": {},
   "outputs": [
    {
     "name": "stdout",
     "output_type": "stream",
     "text": [
      "Name is Arun\n",
      "Age is 23\n",
      "Roll is 10233\n",
      "Name is Arun\n",
      "Age is 23\n",
      "Roll is 10233\n"
     ]
    }
   ],
   "source": [
    "# constructor will execute only once per object\n",
    "class Student:\n",
    "    def __init__(self,name,age,roll):\n",
    "        self.name=name\n",
    "        self.age=age\n",
    "        self.roll=roll\n",
    "    def printdetails(self):\n",
    "        print(f'Name is {self.name}')\n",
    "        print(f'Age is {self.age}')\n",
    "        print(f'Roll is {self.roll}')\n",
    "\n",
    "s=Student('Arun',23,10233)\n",
    "s.printdetails()\n",
    "s.printdetails()"
   ]
  },
  {
   "cell_type": "code",
   "execution_count": 8,
   "id": "accd3f95",
   "metadata": {},
   "outputs": [
    {
     "name": "stdout",
     "output_type": "stream",
     "text": [
      "Name is Arun\n",
      "Age is 23\n",
      "Roll is 102323\n",
      "----------\n",
      "Name is RAhul\n",
      "Age is 25\n",
      "Roll is 1024\n",
      "----------\n",
      "Name is Zin\n",
      "Age is 25\n",
      "Roll is 123024\n"
     ]
    }
   ],
   "source": [
    "# \n",
    "class Student:\n",
    "    def __init__(self,name,age,roll):\n",
    "        self.name=name\n",
    "        self.age=age\n",
    "        self.roll=roll\n",
    "    def printdetails(self):\n",
    "        print(f'Name is {self.name}')\n",
    "        print(f'Age is {self.age}')\n",
    "        print(f'Roll is {self.roll}')\n",
    "\n",
    "s=Student('Arun',23,102323)\n",
    "s.printdetails()\n",
    "print(\"-\"*10)\n",
    "s1=Student('RAhul',25,1024)\n",
    "s1.printdetails()\n",
    "print(\"-\"*10)\n",
    "s1=Student('Zin',25,123024)\n",
    "s1.printdetails()"
   ]
  },
  {
   "cell_type": "code",
   "execution_count": 9,
   "id": "071a8694",
   "metadata": {},
   "outputs": [
    {
     "name": "stdout",
     "output_type": "stream",
     "text": [
      "Company name is ABC pvt ltd.\n"
     ]
    }
   ],
   "source": [
    "# define a class without constructor\n",
    "  # Here we didnot create any constructor but python will add one default constructor behind the screen\n",
    "class EMp:\n",
    "    def Cname(self):\n",
    "        print(\"Company name is ABC pvt ltd.\")\n",
    "    \n",
    "c=EMp()\n",
    "c.Cname()"
   ]
  },
  {
   "cell_type": "markdown",
   "id": "e0a54034",
   "metadata": {},
   "source": [
    "If we will call constructor manually then python will treat it as a normal method."
   ]
  },
  {
   "cell_type": "code",
   "execution_count": 11,
   "id": "78fc2f12",
   "metadata": {},
   "outputs": [
    {
     "name": "stdout",
     "output_type": "stream",
     "text": [
      "I am constructor\n",
      "I am constructor\n"
     ]
    }
   ],
   "source": [
    "class Demo:\n",
    "    def __init__(self):\n",
    "        print('I am constructor')\n",
    "        \n",
    "d1=Demo() # constructor will execute automatically.\n",
    "d1.__init__() #  __init__(self): will be treated as a normal method."
   ]
  },
  {
   "cell_type": "code",
   "execution_count": 23,
   "id": "96502823",
   "metadata": {},
   "outputs": [
    {
     "name": "stdout",
     "output_type": "stream",
     "text": [
      "Name is Arun\n",
      "Age is 23\n"
     ]
    },
    {
     "ename": "TypeError",
     "evalue": "__init__() missing 1 required positional argument: 'age'",
     "output_type": "error",
     "traceback": [
      "\u001b[1;31m---------------------------------------------------------------------------\u001b[0m",
      "\u001b[1;31mTypeError\u001b[0m                                 Traceback (most recent call last)",
      "Input \u001b[1;32mIn [23]\u001b[0m, in \u001b[0;36m<cell line: 15>\u001b[1;34m()\u001b[0m\n\u001b[0;32m     12\u001b[0m s1\u001b[38;5;241m=\u001b[39mStudent(\u001b[38;5;124m'\u001b[39m\u001b[38;5;124mArun\u001b[39m\u001b[38;5;124m'\u001b[39m,\u001b[38;5;241m23\u001b[39m)\n\u001b[0;32m     13\u001b[0m s1\u001b[38;5;241m.\u001b[39mprintdetails()\n\u001b[1;32m---> 15\u001b[0m s2\u001b[38;5;241m=\u001b[39m\u001b[43mStudent\u001b[49m\u001b[43m(\u001b[49m\u001b[38;5;124;43m'\u001b[39;49m\u001b[38;5;124;43mRahul\u001b[39;49m\u001b[38;5;124;43m'\u001b[39;49m\u001b[43m,\u001b[49m\u001b[43m)\u001b[49m\n\u001b[0;32m     16\u001b[0m s2\u001b[38;5;241m.\u001b[39mprintdetails()\n",
      "\u001b[1;31mTypeError\u001b[0m: __init__() missing 1 required positional argument: 'age'"
     ]
    }
   ],
   "source": [
    "# we cant create multiple constructor inside a class.\n",
    "class Student:\n",
    "    def __init__(self,name):\n",
    "        self.name=name\n",
    "    def __init__(self,name,age):\n",
    "        self.name=name\n",
    "        self.age=age\n",
    "    def printdetails(self):\n",
    "        print(f'Name is {self.name}')\n",
    "        print(f'Age is {self.age}')\n",
    "    # python will going to consider the last one constructor based on that it will show the output    \n",
    "s1=Student('Arun',23)\n",
    "s1.printdetails()\n",
    "\n",
    "s2=Student('Rahul',)\n",
    "s2.printdetails()"
   ]
  },
  {
   "cell_type": "markdown",
   "id": "c172b435",
   "metadata": {},
   "source": [
    "In other programming language constrctor name must be same as the class name."
   ]
  },
  {
   "cell_type": "markdown",
   "id": "dd94f14b",
   "metadata": {},
   "source": [
    "Non-parameterize:\n",
    " If constructor not taking any argument except self then it will consider as Non-parameterized constructor.\n",
    "\n",
    "def __init__(self):\n",
    "\n",
    "parameterized:\n",
    "If a constructor not taking arguments it will consider a parameterized constructor.\n",
    "\n",
    "Default:\n",
    "If we will not provide ay constructor then python will provide one default constructor.\n",
    "\n"
   ]
  },
  {
   "cell_type": "markdown",
   "id": "85e181bf",
   "metadata": {},
   "source": [
    "# Non-parameterize:"
   ]
  },
  {
   "cell_type": "code",
   "execution_count": 24,
   "id": "30217207",
   "metadata": {},
   "outputs": [
    {
     "name": "stdout",
     "output_type": "stream",
     "text": [
      "I am constructor\n"
     ]
    }
   ],
   "source": [
    "class Demo:\n",
    "    def __init__(self):\n",
    "        print('I am constructor')\n",
    "        \n",
    "d1=Demo()"
   ]
  },
  {
   "cell_type": "markdown",
   "id": "a3fc7313",
   "metadata": {},
   "source": [
    "# parameterized:"
   ]
  },
  {
   "cell_type": "code",
   "execution_count": 29,
   "id": "d4d043e6",
   "metadata": {},
   "outputs": [],
   "source": [
    "class Demo:\n",
    "    def __init__(self,name):\n",
    "        self.name=name\n",
    "\n",
    "d1=Demo('Arun')\n"
   ]
  },
  {
   "cell_type": "markdown",
   "id": "758f0b85",
   "metadata": {},
   "source": [
    "# Default:"
   ]
  },
  {
   "cell_type": "code",
   "execution_count": 30,
   "id": "7b921c52",
   "metadata": {},
   "outputs": [
    {
     "name": "stdout",
     "output_type": "stream",
     "text": [
      "Company name is ABC pvt ltd.\n"
     ]
    }
   ],
   "source": [
    " \n",
    "class EMp:\n",
    "    def Cname(self):\n",
    "        print(\"Company name is ABC pvt ltd.\")\n",
    "    \n",
    "c=EMp()\n",
    "c.Cname()"
   ]
  }
 ],
 "metadata": {
  "celltoolbar": "Raw Cell Format",
  "kernelspec": {
   "display_name": "Python 3 (ipykernel)",
   "language": "python",
   "name": "python3"
  },
  "language_info": {
   "codemirror_mode": {
    "name": "ipython",
    "version": 3
   },
   "file_extension": ".py",
   "mimetype": "text/x-python",
   "name": "python",
   "nbconvert_exporter": "python",
   "pygments_lexer": "ipython3",
   "version": "3.9.12"
  }
 },
 "nbformat": 4,
 "nbformat_minor": 5
}
