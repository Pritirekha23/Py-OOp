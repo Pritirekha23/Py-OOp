{
 "cells": [
  {
   "cell_type": "markdown",
   "id": "729f4131",
   "metadata": {},
   "source": [
    "dt-16/02/23"
   ]
  },
  {
   "cell_type": "markdown",
   "id": "2496d918",
   "metadata": {},
   "source": [
    "# CONSTRUCTOR OVERRIDING"
   ]
  },
  {
   "cell_type": "markdown",
   "id": "0aec5710",
   "metadata": {},
   "source": [
    "parent class constructor by default avialable to child class, if child class want then child class can override it.\n"
   ]
  },
  {
   "cell_type": "code",
   "execution_count": 1,
   "id": "1af07e60",
   "metadata": {},
   "outputs": [
    {
     "name": "stdout",
     "output_type": "stream",
     "text": [
      "Hello\n"
     ]
    }
   ],
   "source": [
    "#without overriding\n",
    "class P:\n",
    "    def __init__(self):\n",
    "        print(\"Hello\")\n",
    "        \n",
    "class C(P):\n",
    "    pass\n",
    "#constructor of P class is available to C class by default .\n",
    "c=C()\n",
    "\n",
    "           "
   ]
  },
  {
   "cell_type": "code",
   "execution_count": 4,
   "id": "ba7aa6a5",
   "metadata": {},
   "outputs": [
    {
     "name": "stdout",
     "output_type": "stream",
     "text": [
      "Hi\n"
     ]
    }
   ],
   "source": [
    "#with overriding\n",
    "class P:\n",
    "    def __init__(self):\n",
    "        print(\"Hello\")\n",
    "        \n",
    "class C(P):\n",
    "    def __init__(self):\n",
    "        print(\"Hi\")\n",
    "    \n",
    "c=C()          "
   ]
  },
  {
   "cell_type": "code",
   "execution_count": null,
   "id": "afe60f22",
   "metadata": {},
   "outputs": [],
   "source": []
  },
  {
   "cell_type": "code",
   "execution_count": 9,
   "id": "7382d09a",
   "metadata": {},
   "outputs": [],
   "source": [
    "#problem without constructor overriding\n",
    "\n",
    "class Human:\n",
    "    def __init__(self,name,age):\n",
    "        self.name=name\n",
    "        self.age=age\n",
    "        \n",
    "    def printdetails(self):\n",
    "        print(f'Name is {self.name}')\n",
    "        print(f'Age is {self.age}')\n",
    "\n",
    "class Student(Human):\n",
    "    def __init__(self,name,age,roll,course,college):\n",
    "        self.name=name #dc\n",
    "        self.age=age  #dc\n",
    "        self.roll=roll\n",
    "        self.course=course\n",
    "        self.college=college\n",
    "        \n",
    "    def printdetials(self):\n",
    "        print(f'Name is {self.name}') #dc\n",
    "        print(f'Age is {self.age}')#dc\n",
    "        print(f'Roll is {self.roll}')\n",
    "        print(f'course is {self.course}')\n",
    "        print(f'college is{self.college}')\n",
    "    \n",
    "    \n",
    "    \n",
    "    \n",
    "class Employe(Human):\n",
    "    def __init__(self,name,age,eid,company,sal):\n",
    "        self.name=name #dc\n",
    "        self.age=age #dc\n",
    "        self.eid=eid\n",
    "        self.company=company\n",
    "        self.sal=sal\n",
    "    def printdetials(self):\n",
    "        print(f'Name is {self.name}')  #dc\n",
    "        print(f'Age is {self.age}')    #dc\n",
    "        print(f'eid is {self.eid}')\n",
    "        print(f'company is {self.company}')\n",
    "        print(f'sal is{self.sal}')\n",
    "        \n",
    "    \n"
   ]
  },
  {
   "cell_type": "code",
   "execution_count": null,
   "id": "2aa179fc",
   "metadata": {},
   "outputs": [],
   "source": [
    "# solution"
   ]
  },
  {
   "cell_type": "code",
   "execution_count": 20,
   "id": "17a151e3",
   "metadata": {},
   "outputs": [
    {
     "name": "stdout",
     "output_type": "stream",
     "text": [
      "Name is Arun\n",
      "Age is 23\n",
      "Roll is 1023\n",
      "course is Btech\n",
      "college is ABC clg\n",
      "------------------------\n"
     ]
    }
   ],
   "source": [
    "#problem without constructor overriding\n",
    "\n",
    "class Human:\n",
    "    def __init__(self,name,age):\n",
    "        self.name=name\n",
    "        self.age=age\n",
    "        \n",
    "    def printdetails(self):\n",
    "        print(f'Name is {self.name}')\n",
    "        print(f'Age is {self.age}')\n",
    "\n",
    "class Student(Human):\n",
    "    def __init__(self,name,age,roll,course,college):\n",
    "        super().__init__(name,age)   # calling oparent class constructor \n",
    "        self.roll=roll\n",
    "        self.course=course\n",
    "        self.college=college\n",
    "        \n",
    "    def printdetails(self):\n",
    "        super().printdetails()\n",
    "        print(f'Roll is {self.roll}')\n",
    "        print(f'course is {self.course}')\n",
    "        print(f'college is {self.college}')\n",
    "    \n",
    "    \n",
    "    \n",
    "    \n",
    "class Employe(Human):\n",
    "    def __init__(self,name,age,eid,company,sal):\n",
    "        super().__init__(name,age) \n",
    "        self.eid=eid\n",
    "        self.company=company\n",
    "        self.sal=sal\n",
    "    def printdetails(self):\n",
    "        super().printdetails()   \n",
    "        print(f'eid is {self.eid}')\n",
    "        print(f'company is {self.company}')\n",
    "        print(f'sal is {self.sal}')\n",
    "      \n",
    "    \n",
    "s=Student('Arun',23,1023,'Btech','ABC clg')    \n",
    "s.printdetails()    \n",
    "\n",
    "\n",
    "print('------'*4)\n",
    "\n",
    "\n",
    "e=Employe('Rahul',25,1025,)"
   ]
  }
 ],
 "metadata": {
  "kernelspec": {
   "display_name": "Python 3 (ipykernel)",
   "language": "python",
   "name": "python3"
  },
  "language_info": {
   "codemirror_mode": {
    "name": "ipython",
    "version": 3
   },
   "file_extension": ".py",
   "mimetype": "text/x-python",
   "name": "python",
   "nbconvert_exporter": "python",
   "pygments_lexer": "ipython3",
   "version": "3.9.12"
  }
 },
 "nbformat": 4,
 "nbformat_minor": 5
}
