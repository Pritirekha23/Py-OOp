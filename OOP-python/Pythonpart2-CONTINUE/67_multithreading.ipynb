{
 "cells": [
  {
   "cell_type": "markdown",
   "id": "fb97809d",
   "metadata": {},
   "source": [
    "dt-11/04/23"
   ]
  },
  {
   "cell_type": "markdown",
   "id": "4f238069",
   "metadata": {},
   "source": [
    "# MULTITHREADING"
   ]
  },
  {
   "cell_type": "markdown",
   "id": "da32a689",
   "metadata": {},
   "source": [
    "process:\n",
    "    program is in execution is known as process.\n",
    "Thread:\n",
    "    Thread is a smallest unit of process or programs.\n",
    "    A threada is an independent part within a process.\n",
    "    \n",
    "Multitasking:\n",
    "    Doing multiple work simultaneously is known as multitasking.\n",
    "    It is two types:-(1) Thread based multitasking(multiple tasks will execute simultaneously within a process and each task are independent.)\n",
    "    (2) process based multitasking(multiple tasks will execute simultaneously , here eaxh task are independent process.)\n",
    "    "
   ]
  },
  {
   "cell_type": "code",
   "execution_count": null,
   "id": "f2834261",
   "metadata": {},
   "outputs": [],
   "source": []
  },
  {
   "cell_type": "code",
   "execution_count": null,
   "id": "a91ce810",
   "metadata": {},
   "outputs": [],
   "source": []
  },
  {
   "cell_type": "code",
   "execution_count": null,
   "id": "b968f443",
   "metadata": {},
   "outputs": [],
   "source": []
  },
  {
   "cell_type": "code",
   "execution_count": null,
   "id": "d8eb4fb3",
   "metadata": {},
   "outputs": [],
   "source": [
    "#working with multithreading"
   ]
  },
  {
   "cell_type": "code",
   "execution_count": 2,
   "id": "61f45ef7",
   "metadata": {},
   "outputs": [
    {
     "name": "stdout",
     "output_type": "stream",
     "text": [
      "1\n",
      "2\n",
      "3\n",
      "<_MainThread(MainThread, started 368)>\n"
     ]
    }
   ],
   "source": [
    "#ex-1(getting the information about current thread)\n",
    "import threading\n",
    "print(1)\n",
    "print(2)\n",
    "print(3)\n",
    "print(threading.current_thread())\n",
    "\n",
    "#current_thread() is a function which will return an object."
   ]
  },
  {
   "cell_type": "code",
   "execution_count": 11,
   "id": "1c32a982",
   "metadata": {},
   "outputs": [
    {
     "name": "stdout",
     "output_type": "stream",
     "text": [
      "1\n",
      "2\n",
      "3\n",
      "<_MainThread(MainThread, started 368)>\n",
      "priti\n",
      "priti\n",
      "priti\n",
      "priti\n",
      "priti\n",
      "<_MainThread(MainThread, started 368)>\n",
      "--------------------\n",
      "MainThread\n",
      "MainThread\n",
      "--------------------\n",
      "368\n",
      "True\n"
     ]
    }
   ],
   "source": [
    "#ex-2\n",
    "import threading\n",
    "print(1)\n",
    "print(2)\n",
    "print(3)\n",
    "print(threading.current_thread())\n",
    "\n",
    "for i in range(5):\n",
    "    print('priti')\n",
    "print(threading.current_thread())\n",
    "print('-'*20)\n",
    "#printing thread name\n",
    "print(threading.current_thread().getName())\n",
    "\n",
    "\n",
    "print(threading.current_thread().name)\n",
    "print('-'*20)\n",
    "\n",
    "#printing thread id\n",
    "print(threading.current_thread().ident)\n",
    "\n",
    "#checking thread is active or not\n",
    "print(threading.current_thread().is_alive())"
   ]
  }
 ],
 "metadata": {
  "kernelspec": {
   "display_name": "Python 3 (ipykernel)",
   "language": "python",
   "name": "python3"
  },
  "language_info": {
   "codemirror_mode": {
    "name": "ipython",
    "version": 3
   },
   "file_extension": ".py",
   "mimetype": "text/x-python",
   "name": "python",
   "nbconvert_exporter": "python",
   "pygments_lexer": "ipython3",
   "version": "3.9.12"
  }
 },
 "nbformat": 4,
 "nbformat_minor": 5
}
