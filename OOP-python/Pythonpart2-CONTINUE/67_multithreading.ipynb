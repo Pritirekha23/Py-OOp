{
 "cells": [
  {
   "cell_type": "markdown",
   "id": "93c26bc7",
   "metadata": {},
   "source": [
    "dt-11/04/23"
   ]
  },
  {
   "cell_type": "markdown",
   "id": "ee3396fe",
   "metadata": {},
   "source": [
    "# MULTITHREADING"
   ]
  },
  {
   "cell_type": "markdown",
   "id": "7bd3f81f",
   "metadata": {},
   "source": [
    "process:\n",
    "    program is in execution is known as process.\n",
    "    \n",
    "    "
   ]
  },
  {
   "cell_type": "code",
   "execution_count": null,
   "id": "7524c546",
   "metadata": {},
   "outputs": [],
   "source": []
  },
  {
   "cell_type": "code",
   "execution_count": null,
   "id": "c62cbfe3",
   "metadata": {},
   "outputs": [],
   "source": []
  },
  {
   "cell_type": "code",
   "execution_count": null,
   "id": "6f6e343f",
   "metadata": {},
   "outputs": [],
   "source": []
  },
  {
   "cell_type": "code",
   "execution_count": null,
   "id": "1ee61fc2",
   "metadata": {},
   "outputs": [],
   "source": [
    "#working with multithreading"
   ]
  },
  {
   "cell_type": "code",
   "execution_count": 2,
   "id": "e9840b69",
   "metadata": {},
   "outputs": [
    {
     "name": "stdout",
     "output_type": "stream",
     "text": [
      "1\n",
      "2\n",
      "3\n",
      "<_MainThread(MainThread, started 368)>\n"
     ]
    }
   ],
   "source": [
    "#ex-1(getting the information about current thread)\n",
    "import threading\n",
    "print(1)\n",
    "print(2)\n",
    "print(3)\n",
    "print(threading.current_thread())\n",
    "\n",
    "#current_thread() is a function which will return an object."
   ]
  },
  {
   "cell_type": "code",
   "execution_count": 11,
   "id": "fb45652c",
   "metadata": {},
   "outputs": [
    {
     "name": "stdout",
     "output_type": "stream",
     "text": [
      "1\n",
      "2\n",
      "3\n",
      "<_MainThread(MainThread, started 368)>\n",
      "priti\n",
      "priti\n",
      "priti\n",
      "priti\n",
      "priti\n",
      "<_MainThread(MainThread, started 368)>\n",
      "--------------------\n",
      "MainThread\n",
      "MainThread\n",
      "--------------------\n",
      "368\n",
      "True\n"
     ]
    }
   ],
   "source": [
    "#ex-2\n",
    "import threading\n",
    "print(1)\n",
    "print(2)\n",
    "print(3)\n",
    "print(threading.current_thread())\n",
    "\n",
    "for i in range(5):\n",
    "    print('priti')\n",
    "print(threading.current_thread())\n",
    "print('-'*20)\n",
    "#printing thread name\n",
    "print(threading.current_thread().getName())\n",
    "\n",
    "\n",
    "print(threading.current_thread().name)\n",
    "print('-'*20)\n",
    "\n",
    "#printing thread id\n",
    "print(threading.current_thread().ident)\n",
    "\n",
    "#checking thread is active or not\n",
    "print(threading.current_thread().is_alive())"
   ]
  }
 ],
 "metadata": {
  "kernelspec": {
   "display_name": "Python 3 (ipykernel)",
   "language": "python",
   "name": "python3"
  },
  "language_info": {
   "codemirror_mode": {
    "name": "ipython",
    "version": 3
   },
   "file_extension": ".py",
   "mimetype": "text/x-python",
   "name": "python",
   "nbconvert_exporter": "python",
   "pygments_lexer": "ipython3",
   "version": "3.9.12"
  }
 },
 "nbformat": 4,
 "nbformat_minor": 5
}
