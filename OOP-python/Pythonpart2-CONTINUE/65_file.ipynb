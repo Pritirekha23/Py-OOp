{
 "cells": [
  {
   "cell_type": "markdown",
   "id": "6a900bc2",
   "metadata": {},
   "source": [
    "dt-20/03/23"
   ]
  },
  {
   "cell_type": "markdown",
   "id": "373cfd0b",
   "metadata": {},
   "source": [
    "# RegEx Module"
   ]
  },
  {
   "cell_type": "markdown",
   "id": "d1fb5c40",
   "metadata": {},
   "source": [
    "RegEx can be used to check if a string contains the specified search pattern.\n",
    "Python has a built-in package called re, which can be used to work with Regular Expressions\n",
    "findall\tReturns a list containing all matches\n",
    "search\tReturns a Match object if there is a match anywhere in the string\n",
    "split\tReturns a list where the string has been split at each match\n",
    "sub\tReplaces one or many matches with a string"
   ]
  },
  {
   "cell_type": "code",
   "execution_count": 7,
   "id": "8880cba5",
   "metadata": {},
   "outputs": [],
   "source": [
    "import re"
   ]
  },
  {
   "cell_type": "code",
   "execution_count": 18,
   "id": "c8f23a7a",
   "metadata": {},
   "outputs": [
    {
     "name": "stdout",
     "output_type": "stream",
     "text": [
      "YES! We have a match!\n"
     ]
    }
   ],
   "source": [
    "#ex-1\n",
    "#Search the string to see if it starts with \"The\" and ends with \"Spain\":\n",
    "import re\n",
    "txt='The rain in Spain'\n",
    "x=re.search('^The.*Spain$',txt)\n",
    "if x:\n",
    "     print(\"YES! We have a match!\")\n",
    "else:\n",
    "     print(\"No match\")\n"
   ]
  },
  {
   "cell_type": "markdown",
   "id": "2cdc93f5",
   "metadata": {},
   "source": [
    "## findall() function"
   ]
  },
  {
   "cell_type": "markdown",
   "id": "d55b05aa",
   "metadata": {},
   "source": [
    "The list contains the matches in the order they are found.\n",
    "If no matches are found, an empty list is returned:"
   ]
  },
  {
   "cell_type": "code",
   "execution_count": 23,
   "id": "7345a293",
   "metadata": {},
   "outputs": [
    {
     "name": "stdout",
     "output_type": "stream",
     "text": [
      "['in', 'in', 'in']\n"
     ]
    }
   ],
   "source": [
    "#ex-2\n",
    "#return a list contating every occurance of 'in'\n",
    "txt='The rain in Spain'\n",
    "x=re.findall('in',txt)\n",
    "print(x)"
   ]
  },
  {
   "cell_type": "code",
   "execution_count": 25,
   "id": "657d2303",
   "metadata": {},
   "outputs": [
    {
     "name": "stdout",
     "output_type": "stream",
     "text": [
      "['he']\n"
     ]
    }
   ],
   "source": [
    "#ex-3\n",
    "#return a list contating every occurance of 'he'\n",
    "txt='The rain in Spain'\n",
    "x=re.findall('he',txt)\n",
    "print(x)"
   ]
  },
  {
   "cell_type": "code",
   "execution_count": 26,
   "id": "47cca1c9",
   "metadata": {},
   "outputs": [
    {
     "name": "stdout",
     "output_type": "stream",
     "text": [
      "[]\n"
     ]
    }
   ],
   "source": [
    "#ex-4 (Return an empty list if no match was found)\n",
    "#return a list contating every occurance of 'haha'\n",
    "txt='The rain in Spain'\n",
    "x=re.findall('haha',txt)\n",
    "print(x)"
   ]
  },
  {
   "cell_type": "code",
   "execution_count": null,
   "id": "80ad16e4",
   "metadata": {},
   "outputs": [],
   "source": []
  },
  {
   "cell_type": "code",
   "execution_count": null,
   "id": "21b5ceae",
   "metadata": {},
   "outputs": [],
   "source": []
  }
 ],
 "metadata": {
  "kernelspec": {
   "display_name": "Python 3 (ipykernel)",
   "language": "python",
   "name": "python3"
  },
  "language_info": {
   "codemirror_mode": {
    "name": "ipython",
    "version": 3
   },
   "file_extension": ".py",
   "mimetype": "text/x-python",
   "name": "python",
   "nbconvert_exporter": "python",
   "pygments_lexer": "ipython3",
   "version": "3.9.12"
  }
 },
 "nbformat": 4,
 "nbformat_minor": 5
}
