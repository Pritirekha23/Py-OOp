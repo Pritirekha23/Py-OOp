{
 "cells": [
  {
   "cell_type": "markdown",
   "id": "619ccfc5",
   "metadata": {},
   "source": [
    "# INTRODUCTION TO EXCEPTION HANDLING\n"
   ]
  },
  {
   "cell_type": "markdown",
   "id": "b4363f73",
   "metadata": {},
   "source": [
    "dt-05/03/23"
   ]
  },
  {
   "cell_type": "markdown",
   "id": "d30b2f57",
   "metadata": {},
   "source": [
    "## INTRODUCTION TO ERROR AND ITS TYPES"
   ]
  },
  {
   "cell_type": "markdown",
   "id": "3b1a399a",
   "metadata": {},
   "source": [
    "ERROR::- Error means mistake.\n",
    "       ->In programming error are two types.\n",
    "(i) Syntax error(compile time error) :: Syntax error occur when we will do some mistake in syntax. IT occurs, if we will not follow proper syntax and rule regulation provided by python.        \n",
    "Ex:-If we forgot to mention :(colon) in control statement , \"\" (quote) in string,() in function we will get synatx error.\n",
    "programmer is responsible for syntax error.\n",
    "             \n",
    "(ii) Run time error (Execution time error):: \n",
    "If an error will occur at execution time that type error called Run time error. It is also known as Exception. \n",
    "\n",
    "This error occur at the program execution bcz of several reason like :-\n",
    "(i) user provide input (ex- in your account u have 10000 balance but u r trying to withdraw 25000 at that time u will get an error).\n",
    "(ii)memory issues (ex-  your laptop contain 2 gb ram and u r trying to run a program that required 4 gb ram at that particular time u eill get memory issues.)\n",
    "(iii) at the time of accessing data (ex-You want to open a file in your laptop but that particular file is not present in your laptop  )\n",
    " (iv) at the time of file opening         \n",
    "          "
   ]
  },
  {
   "cell_type": "code",
   "execution_count": 6,
   "id": "296055f1",
   "metadata": {},
   "outputs": [
    {
     "ename": "SyntaxError",
     "evalue": "EOL while scanning string literal (343688777.py, line 3)",
     "output_type": "error",
     "traceback": [
      "\u001b[1;36m  Input \u001b[1;32mIn [6]\u001b[1;36m\u001b[0m\n\u001b[1;33m    print(Hi\")\u001b[0m\n\u001b[1;37m              ^\u001b[0m\n\u001b[1;31mSyntaxError\u001b[0m\u001b[1;31m:\u001b[0m EOL while scanning string literal\n"
     ]
    }
   ],
   "source": [
    "# syntax error\n",
    "# ex-1\n",
    "print(Hi\")"
   ]
  },
  {
   "cell_type": "code",
   "execution_count": 5,
   "id": "4f1b4169",
   "metadata": {},
   "outputs": [
    {
     "name": "stdout",
     "output_type": "stream",
     "text": [
      "HI\n"
     ]
    }
   ],
   "source": [
    "# ex-1 solution\n",
    "print(\"HI\")"
   ]
  },
  {
   "cell_type": "code",
   "execution_count": 8,
   "id": "4b5d8e6e",
   "metadata": {},
   "outputs": [
    {
     "ename": "SyntaxError",
     "evalue": "invalid syntax (4291732752.py, line 3)",
     "output_type": "error",
     "traceback": [
      "\u001b[1;36m  Input \u001b[1;32mIn [8]\u001b[1;36m\u001b[0m\n\u001b[1;33m    if a==10\u001b[0m\n\u001b[1;37m            ^\u001b[0m\n\u001b[1;31mSyntaxError\u001b[0m\u001b[1;31m:\u001b[0m invalid syntax\n"
     ]
    }
   ],
   "source": [
    "#ex-2\n",
    "a=10\n",
    "if a==10\n",
    "    print('a is 10')"
   ]
  },
  {
   "cell_type": "code",
   "execution_count": null,
   "id": "66c85aa4",
   "metadata": {},
   "outputs": [],
   "source": []
  },
  {
   "cell_type": "code",
   "execution_count": null,
   "id": "15c434c8",
   "metadata": {},
   "outputs": [],
   "source": []
  },
  {
   "cell_type": "code",
   "execution_count": null,
   "id": "aeff7e87",
   "metadata": {},
   "outputs": [],
   "source": []
  },
  {
   "cell_type": "code",
   "execution_count": null,
   "id": "307704bc",
   "metadata": {},
   "outputs": [],
   "source": []
  },
  {
   "cell_type": "code",
   "execution_count": null,
   "id": "36d68c0e",
   "metadata": {},
   "outputs": [],
   "source": []
  },
  {
   "cell_type": "code",
   "execution_count": null,
   "id": "ff7bc5ec",
   "metadata": {},
   "outputs": [],
   "source": []
  }
 ],
 "metadata": {
  "kernelspec": {
   "display_name": "Python 3 (ipykernel)",
   "language": "python",
   "name": "python3"
  },
  "language_info": {
   "codemirror_mode": {
    "name": "ipython",
    "version": 3
   },
   "file_extension": ".py",
   "mimetype": "text/x-python",
   "name": "python",
   "nbconvert_exporter": "python",
   "pygments_lexer": "ipython3",
   "version": "3.9.12"
  }
 },
 "nbformat": 4,
 "nbformat_minor": 5
}
