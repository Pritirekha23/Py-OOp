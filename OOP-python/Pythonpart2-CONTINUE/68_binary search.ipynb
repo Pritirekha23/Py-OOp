{
 "cells": [
  {
   "cell_type": "code",
   "execution_count": null,
   "id": "9d6f0462",
   "metadata": {},
   "outputs": [],
   "source": [
    "binary search"
   ]
  },
  {
   "cell_type": "code",
   "execution_count": 31,
   "id": "c735b6e9",
   "metadata": {},
   "outputs": [
    {
     "name": "stdout",
     "output_type": "stream",
     "text": [
      "Element 23 is present at index 1\n"
     ]
    }
   ],
   "source": [
    "def binarysearch(a,low,high,i):\n",
    "    if high>=low:\n",
    "        mid=(high+low)//2\n",
    "        \n",
    "        if a[mid]==i:\n",
    "            return mid\n",
    "        elif a[mid]>i:\n",
    "            return  binarysearch(a,low,mid-1,i)\n",
    "        else:\n",
    "            return  binarysearch(a,high,mid+1,i)\n",
    "    else:\n",
    "        return -1\n",
    "        \n",
    "a=[5,23,43,53,76,89,97]\n",
    "i=23\n",
    "\n",
    "result=binarysearch(a,0,len(a)-1,i)\n",
    "\n",
    "if result!=-1:\n",
    "    print(f'Element {i} is present at index {result}')\n",
    "else:\n",
    "    print(f'Element {i} is not present at index {result}')"
   ]
  },
  {
   "cell_type": "code",
   "execution_count": null,
   "id": "e96133c0",
   "metadata": {},
   "outputs": [],
   "source": []
  }
 ],
 "metadata": {
  "kernelspec": {
   "display_name": "Python 3 (ipykernel)",
   "language": "python",
   "name": "python3"
  },
  "language_info": {
   "codemirror_mode": {
    "name": "ipython",
    "version": 3
   },
   "file_extension": ".py",
   "mimetype": "text/x-python",
   "name": "python",
   "nbconvert_exporter": "python",
   "pygments_lexer": "ipython3",
   "version": "3.9.12"
  }
 },
 "nbformat": 4,
 "nbformat_minor": 5
}
