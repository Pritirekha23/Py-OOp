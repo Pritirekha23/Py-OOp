{
 "cells": [
  {
   "cell_type": "markdown",
   "id": "b9c84773",
   "metadata": {},
   "source": [
    "dt-10/03/23"
   ]
  },
  {
   "cell_type": "markdown",
   "id": "369333b4",
   "metadata": {},
   "source": [
    "\n",
    "\n",
    "# Try with multiple except block, single except block can handle multiple exception"
   ]
  },
  {
   "cell_type": "markdown",
   "id": "5931fb69",
   "metadata": {},
   "source": [
    "sometimes we can except multiple exception from try block at that time we can go for multiple except block.\n"
   ]
  },
  {
   "cell_type": "code",
   "execution_count": 1,
   "id": "d19bdd0f",
   "metadata": {},
   "outputs": [
    {
     "ename": "ZeroDivisionError",
     "evalue": "division by zero",
     "output_type": "error",
     "traceback": [
      "\u001b[1;31m---------------------------------------------------------------------------\u001b[0m",
      "\u001b[1;31mZeroDivisionError\u001b[0m                         Traceback (most recent call last)",
      "Input \u001b[1;32mIn [1]\u001b[0m, in \u001b[0;36m<cell line: 2>\u001b[1;34m()\u001b[0m\n\u001b[0;32m      1\u001b[0m \u001b[38;5;66;03m#ex-1\u001b[39;00m\n\u001b[1;32m----> 2\u001b[0m \u001b[38;5;28mprint\u001b[39m(\u001b[38;5;241;43m10\u001b[39;49m\u001b[38;5;241;43m/\u001b[39;49m\u001b[38;5;241;43m0\u001b[39;49m)\n",
      "\u001b[1;31mZeroDivisionError\u001b[0m: division by zero"
     ]
    }
   ],
   "source": [
    "#ex-1\n",
    "print(10/0)"
   ]
  },
  {
   "cell_type": "code",
   "execution_count": 3,
   "id": "c2eed469",
   "metadata": {},
   "outputs": [
    {
     "ename": "TypeError",
     "evalue": "unsupported operand type(s) for /: 'int' and 'str'",
     "output_type": "error",
     "traceback": [
      "\u001b[1;31m---------------------------------------------------------------------------\u001b[0m",
      "\u001b[1;31mTypeError\u001b[0m                                 Traceback (most recent call last)",
      "Input \u001b[1;32mIn [3]\u001b[0m, in \u001b[0;36m<cell line: 1>\u001b[1;34m()\u001b[0m\n\u001b[1;32m----> 1\u001b[0m \u001b[38;5;28mprint\u001b[39m(\u001b[38;5;241;43m10\u001b[39;49m\u001b[38;5;241;43m/\u001b[39;49m\u001b[38;5;124;43m'\u001b[39;49m\u001b[38;5;124;43m2\u001b[39;49m\u001b[38;5;124;43m'\u001b[39;49m)\n",
      "\u001b[1;31mTypeError\u001b[0m: unsupported operand type(s) for /: 'int' and 'str'"
     ]
    }
   ],
   "source": [
    "print(10/'2')"
   ]
  },
  {
   "cell_type": "code",
   "execution_count": null,
   "id": "c0750281",
   "metadata": {},
   "outputs": [],
   "source": [
    "#ex-2\n",
    "try:\n",
    "    a=int(input('Enter a value::'))\n",
    "    b=int((input('Enter b value::')))\n",
    "    result=a/b;\n",
    "    print(result)\n",
    "    \n",
    "except ZeroDivisionError as z:\n",
    "    print(z)"
   ]
  },
  {
   "cell_type": "code",
   "execution_count": 8,
   "id": "b1bba2c8",
   "metadata": {},
   "outputs": [
    {
     "name": "stdout",
     "output_type": "stream",
     "text": [
      "Enter a value::10\n",
      "Enter b value::0\n",
      "division by zero\n"
     ]
    }
   ],
   "source": [
    "#ex-3\n",
    "try:\n",
    "    a=int(input('Enter a value::'))\n",
    "    b=int((input('Enter b value::')))\n",
    "    result=a/b;\n",
    "    print(result)\n",
    "    \n",
    "except ZeroDivisionError as z:\n",
    "    print(z)"
   ]
  },
  {
   "cell_type": "code",
   "execution_count": null,
   "id": "6bfffed6",
   "metadata": {},
   "outputs": [],
   "source": [
    "#ex-4\n",
    "try:\n",
    "    a=int(input('Enter a value::'))\n",
    "    b=int((input('Enter b value::')))\n",
    "    result=a/b;\n",
    "    print(result)\n",
    "    \n",
    "except ZeroDivisionError as z:\n",
    "    print(z)"
   ]
  },
  {
   "cell_type": "code",
   "execution_count": null,
   "id": "c0b279b6",
   "metadata": {},
   "outputs": [],
   "source": []
  },
  {
   "cell_type": "code",
   "execution_count": null,
   "id": "ac5a0b0c",
   "metadata": {},
   "outputs": [],
   "source": []
  },
  {
   "cell_type": "code",
   "execution_count": null,
   "id": "9ed667ea",
   "metadata": {},
   "outputs": [],
   "source": []
  }
 ],
 "metadata": {
  "kernelspec": {
   "display_name": "Python 3 (ipykernel)",
   "language": "python",
   "name": "python3"
  },
  "language_info": {
   "codemirror_mode": {
    "name": "ipython",
    "version": 3
   },
   "file_extension": ".py",
   "mimetype": "text/x-python",
   "name": "python",
   "nbconvert_exporter": "python",
   "pygments_lexer": "ipython3",
   "version": "3.9.12"
  }
 },
 "nbformat": 4,
 "nbformat_minor": 5
}
