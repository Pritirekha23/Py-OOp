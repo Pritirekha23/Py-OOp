{
 "cells": [
  {
   "cell_type": "markdown",
   "id": "b9e653b9",
   "metadata": {},
   "source": [
    "dt-10/03/23"
   ]
  },
  {
   "cell_type": "markdown",
   "id": "e49159f1",
   "metadata": {},
   "source": [
    "\n",
    "\n",
    "# Try with multiple except block, single except block can handle multiple exception"
   ]
  },
  {
   "cell_type": "markdown",
   "id": "8343dd57",
   "metadata": {},
   "source": [
    "sometimes we can except multiple exception from try block at that time we can go for multiple except block.\n"
   ]
  },
  {
   "cell_type": "code",
   "execution_count": 1,
   "id": "81308d34",
   "metadata": {},
   "outputs": [
    {
     "ename": "ZeroDivisionError",
     "evalue": "division by zero",
     "output_type": "error",
     "traceback": [
      "\u001b[1;31m---------------------------------------------------------------------------\u001b[0m",
      "\u001b[1;31mZeroDivisionError\u001b[0m                         Traceback (most recent call last)",
      "Input \u001b[1;32mIn [1]\u001b[0m, in \u001b[0;36m<cell line: 2>\u001b[1;34m()\u001b[0m\n\u001b[0;32m      1\u001b[0m \u001b[38;5;66;03m#ex-1\u001b[39;00m\n\u001b[1;32m----> 2\u001b[0m \u001b[38;5;28mprint\u001b[39m(\u001b[38;5;241;43m10\u001b[39;49m\u001b[38;5;241;43m/\u001b[39;49m\u001b[38;5;241;43m0\u001b[39;49m)\n",
      "\u001b[1;31mZeroDivisionError\u001b[0m: division by zero"
     ]
    }
   ],
   "source": [
    "#ex-1\n",
    "print(10/0)"
   ]
  },
  {
   "cell_type": "code",
   "execution_count": 4,
   "id": "311d3620",
   "metadata": {},
   "outputs": [
    {
     "ename": "TypeError",
     "evalue": "unsupported operand type(s) for /: 'int' and 'str'",
     "output_type": "error",
     "traceback": [
      "\u001b[1;31m---------------------------------------------------------------------------\u001b[0m",
      "\u001b[1;31mTypeError\u001b[0m                                 Traceback (most recent call last)",
      "Input \u001b[1;32mIn [4]\u001b[0m, in \u001b[0;36m<cell line: 1>\u001b[1;34m()\u001b[0m\n\u001b[1;32m----> 1\u001b[0m \u001b[38;5;28mprint\u001b[39m(\u001b[38;5;241;43m10\u001b[39;49m\u001b[38;5;241;43m/\u001b[39;49m\u001b[38;5;124;43m'\u001b[39;49m\u001b[38;5;124;43mjimin\u001b[39;49m\u001b[38;5;124;43m'\u001b[39;49m)\n",
      "\u001b[1;31mTypeError\u001b[0m: unsupported operand type(s) for /: 'int' and 'str'"
     ]
    }
   ],
   "source": [
    "print(10/'jimin')"
   ]
  },
  {
   "cell_type": "code",
   "execution_count": 1,
   "id": "44e76ac8",
   "metadata": {},
   "outputs": [
    {
     "name": "stdout",
     "output_type": "stream",
     "text": [
      "Enter a value::10\n",
      "Enter b value::2\n",
      "5.0\n"
     ]
    }
   ],
   "source": [
    "#ex-2\n",
    "try:\n",
    "    a=int(input('Enter a value::'))\n",
    "    b=int((input('Enter b value::')))\n",
    "    result=a/b;\n",
    "    print(result)\n",
    "    \n",
    "except ZeroDivisionError as z:\n",
    "    print(z)"
   ]
  },
  {
   "cell_type": "code",
   "execution_count": 8,
   "id": "252799b9",
   "metadata": {},
   "outputs": [
    {
     "name": "stdout",
     "output_type": "stream",
     "text": [
      "Enter a value::10\n",
      "Enter b value::0\n",
      "division by zero\n"
     ]
    }
   ],
   "source": [
    "#ex-3\n",
    "try:\n",
    "    a=int(input('Enter a value::'))\n",
    "    b=int((input('Enter b value::')))\n",
    "    result=a/b;\n",
    "    print(result)\n",
    "    \n",
    "except ZeroDivisionError as z:\n",
    "    print(z)"
   ]
  },
  {
   "cell_type": "code",
   "execution_count": 3,
   "id": "caceb58b",
   "metadata": {},
   "outputs": [
    {
     "name": "stdout",
     "output_type": "stream",
     "text": [
      "Enter a value::10\n",
      "Enter b value::jimin\n"
     ]
    },
    {
     "ename": "ValueError",
     "evalue": "invalid literal for int() with base 10: 'jimin'",
     "output_type": "error",
     "traceback": [
      "\u001b[1;31m---------------------------------------------------------------------------\u001b[0m",
      "\u001b[1;31mValueError\u001b[0m                                Traceback (most recent call last)",
      "Input \u001b[1;32mIn [3]\u001b[0m, in \u001b[0;36m<cell line: 2>\u001b[1;34m()\u001b[0m\n\u001b[0;32m      2\u001b[0m \u001b[38;5;28;01mtry\u001b[39;00m:\n\u001b[0;32m      3\u001b[0m     a\u001b[38;5;241m=\u001b[39m\u001b[38;5;28mint\u001b[39m(\u001b[38;5;28minput\u001b[39m(\u001b[38;5;124m'\u001b[39m\u001b[38;5;124mEnter a value::\u001b[39m\u001b[38;5;124m'\u001b[39m))\n\u001b[1;32m----> 4\u001b[0m     b\u001b[38;5;241m=\u001b[39m\u001b[38;5;28;43mint\u001b[39;49m\u001b[43m(\u001b[49m\u001b[43m(\u001b[49m\u001b[38;5;28;43minput\u001b[39;49m\u001b[43m(\u001b[49m\u001b[38;5;124;43m'\u001b[39;49m\u001b[38;5;124;43mEnter b value::\u001b[39;49m\u001b[38;5;124;43m'\u001b[39;49m\u001b[43m)\u001b[49m\u001b[43m)\u001b[49m\u001b[43m)\u001b[49m\n\u001b[0;32m      5\u001b[0m     result\u001b[38;5;241m=\u001b[39ma\u001b[38;5;241m/\u001b[39mb;\n\u001b[0;32m      6\u001b[0m     \u001b[38;5;28mprint\u001b[39m(result)\n",
      "\u001b[1;31mValueError\u001b[0m: invalid literal for int() with base 10: 'jimin'"
     ]
    }
   ],
   "source": [
    "#ex-4\n",
    "try:\n",
    "    a=int(input('Enter a value::'))\n",
    "    b=int((input('Enter b value::')))\n",
    "    result=a/b;\n",
    "    print(result)\n",
    "    \n",
    "except ZeroDivisionError as z:\n",
    "    print(z)"
   ]
  },
  {
   "cell_type": "code",
   "execution_count": 6,
   "id": "3de43450",
   "metadata": {},
   "outputs": [
    {
     "name": "stdout",
     "output_type": "stream",
     "text": [
      "Enter a value::10\n",
      "Enter b value::jimin\n",
      "invalid literal for int() with base 10: 'jimin'\n"
     ]
    }
   ],
   "source": [
    "#ex-5(try with multiple except block)\n",
    "try:\n",
    "    a=int(input('Enter a value::'))\n",
    "    b=int((input('Enter b value::')))\n",
    "    result=a/b;\n",
    "    print(result)\n",
    "    \n",
    "except ZeroDivisionError as z:\n",
    "    print(z)\n",
    "except ValueError as e:\n",
    "    print(e)"
   ]
  },
  {
   "cell_type": "code",
   "execution_count": 7,
   "id": "deed1fb6",
   "metadata": {},
   "outputs": [
    {
     "ename": "TypeError",
     "evalue": "unsupported operand type(s) for /: 'int' and 'str'",
     "output_type": "error",
     "traceback": [
      "\u001b[1;31m---------------------------------------------------------------------------\u001b[0m",
      "\u001b[1;31mTypeError\u001b[0m                                 Traceback (most recent call last)",
      "Input \u001b[1;32mIn [7]\u001b[0m, in \u001b[0;36m<cell line: 2>\u001b[1;34m()\u001b[0m\n\u001b[0;32m      3\u001b[0m     a\u001b[38;5;241m=\u001b[39m\u001b[38;5;241m10\u001b[39m\n\u001b[0;32m      4\u001b[0m     b\u001b[38;5;241m=\u001b[39m\u001b[38;5;124m'\u001b[39m\u001b[38;5;124mjimin\u001b[39m\u001b[38;5;124m'\u001b[39m\n\u001b[1;32m----> 5\u001b[0m     result\u001b[38;5;241m=\u001b[39m\u001b[43ma\u001b[49m\u001b[38;5;241;43m/\u001b[39;49m\u001b[43mb\u001b[49m;\n\u001b[0;32m      6\u001b[0m     \u001b[38;5;28mprint\u001b[39m(result)\n\u001b[0;32m      8\u001b[0m \u001b[38;5;28;01mexcept\u001b[39;00m \u001b[38;5;167;01mZeroDivisionError\u001b[39;00m \u001b[38;5;28;01mas\u001b[39;00m z:\n",
      "\u001b[1;31mTypeError\u001b[0m: unsupported operand type(s) for /: 'int' and 'str'"
     ]
    }
   ],
   "source": [
    "#ex-6\n",
    "try:\n",
    "    a=10\n",
    "    b='jimin'\n",
    "    result=a/b;\n",
    "    print(result)\n",
    "    \n",
    "except ZeroDivisionError as z:\n",
    "    print(z)\n",
    "except ValueError as e:\n",
    "    print(e)"
   ]
  },
  {
   "cell_type": "code",
   "execution_count": 8,
   "id": "464c5120",
   "metadata": {},
   "outputs": [
    {
     "name": "stdout",
     "output_type": "stream",
     "text": [
      "unsupported operand type(s) for /: 'int' and 'str'\n"
     ]
    }
   ],
   "source": [
    "#ex-7\n",
    "try:\n",
    "    a=10\n",
    "    b='jimin'\n",
    "    result=a/b;\n",
    "    print(result)\n",
    "    \n",
    "except ZeroDivisionError as z:\n",
    "    print(z)\n",
    "except TypeError as t:\n",
    "    print(t)"
   ]
  },
  {
   "cell_type": "code",
   "execution_count": 11,
   "id": "0a1a5857",
   "metadata": {},
   "outputs": [
    {
     "name": "stdout",
     "output_type": "stream",
     "text": [
      "Enter a value::10\n",
      "Enter b value::2\n",
      "Enter x value::5\n",
      "c is 5.0\n",
      "d is 2.0\n"
     ]
    }
   ],
   "source": [
    "#ex-8\n",
    "try:\n",
    "    a=int(input('Enter a value::'))\n",
    "    b=int((input('Enter b value::')))\n",
    "    c=a/b;\n",
    "    x=int((input('Enter x value::')))\n",
    "    d=a/x\n",
    "    print('c is',c)\n",
    "    print('d is',d)\n",
    "    \n",
    "except ZeroDivisionError as z:\n",
    "    print(z)\n",
    "except ValueError as e:\n",
    "    print(e)"
   ]
  },
  {
   "cell_type": "code",
   "execution_count": 12,
   "id": "e2faecd1",
   "metadata": {},
   "outputs": [
    {
     "name": "stdout",
     "output_type": "stream",
     "text": [
      "Enter a value::10\n",
      "Enter b value::jin\n",
      "invalid literal for int() with base 10: 'jin'\n"
     ]
    }
   ],
   "source": [
    "#ex-9\n",
    "try:\n",
    "    a=int(input('Enter a value::'))\n",
    "    b=int((input('Enter b value::')))\n",
    "    c=a/b;\n",
    "    x=int((input('Enter x value::')))\n",
    "    d=a/x\n",
    "    print('c is',c)\n",
    "    print('d is',d)\n",
    "    \n",
    "except ZeroDivisionError as z:\n",
    "    print(z)\n",
    "except ValueError as e:\n",
    "    print(e)"
   ]
  },
  {
   "cell_type": "code",
   "execution_count": 19,
   "id": "3d9c85f9",
   "metadata": {},
   "outputs": [
    {
     "name": "stdout",
     "output_type": "stream",
     "text": [
      "Enter a value::10\n",
      "Enter b value::jimin\n",
      "invalid literal for int() with base 10: 'jimin'\n"
     ]
    }
   ],
   "source": [
    "# single except block can handle multiple exception\n",
    "#ex-10\n",
    "try:\n",
    "    a=int(input('Enter a value::'))\n",
    "    b=int((input('Enter b value::')))\n",
    "    result=a/b;\n",
    "    print(result)\n",
    "    \n",
    "except (ZeroDivisionError,ValueError) as e:\n",
    "    print(e)\n"
   ]
  },
  {
   "cell_type": "code",
   "execution_count": 20,
   "id": "dd4e40dd",
   "metadata": {},
   "outputs": [
    {
     "name": "stdout",
     "output_type": "stream",
     "text": [
      "Enter a value::10\n",
      "Enter b value::0\n",
      "division by zero\n"
     ]
    }
   ],
   "source": [
    "try:\n",
    "    a=int(input('Enter a value::'))\n",
    "    b=int((input('Enter b value::')))\n",
    "    result=a/b;\n",
    "    print(result)\n",
    "    \n",
    "except (ZeroDivisionError,ValueError) as e:\n",
    "    print(e)\n",
    "\n",
    "    "
   ]
  },
  {
   "cell_type": "markdown",
   "id": "1a85bedc",
   "metadata": {},
   "source": [
    "## Default except block"
   ]
  },
  {
   "cell_type": "code",
   "execution_count": 22,
   "id": "2dd6bc25",
   "metadata": {},
   "outputs": [
    {
     "name": "stdout",
     "output_type": "stream",
     "text": [
      "Enter a value::10\n",
      "Enter b value::0\n",
      "something goes wrong\n"
     ]
    }
   ],
   "source": [
    "#ex-11\n",
    "try:\n",
    "    a=int(input('Enter a value::'))\n",
    "    b=int((input('Enter b value::')))\n",
    "    result=a/b;\n",
    "    print(result)\n",
    "    \n",
    "\n",
    "except:\n",
    "    print('something goes wrong')"
   ]
  },
  {
   "cell_type": "code",
   "execution_count": 23,
   "id": "4e0d687b",
   "metadata": {},
   "outputs": [
    {
     "name": "stdout",
     "output_type": "stream",
     "text": [
      "Enter a value::10\n",
      "Enter b value::Taae\n",
      "invalid literal for int() with base 10: 'Taae'\n"
     ]
    }
   ],
   "source": [
    "#ex-12\n",
    "try:\n",
    "    a=int(input('Enter a value::'))\n",
    "    b=int((input('Enter b value::')))\n",
    "    result=a/b;\n",
    "    print(result)\n",
    "    \n",
    "\n",
    "except Exception as e:\n",
    "    print(e)"
   ]
  }
 ],
 "metadata": {
  "kernelspec": {
   "display_name": "Python 3 (ipykernel)",
   "language": "python",
   "name": "python3"
  },
  "language_info": {
   "codemirror_mode": {
    "name": "ipython",
    "version": 3
   },
   "file_extension": ".py",
   "mimetype": "text/x-python",
   "name": "python",
   "nbconvert_exporter": "python",
   "pygments_lexer": "ipython3",
   "version": "3.9.12"
  }
 },
 "nbformat": 4,
 "nbformat_minor": 5
}
