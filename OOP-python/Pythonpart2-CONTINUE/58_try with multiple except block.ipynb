{
 "cells": [
  {
   "cell_type": "markdown",
   "id": "1b8ad81f",
   "metadata": {},
   "source": [
    "dt-10/03/23"
   ]
  },
  {
   "cell_type": "markdown",
   "id": "5379e309",
   "metadata": {},
   "source": [
    "\n",
    "\n",
    "# Try with multiple except block, single except block can handle multiple exception"
   ]
  },
  {
   "cell_type": "code",
   "execution_count": null,
   "id": "ad6cc53e",
   "metadata": {},
   "outputs": [],
   "source": [
    "sometimes we can except multiple exception from try block at that time we can go for multiple except block.\n"
   ]
  },
  {
   "cell_type": "code",
   "execution_count": null,
   "id": "0b9273f9",
   "metadata": {},
   "outputs": [],
   "source": []
  },
  {
   "cell_type": "code",
   "execution_count": null,
   "id": "8b357e60",
   "metadata": {},
   "outputs": [],
   "source": []
  },
  {
   "cell_type": "code",
   "execution_count": null,
   "id": "16159818",
   "metadata": {},
   "outputs": [],
   "source": []
  },
  {
   "cell_type": "code",
   "execution_count": null,
   "id": "b2321878",
   "metadata": {},
   "outputs": [],
   "source": []
  }
 ],
 "metadata": {
  "kernelspec": {
   "display_name": "Python 3 (ipykernel)",
   "language": "python",
   "name": "python3"
  },
  "language_info": {
   "codemirror_mode": {
    "name": "ipython",
    "version": 3
   },
   "file_extension": ".py",
   "mimetype": "text/x-python",
   "name": "python",
   "nbconvert_exporter": "python",
   "pygments_lexer": "ipython3",
   "version": "3.9.12"
  }
 },
 "nbformat": 4,
 "nbformat_minor": 5
}
