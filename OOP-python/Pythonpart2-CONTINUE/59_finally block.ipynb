{
 "cells": [
  {
   "cell_type": "markdown",
   "id": "8a6ff627",
   "metadata": {},
   "source": [
    "# FINALLY BLOCK"
   ]
  },
  {
   "cell_type": "markdown",
   "id": "1b13daae",
   "metadata": {},
   "source": [
    "dt-12/03/23"
   ]
  },
  {
   "cell_type": "markdown",
   "id": "6db4f9ed",
   "metadata": {},
   "source": [
    "What is the requirement of finally block?\n",
    "Inside finally block we will write clean-up code.\n",
    "clean-up codes are must executed codes.\n",
    "finally,is a block and it will execute every time,it does not matter wheather exception raised or not raised,exception handle or not."
   ]
  },
  {
   "cell_type": "code",
   "execution_count": null,
   "id": "c2e39685",
   "metadata": {},
   "outputs": [],
   "source": []
  },
  {
   "cell_type": "code",
   "execution_count": null,
   "id": "3e9f2964",
   "metadata": {},
   "outputs": [],
   "source": []
  },
  {
   "cell_type": "code",
   "execution_count": null,
   "id": "b3e220dc",
   "metadata": {},
   "outputs": [],
   "source": []
  },
  {
   "cell_type": "code",
   "execution_count": null,
   "id": "dc6ca65a",
   "metadata": {},
   "outputs": [],
   "source": []
  }
 ],
 "metadata": {
  "kernelspec": {
   "display_name": "Python 3 (ipykernel)",
   "language": "python",
   "name": "python3"
  },
  "language_info": {
   "codemirror_mode": {
    "name": "ipython",
    "version": 3
   },
   "file_extension": ".py",
   "mimetype": "text/x-python",
   "name": "python",
   "nbconvert_exporter": "python",
   "pygments_lexer": "ipython3",
   "version": "3.9.12"
  }
 },
 "nbformat": 4,
 "nbformat_minor": 5
}
