{
 "cells": [
  {
   "cell_type": "markdown",
   "id": "351a8ff0",
   "metadata": {},
   "source": [
    "# FINALLY BLOCK"
   ]
  },
  {
   "cell_type": "markdown",
   "id": "840af5e2",
   "metadata": {},
   "source": [
    "dt-12/03/23"
   ]
  },
  {
   "cell_type": "markdown",
   "id": "619b87f6",
   "metadata": {},
   "source": [
    "What is the requirement of finally block?\n",
    "Inside finally block we will write clean-up code.\n",
    "clean-up codes are must executed codes.\n",
    "Try except block are not meant for to write clean-up code, finally is the best option to write clean-up code.\n",
    "finally,is a block and it will execute every time,it does not matter wheather exception raised or not raised,exception handle or not.\n",
    "\n",
    "SYNTAX:\n",
    "-------------\n",
    "\n",
    "try:\n",
    "  critical code\n",
    "except Exception_classname:\n",
    "  corresponding handling code\n",
    "finally:\n",
    "   clean-up codes"
   ]
  },
  {
   "cell_type": "code",
   "execution_count": 1,
   "id": "c0374a58",
   "metadata": {},
   "outputs": [
    {
     "name": "stdout",
     "output_type": "stream",
     "text": [
      "File opening code\n",
      "File closing code\n"
     ]
    }
   ],
   "source": [
    "#ex-1\n",
    "\n",
    "try:\n",
    "    print('File opening code')\n",
    "    \n",
    "except Exception as e:\n",
    "    print(e)\n",
    "    \n",
    "finally:\n",
    "    print('File closing code')"
   ]
  },
  {
   "cell_type": "code",
   "execution_count": 15,
   "id": "2da9941d",
   "metadata": {},
   "outputs": [
    {
     "name": "stdout",
     "output_type": "stream",
     "text": [
      "division by zero\n",
      "finally block  executed\n"
     ]
    }
   ],
   "source": [
    "#ex-2\n",
    "\n",
    "try:\n",
    "    print(10/0)\n",
    "    \n",
    "except Exception as e:\n",
    "    print(e)\n",
    "    \n",
    "finally:\n",
    "    print('finally block  executed')"
   ]
  },
  {
   "cell_type": "code",
   "execution_count": 14,
   "id": "b0e0a606",
   "metadata": {},
   "outputs": [
    {
     "name": "stdout",
     "output_type": "stream",
     "text": [
      "finally block  executed\n"
     ]
    },
    {
     "ename": "ZeroDivisionError",
     "evalue": "division by zero",
     "output_type": "error",
     "traceback": [
      "\u001b[1;31m---------------------------------------------------------------------------\u001b[0m",
      "\u001b[1;31mZeroDivisionError\u001b[0m                         Traceback (most recent call last)",
      "Input \u001b[1;32mIn [14]\u001b[0m, in \u001b[0;36m<cell line: 4>\u001b[1;34m()\u001b[0m\n\u001b[0;32m      1\u001b[0m \u001b[38;5;66;03m#ex-3\u001b[39;00m\n\u001b[0;32m      4\u001b[0m \u001b[38;5;28;01mtry\u001b[39;00m:\n\u001b[1;32m----> 5\u001b[0m     \u001b[38;5;28mprint\u001b[39m(\u001b[38;5;241;43m10\u001b[39;49m\u001b[38;5;241;43m/\u001b[39;49m\u001b[38;5;241;43m0\u001b[39;49m)\n\u001b[0;32m      7\u001b[0m \u001b[38;5;28;01mexcept\u001b[39;00m \u001b[38;5;167;01mFileNotFoundError\u001b[39;00m \u001b[38;5;28;01mas\u001b[39;00m e:\n\u001b[0;32m      8\u001b[0m     \u001b[38;5;28mprint\u001b[39m(e)\n",
      "\u001b[1;31mZeroDivisionError\u001b[0m: division by zero"
     ]
    }
   ],
   "source": [
    "#ex-3\n",
    "\n",
    "\n",
    "try:\n",
    "    print(10/0)\n",
    "    \n",
    "except FileNotFoundError as e:\n",
    "    print(e)\n",
    "    \n",
    "finally:\n",
    "    print('finally block  executed')"
   ]
  },
  {
   "cell_type": "code",
   "execution_count": 13,
   "id": "0f8cc9f7",
   "metadata": {},
   "outputs": [
    {
     "name": "stdout",
     "output_type": "stream",
     "text": [
      "1\n",
      "2\n",
      "3\n",
      "4\n",
      "file1 opening code\n",
      "file2 opening code\n",
      "7\n",
      "finally block  executed\n"
     ]
    },
    {
     "ename": "ZeroDivisionError",
     "evalue": "division by zero",
     "output_type": "error",
     "traceback": [
      "\u001b[1;31m---------------------------------------------------------------------------\u001b[0m",
      "\u001b[1;31mZeroDivisionError\u001b[0m                         Traceback (most recent call last)",
      "Input \u001b[1;32mIn [13]\u001b[0m, in \u001b[0;36m<cell line: 4>\u001b[1;34m()\u001b[0m\n\u001b[0;32m     10\u001b[0m \u001b[38;5;28mprint\u001b[39m(\u001b[38;5;124m'\u001b[39m\u001b[38;5;124mfile2 opening code\u001b[39m\u001b[38;5;124m'\u001b[39m)\n\u001b[0;32m     11\u001b[0m \u001b[38;5;28mprint\u001b[39m(\u001b[38;5;241m7\u001b[39m)\n\u001b[1;32m---> 12\u001b[0m \u001b[38;5;28mprint\u001b[39m(\u001b[38;5;241;43m10\u001b[39;49m\u001b[38;5;241;43m/\u001b[39;49m\u001b[38;5;241;43m0\u001b[39;49m)\n\u001b[0;32m     13\u001b[0m \u001b[38;5;66;03m#dont write clean-up code insdie try block\u001b[39;00m\n\u001b[0;32m     14\u001b[0m \u001b[38;5;28mprint\u001b[39m(\u001b[38;5;124m'\u001b[39m\u001b[38;5;124mfile1 closing code\u001b[39m\u001b[38;5;124m'\u001b[39m) \n",
      "\u001b[1;31mZeroDivisionError\u001b[0m: division by zero"
     ]
    }
   ],
   "source": [
    "#ex-4\n",
    "\n",
    "\n",
    "try:\n",
    "    print(1)\n",
    "    print(2)\n",
    "    print(3)\n",
    "    print(4)\n",
    "    print('file1 opening code')\n",
    "    print('file2 opening code')\n",
    "    print(7)\n",
    "    print(10/0)\n",
    "    #dont write clean-up code insdie try block\n",
    "    print('file1 closing code') \n",
    "    print('file2 closing code')\n",
    "                    \n",
    "        \n",
    "        \n",
    "    \n",
    "except FileNotFoundError as e:\n",
    "    print(e)\n",
    "    \n",
    "finally:\n",
    "    print('finally block  executed')"
   ]
  },
  {
   "cell_type": "code",
   "execution_count": 12,
   "id": "5e83bc76",
   "metadata": {},
   "outputs": [
    {
     "name": "stdout",
     "output_type": "stream",
     "text": [
      "1\n",
      "2\n",
      "3\n",
      "4\n",
      "file1 opening code\n",
      "file2 opening code\n",
      "7\n",
      "division by zero\n",
      "finally block  executed\n",
      "file1 closing code\n",
      "file2 closing code\n"
     ]
    }
   ],
   "source": [
    "#ex-5\n",
    "\n",
    "\n",
    "try:\n",
    "    print(1)\n",
    "    print(2)\n",
    "    print(3)\n",
    "    print(4)\n",
    "    print('file1 opening code')\n",
    "    print('file2 opening code')\n",
    "    print(7)\n",
    "    print(10/0)\n",
    "   \n",
    "        \n",
    "except Exception as e:\n",
    "    print(e)\n",
    "    \n",
    "finally:\n",
    "    print('finally block  executed')\n",
    "    print('file1 closing code')\n",
    "    print('file2 closing code')\n",
    "                    "
   ]
  },
  {
   "cell_type": "markdown",
   "id": "856cda63",
   "metadata": {},
   "source": [
    "Is there any situation where finally block won't be execute?\n",
    "-> People are thinking there are two situation where finally block won,t be execute.\n",
    "  (i) If we forcefully short down PVM.\n",
    "  (ii) Inside function if we will write finally block after return            statement.\n",
    "  \n",
    "But only the 1st one is correct."
   ]
  },
  {
   "cell_type": "code",
   "execution_count": 3,
   "id": "43deedfe",
   "metadata": {},
   "outputs": [
    {
     "name": "stdout",
     "output_type": "stream",
     "text": [
      "1\n",
      "2\n",
      "3\n",
      "Finally block executed\n"
     ]
    }
   ],
   "source": [
    "#ex-6\n",
    "#If we forcefully short down PVM.\n",
    "import os\n",
    "try:\n",
    "    print(1)\n",
    "    print(2)\n",
    "    os._exit(0) #this is the code to short down PVM\n",
    "    print(3)\n",
    "    \n",
    "except Exception as e:\n",
    "    print(e)\n",
    "finally:\n",
    "    print('Finally block executed')\n",
    "#ouput: 1\n",
    "      # 2  "
   ]
  },
  {
   "cell_type": "code",
   "execution_count": 6,
   "id": "0751cfd2",
   "metadata": {},
   "outputs": [
    {
     "name": "stdout",
     "output_type": "stream",
     "text": [
      "hi\n"
     ]
    }
   ],
   "source": [
    "#ex-7\n",
    "#Inside function if we will write finally block after return statement.(wrong )\n",
    "\n",
    "def fun():\n",
    "    n=1\n",
    "    if(n>1):\n",
    "        return 'hello'\n",
    "    \n",
    "    else:\n",
    "        return 'hi'\n",
    "    print('Thank you')\n",
    "    \n",
    "print(fun())"
   ]
  },
  {
   "cell_type": "code",
   "execution_count": 7,
   "id": "325e75fd",
   "metadata": {},
   "outputs": [
    {
     "name": "stdout",
     "output_type": "stream",
     "text": [
      "1\n",
      "2\n",
      "3\n",
      "finally block execute\n"
     ]
    }
   ],
   "source": [
    "#ex-8\n",
    "\n",
    "def funn():\n",
    "    try:\n",
    "        print(1)\n",
    "        print(2)\n",
    "        print(3)\n",
    "    except Exception as e:\n",
    "        print(e)\n",
    "    finally:\n",
    "        print('finally block execute')\n",
    "funn()"
   ]
  },
  {
   "cell_type": "code",
   "execution_count": 9,
   "id": "ee9315c3",
   "metadata": {},
   "outputs": [
    {
     "name": "stdout",
     "output_type": "stream",
     "text": [
      "1\n",
      "finally block execute\n"
     ]
    },
    {
     "ename": "ZeroDivisionError",
     "evalue": "division by zero",
     "output_type": "error",
     "traceback": [
      "\u001b[1;31m---------------------------------------------------------------------------\u001b[0m",
      "\u001b[1;31mZeroDivisionError\u001b[0m                         Traceback (most recent call last)",
      "Input \u001b[1;32mIn [9]\u001b[0m, in \u001b[0;36m<cell line: 12>\u001b[1;34m()\u001b[0m\n\u001b[0;32m     10\u001b[0m     \u001b[38;5;28;01mfinally\u001b[39;00m:\n\u001b[0;32m     11\u001b[0m         \u001b[38;5;28mprint\u001b[39m(\u001b[38;5;124m'\u001b[39m\u001b[38;5;124mfinally block execute\u001b[39m\u001b[38;5;124m'\u001b[39m)\n\u001b[1;32m---> 12\u001b[0m \u001b[43mfunn\u001b[49m\u001b[43m(\u001b[49m\u001b[43m)\u001b[49m\n",
      "Input \u001b[1;32mIn [9]\u001b[0m, in \u001b[0;36mfunn\u001b[1;34m()\u001b[0m\n\u001b[0;32m      4\u001b[0m \u001b[38;5;28;01mtry\u001b[39;00m:\n\u001b[0;32m      5\u001b[0m     \u001b[38;5;28mprint\u001b[39m(\u001b[38;5;241m1\u001b[39m)\n\u001b[1;32m----> 6\u001b[0m     \u001b[38;5;28mprint\u001b[39m(\u001b[38;5;241;43m10\u001b[39;49m\u001b[38;5;241;43m/\u001b[39;49m\u001b[38;5;241;43m0\u001b[39;49m)\n\u001b[0;32m      7\u001b[0m     \u001b[38;5;28mprint\u001b[39m(\u001b[38;5;241m2\u001b[39m)\n\u001b[0;32m      8\u001b[0m \u001b[38;5;28;01mexcept\u001b[39;00m \u001b[38;5;167;01mFileNotFoundError\u001b[39;00m \u001b[38;5;28;01mas\u001b[39;00m e:\n",
      "\u001b[1;31mZeroDivisionError\u001b[0m: division by zero"
     ]
    }
   ],
   "source": [
    "#ex-9\n",
    "\n",
    "def funn():\n",
    "    try:\n",
    "        print(1)\n",
    "        print(10/0)\n",
    "        print(2)\n",
    "    except FileNotFoundError as e:\n",
    "        print(e)\n",
    "    finally:\n",
    "        print('finally block execute')\n",
    "funn()"
   ]
  },
  {
   "cell_type": "code",
   "execution_count": 16,
   "id": "90bf4564",
   "metadata": {},
   "outputs": [
    {
     "name": "stdout",
     "output_type": "stream",
     "text": [
      "1\n",
      "finally block execute\n"
     ]
    },
    {
     "data": {
      "text/plain": [
       "'hello'"
      ]
     },
     "execution_count": 16,
     "metadata": {},
     "output_type": "execute_result"
    }
   ],
   "source": [
    "#ex-10\n",
    "\n",
    "def funn():\n",
    "    try:\n",
    "        print(1)\n",
    "        return 'hello'\n",
    "        print(2)\n",
    "    except FileNotFoundError as e:\n",
    "        print(e)\n",
    "    finally:\n",
    "        print('finally block execute')\n",
    "funn()"
   ]
  },
  {
   "cell_type": "code",
   "execution_count": 17,
   "id": "4d63f65d",
   "metadata": {},
   "outputs": [
    {
     "name": "stdout",
     "output_type": "stream",
     "text": [
      "division by zero\n",
      "finally block execute\n"
     ]
    }
   ],
   "source": [
    "#ex-11\n",
    "\n",
    "def funn():\n",
    "    try:\n",
    "        print(10/0)\n",
    "        return 'hello'\n",
    "        print(20/0)\n",
    "    except Exception  as e:\n",
    "        print(e)\n",
    "    finally:\n",
    "        print('finally block execute')\n",
    "funn()"
   ]
  }
 ],
 "metadata": {
  "kernelspec": {
   "display_name": "Python 3 (ipykernel)",
   "language": "python",
   "name": "python3"
  },
  "language_info": {
   "codemirror_mode": {
    "name": "ipython",
    "version": 3
   },
   "file_extension": ".py",
   "mimetype": "text/x-python",
   "name": "python",
   "nbconvert_exporter": "python",
   "pygments_lexer": "ipython3",
   "version": "3.9.12"
  }
 },
 "nbformat": 4,
 "nbformat_minor": 5
}
