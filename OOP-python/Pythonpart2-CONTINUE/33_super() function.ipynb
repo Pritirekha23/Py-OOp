{
 "cells": [
  {
   "cell_type": "markdown",
   "id": "8e6fd129",
   "metadata": {},
   "source": [
    "Dt-06/02/2023\n"
   ]
  },
  {
   "cell_type": "markdown",
   "id": "0906fa4c",
   "metadata": {},
   "source": [
    "# super() functipn"
   ]
  },
  {
   "cell_type": "code",
   "execution_count": null,
   "id": "d96827b9",
   "metadata": {},
   "outputs": [],
   "source": [
    "# problem  without super function"
   ]
  },
  {
   "cell_type": "code",
   "execution_count": 14,
   "id": "10c971f6",
   "metadata": {},
   "outputs": [
    {
     "name": "stdout",
     "output_type": "stream",
     "text": [
      "Name is Priyanka\n",
      "Age is 24\n",
      "eid is 1024\n",
      "sal is 45653\n",
      "--------\n",
      "Name is Zini\n",
      "Age is 24\n",
      "Sid is 1244\n",
      "course is Btech\n",
      "College is ABC clg\n",
      "--------\n",
      "Name is Dr prasad\n",
      "Age is 27\n",
      "Fid is 23344\n",
      "Dept is CSE\n"
     ]
    }
   ],
   "source": [
    "class EMp:\n",
    "    def __init__(self,name,age,eid,sal):\n",
    "        self.name=name\n",
    "        self.age=age\n",
    "        self.eid=eid\n",
    "        self.sal=sal\n",
    "    def printdetails(self):\n",
    "        print(f\"Name is {self.name}\")\n",
    "        print(f\"Age is {self.age}\")\n",
    "        print(f\"eid is {self.eid}\")\n",
    "        print(f\"sal is {self.sal}\")\n",
    "        \n",
    "              \n",
    "class Student:\n",
    "    def __init__(self,name,age,sid,course,college):\n",
    "              self.name=name\n",
    "              self.age=age\n",
    "              self.sid=sid\n",
    "              self.course=course\n",
    "              self.college=college\n",
    "    \n",
    "    def printdetails(self):\n",
    "        print(f\"Name is {self.name}\")\n",
    "        print(f\"Age is {self.age}\")\n",
    "        print(f\"Sid is {self.sid}\")\n",
    "        print(f\"course is {self.course}\")\n",
    "        print(f\"College is {self.college}\")\n",
    "                  \n",
    "        \n",
    "              \n",
    "class Faculty:\n",
    "    def __init__(self,name,age,fid,dept):\n",
    "              self.name=name\n",
    "              self.age=age\n",
    "              self.fid=fid\n",
    "              self.dept=dept\n",
    "    \n",
    "    def printdetails(self):\n",
    "        print(f\"Name is {self.name}\")\n",
    "        print(f\"Age is {self.age}\")\n",
    "        print(f\"Fid is {self.fid}\")\n",
    "        print(f\"Dept is {self.dept}\")\n",
    "        \n",
    "   # code duplicacy\n",
    "\n",
    "e=EMp('Priyanka',24,1024,45653)\n",
    "e.printdetails()\n",
    "print('-'*8)\n",
    "s=Student('Zini',24,1244,\"Btech\",\"ABC clg\")\n",
    "s.printdetails()\n",
    "print('-'*8)\n",
    "d=Faculty(\"Dr prasad\",27,23344,\"CSE\")\n",
    "d.printdetails()"
   ]
  },
  {
   "cell_type": "code",
   "execution_count": null,
   "id": "ba17b03f",
   "metadata": {},
   "outputs": [],
   "source": []
  },
  {
   "cell_type": "code",
   "execution_count": null,
   "id": "6b79b532",
   "metadata": {},
   "outputs": [],
   "source": [
    "# solution by using super function"
   ]
  },
  {
   "cell_type": "code",
   "execution_count": 15,
   "id": "dd6d63db",
   "metadata": {},
   "outputs": [
    {
     "name": "stdout",
     "output_type": "stream",
     "text": [
      "Name is Arun\n",
      "Age is 25\n",
      "Eid is 1025\n",
      "sal is 30000\n"
     ]
    }
   ],
   "source": [
    "class Human:\n",
    "    def __init__(self,name,age):\n",
    "        self.name=name\n",
    "        self.age=age\n",
    "    def printdetails(self):\n",
    "        print(f\"Name is {self.name}\")\n",
    "        print(f\"Age is {self.age}\")\n",
    "        \n",
    "class Emp(Human):\n",
    "    def __init__(self,name,age,eid,sal):\n",
    "        super().__init__(name,age)\n",
    "        self.eid=eid\n",
    "        self.sal=sal\n",
    "        \n",
    "    def printdetails(self):\n",
    "        super().printdetails()\n",
    "        print(f'Eid is {self.eid}')\n",
    "        print(f'sal is {self.sal}')\n",
    "        \n",
    "class Student(Human):\n",
    "    def __init__(self,name,age,sid,course,college):\n",
    "              super().__init__(name,age)\n",
    "              self.sid=sid\n",
    "              self.course=course\n",
    "              self.college=college\n",
    "    \n",
    "    def printdetails(self):\n",
    "        super().printdetails()\n",
    "        print(f\"Sid is {self.sid}\")\n",
    "        print(f\"course is {self.course}\")\n",
    "        print(f\"College is {self.college}\")\n",
    "    \n",
    "e=Emp('Arun',25,1025,30000)\n",
    "e.printdetails()"
   ]
  },
  {
   "cell_type": "code",
   "execution_count": null,
   "id": "fcebe175",
   "metadata": {},
   "outputs": [],
   "source": []
  }
 ],
 "metadata": {
  "kernelspec": {
   "display_name": "Python 3 (ipykernel)",
   "language": "python",
   "name": "python3"
  },
  "language_info": {
   "codemirror_mode": {
    "name": "ipython",
    "version": 3
   },
   "file_extension": ".py",
   "mimetype": "text/x-python",
   "name": "python",
   "nbconvert_exporter": "python",
   "pygments_lexer": "ipython3",
   "version": "3.9.12"
  }
 },
 "nbformat": 4,
 "nbformat_minor": 5
}
