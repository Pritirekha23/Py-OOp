{
 "cells": [
  {
   "cell_type": "markdown",
   "id": "c68a67df",
   "metadata": {},
   "source": [
    "Dt-06/02/2023\n"
   ]
  },
  {
   "cell_type": "markdown",
   "id": "5be40239",
   "metadata": {},
   "source": [
    "# super() function"
   ]
  },
  {
   "cell_type": "code",
   "execution_count": null,
   "id": "366b9a69",
   "metadata": {},
   "outputs": [],
   "source": [
    "# problem  without super function"
   ]
  },
  {
   "cell_type": "markdown",
   "id": "2a9b1d2d",
   "metadata": {},
   "source": [
    "REQUIREMENT OF SUPER()\n",
    "If parent class and child class having members with same name then from child class we can access parent class method.\n",
    "super() function is used to access parent class memebers.\n",
    "super() function contains the history of super class method, that's why we say super() is used to refer super class memebrs."
   ]
  },
  {
   "cell_type": "code",
   "execution_count": 14,
   "id": "46e707c9",
   "metadata": {},
   "outputs": [
    {
     "name": "stdout",
     "output_type": "stream",
     "text": [
      "Name is Priyanka\n",
      "Age is 24\n",
      "eid is 1024\n",
      "sal is 45653\n",
      "--------\n",
      "Name is Zini\n",
      "Age is 24\n",
      "Sid is 1244\n",
      "course is Btech\n",
      "College is ABC clg\n",
      "--------\n",
      "Name is Dr prasad\n",
      "Age is 27\n",
      "Fid is 23344\n",
      "Dept is CSE\n"
     ]
    }
   ],
   "source": [
    "class EMp:\n",
    "    def __init__(self,name,age,eid,sal):\n",
    "        self.name=name\n",
    "        self.age=age\n",
    "        self.eid=eid\n",
    "        self.sal=sal\n",
    "    def printdetails(self):\n",
    "        print(f\"Name is {self.name}\")\n",
    "        print(f\"Age is {self.age}\")\n",
    "        print(f\"eid is {self.eid}\")\n",
    "        print(f\"sal is {self.sal}\")\n",
    "        \n",
    "              \n",
    "class Student:\n",
    "    def __init__(self,name,age,sid,course,college):\n",
    "              self.name=name\n",
    "              self.age=age\n",
    "              self.sid=sid\n",
    "              self.course=course\n",
    "              self.college=college\n",
    "    \n",
    "    def printdetails(self):\n",
    "        print(f\"Name is {self.name}\")\n",
    "        print(f\"Age is {self.age}\")\n",
    "        print(f\"Sid is {self.sid}\")\n",
    "        print(f\"course is {self.course}\")\n",
    "        print(f\"College is {self.college}\")\n",
    "                  \n",
    "        \n",
    "              \n",
    "class Faculty:\n",
    "    def __init__(self,name,age,fid,dept):\n",
    "              self.name=name\n",
    "              self.age=age\n",
    "              self.fid=fid\n",
    "              self.dept=dept\n",
    "    \n",
    "    def printdetails(self):\n",
    "        print(f\"Name is {self.name}\")\n",
    "        print(f\"Age is {self.age}\")\n",
    "        print(f\"Fid is {self.fid}\")\n",
    "        print(f\"Dept is {self.dept}\")\n",
    "        \n",
    "   # code duplicacy\n",
    "\n",
    "e=EMp('Priyanka',24,1024,45653)\n",
    "e.printdetails()\n",
    "print('-'*8)\n",
    "s=Student('Zini',24,1244,\"Btech\",\"ABC clg\")\n",
    "s.printdetails()\n",
    "print('-'*8)\n",
    "d=Faculty(\"Dr prasad\",27,23344,\"CSE\")\n",
    "d.printdetails()"
   ]
  },
  {
   "cell_type": "code",
   "execution_count": null,
   "id": "62fe2f31",
   "metadata": {},
   "outputs": [],
   "source": []
  },
  {
   "cell_type": "code",
   "execution_count": null,
   "id": "52d96273",
   "metadata": {},
   "outputs": [],
   "source": [
    "# solution by using super function"
   ]
  },
  {
   "cell_type": "code",
   "execution_count": 18,
   "id": "e87f1313",
   "metadata": {},
   "outputs": [
    {
     "name": "stdout",
     "output_type": "stream",
     "text": [
      "Name is Arun\n",
      "Age is 25\n",
      "Eid is 1025\n",
      "sal is 30000\n",
      "-------\n",
      "Name is Sam\n",
      "Age is 21\n",
      "Sid is 1024\n",
      "course is Btech\n",
      "College is ABC clg\n"
     ]
    }
   ],
   "source": [
    "class Human:\n",
    "    def __init__(self,name,age):\n",
    "        self.name=name\n",
    "        self.age=age\n",
    "    def printdetails(self):\n",
    "        print(f\"Name is {self.name}\")\n",
    "        print(f\"Age is {self.age}\")\n",
    "        \n",
    "class Emp(Human):\n",
    "    def __init__(self,name,age,eid,sal):\n",
    "        super().__init__(name,age)\n",
    "        self.eid=eid\n",
    "        self.sal=sal\n",
    "        \n",
    "    def printdetails(self):\n",
    "        super().printdetails()\n",
    "        print(f'Eid is {self.eid}')\n",
    "        print(f'sal is {self.sal}')\n",
    "        \n",
    "class Student(Human):\n",
    "    def __init__(self,name,age,sid,course,college):\n",
    "              super().__init__(name,age)\n",
    "              self.sid=sid\n",
    "              self.course=course\n",
    "              self.college=college\n",
    "    \n",
    "    def printdetails(self):\n",
    "        super().printdetails()\n",
    "        print(f\"Sid is {self.sid}\")\n",
    "        print(f\"course is {self.course}\")\n",
    "        print(f\"College is {self.college}\")\n",
    "    \n",
    "e=Emp('Arun',25,1025,30000)\n",
    "e.printdetails()\n",
    "print(\"-------\")\n",
    "s=Student('Sam',21,1024,\"Btech\",\"ABC clg\")\n",
    "s.printdetails()"
   ]
  },
  {
   "cell_type": "code",
   "execution_count": null,
   "id": "f012ba1a",
   "metadata": {},
   "outputs": [],
   "source": []
  }
 ],
 "metadata": {
  "kernelspec": {
   "display_name": "Python 3 (ipykernel)",
   "language": "python",
   "name": "python3"
  },
  "language_info": {
   "codemirror_mode": {
    "name": "ipython",
    "version": 3
   },
   "file_extension": ".py",
   "mimetype": "text/x-python",
   "name": "python",
   "nbconvert_exporter": "python",
   "pygments_lexer": "ipython3",
   "version": "3.9.12"
  }
 },
 "nbformat": 4,
 "nbformat_minor": 5
}
