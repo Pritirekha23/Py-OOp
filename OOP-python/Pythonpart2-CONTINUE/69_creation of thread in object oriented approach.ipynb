{
 "cells": [
  {
   "cell_type": "markdown",
   "id": "0f70b977",
   "metadata": {},
   "source": [
    "dt-13/04/23"
   ]
  },
  {
   "cell_type": "markdown",
   "id": "a6ec869a",
   "metadata": {},
   "source": [
    "# creation of thread in object oriented approach"
   ]
  },
  {
   "cell_type": "code",
   "execution_count": 1,
   "id": "3e513c5c",
   "metadata": {},
   "outputs": [],
   "source": [
    "from threading import*"
   ]
  },
  {
   "cell_type": "code",
   "execution_count": 2,
   "id": "d191c3c2",
   "metadata": {},
   "outputs": [
    {
     "name": "stdout",
     "output_type": "stream",
     "text": [
      "priti\n",
      "priti\n",
      "priti\n",
      "priti\n",
      "priti\n",
      "smruti\n",
      "smruti\n",
      "smruti\n",
      "smruti\n",
      "smruti\n"
     ]
    }
   ],
   "source": [
    "#ex-1 by using single thraed\n",
    "class Test:\n",
    "    def m1(self):\n",
    "        for i in range(5):\n",
    "            print('priti')\n",
    "    def m2(self):\n",
    "        for i in range(5):\n",
    "            print('smruti')\n",
    "ob=Test()    \n",
    "ob.m1()\n",
    "ob.m2()"
   ]
  },
  {
   "cell_type": "code",
   "execution_count": 24,
   "id": "fe988d1d",
   "metadata": {},
   "outputs": [
    {
     "name": "stdout",
     "output_type": "stream",
     "text": [
      "priti\n",
      "smrutipriti\n",
      "smruti\n",
      "smruti\n",
      "smruti\n",
      "smruti\n",
      "\n",
      "priti\n",
      "priti\n",
      "priti\n"
     ]
    }
   ],
   "source": [
    "#ex-2 by using  multithraed\n",
    "class Test:\n",
    "    def m1(self):\n",
    "        for i in range(5):\n",
    "            print('priti')\n",
    "    def m2(self):\n",
    "        for i in range(5):\n",
    "            print('smruti')\n",
    "ob=Test()    \n",
    "t1=Thread(target=ob.m1)\n",
    "t1.start()\n",
    "\n",
    "\n",
    "t2=Thread(target=ob.m2)\n",
    "t2.start()"
   ]
  },
  {
   "cell_type": "code",
   "execution_count": null,
   "id": "159bd247",
   "metadata": {},
   "outputs": [],
   "source": []
  }
 ],
 "metadata": {
  "kernelspec": {
   "display_name": "Python 3 (ipykernel)",
   "language": "python",
   "name": "python3"
  },
  "language_info": {
   "codemirror_mode": {
    "name": "ipython",
    "version": 3
   },
   "file_extension": ".py",
   "mimetype": "text/x-python",
   "name": "python",
   "nbconvert_exporter": "python",
   "pygments_lexer": "ipython3",
   "version": "3.9.12"
  }
 },
 "nbformat": 4,
 "nbformat_minor": 5
}
