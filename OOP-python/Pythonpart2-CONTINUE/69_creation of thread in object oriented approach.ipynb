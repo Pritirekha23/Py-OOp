{
 "cells": [
  {
   "cell_type": "markdown",
   "id": "1b624eb3",
   "metadata": {},
   "source": [
    "dt-13/04/23"
   ]
  },
  {
   "cell_type": "markdown",
   "id": "710cace2",
   "metadata": {},
   "source": [
    "# creation of thread in object oriented approach"
   ]
  },
  {
   "cell_type": "code",
   "execution_count": 1,
   "id": "def743d5",
   "metadata": {},
   "outputs": [],
   "source": [
    "from threading import*"
   ]
  },
  {
   "cell_type": "code",
   "execution_count": null,
   "id": "bba80e0c",
   "metadata": {},
   "outputs": [],
   "source": [
    "#ex-1\n",
    "class Test:\n",
    "    def m1(self):\n",
    "        for i in range(5):\n",
    "            print('priti')\n",
    "    def m2(self):\n",
    "        for i in range(5):\n",
    "            print('smruti')\n",
    "ob=Test()    \n",
    "ob."
   ]
  },
  {
   "cell_type": "code",
   "execution_count": null,
   "id": "512e6e25",
   "metadata": {},
   "outputs": [],
   "source": []
  },
  {
   "cell_type": "code",
   "execution_count": null,
   "id": "89a51f07",
   "metadata": {},
   "outputs": [],
   "source": []
  }
 ],
 "metadata": {
  "kernelspec": {
   "display_name": "Python 3 (ipykernel)",
   "language": "python",
   "name": "python3"
  },
  "language_info": {
   "codemirror_mode": {
    "name": "ipython",
    "version": 3
   },
   "file_extension": ".py",
   "mimetype": "text/x-python",
   "name": "python",
   "nbconvert_exporter": "python",
   "pygments_lexer": "ipython3",
   "version": "3.9.12"
  }
 },
 "nbformat": 4,
 "nbformat_minor": 5
}
