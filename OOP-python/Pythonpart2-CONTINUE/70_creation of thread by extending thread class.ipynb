{
 "cells": [
  {
   "cell_type": "markdown",
   "id": "5c676cdc",
   "metadata": {},
   "source": [
    "dt-14/04/23"
   ]
  },
  {
   "cell_type": "markdown",
   "id": "2d447902",
   "metadata": {},
   "source": [
    "# creation of thread by extending thread class"
   ]
  },
  {
   "cell_type": "markdown",
   "id": "45e7a953",
   "metadata": {},
   "source": [
    "Thread is inbuild class that is provided by python, we have to create a class by extending from Thread class.\n",
    "Inside thread claass python provided run() method and we have to override run("
   ]
  },
  {
   "cell_type": "code",
   "execution_count": 1,
   "id": "84f53a84",
   "metadata": {},
   "outputs": [],
   "source": [
    "from threading import*"
   ]
  },
  {
   "cell_type": "code",
   "execution_count": 2,
   "id": "26d44550",
   "metadata": {},
   "outputs": [
    {
     "name": "stdout",
     "output_type": "stream",
     "text": [
      "priti\n",
      "priti\n",
      "priti\n",
      "priti\n",
      "priti\n",
      "kriti\n",
      "kriti\n",
      "kriti\n",
      "kriti\n",
      "kriti\n"
     ]
    }
   ],
   "source": [
    "#ex1 without multithreading\n",
    "class Test1(Thread):\n",
    "    def run(self):\n",
    "        for i in range(5):\n",
    "            print('priti')\n",
    "    \n",
    "class Test2(Thread):\n",
    "    def run(self):\n",
    "        for i in range(5):\n",
    "            print('kriti')\n",
    "            \n",
    "ob1=Test1() \n",
    "ob1.run()\n",
    " \n",
    "\n",
    "ob2=Test2() \n",
    "ob2.run()    "
   ]
  },
  {
   "cell_type": "code",
   "execution_count": 9,
   "id": "b6db1144",
   "metadata": {},
   "outputs": [
    {
     "name": "stdout",
     "output_type": "stream",
     "text": [
      "priti\n",
      "kriti\n",
      "kriti\n",
      "kriti\n",
      "kriti\n",
      "kriti\n",
      "priti\n",
      "priti\n",
      "priti\n",
      "priti\n"
     ]
    }
   ],
   "source": [
    "#ex1 with multithreading\n",
    "class Test1(Thread):\n",
    "    def run(self):\n",
    "        for i in range(5):\n",
    "            print('priti')\n",
    "    \n",
    "class Test2(Thread):\n",
    "    def run(self):\n",
    "        for i in range(5):\n",
    "            print('kriti')\n",
    "            \n",
    "ob1=Test1() \n",
    "ob1.start() #internaly this start() method will execute ob1.run()\n",
    " \n",
    "\n",
    "ob2=Test2() \n",
    "ob2.start()    #internaly this start() method will execute ob2.run() "
   ]
  },
  {
   "cell_type": "code",
   "execution_count": null,
   "id": "c129852e",
   "metadata": {},
   "outputs": [],
   "source": []
  },
  {
   "cell_type": "code",
   "execution_count": null,
   "id": "4f30ac7e",
   "metadata": {},
   "outputs": [],
   "source": []
  },
  {
   "cell_type": "code",
   "execution_count": null,
   "id": "cdf06db7",
   "metadata": {},
   "outputs": [],
   "source": []
  }
 ],
 "metadata": {
  "kernelspec": {
   "display_name": "Python 3 (ipykernel)",
   "language": "python",
   "name": "python3"
  },
  "language_info": {
   "codemirror_mode": {
    "name": "ipython",
    "version": 3
   },
   "file_extension": ".py",
   "mimetype": "text/x-python",
   "name": "python",
   "nbconvert_exporter": "python",
   "pygments_lexer": "ipython3",
   "version": "3.9.12"
  }
 },
 "nbformat": 4,
 "nbformat_minor": 5
}
