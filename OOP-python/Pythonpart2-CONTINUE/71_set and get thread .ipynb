{
 "cells": [
  {
   "cell_type": "code",
   "execution_count": null,
   "id": "3006fb11",
   "metadata": {},
   "outputs": [],
   "source": [
    "dt-15/04/23"
   ]
  },
  {
   "cell_type": "markdown",
   "id": "08cec697",
   "metadata": {},
   "source": [
    "# How to get and set thread name"
   ]
  },
  {
   "cell_type": "markdown",
   "id": "71195bfb",
   "metadata": {},
   "source": [
    "## How to get thraed name"
   ]
  },
  {
   "cell_type": "code",
   "execution_count": 1,
   "id": "f309ccad",
   "metadata": {},
   "outputs": [],
   "source": [
    "from threading import*"
   ]
  },
  {
   "cell_type": "code",
   "execution_count": 35,
   "id": "c09af7d0",
   "metadata": {},
   "outputs": [
    {
     "name": "stdout",
     "output_type": "stream",
     "text": [
      "priti\n",
      "priti\n",
      "priti\n",
      "priti\n",
      "priti\n",
      "Thread-71MainThread\n",
      "\n",
      "Arun\n",
      "Arun\n",
      "Arun\n",
      "Arun\n",
      "Arun\n"
     ]
    }
   ],
   "source": [
    "#ex-1\n",
    "def fun1():\n",
    "    for i in range(5):\n",
    "        print('priti')\n",
    "def fun2():\n",
    "    print(current_thread().name)\n",
    "    for i in range(5):\n",
    "        print('Arun') \n",
    "        \n",
    "t1=Thread(target=fun1)\n",
    "t1.start()\n",
    "\n",
    "\n",
    "t2=Thread(target=fun2)\n",
    "t2.start()\n",
    "\n",
    "print(current_thread().name)"
   ]
  },
  {
   "cell_type": "code",
   "execution_count": null,
   "id": "77a31a4a",
   "metadata": {},
   "outputs": [],
   "source": []
  }
 ],
 "metadata": {
  "kernelspec": {
   "display_name": "Python 3 (ipykernel)",
   "language": "python",
   "name": "python3"
  },
  "language_info": {
   "codemirror_mode": {
    "name": "ipython",
    "version": 3
   },
   "file_extension": ".py",
   "mimetype": "text/x-python",
   "name": "python",
   "nbconvert_exporter": "python",
   "pygments_lexer": "ipython3",
   "version": "3.9.12"
  }
 },
 "nbformat": 4,
 "nbformat_minor": 5
}
