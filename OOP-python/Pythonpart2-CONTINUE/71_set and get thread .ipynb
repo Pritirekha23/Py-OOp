{
 "cells": [
  {
   "cell_type": "code",
   "execution_count": null,
   "id": "15f7f370",
   "metadata": {},
   "outputs": [],
   "source": [
    "dt-15/04/23"
   ]
  },
  {
   "cell_type": "markdown",
   "id": "c2046759",
   "metadata": {},
   "source": [
    "# How to get and set thread name"
   ]
  },
  {
   "cell_type": "markdown",
   "id": "cef03aba",
   "metadata": {},
   "source": [
    "## How to get thread name"
   ]
  },
  {
   "cell_type": "code",
   "execution_count": 1,
   "id": "f53dab66",
   "metadata": {},
   "outputs": [],
   "source": [
    "from threading import*"
   ]
  },
  {
   "cell_type": "code",
   "execution_count": 38,
   "id": "a268a621",
   "metadata": {},
   "outputs": [
    {
     "name": "stdout",
     "output_type": "stream",
     "text": [
      "pritiline-12 MainThread\n",
      "Thread-74\n",
      "\n",
      "priti\n",
      "priti\n",
      "priti\n",
      "priti\n",
      "line-6 Thread-75\n",
      "Arun\n",
      "Arun\n",
      "Arun\n",
      "Arun\n",
      "Arun\n",
      "line-17 MainThread\n"
     ]
    }
   ],
   "source": [
    "#ex-1\n",
    "def fun1():\n",
    "    for i in range(5):\n",
    "        print('priti')\n",
    "def fun2():\n",
    "    print('line-6',current_thread().name)\n",
    "    for i in range(5):\n",
    "        print('Arun') \n",
    "        \n",
    "t1=Thread(target=fun1)\n",
    "t1.start()\n",
    "print('line-12',current_thread().name)\n",
    "\n",
    "print(t1.name)\n",
    "t2=Thread(target=fun2)\n",
    "t2.start()\n",
    "\n",
    "print('line-17',current_thread().name)"
   ]
  },
  {
   "cell_type": "code",
   "execution_count": null,
   "id": "8a119a65",
   "metadata": {},
   "outputs": [],
   "source": [
    "#ex-2\n"
   ]
  }
 ],
 "metadata": {
  "kernelspec": {
   "display_name": "Python 3 (ipykernel)",
   "language": "python",
   "name": "python3"
  },
  "language_info": {
   "codemirror_mode": {
    "name": "ipython",
    "version": 3
   },
   "file_extension": ".py",
   "mimetype": "text/x-python",
   "name": "python",
   "nbconvert_exporter": "python",
   "pygments_lexer": "ipython3",
   "version": "3.9.12"
  }
 },
 "nbformat": 4,
 "nbformat_minor": 5
}
