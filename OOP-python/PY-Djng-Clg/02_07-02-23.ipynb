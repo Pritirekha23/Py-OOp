{
 "cells": [
  {
   "cell_type": "markdown",
   "id": "a155fa29",
   "metadata": {},
   "source": [
    "# OOP"
   ]
  },
  {
   "cell_type": "markdown",
   "id": "40b4c2ef",
   "metadata": {},
   "source": [
    "class :\n",
    "  collection of members and methods.\n",
    "  "
   ]
  },
  {
   "cell_type": "code",
   "execution_count": 10,
   "id": "9e2371ee",
   "metadata": {},
   "outputs": [
    {
     "name": "stdout",
     "output_type": "stream",
     "text": [
      "Hello world\n",
      "ABC\n",
      "<__main__.A object at 0x00000230F8B8AFA0>\n",
      "ABC\n"
     ]
    }
   ],
   "source": [
    "class A:\n",
    "    a=2\n",
    "    name='ABC'\n",
    "    def Hi(JJ):\n",
    "        print('Hello world')\n",
    "        \n",
    "\n",
    "        \n",
    "obj=A()\n",
    "obj.Hi()\n",
    "print(obj.name)\n",
    "print(obj)\n",
    "print(obj.name)"
   ]
  },
  {
   "cell_type": "code",
   "execution_count": 15,
   "id": "c3db5615",
   "metadata": {},
   "outputs": [
    {
     "name": "stdout",
     "output_type": "stream",
     "text": [
      "Hello world\n"
     ]
    }
   ],
   "source": [
    "class A:\n",
    "    a=2\n",
    "    name='ABC'\n",
    "  \n",
    "        \n",
    "    def __str__(self):\n",
    "        return \"this is my A class\"\n",
    "    def Hi(self):\n",
    "        print('Hello world')\n",
    "    \n",
    "\n",
    "        \n",
    "obj=A()\n",
    "obj.Hi()"
   ]
  },
  {
   "cell_type": "code",
   "execution_count": 17,
   "id": "a23eab82",
   "metadata": {},
   "outputs": [
    {
     "name": "stdout",
     "output_type": "stream",
     "text": [
      "XYZ\n"
     ]
    }
   ],
   "source": [
    "class A:\n",
    "    name=\"ABC\"\n",
    "    def __init__(s,name):\n",
    "        s.name=name\n",
    "        \n",
    "a=A('XYZ')\n",
    "print(a.name)"
   ]
  },
  {
   "cell_type": "code",
   "execution_count": null,
   "id": "8265fc4a",
   "metadata": {},
   "outputs": [],
   "source": []
  }
 ],
 "metadata": {
  "kernelspec": {
   "display_name": "Python 3 (ipykernel)",
   "language": "python",
   "name": "python3"
  },
  "language_info": {
   "codemirror_mode": {
    "name": "ipython",
    "version": 3
   },
   "file_extension": ".py",
   "mimetype": "text/x-python",
   "name": "python",
   "nbconvert_exporter": "python",
   "pygments_lexer": "ipython3",
   "version": "3.9.12"
  }
 },
 "nbformat": 4,
 "nbformat_minor": 5
}
