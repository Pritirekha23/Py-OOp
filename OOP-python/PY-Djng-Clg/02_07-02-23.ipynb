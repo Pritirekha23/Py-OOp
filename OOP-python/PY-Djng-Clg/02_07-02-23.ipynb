{
 "cells": [
  {
   "cell_type": "markdown",
   "id": "edbd0f50",
   "metadata": {},
   "source": [
    "# OOP"
   ]
  },
  {
   "cell_type": "markdown",
   "id": "3ccf71d7",
   "metadata": {},
   "source": [
    "class :\n",
    "  collection of members and methods.\n",
    "  "
   ]
  },
  {
   "cell_type": "code",
   "execution_count": 10,
   "id": "624e568c",
   "metadata": {},
   "outputs": [
    {
     "name": "stdout",
     "output_type": "stream",
     "text": [
      "Hello world\n",
      "ABC\n",
      "<__main__.A object at 0x00000230F8B8AFA0>\n",
      "ABC\n"
     ]
    }
   ],
   "source": [
    "class A:\n",
    "    a=2\n",
    "    name='ABC'\n",
    "    def Hi(JJ):\n",
    "        print('Hello world')\n",
    "        \n",
    "\n",
    "        \n",
    "obj=A()\n",
    "obj.Hi()\n",
    "print(obj.name)\n",
    "print(obj)\n",
    "print(obj.name)"
   ]
  },
  {
   "cell_type": "code",
   "execution_count": 15,
   "id": "346f7ab8",
   "metadata": {},
   "outputs": [
    {
     "name": "stdout",
     "output_type": "stream",
     "text": [
      "Hello world\n"
     ]
    }
   ],
   "source": [
    "class A:\n",
    "    a=2\n",
    "    name='ABC'\n",
    "  \n",
    "        \n",
    "    def __str__(self):\n",
    "        return \"this is my A class\"\n",
    "    def Hi(self):\n",
    "        print('Hello world')\n",
    "    \n",
    "\n",
    "        \n",
    "obj=A()\n",
    "obj.Hi()"
   ]
  },
  {
   "cell_type": "code",
   "execution_count": 17,
   "id": "0c3a7bee",
   "metadata": {},
   "outputs": [
    {
     "name": "stdout",
     "output_type": "stream",
     "text": [
      "XYZ\n"
     ]
    }
   ],
   "source": [
    "class A:\n",
    "    name=\"ABC\"\n",
    "    def __init__(s,name):\n",
    "        s.name=name\n",
    "        \n",
    "a=A('XYZ')\n",
    "print(a.name)"
   ]
  },
  {
   "cell_type": "code",
   "execution_count": null,
   "id": "06167e9b",
   "metadata": {},
   "outputs": [],
   "source": []
  },
  {
   "cell_type": "code",
   "execution_count": 22,
   "id": "f7134ab1",
   "metadata": {},
   "outputs": [
    {
     "name": "stdout",
     "output_type": "stream",
     "text": [
      "5\n",
      "0\n"
     ]
    }
   ],
   "source": [
    "class Math:\n",
    "    def sum(self,a,b):\n",
    "        return a+b\n",
    "    def sub(self,a,b):\n",
    "        return a-b\n",
    "    def mul(self,a,b):\n",
    "        return a*b\n",
    "    def div(self,a,b):\n",
    "        return a/b\n",
    "    def flr(self,a,b):\n",
    "        return a//b\n",
    "    def mod(self,a,b):\n",
    "        return a%b\n",
    "    \n",
    "obj=Math()\n",
    "print(obj.sum(2,3))\n",
    "print(obj.flr(2,3))"
   ]
  },
  {
   "cell_type": "markdown",
   "id": "ab2f23d7",
   "metadata": {},
   "source": [
    "# ENCAPSULATION"
   ]
  },
  {
   "cell_type": "markdown",
   "id": "553a26b9",
   "metadata": {},
   "source": [
    "It is process where combine the data into a single unit."
   ]
  },
  {
   "cell_type": "code",
   "execution_count": null,
   "id": "f4fa3cb6",
   "metadata": {},
   "outputs": [],
   "source": [
    "class Math:\n",
    "    def sum(self,a,b):\n",
    "        return a+b\n",
    "    def sub(self,a,b):\n",
    "        return a-b\n",
    "    def mul(self,a,b):\n",
    "        return a*b\n",
    "    def div(self,a,b):\n",
    "        return a/b\n",
    "    def flr(self,a,b):\n",
    "        return a//b\n",
    "    def mod(self,a,b):\n",
    "        return a%b\n",
    "    \n",
    "obj=Math()\n"
   ]
  },
  {
   "cell_type": "code",
   "execution_count": null,
   "id": "38f908d4",
   "metadata": {},
   "outputs": [],
   "source": []
  },
  {
   "cell_type": "markdown",
   "id": "efbb392c",
   "metadata": {},
   "source": [
    "# INHERITANCE"
   ]
  },
  {
   "cell_type": "code",
   "execution_count": 25,
   "id": "6e8df341",
   "metadata": {},
   "outputs": [
    {
     "name": "stdout",
     "output_type": "stream",
     "text": [
      "25\n",
      "25\n"
     ]
    }
   ],
   "source": [
    "class Math:\n",
    "    def sum(self,a,b):\n",
    "        return a+b\n",
    "    def sub(self,a,b):\n",
    "        return a-b\n",
    "    def mul(self,a,b):\n",
    "        return a*b\n",
    "    def div(self,a,b):\n",
    "        return a/b\n",
    "    def flr(self,a,b):\n",
    "        return a//b\n",
    "    def mod(self,a,b):\n",
    "        return a%b\n",
    "    \n",
    "class B(Math):\n",
    "    def lhs(self,a,b):\n",
    "        return self.mul(\n",
    "        self.sum(a,b),self.sum(a,b))\n",
    "    def rhs(self,a,b):\n",
    "        sqa=self.mul(a,a)\n",
    "        sqb=self.mul(b,b)\n",
    "        ab=self.mul(a,b)\n",
    "        sq=self.sum(sqa,sqb)\n",
    "        # a^2+b^2\n",
    "        ab2=self.sum(ab,ab)\n",
    "        return self.sum(sq,ab2)\n",
    "obj=B()\n",
    "print(obj.lhs(2,3))\n",
    "print(obj.rhs(2,3))    \n"
   ]
  },
  {
   "cell_type": "code",
   "execution_count": null,
   "id": "5d2c0c10",
   "metadata": {},
   "outputs": [],
   "source": []
  }
 ],
 "metadata": {
  "kernelspec": {
   "display_name": "Python 3 (ipykernel)",
   "language": "python",
   "name": "python3"
  },
  "language_info": {
   "codemirror_mode": {
    "name": "ipython",
    "version": 3
   },
   "file_extension": ".py",
   "mimetype": "text/x-python",
   "name": "python",
   "nbconvert_exporter": "python",
   "pygments_lexer": "ipython3",
   "version": "3.9.12"
  }
 },
 "nbformat": 4,
 "nbformat_minor": 5
}
