{
 "cells": [
  {
   "cell_type": "markdown",
   "id": "b1f801be",
   "metadata": {},
   "source": [
    "# OOP"
   ]
  },
  {
   "cell_type": "markdown",
   "id": "695ce160",
   "metadata": {},
   "source": [
    "class :\n",
    "  collection of members and methods.\n",
    "  "
   ]
  },
  {
   "cell_type": "code",
   "execution_count": 10,
   "id": "98cc5bdd",
   "metadata": {},
   "outputs": [
    {
     "name": "stdout",
     "output_type": "stream",
     "text": [
      "Hello world\n",
      "ABC\n",
      "<__main__.A object at 0x00000230F8B8AFA0>\n",
      "ABC\n"
     ]
    }
   ],
   "source": [
    "class A:\n",
    "    a=2\n",
    "    name='ABC'\n",
    "    def Hi(JJ):\n",
    "        print('Hello world')\n",
    "        \n",
    "\n",
    "        \n",
    "obj=A()\n",
    "obj.Hi()\n",
    "print(obj.name)\n",
    "print(obj)\n",
    "print(obj.name)"
   ]
  },
  {
   "cell_type": "code",
   "execution_count": 15,
   "id": "d9c9eb60",
   "metadata": {},
   "outputs": [
    {
     "name": "stdout",
     "output_type": "stream",
     "text": [
      "Hello world\n"
     ]
    }
   ],
   "source": [
    "class A:\n",
    "    a=2\n",
    "    name='ABC'\n",
    "  \n",
    "        \n",
    "    def __str__(self):\n",
    "        return \"this is my A class\"\n",
    "    def Hi(self):\n",
    "        print('Hello world')\n",
    "    \n",
    "\n",
    "        \n",
    "obj=A()\n",
    "obj.Hi()"
   ]
  },
  {
   "cell_type": "code",
   "execution_count": 17,
   "id": "f64512fb",
   "metadata": {},
   "outputs": [
    {
     "name": "stdout",
     "output_type": "stream",
     "text": [
      "XYZ\n"
     ]
    }
   ],
   "source": [
    "class A:\n",
    "    name=\"ABC\"\n",
    "    def __init__(s,name):\n",
    "        s.name=name\n",
    "        \n",
    "a=A('XYZ')\n",
    "print(a.name)"
   ]
  },
  {
   "cell_type": "code",
   "execution_count": null,
   "id": "5c5a305d",
   "metadata": {},
   "outputs": [],
   "source": []
  },
  {
   "cell_type": "code",
   "execution_count": 22,
   "id": "514703f0",
   "metadata": {},
   "outputs": [
    {
     "name": "stdout",
     "output_type": "stream",
     "text": [
      "5\n",
      "0\n"
     ]
    }
   ],
   "source": [
    "class Math:\n",
    "    def sum(self,a,b):\n",
    "        return a+b\n",
    "    def sub(self,a,b):\n",
    "        return a-b\n",
    "    def mul(self,a,b):\n",
    "        return a*b\n",
    "    def div(self,a,b):\n",
    "        return a/b\n",
    "    def flr(self,a,b):\n",
    "        return a//b\n",
    "    def mod(self,a,b):\n",
    "        return a%b\n",
    "    \n",
    "obj=Math()\n",
    "print(obj.sum(2,3))\n",
    "print(obj.flr(2,3))"
   ]
  },
  {
   "cell_type": "markdown",
   "id": "22fa29a6",
   "metadata": {},
   "source": [
    "# ENCAPSULATION"
   ]
  },
  {
   "cell_type": "markdown",
   "id": "769ae354",
   "metadata": {},
   "source": [
    "It is process where combine the data into a single unit."
   ]
  },
  {
   "cell_type": "code",
   "execution_count": null,
   "id": "b303280f",
   "metadata": {},
   "outputs": [],
   "source": [
    "class Math:\n",
    "    def sum(self,a,b):\n",
    "        return a+b\n",
    "    def sub(self,a,b):\n",
    "        return a-b\n",
    "    def mul(self,a,b):\n",
    "        return a*b\n",
    "    def div(self,a,b):\n",
    "        return a/b\n",
    "    def flr(self,a,b):\n",
    "        return a//b\n",
    "    def mod(self,a,b):\n",
    "        return a%b\n",
    "    \n",
    "obj=Math()\n"
   ]
  },
  {
   "cell_type": "code",
   "execution_count": null,
   "id": "89687d73",
   "metadata": {},
   "outputs": [],
   "source": []
  },
  {
   "cell_type": "markdown",
   "id": "5e841232",
   "metadata": {},
   "source": [
    "# INHERITANCE"
   ]
  },
  {
   "cell_type": "code",
   "execution_count": 25,
   "id": "faa589f4",
   "metadata": {},
   "outputs": [
    {
     "name": "stdout",
     "output_type": "stream",
     "text": [
      "25\n",
      "25\n"
     ]
    }
   ],
   "source": [
    "class Math:\n",
    "    def sum(self,a,b):\n",
    "        return a+b\n",
    "    def sub(self,a,b):\n",
    "        return a-b\n",
    "    def mul(self,a,b):\n",
    "        return a*b\n",
    "    def div(self,a,b):\n",
    "        return a/b\n",
    "    def flr(self,a,b):\n",
    "        return a//b\n",
    "    def mod(self,a,b):\n",
    "        return a%b\n",
    "    \n",
    "class B(Math):\n",
    "    def lhs(self,a,b):\n",
    "        return self.mul(\n",
    "        self.sum(a,b),self.sum(a,b))\n",
    "    def rhs(self,a,b):\n",
    "        sqa=self.mul(a,a)\n",
    "        sqb=self.mul(b,b)\n",
    "        ab=self.mul(a,b)\n",
    "        sq=self.sum(sqa,sqb)\n",
    "        # (a+b)^2=a^2+b^2+2ab\n",
    "        ab2=self.sum(ab,ab)\n",
    "        return self.sum(sq,ab2)\n",
    "obj=B()\n",
    "print(obj.lhs(2,3))\n",
    "print(obj.rhs(2,3))    \n"
   ]
  },
  {
   "cell_type": "markdown",
   "id": "6f86220a",
   "metadata": {},
   "source": [
    "object is an abstarct"
   ]
  },
  {
   "cell_type": "markdown",
   "id": "8472824e",
   "metadata": {},
   "source": [
    "# EXCEPTION HANDLING"
   ]
  },
  {
   "cell_type": "code",
   "execution_count": 32,
   "id": "33e1d6c4",
   "metadata": {},
   "outputs": [
    {
     "name": "stdout",
     "output_type": "stream",
     "text": [
      "please pass int values\n"
     ]
    }
   ],
   "source": [
    "x='abc'\n",
    "try:\n",
    "    print(int(x))\n",
    "except ValueError:\n",
    "    print('please pass int values')"
   ]
  },
  {
   "cell_type": "code",
   "execution_count": 35,
   "id": "18a8034d",
   "metadata": {},
   "outputs": [
    {
     "name": "stdout",
     "output_type": "stream",
     "text": [
      "pleaase choose index less than the length of the string \n"
     ]
    }
   ],
   "source": [
    "x='abc'\n",
    "try:\n",
    "    print(int(x[10]))\n",
    "except ValueError:\n",
    "    print('please pass int values')\n",
    "except IndexError:\n",
    "    print('pleaase choose index less than the length of the string ')"
   ]
  },
  {
   "cell_type": "code",
   "execution_count": 36,
   "id": "47ade325",
   "metadata": {},
   "outputs": [
    {
     "name": "stdout",
     "output_type": "stream",
     "text": [
      "internal server Error\n"
     ]
    }
   ],
   "source": [
    "x='abc'\n",
    "try:\n",
    "    print(int(x[10]))\n",
    "except Exception:\n",
    "    print('internal server Error')\n"
   ]
  },
  {
   "cell_type": "code",
   "execution_count": 38,
   "id": "39175ecf",
   "metadata": {},
   "outputs": [
    {
     "name": "stdout",
     "output_type": "stream",
     "text": [
      "internal server Error : string index out of range\n"
     ]
    }
   ],
   "source": [
    "x='abc'\n",
    "try:\n",
    "    print(int(x[10]))\n",
    "except Exception as m:\n",
    "    print(f'internal server Error : {m}')\n"
   ]
  },
  {
   "cell_type": "code",
   "execution_count": null,
   "id": "15157a4e",
   "metadata": {},
   "outputs": [],
   "source": []
  }
 ],
 "metadata": {
  "kernelspec": {
   "display_name": "Python 3 (ipykernel)",
   "language": "python",
   "name": "python3"
  },
  "language_info": {
   "codemirror_mode": {
    "name": "ipython",
    "version": 3
   },
   "file_extension": ".py",
   "mimetype": "text/x-python",
   "name": "python",
   "nbconvert_exporter": "python",
   "pygments_lexer": "ipython3",
   "version": "3.9.12"
  }
 },
 "nbformat": 4,
 "nbformat_minor": 5
}
