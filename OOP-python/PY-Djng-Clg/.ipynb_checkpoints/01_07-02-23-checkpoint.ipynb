{
 "cells": [
  {
   "cell_type": "code",
   "execution_count": null,
   "id": "4138e008",
   "metadata": {},
   "outputs": [],
   "source": [
    "# Dt-07/02/2023"
   ]
  },
  {
   "cell_type": "markdown",
   "id": "7873884d",
   "metadata": {},
   "source": [
    "# dictionary"
   ]
  },
  {
   "cell_type": "code",
   "execution_count": 10,
   "id": "c94fe8b8",
   "metadata": {},
   "outputs": [
    {
     "name": "stdout",
     "output_type": "stream",
     "text": [
      "64\n",
      "64\n",
      "{'name': 'Arun', 'age': 21, 'college': 'XYZ clg', 'grade': {'10th': 73, '12th': 64, 'Btech': 78}}\n"
     ]
    }
   ],
   "source": [
    "student={\n",
    "    'name':'Arun',\n",
    "    'age':21,\n",
    "    'college':'XYZ clg',\n",
    "    'grade':{\n",
    "        '10th':73 ,\n",
    "         '12th':64,\n",
    "        'Btech':78\n",
    "    }\n",
    "}\n",
    "\n",
    "#way-1\n",
    "grade=student['grade']\n",
    "print(grade['12th'])\n",
    "# way2\n",
    "print(student['grade']['12th'])\n",
    "print(student)"
   ]
  },
  {
   "cell_type": "code",
   "execution_count": 7,
   "id": "0b502b73",
   "metadata": {},
   "outputs": [
    {
     "name": "stdout",
     "output_type": "stream",
     "text": [
      "{'name': 'Arun', 'age': 21, 'college': 'XYZ clg', 'grade': {'10th': 73, '12th': 64, 'Btech': 78}, 'branch': 'CSE'}\n"
     ]
    }
   ],
   "source": [
    "student['branch']='CSE'\n",
    "print(student)"
   ]
  },
  {
   "cell_type": "code",
   "execution_count": 14,
   "id": "83cbe210",
   "metadata": {},
   "outputs": [
    {
     "name": "stdout",
     "output_type": "stream",
     "text": [
      "{'name': 'Arun', 'age': 21, 'college': 'XYZ clg', 'grade': {'10th': 73, '12th': 64, 'Btech': 78}}\n"
     ]
    }
   ],
   "source": [
    "from pprint import pprint\n",
    "student={\n",
    "    'name':'Arun',\n",
    "    'age':21,\n",
    "    'college':'XYZ clg',\n",
    "    'grade':{\n",
    "        '10th':73 ,\n",
    "         '12th':64,\n",
    "        'Btech':78\n",
    "    }\n",
    "}\n",
    "\n",
    "print(student)"
   ]
  },
  {
   "cell_type": "code",
   "execution_count": 19,
   "id": "15e72407",
   "metadata": {},
   "outputs": [
    {
     "name": "stdout",
     "output_type": "stream",
     "text": [
      "name Arun\n",
      "age 21\n",
      "college XYZ clg\n",
      "grade {'10th': 73, '12th': 64, 'Btech': 78}\n"
     ]
    }
   ],
   "source": [
    "# Iterate dictionary\n",
    "from pprint import pprint\n",
    "student={\n",
    "    'name':'Arun',\n",
    "    'age':21,\n",
    "    'college':'XYZ clg',\n",
    "    'grade':{\n",
    "        '10th':73 ,\n",
    "         '12th':64,\n",
    "        'Btech':78\n",
    "    }\n",
    "}\n",
    "\n",
    "for i in student.keys():\n",
    "    print(i,student[i])\n"
   ]
  },
  {
   "cell_type": "code",
   "execution_count": 29,
   "id": "71178e98",
   "metadata": {},
   "outputs": [
    {
     "name": "stdout",
     "output_type": "stream",
     "text": [
      "Rahul\n"
     ]
    }
   ],
   "source": [
    "\n",
    "from pprint import pprint\n",
    "student={\n",
    "    1:{\n",
    "    'name':'Arun',\n",
    "    'age':21,\n",
    "    'college':'XYZ clg',\n",
    "    'grade':{\n",
    "        '10th':73 ,\n",
    "         '12th':64,\n",
    "        'Btech':78\n",
    "     }\n",
    "    },\n",
    "    \n",
    "   2:{\n",
    "   'name':'Rahul',\n",
    "    'age':24,\n",
    "    'college':'XYZ clg',\n",
    "    'grade':{\n",
    "        '10th':89 ,\n",
    "         '12th':90,\n",
    "        'Btech':78 \n",
    "     }\n",
    "  }\n",
    "}\n",
    "print(student[2]['name'])"
   ]
  },
  {
   "cell_type": "code",
   "execution_count": 30,
   "id": "49fceee4",
   "metadata": {},
   "outputs": [
    {
     "name": "stdout",
     "output_type": "stream",
     "text": [
      "1\n",
      "2\n"
     ]
    }
   ],
   "source": [
    "\n",
    "student={\n",
    "    1:{\n",
    "    'name':'Arun',\n",
    "    'age':21,\n",
    "    'college':'XYZ clg',\n",
    "    'grade':{\n",
    "        '10th':73 ,\n",
    "         '12th':64,\n",
    "        'Btech':78\n",
    "     }\n",
    "    },\n",
    "    \n",
    "   2:{\n",
    "   'name':'Rahul',\n",
    "    'age':24,\n",
    "    'college':'XYZ clg',\n",
    "    'grade':{\n",
    "        '10th':89 ,\n",
    "         '12th':90,\n",
    "        'Btech':78 \n",
    "     }\n",
    "  }\n",
    "}\n",
    "for i in student.keys():\n",
    "    print(i)"
   ]
  },
  {
   "cell_type": "code",
   "execution_count": 40,
   "id": "e4d6df09",
   "metadata": {},
   "outputs": [
    {
     "name": "stdout",
     "output_type": "stream",
     "text": [
      "1 dict_keys(['name', 'age', 'college', 'grade'])\n",
      "2 dict_keys(['name', 'age', 'college', 'grade'])\n"
     ]
    }
   ],
   "source": [
    "\n",
    "student={\n",
    "    1:{\n",
    "    'name':'Arun',\n",
    "    'age':21,\n",
    "    'college':'XYZ clg',\n",
    "    'grade':{\n",
    "        '10th':73 ,\n",
    "         '12th':64,\n",
    "        'Btech':78\n",
    "     }\n",
    "    },\n",
    "    \n",
    "   2:{\n",
    "   'name':'Rahul',\n",
    "    'age':24,\n",
    "    'college':'XYZ clg',\n",
    "    'grade':{\n",
    "        '10th':89 ,\n",
    "         '12th':90,\n",
    "        'Btech':78 \n",
    "     }\n",
    "  }\n",
    "}\n",
    "for i in student.keys():\n",
    "    print(i,student[i].keys())"
   ]
  },
  {
   "cell_type": "code",
   "execution_count": 32,
   "id": "67692e5d",
   "metadata": {},
   "outputs": [
    {
     "name": "stdout",
     "output_type": "stream",
     "text": [
      "1 {'name': 'Arun', 'age': 21, 'college': 'XYZ clg', 'grade': {'10th': 73, '12th': 64, 'Btech': 78}}\n",
      "2 {'name': 'Rahul', 'age': 24, 'college': 'XYZ clg', 'grade': {'10th': 89, '12th': 90, 'Btech': 78}}\n"
     ]
    }
   ],
   "source": [
    "\n",
    "student={\n",
    "    1:{\n",
    "    'name':'Arun',\n",
    "    'age':21,\n",
    "    'college':'XYZ clg',\n",
    "    'grade':{\n",
    "        '10th':73 ,\n",
    "         '12th':64,\n",
    "        'Btech':78\n",
    "     }\n",
    "    },\n",
    "    \n",
    "   2:{\n",
    "   'name':'Rahul',\n",
    "    'age':24,\n",
    "    'college':'XYZ clg',\n",
    "    'grade':{\n",
    "        '10th':89 ,\n",
    "         '12th':90,\n",
    "        'Btech':78 \n",
    "     }\n",
    "  }\n",
    "}\n",
    "for i,j  in student.items():\n",
    "    print(i,j)"
   ]
  },
  {
   "cell_type": "code",
   "execution_count": 37,
   "id": "3ca49610",
   "metadata": {},
   "outputs": [
    {
     "name": "stdout",
     "output_type": "stream",
     "text": [
      "name Arun\n",
      "age 21\n",
      "college XYZ clg\n",
      "grade {'10th': 73, '12th': 64, 'Btech': 78}\n",
      "\n",
      "name Rahul\n",
      "age 24\n",
      "college XYZ clg\n",
      "grade {'10th': 89, '12th': 90, 'Btech': 78}\n",
      "\n"
     ]
    }
   ],
   "source": [
    "\n",
    "student={\n",
    "    1:{\n",
    "    'name':'Arun',\n",
    "    'age':21,\n",
    "    'college':'XYZ clg',\n",
    "    'grade':{\n",
    "        '10th':73 ,\n",
    "         '12th':64,\n",
    "        'Btech':78\n",
    "     }\n",
    "    },\n",
    "    \n",
    "   2:{\n",
    "   'name':'Rahul',\n",
    "    'age':24,\n",
    "    'college':'XYZ clg',\n",
    "    'grade':{\n",
    "        '10th':89 ,\n",
    "         '12th':90,\n",
    "        'Btech':78 \n",
    "     }\n",
    "  }\n",
    "}\n",
    "\n",
    "    \n",
    "for i in student.keys():\n",
    "    for j in student[i].keys():\n",
    "        print(j,student[i][j])\n",
    "    print()\n",
    "        "
   ]
  },
  {
   "cell_type": "code",
   "execution_count": 41,
   "id": "bbc06b67",
   "metadata": {},
   "outputs": [
    {
     "name": "stdout",
     "output_type": "stream",
     "text": [
      "1 name Arun\n",
      "1 age 21\n",
      "1 college XYZ clg\n",
      "1 grade {'10th': 73, '12th': 64, 'Btech': 78}\n",
      "\n",
      "2 name Rahul\n",
      "2 age 24\n",
      "2 college XYZ clg\n",
      "2 grade {'10th': 89, '12th': 90, 'Btech': 78}\n",
      "\n"
     ]
    }
   ],
   "source": [
    "\n",
    "student={\n",
    "    1:{\n",
    "    'name':'Arun',\n",
    "    'age':21,\n",
    "    'college':'XYZ clg',\n",
    "    'grade':{\n",
    "        '10th':73 ,\n",
    "         '12th':64,\n",
    "        'Btech':78\n",
    "     }\n",
    "    },\n",
    "    \n",
    "   2:{\n",
    "   'name':'Rahul',\n",
    "    'age':24,\n",
    "    'college':'XYZ clg',\n",
    "    'grade':{\n",
    "        '10th':89 ,\n",
    "         '12th':90,\n",
    "        'Btech':78 \n",
    "     }\n",
    "  }\n",
    "}\n",
    "for i in student.keys():\n",
    "    for j in student[i].keys():\n",
    "        print(i,j,student[i][j])\n",
    "    print()"
   ]
  },
  {
   "cell_type": "code",
   "execution_count": 56,
   "id": "29d321aa",
   "metadata": {},
   "outputs": [
    {
     "name": "stdout",
     "output_type": "stream",
     "text": [
      "{'name': 'Arun', 'age': 21, 'college': 'XYZ clg', 'grade': {'10th': 73, '12th': 64, 'Btech': 78}}\n",
      "{'name': 'Rahul', 'age': 24, 'college': 'XYZ clg', 'grade': {'10th': 89, '12th': 90, 'Btech': 80}}\n",
      "<class 'dict'>\n",
      "2\n"
     ]
    }
   ],
   "source": [
    "\n",
    "student=[\n",
    "    {\n",
    "    'name':'Arun',\n",
    "    'age':21,\n",
    "    'college':'XYZ clg',\n",
    "    'grade':{\n",
    "        '10th':73 ,\n",
    "         '12th':64,\n",
    "        'Btech':78\n",
    "     }\n",
    "    },\n",
    "    \n",
    "   {\n",
    "   'name':'Rahul',\n",
    "    'age':24,\n",
    "    'college':'XYZ clg',\n",
    "    'grade':{\n",
    "        '10th':89 ,\n",
    "         '12th':90,\n",
    "        'Btech':80 \n",
    "     }\n",
    "  }\n",
    "]\n",
    "\n",
    "for i in student:\n",
    "    print(i)\n",
    "print(type(i))\n",
    "print(len(student))"
   ]
  },
  {
   "cell_type": "code",
   "execution_count": 55,
   "id": "9f39af30",
   "metadata": {},
   "outputs": [
    {
     "ename": "SyntaxError",
     "evalue": "closing parenthesis '}' does not match opening parenthesis '(' on line 10 (3688005864.py, line 11)",
     "output_type": "error",
     "traceback": [
      "\u001b[1;36m  Input \u001b[1;32mIn [55]\u001b[1;36m\u001b[0m\n\u001b[1;33m    },\u001b[0m\n\u001b[1;37m    ^\u001b[0m\n\u001b[1;31mSyntaxError\u001b[0m\u001b[1;31m:\u001b[0m closing parenthesis '}' does not match opening parenthesis '(' on line 10\n"
     ]
    }
   ],
   "source": [
    "\n",
    "student=[\n",
    "    {\n",
    "    'name':'Arun',\n",
    "    'age':21,\n",
    "    'college':'XYZ clg',\n",
    "    'grade':{\n",
    "        '10th':73 ,\n",
    "         '12th':64,\n",
    "        'Btech':78\n",
    "     (student\n",
    "    },\n",
    "    \n",
    "   {\n",
    "   'name':'Rahul',\n",
    "    'age':24,\n",
    "    'college':'XYZ clg',\n",
    "    'grade':{\n",
    "        '10th':89 ,\n",
    "         '12th':90,\n",
    "        'Btech':78 \n",
    "     }\n",
    "  }\n",
    "]\n",
    "\n",
    "for i  in range(len(student)):\n",
    "    for j in student[i].keys():\n",
    "        print(j,student[i][j])\n",
    "        \n",
    "    print()"
   ]
  },
  {
   "cell_type": "code",
   "execution_count": 57,
   "id": "f6635c3f",
   "metadata": {},
   "outputs": [
    {
     "name": "stdout",
     "output_type": "stream",
     "text": [
      "Arun\n",
      "21\n",
      "XYZ clg\n",
      "{'10th': 73, '12th': 64, 'Btech': 78}\n",
      "Rahul\n",
      "24\n",
      "XYZ clg\n",
      "{'10th': 89, '12th': 90, 'Btech': 78}\n"
     ]
    }
   ],
   "source": [
    "student=[\n",
    "    {\n",
    "    'name':'Arun',\n",
    "    'age':21,\n",
    "    'college':'XYZ clg',\n",
    "    'grade':{\n",
    "        '10th':73 ,\n",
    "         '12th':64,\n",
    "        'Btech':78\n",
    "     }\n",
    "    },\n",
    "    \n",
    "   {\n",
    "   'name':'Rahul',\n",
    "    'age':24,\n",
    "    'college':'XYZ clg',\n",
    "    'grade':{\n",
    "        '10th':89 ,\n",
    "         '12th':90,\n",
    "        'Btech':78 \n",
    "     }\n",
    "  }\n",
    "]\n",
    "\n",
    "for i in student:\n",
    "    for j in i.keys():\n",
    "        print(i[j])\n"
   ]
  },
  {
   "cell_type": "code",
   "execution_count": 58,
   "id": "0386da12",
   "metadata": {},
   "outputs": [
    {
     "name": "stdout",
     "output_type": "stream",
     "text": [
      "name Arun\n",
      "age 21\n",
      "college XYZ clg\n",
      "grade {'10th': 73, '12th': 64, 'Btech': 78}\n",
      "name Rahul\n",
      "age 24\n",
      "college XYZ clg\n",
      "grade {'10th': 89, '12th': 90, 'Btech': 78}\n"
     ]
    }
   ],
   "source": [
    "student=[\n",
    "    {\n",
    "    'name':'Arun',\n",
    "    'age':21,\n",
    "    'college':'XYZ clg',\n",
    "    'grade':{\n",
    "        '10th':73 ,\n",
    "         '12th':64,\n",
    "        'Btech':78\n",
    "     }\n",
    "    },\n",
    "    \n",
    "   {\n",
    "   'name':'Rahul',\n",
    "    'age':24,\n",
    "    'college':'XYZ clg',\n",
    "    'grade':{\n",
    "        '10th':89 ,\n",
    "         '12th':90,\n",
    "        'Btech':78 \n",
    "     }\n",
    "  }\n",
    "]\n",
    "\n",
    "for i in student:\n",
    "    for j in i.keys():\n",
    "        print(j,i[j])\n"
   ]
  },
  {
   "cell_type": "code",
   "execution_count": null,
   "id": "eb39d981",
   "metadata": {},
   "outputs": [],
   "source": []
  }
 ],
 "metadata": {
  "kernelspec": {
   "display_name": "Python 3 (ipykernel)",
   "language": "python",
   "name": "python3"
  },
  "language_info": {
   "codemirror_mode": {
    "name": "ipython",
    "version": 3
   },
   "file_extension": ".py",
   "mimetype": "text/x-python",
   "name": "python",
   "nbconvert_exporter": "python",
   "pygments_lexer": "ipython3",
   "version": "3.9.12"
  }
 },
 "nbformat": 4,
 "nbformat_minor": 5
}
