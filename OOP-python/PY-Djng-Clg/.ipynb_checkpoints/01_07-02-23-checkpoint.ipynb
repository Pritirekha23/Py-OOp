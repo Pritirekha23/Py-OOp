{
 "cells": [
  {
   "cell_type": "code",
   "execution_count": null,
   "id": "819ebf1d",
   "metadata": {},
   "outputs": [],
   "source": [
    "# Dt-07/02/2023"
   ]
  },
  {
   "cell_type": "markdown",
   "id": "a5fc34de",
   "metadata": {},
   "source": [
    "# dictionary"
   ]
  },
  {
   "cell_type": "code",
   "execution_count": 10,
   "id": "a959a757",
   "metadata": {},
   "outputs": [
    {
     "name": "stdout",
     "output_type": "stream",
     "text": [
      "64\n",
      "64\n",
      "{'name': 'Arun', 'age': 21, 'college': 'XYZ clg', 'grade': {'10th': 73, '12th': 64, 'Btech': 78}}\n"
     ]
    }
   ],
   "source": [
    "student={\n",
    "    'name':'Arun',\n",
    "    'age':21,\n",
    "    'college':'XYZ clg',\n",
    "    'grade':{\n",
    "        '10th':73 ,\n",
    "         '12th':64,\n",
    "        'Btech':78\n",
    "    }\n",
    "}\n",
    "\n",
    "#way-1\n",
    "grade=student['grade']\n",
    "print(grade['12th'])\n",
    "# way2\n",
    "print(student['grade']['12th'])\n",
    "print(student)"
   ]
  },
  {
   "cell_type": "code",
   "execution_count": 7,
   "id": "c1381284",
   "metadata": {},
   "outputs": [
    {
     "name": "stdout",
     "output_type": "stream",
     "text": [
      "{'name': 'Arun', 'age': 21, 'college': 'XYZ clg', 'grade': {'10th': 73, '12th': 64, 'Btech': 78}, 'branch': 'CSE'}\n"
     ]
    }
   ],
   "source": [
    "student['branch']='CSE'\n",
    "print(student)"
   ]
  },
  {
   "cell_type": "code",
   "execution_count": 14,
   "id": "983d02f6",
   "metadata": {},
   "outputs": [
    {
     "name": "stdout",
     "output_type": "stream",
     "text": [
      "{'name': 'Arun', 'age': 21, 'college': 'XYZ clg', 'grade': {'10th': 73, '12th': 64, 'Btech': 78}}\n"
     ]
    }
   ],
   "source": [
    "from pprint import pprint\n",
    "student={\n",
    "    'name':'Arun',\n",
    "    'age':21,\n",
    "    'college':'XYZ clg',\n",
    "    'grade':{\n",
    "        '10th':73 ,\n",
    "         '12th':64,\n",
    "        'Btech':78\n",
    "    }\n",
    "}\n",
    "\n",
    "print(student)"
   ]
  },
  {
   "cell_type": "code",
   "execution_count": 19,
   "id": "54e274d7",
   "metadata": {},
   "outputs": [
    {
     "name": "stdout",
     "output_type": "stream",
     "text": [
      "name Arun\n",
      "age 21\n",
      "college XYZ clg\n",
      "grade {'10th': 73, '12th': 64, 'Btech': 78}\n"
     ]
    }
   ],
   "source": [
    "# Iterate dictionary\n",
    "from pprint import pprint\n",
    "student={\n",
    "    'name':'Arun',\n",
    "    'age':21,\n",
    "    'college':'XYZ clg',\n",
    "    'grade':{\n",
    "        '10th':73 ,\n",
    "         '12th':64,\n",
    "        'Btech':78\n",
    "    }\n",
    "}\n",
    "\n",
    "for i in student.keys():\n",
    "    print(i,student[i])\n"
   ]
  },
  {
   "cell_type": "code",
   "execution_count": 29,
   "id": "781b34db",
   "metadata": {},
   "outputs": [
    {
     "name": "stdout",
     "output_type": "stream",
     "text": [
      "Rahul\n"
     ]
    }
   ],
   "source": [
    "\n",
    "from pprint import pprint\n",
    "student={\n",
    "    1:{\n",
    "    'name':'Arun',\n",
    "    'age':21,\n",
    "    'college':'XYZ clg',\n",
    "    'grade':{\n",
    "        '10th':73 ,\n",
    "         '12th':64,\n",
    "        'Btech':78\n",
    "     }\n",
    "    },\n",
    "    \n",
    "   2:{\n",
    "   'name':'Rahul',\n",
    "    'age':24,\n",
    "    'college':'XYZ clg',\n",
    "    'grade':{\n",
    "        '10th':89 ,\n",
    "         '12th':90,\n",
    "        'Btech':78 \n",
    "     }\n",
    "  }\n",
    "}\n",
    "print(student[2]['name'])"
   ]
  },
  {
   "cell_type": "code",
   "execution_count": 30,
   "id": "dd26cefa",
   "metadata": {},
   "outputs": [
    {
     "name": "stdout",
     "output_type": "stream",
     "text": [
      "1\n",
      "2\n"
     ]
    }
   ],
   "source": [
    "\n",
    "student={\n",
    "    1:{\n",
    "    'name':'Arun',\n",
    "    'age':21,\n",
    "    'college':'XYZ clg',\n",
    "    'grade':{\n",
    "        '10th':73 ,\n",
    "         '12th':64,\n",
    "        'Btech':78\n",
    "     }\n",
    "    },\n",
    "    \n",
    "   2:{\n",
    "   'name':'Rahul',\n",
    "    'age':24,\n",
    "    'college':'XYZ clg',\n",
    "    'grade':{\n",
    "        '10th':89 ,\n",
    "         '12th':90,\n",
    "        'Btech':78 \n",
    "     }\n",
    "  }\n",
    "}\n",
    "for i in student.keys():\n",
    "    print(i)"
   ]
  },
  {
   "cell_type": "code",
   "execution_count": 40,
   "id": "d5b5ea33",
   "metadata": {},
   "outputs": [
    {
     "name": "stdout",
     "output_type": "stream",
     "text": [
      "1 dict_keys(['name', 'age', 'college', 'grade'])\n",
      "2 dict_keys(['name', 'age', 'college', 'grade'])\n"
     ]
    }
   ],
   "source": [
    "\n",
    "student={\n",
    "    1:{\n",
    "    'name':'Arun',\n",
    "    'age':21,\n",
    "    'college':'XYZ clg',\n",
    "    'grade':{\n",
    "        '10th':73 ,\n",
    "         '12th':64,\n",
    "        'Btech':78\n",
    "     }\n",
    "    },\n",
    "    \n",
    "   2:{\n",
    "   'name':'Rahul',\n",
    "    'age':24,\n",
    "    'college':'XYZ clg',\n",
    "    'grade':{\n",
    "        '10th':89 ,\n",
    "         '12th':90,\n",
    "        'Btech':78 \n",
    "     }\n",
    "  }\n",
    "}\n",
    "for i in student.keys():\n",
    "    print(i,student[i].keys())"
   ]
  },
  {
   "cell_type": "code",
   "execution_count": 32,
   "id": "84476be9",
   "metadata": {},
   "outputs": [
    {
     "name": "stdout",
     "output_type": "stream",
     "text": [
      "1 {'name': 'Arun', 'age': 21, 'college': 'XYZ clg', 'grade': {'10th': 73, '12th': 64, 'Btech': 78}}\n",
      "2 {'name': 'Rahul', 'age': 24, 'college': 'XYZ clg', 'grade': {'10th': 89, '12th': 90, 'Btech': 78}}\n"
     ]
    }
   ],
   "source": [
    "\n",
    "student={\n",
    "    1:{\n",
    "    'name':'Arun',\n",
    "    'age':21,\n",
    "    'college':'XYZ clg',\n",
    "    'grade':{\n",
    "        '10th':73 ,\n",
    "         '12th':64,\n",
    "        'Btech':78\n",
    "     }\n",
    "    },\n",
    "    \n",
    "   2:{\n",
    "   'name':'Rahul',\n",
    "    'age':24,\n",
    "    'college':'XYZ clg',\n",
    "    'grade':{\n",
    "        '10th':89 ,\n",
    "         '12th':90,\n",
    "        'Btech':78 \n",
    "     }\n",
    "  }\n",
    "}\n",
    "for i,j  in student.items():\n",
    "    print(i,j)"
   ]
  },
  {
   "cell_type": "code",
   "execution_count": 37,
   "id": "eb294ac3",
   "metadata": {},
   "outputs": [
    {
     "name": "stdout",
     "output_type": "stream",
     "text": [
      "name Arun\n",
      "age 21\n",
      "college XYZ clg\n",
      "grade {'10th': 73, '12th': 64, 'Btech': 78}\n",
      "\n",
      "name Rahul\n",
      "age 24\n",
      "college XYZ clg\n",
      "grade {'10th': 89, '12th': 90, 'Btech': 78}\n",
      "\n"
     ]
    }
   ],
   "source": [
    "\n",
    "student={\n",
    "    1:{\n",
    "    'name':'Arun',\n",
    "    'age':21,\n",
    "    'college':'XYZ clg',\n",
    "    'grade':{\n",
    "        '10th':73 ,\n",
    "         '12th':64,\n",
    "        'Btech':78\n",
    "     }\n",
    "    },\n",
    "    \n",
    "   2:{\n",
    "   'name':'Rahul',\n",
    "    'age':24,\n",
    "    'college':'XYZ clg',\n",
    "    'grade':{\n",
    "        '10th':89 ,\n",
    "         '12th':90,\n",
    "        'Btech':78 \n",
    "     }\n",
    "  }\n",
    "}\n",
    "\n",
    "    \n",
    "for i in student.keys():\n",
    "    for j in student[i].keys():\n",
    "        print(j,student[i][j])\n",
    "    print()\n",
    "        "
   ]
  },
  {
   "cell_type": "code",
   "execution_count": null,
   "id": "ac4d6891",
   "metadata": {},
   "outputs": [],
   "source": []
  },
  {
   "cell_type": "code",
   "execution_count": null,
   "id": "fedea3c4",
   "metadata": {},
   "outputs": [],
   "source": []
  },
  {
   "cell_type": "code",
   "execution_count": null,
   "id": "2cfc301c",
   "metadata": {},
   "outputs": [],
   "source": []
  }
 ],
 "metadata": {
  "kernelspec": {
   "display_name": "Python 3 (ipykernel)",
   "language": "python",
   "name": "python3"
  },
  "language_info": {
   "codemirror_mode": {
    "name": "ipython",
    "version": 3
   },
   "file_extension": ".py",
   "mimetype": "text/x-python",
   "name": "python",
   "nbconvert_exporter": "python",
   "pygments_lexer": "ipython3",
   "version": "3.9.12"
  }
 },
 "nbformat": 4,
 "nbformat_minor": 5
}
