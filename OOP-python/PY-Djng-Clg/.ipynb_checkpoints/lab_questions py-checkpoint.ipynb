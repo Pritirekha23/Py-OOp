{
 "cells": [
  {
   "cell_type": "markdown",
   "id": "a30fe2b4",
   "metadata": {},
   "source": [
    "## WAp ro check whether the given number is EVEN OR ODD"
   ]
  },
  {
   "cell_type": "code",
   "execution_count": null,
   "id": "10c1348d",
   "metadata": {},
   "outputs": [],
   "source": [
    "num=int(input(\"Enter a number::\"))\n",
    "if num%2==0:\n",
    "    print(f'{num} is even')\n",
    "else:\n",
    "    print(f'{num} is odd)"
   ]
  },
  {
   "cell_type": "code",
   "execution_count": null,
   "id": "2ae33fd8",
   "metadata": {},
   "outputs": [],
   "source": []
  },
  {
   "cell_type": "code",
   "execution_count": null,
   "id": "dd8d7667",
   "metadata": {},
   "outputs": [],
   "source": []
  }
 ],
 "metadata": {
  "kernelspec": {
   "display_name": "Python 3 (ipykernel)",
   "language": "python",
   "name": "python3"
  },
  "language_info": {
   "codemirror_mode": {
    "name": "ipython",
    "version": 3
   },
   "file_extension": ".py",
   "mimetype": "text/x-python",
   "name": "python",
   "nbconvert_exporter": "python",
   "pygments_lexer": "ipython3",
   "version": "3.9.12"
  }
 },
 "nbformat": 4,
 "nbformat_minor": 5
}
