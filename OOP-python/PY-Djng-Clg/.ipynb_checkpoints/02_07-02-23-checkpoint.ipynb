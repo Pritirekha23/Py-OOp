{
 "cells": [
  {
   "cell_type": "markdown",
   "id": "e38e35bc",
   "metadata": {},
   "source": [
    "# OOP"
   ]
  },
  {
   "cell_type": "markdown",
   "id": "158a6d1f",
   "metadata": {},
   "source": [
    "class :\n",
    "  collection of members and methods.\n",
    "  "
   ]
  },
  {
   "cell_type": "code",
   "execution_count": 10,
   "id": "5e6caf62",
   "metadata": {},
   "outputs": [
    {
     "name": "stdout",
     "output_type": "stream",
     "text": [
      "Hello world\n",
      "ABC\n",
      "<__main__.A object at 0x00000230F8B8AFA0>\n",
      "ABC\n"
     ]
    }
   ],
   "source": [
    "class A:\n",
    "    a=2\n",
    "    name='ABC'\n",
    "    def Hi(JJ):\n",
    "        print('Hello world')\n",
    "        \n",
    "\n",
    "        \n",
    "obj=A()\n",
    "obj.Hi()\n",
    "print(obj.name)\n",
    "print(obj)\n",
    "print(obj.name)"
   ]
  },
  {
   "cell_type": "code",
   "execution_count": 15,
   "id": "95818d3e",
   "metadata": {},
   "outputs": [
    {
     "name": "stdout",
     "output_type": "stream",
     "text": [
      "Hello world\n"
     ]
    }
   ],
   "source": [
    "class A:\n",
    "    a=2\n",
    "    name='ABC'\n",
    "  \n",
    "        \n",
    "    def __str__(self):\n",
    "        return \"this is my A class\"\n",
    "    def Hi(self):\n",
    "        print('Hello world')\n",
    "    \n",
    "\n",
    "        \n",
    "obj=A()\n",
    "obj.Hi()"
   ]
  },
  {
   "cell_type": "code",
   "execution_count": 17,
   "id": "ab7823b5",
   "metadata": {},
   "outputs": [
    {
     "name": "stdout",
     "output_type": "stream",
     "text": [
      "XYZ\n"
     ]
    }
   ],
   "source": [
    "class A:\n",
    "    name=\"ABC\"\n",
    "    def __init__(s,name):\n",
    "        s.name=name\n",
    "        \n",
    "a=A('XYZ')\n",
    "print(a.name)"
   ]
  },
  {
   "cell_type": "code",
   "execution_count": null,
   "id": "d7cfe388",
   "metadata": {},
   "outputs": [],
   "source": []
  },
  {
   "cell_type": "code",
   "execution_count": 22,
   "id": "a68e98d3",
   "metadata": {},
   "outputs": [
    {
     "name": "stdout",
     "output_type": "stream",
     "text": [
      "5\n",
      "0\n"
     ]
    }
   ],
   "source": [
    "class Math:\n",
    "    def sum(self,a,b):\n",
    "        return a+b\n",
    "    def sub(self,a,b):\n",
    "        return a-b\n",
    "    def mul(self,a,b):\n",
    "        return a*b\n",
    "    def div(self,a,b):\n",
    "        return a/b\n",
    "    def flr(self,a,b):\n",
    "        return a//b\n",
    "    def mod(self,a,b):\n",
    "        return a%b\n",
    "    \n",
    "obj=Math()\n",
    "print(obj.sum(2,3))\n",
    "print(obj.flr(2,3))"
   ]
  },
  {
   "cell_type": "markdown",
   "id": "0cd15e6a",
   "metadata": {},
   "source": [
    "# ENCAPSULATION"
   ]
  },
  {
   "cell_type": "markdown",
   "id": "0d0bae45",
   "metadata": {},
   "source": [
    "It is process where combine the data into a single unit."
   ]
  },
  {
   "cell_type": "code",
   "execution_count": null,
   "id": "68d3f43e",
   "metadata": {},
   "outputs": [],
   "source": [
    "class Math:\n",
    "    def sum(self,a,b):\n",
    "        return a+b\n",
    "    def sub(self,a,b):\n",
    "        return a-b\n",
    "    def mul(self,a,b):\n",
    "        return a*b\n",
    "    def div(self,a,b):\n",
    "        return a/b\n",
    "    def flr(self,a,b):\n",
    "        return a//b\n",
    "    def mod(self,a,b):\n",
    "        return a%b\n",
    "    \n",
    "obj=Math()\n"
   ]
  },
  {
   "cell_type": "code",
   "execution_count": null,
   "id": "cb94e626",
   "metadata": {},
   "outputs": [],
   "source": []
  },
  {
   "cell_type": "code",
   "execution_count": null,
   "id": "8d7a9609",
   "metadata": {},
   "outputs": [],
   "source": []
  },
  {
   "cell_type": "code",
   "execution_count": null,
   "id": "2e6c7681",
   "metadata": {},
   "outputs": [],
   "source": []
  },
  {
   "cell_type": "code",
   "execution_count": null,
   "id": "b80e3cc5",
   "metadata": {},
   "outputs": [],
   "source": []
  }
 ],
 "metadata": {
  "kernelspec": {
   "display_name": "Python 3 (ipykernel)",
   "language": "python",
   "name": "python3"
  },
  "language_info": {
   "codemirror_mode": {
    "name": "ipython",
    "version": 3
   },
   "file_extension": ".py",
   "mimetype": "text/x-python",
   "name": "python",
   "nbconvert_exporter": "python",
   "pygments_lexer": "ipython3",
   "version": "3.9.12"
  }
 },
 "nbformat": 4,
 "nbformat_minor": 5
}
